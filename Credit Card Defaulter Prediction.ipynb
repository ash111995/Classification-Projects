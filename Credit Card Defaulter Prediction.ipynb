{
 "cells": [
  {
   "cell_type": "code",
   "execution_count": 1,
   "metadata": {},
   "outputs": [],
   "source": [
    "# Importing the required libraries\n",
    "import pandas as pd\n",
    "import numpy as np\n",
    "import matplotlib.pyplot as plt\n",
    "import seaborn as sns\n",
    "%matplotlib inline\n",
    "\n",
    "# To ignore warnings\n",
    "import warnings\n",
    "warnings.filterwarnings(\"ignore\")"
   ]
  },
  {
   "cell_type": "code",
   "execution_count": 102,
   "metadata": {},
   "outputs": [
    {
     "data": {
      "text/html": [
       "<div>\n",
       "<style scoped>\n",
       "    .dataframe tbody tr th:only-of-type {\n",
       "        vertical-align: middle;\n",
       "    }\n",
       "\n",
       "    .dataframe tbody tr th {\n",
       "        vertical-align: top;\n",
       "    }\n",
       "\n",
       "    .dataframe thead th {\n",
       "        text-align: right;\n",
       "    }\n",
       "</style>\n",
       "<table border=\"1\" class=\"dataframe\">\n",
       "  <thead>\n",
       "    <tr style=\"text-align: right;\">\n",
       "      <th></th>\n",
       "      <th>ID</th>\n",
       "      <th>LIMIT_BAL</th>\n",
       "      <th>SEX</th>\n",
       "      <th>EDUCATION</th>\n",
       "      <th>MARRIAGE</th>\n",
       "      <th>AGE</th>\n",
       "      <th>PAY_1</th>\n",
       "      <th>PAY_2</th>\n",
       "      <th>PAY_3</th>\n",
       "      <th>PAY_4</th>\n",
       "      <th>...</th>\n",
       "      <th>BILL_AMT4</th>\n",
       "      <th>BILL_AMT5</th>\n",
       "      <th>BILL_AMT6</th>\n",
       "      <th>PAY_AMT1</th>\n",
       "      <th>PAY_AMT2</th>\n",
       "      <th>PAY_AMT3</th>\n",
       "      <th>PAY_AMT4</th>\n",
       "      <th>PAY_AMT5</th>\n",
       "      <th>PAY_AMT6</th>\n",
       "      <th>DEFAULT</th>\n",
       "    </tr>\n",
       "  </thead>\n",
       "  <tbody>\n",
       "    <tr>\n",
       "      <th>0</th>\n",
       "      <td>1</td>\n",
       "      <td>20000</td>\n",
       "      <td>2</td>\n",
       "      <td>2</td>\n",
       "      <td>1</td>\n",
       "      <td>24</td>\n",
       "      <td>2</td>\n",
       "      <td>2</td>\n",
       "      <td>-1</td>\n",
       "      <td>-1</td>\n",
       "      <td>...</td>\n",
       "      <td>0</td>\n",
       "      <td>0</td>\n",
       "      <td>0</td>\n",
       "      <td>0</td>\n",
       "      <td>689</td>\n",
       "      <td>0</td>\n",
       "      <td>0</td>\n",
       "      <td>0</td>\n",
       "      <td>0</td>\n",
       "      <td>1</td>\n",
       "    </tr>\n",
       "    <tr>\n",
       "      <th>1</th>\n",
       "      <td>2</td>\n",
       "      <td>120000</td>\n",
       "      <td>2</td>\n",
       "      <td>2</td>\n",
       "      <td>2</td>\n",
       "      <td>26</td>\n",
       "      <td>-1</td>\n",
       "      <td>2</td>\n",
       "      <td>0</td>\n",
       "      <td>0</td>\n",
       "      <td>...</td>\n",
       "      <td>3272</td>\n",
       "      <td>3455</td>\n",
       "      <td>3261</td>\n",
       "      <td>0</td>\n",
       "      <td>1000</td>\n",
       "      <td>1000</td>\n",
       "      <td>1000</td>\n",
       "      <td>0</td>\n",
       "      <td>2000</td>\n",
       "      <td>1</td>\n",
       "    </tr>\n",
       "    <tr>\n",
       "      <th>2</th>\n",
       "      <td>3</td>\n",
       "      <td>90000</td>\n",
       "      <td>2</td>\n",
       "      <td>2</td>\n",
       "      <td>2</td>\n",
       "      <td>34</td>\n",
       "      <td>0</td>\n",
       "      <td>0</td>\n",
       "      <td>0</td>\n",
       "      <td>0</td>\n",
       "      <td>...</td>\n",
       "      <td>14331</td>\n",
       "      <td>14948</td>\n",
       "      <td>15549</td>\n",
       "      <td>1518</td>\n",
       "      <td>1500</td>\n",
       "      <td>1000</td>\n",
       "      <td>1000</td>\n",
       "      <td>1000</td>\n",
       "      <td>5000</td>\n",
       "      <td>0</td>\n",
       "    </tr>\n",
       "    <tr>\n",
       "      <th>3</th>\n",
       "      <td>4</td>\n",
       "      <td>50000</td>\n",
       "      <td>2</td>\n",
       "      <td>2</td>\n",
       "      <td>1</td>\n",
       "      <td>37</td>\n",
       "      <td>0</td>\n",
       "      <td>0</td>\n",
       "      <td>0</td>\n",
       "      <td>0</td>\n",
       "      <td>...</td>\n",
       "      <td>28314</td>\n",
       "      <td>28959</td>\n",
       "      <td>29547</td>\n",
       "      <td>2000</td>\n",
       "      <td>2019</td>\n",
       "      <td>1200</td>\n",
       "      <td>1100</td>\n",
       "      <td>1069</td>\n",
       "      <td>1000</td>\n",
       "      <td>0</td>\n",
       "    </tr>\n",
       "    <tr>\n",
       "      <th>4</th>\n",
       "      <td>5</td>\n",
       "      <td>50000</td>\n",
       "      <td>1</td>\n",
       "      <td>2</td>\n",
       "      <td>1</td>\n",
       "      <td>57</td>\n",
       "      <td>-1</td>\n",
       "      <td>0</td>\n",
       "      <td>-1</td>\n",
       "      <td>0</td>\n",
       "      <td>...</td>\n",
       "      <td>20940</td>\n",
       "      <td>19146</td>\n",
       "      <td>19131</td>\n",
       "      <td>2000</td>\n",
       "      <td>36681</td>\n",
       "      <td>10000</td>\n",
       "      <td>9000</td>\n",
       "      <td>689</td>\n",
       "      <td>679</td>\n",
       "      <td>0</td>\n",
       "    </tr>\n",
       "  </tbody>\n",
       "</table>\n",
       "<p>5 rows × 25 columns</p>\n",
       "</div>"
      ],
      "text/plain": [
       "   ID  LIMIT_BAL  SEX  EDUCATION  MARRIAGE  AGE  PAY_1  PAY_2  PAY_3  PAY_4  \\\n",
       "0   1      20000    2          2         1   24      2      2     -1     -1   \n",
       "1   2     120000    2          2         2   26     -1      2      0      0   \n",
       "2   3      90000    2          2         2   34      0      0      0      0   \n",
       "3   4      50000    2          2         1   37      0      0      0      0   \n",
       "4   5      50000    1          2         1   57     -1      0     -1      0   \n",
       "\n",
       "   ...  BILL_AMT4  BILL_AMT5  BILL_AMT6  PAY_AMT1  PAY_AMT2  PAY_AMT3  \\\n",
       "0  ...          0          0          0         0       689         0   \n",
       "1  ...       3272       3455       3261         0      1000      1000   \n",
       "2  ...      14331      14948      15549      1518      1500      1000   \n",
       "3  ...      28314      28959      29547      2000      2019      1200   \n",
       "4  ...      20940      19146      19131      2000     36681     10000   \n",
       "\n",
       "   PAY_AMT4  PAY_AMT5  PAY_AMT6  DEFAULT  \n",
       "0         0         0         0        1  \n",
       "1      1000         0      2000        1  \n",
       "2      1000      1000      5000        0  \n",
       "3      1100      1069      1000        0  \n",
       "4      9000       689       679        0  \n",
       "\n",
       "[5 rows x 25 columns]"
      ]
     },
     "execution_count": 102,
     "metadata": {},
     "output_type": "execute_result"
    }
   ],
   "source": [
    "data = pd.read_csv('credit_card.csv')\n",
    "data.head()"
   ]
  },
  {
   "cell_type": "code",
   "execution_count": 103,
   "metadata": {},
   "outputs": [
    {
     "data": {
      "text/plain": [
       "ID           0\n",
       "LIMIT_BAL    0\n",
       "SEX          0\n",
       "EDUCATION    0\n",
       "MARRIAGE     0\n",
       "AGE          0\n",
       "PAY_1        0\n",
       "PAY_2        0\n",
       "PAY_3        0\n",
       "PAY_4        0\n",
       "PAY_5        0\n",
       "PAY_6        0\n",
       "BILL_AMT1    0\n",
       "BILL_AMT2    0\n",
       "BILL_AMT3    0\n",
       "BILL_AMT4    0\n",
       "BILL_AMT5    0\n",
       "BILL_AMT6    0\n",
       "PAY_AMT1     0\n",
       "PAY_AMT2     0\n",
       "PAY_AMT3     0\n",
       "PAY_AMT4     0\n",
       "PAY_AMT5     0\n",
       "PAY_AMT6     0\n",
       "DEFAULT      0\n",
       "dtype: int64"
      ]
     },
     "execution_count": 103,
     "metadata": {},
     "output_type": "execute_result"
    }
   ],
   "source": [
    "data.isnull().sum()"
   ]
  },
  {
   "cell_type": "code",
   "execution_count": 104,
   "metadata": {},
   "outputs": [
    {
     "data": {
      "text/plain": [
       " 0    14737\n",
       "-1     5686\n",
       " 1     3688\n",
       "-2     2759\n",
       " 2     2667\n",
       " 3      322\n",
       " 4       76\n",
       " 5       26\n",
       " 8       19\n",
       " 6       11\n",
       " 7        9\n",
       "Name: PAY_1, dtype: int64"
      ]
     },
     "execution_count": 104,
     "metadata": {},
     "output_type": "execute_result"
    }
   ],
   "source": [
    "data['PAY_1'].value_counts()"
   ]
  },
  {
   "cell_type": "code",
   "execution_count": 105,
   "metadata": {},
   "outputs": [
    {
     "data": {
      "text/plain": [
       " 0    15730\n",
       "-1     6050\n",
       " 2     3927\n",
       "-2     3782\n",
       " 3      326\n",
       " 4       99\n",
       " 1       28\n",
       " 5       25\n",
       " 7       20\n",
       " 6       12\n",
       " 8        1\n",
       "Name: PAY_2, dtype: int64"
      ]
     },
     "execution_count": 105,
     "metadata": {},
     "output_type": "execute_result"
    }
   ],
   "source": [
    "data['PAY_2'].value_counts()"
   ]
  },
  {
   "cell_type": "code",
   "execution_count": 106,
   "metadata": {},
   "outputs": [
    {
     "data": {
      "text/plain": [
       " 0    15764\n",
       "-1     5938\n",
       "-2     4085\n",
       " 2     3819\n",
       " 3      240\n",
       " 4       76\n",
       " 7       27\n",
       " 6       23\n",
       " 5       21\n",
       " 1        4\n",
       " 8        3\n",
       "Name: PAY_3, dtype: int64"
      ]
     },
     "execution_count": 106,
     "metadata": {},
     "output_type": "execute_result"
    }
   ],
   "source": [
    "data['PAY_3'].value_counts()"
   ]
  },
  {
   "cell_type": "code",
   "execution_count": 107,
   "metadata": {},
   "outputs": [
    {
     "data": {
      "text/plain": [
       " 0    16455\n",
       "-1     5687\n",
       "-2     4348\n",
       " 2     3159\n",
       " 3      180\n",
       " 4       69\n",
       " 7       58\n",
       " 5       35\n",
       " 6        5\n",
       " 8        2\n",
       " 1        2\n",
       "Name: PAY_4, dtype: int64"
      ]
     },
     "execution_count": 107,
     "metadata": {},
     "output_type": "execute_result"
    }
   ],
   "source": [
    "data['PAY_4'].value_counts()"
   ]
  },
  {
   "cell_type": "code",
   "execution_count": 108,
   "metadata": {},
   "outputs": [
    {
     "data": {
      "text/plain": [
       " 0    16947\n",
       "-1     5539\n",
       "-2     4546\n",
       " 2     2626\n",
       " 3      178\n",
       " 4       84\n",
       " 7       58\n",
       " 5       17\n",
       " 6        4\n",
       " 8        1\n",
       "Name: PAY_5, dtype: int64"
      ]
     },
     "execution_count": 108,
     "metadata": {},
     "output_type": "execute_result"
    }
   ],
   "source": [
    "data['PAY_5'].value_counts()"
   ]
  },
  {
   "cell_type": "code",
   "execution_count": 109,
   "metadata": {},
   "outputs": [
    {
     "data": {
      "text/plain": [
       " 0    16286\n",
       "-1     5740\n",
       "-2     4895\n",
       " 2     2766\n",
       " 3      184\n",
       " 4       49\n",
       " 7       46\n",
       " 6       19\n",
       " 5       13\n",
       " 8        2\n",
       "Name: PAY_6, dtype: int64"
      ]
     },
     "execution_count": 109,
     "metadata": {},
     "output_type": "execute_result"
    }
   ],
   "source": [
    "data['PAY_6'].value_counts()"
   ]
  },
  {
   "cell_type": "code",
   "execution_count": 110,
   "metadata": {},
   "outputs": [
    {
     "data": {
      "text/plain": [
       "0    23364\n",
       "1     6636\n",
       "Name: DEFAULT, dtype: int64"
      ]
     },
     "execution_count": 110,
     "metadata": {},
     "output_type": "execute_result"
    }
   ],
   "source": [
    "data['DEFAULT'].value_counts()"
   ]
  },
  {
   "cell_type": "code",
   "execution_count": 111,
   "metadata": {},
   "outputs": [
    {
     "data": {
      "text/plain": [
       "0.2212"
      ]
     },
     "execution_count": 111,
     "metadata": {},
     "output_type": "execute_result"
    }
   ],
   "source": [
    "# Percentage of 1 is more than 20% therefore it is a balanced data. \n",
    "6636/(6636+23364)"
   ]
  },
  {
   "cell_type": "code",
   "execution_count": 112,
   "metadata": {},
   "outputs": [
    {
     "data": {
      "text/plain": [
       "array([2, 1], dtype=int64)"
      ]
     },
     "execution_count": 112,
     "metadata": {},
     "output_type": "execute_result"
    }
   ],
   "source": [
    "data.SEX.unique()"
   ]
  },
  {
   "cell_type": "code",
   "execution_count": 113,
   "metadata": {},
   "outputs": [],
   "source": [
    "data['SEX'].replace({2:'Female',1:'Male'},inplace=True)"
   ]
  },
  {
   "cell_type": "code",
   "execution_count": 114,
   "metadata": {},
   "outputs": [
    {
     "data": {
      "text/plain": [
       "array([2, 1, 3, 5, 4, 6, 0], dtype=int64)"
      ]
     },
     "execution_count": 114,
     "metadata": {},
     "output_type": "execute_result"
    }
   ],
   "source": [
    "data.EDUCATION.unique()"
   ]
  },
  {
   "cell_type": "code",
   "execution_count": 115,
   "metadata": {},
   "outputs": [
    {
     "data": {
      "text/plain": [
       "array([1, 2, 3, 0], dtype=int64)"
      ]
     },
     "execution_count": 115,
     "metadata": {},
     "output_type": "execute_result"
    }
   ],
   "source": [
    "data.MARRIAGE.unique()"
   ]
  },
  {
   "cell_type": "code",
   "execution_count": 116,
   "metadata": {},
   "outputs": [
    {
     "data": {
      "text/plain": [
       "DEFAULT  EDUCATION\n",
       "0        0               14\n",
       "         1             8549\n",
       "         2            10700\n",
       "         3             3680\n",
       "         4              116\n",
       "         5              262\n",
       "         6               43\n",
       "1        1             2036\n",
       "         2             3330\n",
       "         3             1237\n",
       "         4                7\n",
       "         5               18\n",
       "         6                8\n",
       "Name: EDUCATION, dtype: int64"
      ]
     },
     "execution_count": 116,
     "metadata": {},
     "output_type": "execute_result"
    }
   ],
   "source": [
    "data.groupby(['DEFAULT','EDUCATION'])['EDUCATION'].count()"
   ]
  },
  {
   "cell_type": "code",
   "execution_count": 117,
   "metadata": {},
   "outputs": [
    {
     "data": {
      "text/plain": [
       "DEFAULT  MARRIAGE\n",
       "0        0              49\n",
       "         1           10453\n",
       "         2           12623\n",
       "         3             239\n",
       "1        0               5\n",
       "         1            3206\n",
       "         2            3341\n",
       "         3              84\n",
       "Name: MARRIAGE, dtype: int64"
      ]
     },
     "execution_count": 117,
     "metadata": {},
     "output_type": "execute_result"
    }
   ],
   "source": [
    "data.groupby(['DEFAULT','MARRIAGE'])['MARRIAGE'].count()"
   ]
  },
  {
   "cell_type": "markdown",
   "metadata": {},
   "source": [
    "# Classifying 0,5,6 to 4 as the problem statement doesn't mention anything about the categories 0,5,6 so we will merge it to category others i.e. 4"
   ]
  },
  {
   "cell_type": "code",
   "execution_count": 118,
   "metadata": {},
   "outputs": [],
   "source": [
    "data['EDUCATION'].replace({0:4,5:4,6:4},inplace=True)\n",
    "data['EDUCATION'].replace({1:'Graduate School',2:'University',3:'High School',4:'Others'},inplace=True)"
   ]
  },
  {
   "cell_type": "markdown",
   "metadata": {},
   "source": [
    "# Classifying 0 to 3 as the problem statement doesn't mention anything about the category 0 so we will merge it to category others i.e. 3."
   ]
  },
  {
   "cell_type": "code",
   "execution_count": 119,
   "metadata": {},
   "outputs": [],
   "source": [
    "data['MARRIAGE'].replace(0,3,inplace=True)\n",
    "data['MARRIAGE'].replace({1:'Married',2:'Single',3:'Others'},inplace=True)"
   ]
  },
  {
   "cell_type": "markdown",
   "metadata": {},
   "source": [
    "# Outlier Treatment:"
   ]
  },
  {
   "cell_type": "code",
   "execution_count": 120,
   "metadata": {},
   "outputs": [
    {
     "data": {
      "image/png": "[encoded data removed]",
      "text/plain": [
       "<Figure size 1440x864 with 2 Axes>"
      ]
     },
     "metadata": {
      "needs_background": "light"
     },
     "output_type": "display_data"
    }
   ],
   "source": [
    "plt.figure(figsize=(20,12))\n",
    "plt.subplot(1,2,1)\n",
    "sns.distplot(data['AGE'])\n",
    "plt.subplot(1,2,2)\n",
    "plt.boxplot(data['AGE'])\n",
    "plt.show()"
   ]
  },
  {
   "cell_type": "code",
   "execution_count": 121,
   "metadata": {},
   "outputs": [
    {
     "data": {
      "text/plain": [
       "60.5"
      ]
     },
     "execution_count": 121,
     "metadata": {},
     "output_type": "execute_result"
    }
   ],
   "source": [
    "q3=np.percentile(data['AGE'],75)\n",
    "q1=np.percentile(data['AGE'],25)\n",
    "IQR=q3-q1\n",
    "ul=q3+(1.5*IQR)\n",
    "ul"
   ]
  },
  {
   "cell_type": "code",
   "execution_count": 122,
   "metadata": {},
   "outputs": [
    {
     "data": {
      "text/html": [
       "<div>\n",
       "<style scoped>\n",
       "    .dataframe tbody tr th:only-of-type {\n",
       "        vertical-align: middle;\n",
       "    }\n",
       "\n",
       "    .dataframe tbody tr th {\n",
       "        vertical-align: top;\n",
       "    }\n",
       "\n",
       "    .dataframe thead th {\n",
       "        text-align: right;\n",
       "    }\n",
       "</style>\n",
       "<table border=\"1\" class=\"dataframe\">\n",
       "  <thead>\n",
       "    <tr style=\"text-align: right;\">\n",
       "      <th></th>\n",
       "      <th>ID</th>\n",
       "      <th>LIMIT_BAL</th>\n",
       "      <th>SEX</th>\n",
       "      <th>EDUCATION</th>\n",
       "      <th>MARRIAGE</th>\n",
       "      <th>AGE</th>\n",
       "      <th>PAY_1</th>\n",
       "      <th>PAY_2</th>\n",
       "      <th>PAY_3</th>\n",
       "      <th>PAY_4</th>\n",
       "      <th>...</th>\n",
       "      <th>BILL_AMT4</th>\n",
       "      <th>BILL_AMT5</th>\n",
       "      <th>BILL_AMT6</th>\n",
       "      <th>PAY_AMT1</th>\n",
       "      <th>PAY_AMT2</th>\n",
       "      <th>PAY_AMT3</th>\n",
       "      <th>PAY_AMT4</th>\n",
       "      <th>PAY_AMT5</th>\n",
       "      <th>PAY_AMT6</th>\n",
       "      <th>DEFAULT</th>\n",
       "    </tr>\n",
       "  </thead>\n",
       "  <tbody>\n",
       "    <tr>\n",
       "      <th>102</th>\n",
       "      <td>103</td>\n",
       "      <td>480000</td>\n",
       "      <td>Male</td>\n",
       "      <td>Graduate School</td>\n",
       "      <td>Married</td>\n",
       "      <td>63</td>\n",
       "      <td>0</td>\n",
       "      <td>0</td>\n",
       "      <td>0</td>\n",
       "      <td>2</td>\n",
       "      <td>...</td>\n",
       "      <td>487066</td>\n",
       "      <td>471145</td>\n",
       "      <td>469961</td>\n",
       "      <td>16078</td>\n",
       "      <td>55693</td>\n",
       "      <td>17000</td>\n",
       "      <td>0</td>\n",
       "      <td>18000</td>\n",
       "      <td>24200</td>\n",
       "      <td>0</td>\n",
       "    </tr>\n",
       "    <tr>\n",
       "      <th>246</th>\n",
       "      <td>247</td>\n",
       "      <td>250000</td>\n",
       "      <td>Female</td>\n",
       "      <td>University</td>\n",
       "      <td>Married</td>\n",
       "      <td>75</td>\n",
       "      <td>0</td>\n",
       "      <td>-1</td>\n",
       "      <td>-1</td>\n",
       "      <td>-1</td>\n",
       "      <td>...</td>\n",
       "      <td>1010</td>\n",
       "      <td>5572</td>\n",
       "      <td>794</td>\n",
       "      <td>1631</td>\n",
       "      <td>1536</td>\n",
       "      <td>1010</td>\n",
       "      <td>5572</td>\n",
       "      <td>794</td>\n",
       "      <td>1184</td>\n",
       "      <td>0</td>\n",
       "    </tr>\n",
       "    <tr>\n",
       "      <th>366</th>\n",
       "      <td>367</td>\n",
       "      <td>50000</td>\n",
       "      <td>Female</td>\n",
       "      <td>University</td>\n",
       "      <td>Married</td>\n",
       "      <td>61</td>\n",
       "      <td>0</td>\n",
       "      <td>0</td>\n",
       "      <td>0</td>\n",
       "      <td>0</td>\n",
       "      <td>...</td>\n",
       "      <td>23319</td>\n",
       "      <td>23171</td>\n",
       "      <td>24774</td>\n",
       "      <td>3000</td>\n",
       "      <td>2237</td>\n",
       "      <td>975</td>\n",
       "      <td>1000</td>\n",
       "      <td>2000</td>\n",
       "      <td>1039</td>\n",
       "      <td>0</td>\n",
       "    </tr>\n",
       "    <tr>\n",
       "      <th>387</th>\n",
       "      <td>388</td>\n",
       "      <td>80000</td>\n",
       "      <td>Male</td>\n",
       "      <td>High School</td>\n",
       "      <td>Married</td>\n",
       "      <td>73</td>\n",
       "      <td>-1</td>\n",
       "      <td>0</td>\n",
       "      <td>0</td>\n",
       "      <td>2</td>\n",
       "      <td>...</td>\n",
       "      <td>70646</td>\n",
       "      <td>72870</td>\n",
       "      <td>75018</td>\n",
       "      <td>3500</td>\n",
       "      <td>4330</td>\n",
       "      <td>3500</td>\n",
       "      <td>3500</td>\n",
       "      <td>3500</td>\n",
       "      <td>5100</td>\n",
       "      <td>1</td>\n",
       "    </tr>\n",
       "    <tr>\n",
       "      <th>1029</th>\n",
       "      <td>1030</td>\n",
       "      <td>30000</td>\n",
       "      <td>Female</td>\n",
       "      <td>University</td>\n",
       "      <td>Married</td>\n",
       "      <td>67</td>\n",
       "      <td>2</td>\n",
       "      <td>2</td>\n",
       "      <td>0</td>\n",
       "      <td>0</td>\n",
       "      <td>...</td>\n",
       "      <td>29499</td>\n",
       "      <td>30124</td>\n",
       "      <td>26855</td>\n",
       "      <td>0</td>\n",
       "      <td>1500</td>\n",
       "      <td>2182</td>\n",
       "      <td>1200</td>\n",
       "      <td>0</td>\n",
       "      <td>2302</td>\n",
       "      <td>1</td>\n",
       "    </tr>\n",
       "    <tr>\n",
       "      <th>1058</th>\n",
       "      <td>1059</td>\n",
       "      <td>80000</td>\n",
       "      <td>Female</td>\n",
       "      <td>High School</td>\n",
       "      <td>Married</td>\n",
       "      <td>67</td>\n",
       "      <td>0</td>\n",
       "      <td>0</td>\n",
       "      <td>0</td>\n",
       "      <td>0</td>\n",
       "      <td>...</td>\n",
       "      <td>29236</td>\n",
       "      <td>10662</td>\n",
       "      <td>2408</td>\n",
       "      <td>6000</td>\n",
       "      <td>5002</td>\n",
       "      <td>10662</td>\n",
       "      <td>2</td>\n",
       "      <td>2408</td>\n",
       "      <td>11662</td>\n",
       "      <td>0</td>\n",
       "    </tr>\n",
       "    <tr>\n",
       "      <th>1070</th>\n",
       "      <td>1071</td>\n",
       "      <td>230000</td>\n",
       "      <td>Male</td>\n",
       "      <td>Graduate School</td>\n",
       "      <td>Married</td>\n",
       "      <td>61</td>\n",
       "      <td>-1</td>\n",
       "      <td>-1</td>\n",
       "      <td>-1</td>\n",
       "      <td>-1</td>\n",
       "      <td>...</td>\n",
       "      <td>4932</td>\n",
       "      <td>2783</td>\n",
       "      <td>7411</td>\n",
       "      <td>3710</td>\n",
       "      <td>2266</td>\n",
       "      <td>7338</td>\n",
       "      <td>2791</td>\n",
       "      <td>7433</td>\n",
       "      <td>4527</td>\n",
       "      <td>0</td>\n",
       "    </tr>\n",
       "    <tr>\n",
       "      <th>1073</th>\n",
       "      <td>1074</td>\n",
       "      <td>360000</td>\n",
       "      <td>Male</td>\n",
       "      <td>Others</td>\n",
       "      <td>Married</td>\n",
       "      <td>66</td>\n",
       "      <td>-1</td>\n",
       "      <td>-1</td>\n",
       "      <td>-1</td>\n",
       "      <td>-1</td>\n",
       "      <td>...</td>\n",
       "      <td>151858</td>\n",
       "      <td>48580</td>\n",
       "      <td>1451</td>\n",
       "      <td>75351</td>\n",
       "      <td>4064</td>\n",
       "      <td>152618</td>\n",
       "      <td>48822</td>\n",
       "      <td>1451</td>\n",
       "      <td>171944</td>\n",
       "      <td>0</td>\n",
       "    </tr>\n",
       "    <tr>\n",
       "      <th>1171</th>\n",
       "      <td>1172</td>\n",
       "      <td>80000</td>\n",
       "      <td>Male</td>\n",
       "      <td>High School</td>\n",
       "      <td>Married</td>\n",
       "      <td>62</td>\n",
       "      <td>-1</td>\n",
       "      <td>-1</td>\n",
       "      <td>-1</td>\n",
       "      <td>-1</td>\n",
       "      <td>...</td>\n",
       "      <td>672</td>\n",
       "      <td>5112</td>\n",
       "      <td>3932</td>\n",
       "      <td>1642</td>\n",
       "      <td>1975</td>\n",
       "      <td>672</td>\n",
       "      <td>5112</td>\n",
       "      <td>3932</td>\n",
       "      <td>20289</td>\n",
       "      <td>0</td>\n",
       "    </tr>\n",
       "    <tr>\n",
       "      <th>1194</th>\n",
       "      <td>1195</td>\n",
       "      <td>100000</td>\n",
       "      <td>Female</td>\n",
       "      <td>High School</td>\n",
       "      <td>Married</td>\n",
       "      <td>66</td>\n",
       "      <td>0</td>\n",
       "      <td>0</td>\n",
       "      <td>0</td>\n",
       "      <td>0</td>\n",
       "      <td>...</td>\n",
       "      <td>97141</td>\n",
       "      <td>97143</td>\n",
       "      <td>97532</td>\n",
       "      <td>4702</td>\n",
       "      <td>4617</td>\n",
       "      <td>3600</td>\n",
       "      <td>3865</td>\n",
       "      <td>3850</td>\n",
       "      <td>3705</td>\n",
       "      <td>0</td>\n",
       "    </tr>\n",
       "    <tr>\n",
       "      <th>1505</th>\n",
       "      <td>1506</td>\n",
       "      <td>350000</td>\n",
       "      <td>Male</td>\n",
       "      <td>Graduate School</td>\n",
       "      <td>Married</td>\n",
       "      <td>70</td>\n",
       "      <td>0</td>\n",
       "      <td>0</td>\n",
       "      <td>0</td>\n",
       "      <td>0</td>\n",
       "      <td>...</td>\n",
       "      <td>57583</td>\n",
       "      <td>45554</td>\n",
       "      <td>37063</td>\n",
       "      <td>3371</td>\n",
       "      <td>2089</td>\n",
       "      <td>3008</td>\n",
       "      <td>1300</td>\n",
       "      <td>1500</td>\n",
       "      <td>1372</td>\n",
       "      <td>0</td>\n",
       "    </tr>\n",
       "    <tr>\n",
       "      <th>1583</th>\n",
       "      <td>1584</td>\n",
       "      <td>50000</td>\n",
       "      <td>Female</td>\n",
       "      <td>Graduate School</td>\n",
       "      <td>Single</td>\n",
       "      <td>70</td>\n",
       "      <td>2</td>\n",
       "      <td>2</td>\n",
       "      <td>0</td>\n",
       "      <td>0</td>\n",
       "      <td>...</td>\n",
       "      <td>17793</td>\n",
       "      <td>18224</td>\n",
       "      <td>18612</td>\n",
       "      <td>0</td>\n",
       "      <td>2200</td>\n",
       "      <td>700</td>\n",
       "      <td>700</td>\n",
       "      <td>674</td>\n",
       "      <td>608</td>\n",
       "      <td>0</td>\n",
       "    </tr>\n",
       "    <tr>\n",
       "      <th>1625</th>\n",
       "      <td>1626</td>\n",
       "      <td>20000</td>\n",
       "      <td>Male</td>\n",
       "      <td>High School</td>\n",
       "      <td>Married</td>\n",
       "      <td>63</td>\n",
       "      <td>2</td>\n",
       "      <td>2</td>\n",
       "      <td>2</td>\n",
       "      <td>2</td>\n",
       "      <td>...</td>\n",
       "      <td>17128</td>\n",
       "      <td>16725</td>\n",
       "      <td>17263</td>\n",
       "      <td>1400</td>\n",
       "      <td>700</td>\n",
       "      <td>600</td>\n",
       "      <td>0</td>\n",
       "      <td>800</td>\n",
       "      <td>772</td>\n",
       "      <td>1</td>\n",
       "    </tr>\n",
       "    <tr>\n",
       "      <th>1644</th>\n",
       "      <td>1645</td>\n",
       "      <td>50000</td>\n",
       "      <td>Male</td>\n",
       "      <td>High School</td>\n",
       "      <td>Married</td>\n",
       "      <td>72</td>\n",
       "      <td>2</td>\n",
       "      <td>0</td>\n",
       "      <td>0</td>\n",
       "      <td>0</td>\n",
       "      <td>...</td>\n",
       "      <td>39710</td>\n",
       "      <td>40519</td>\n",
       "      <td>41324</td>\n",
       "      <td>1908</td>\n",
       "      <td>1621</td>\n",
       "      <td>3165</td>\n",
       "      <td>1600</td>\n",
       "      <td>1620</td>\n",
       "      <td>0</td>\n",
       "      <td>1</td>\n",
       "    </tr>\n",
       "    <tr>\n",
       "      <th>1685</th>\n",
       "      <td>1686</td>\n",
       "      <td>230000</td>\n",
       "      <td>Female</td>\n",
       "      <td>Graduate School</td>\n",
       "      <td>Married</td>\n",
       "      <td>61</td>\n",
       "      <td>-2</td>\n",
       "      <td>-2</td>\n",
       "      <td>-2</td>\n",
       "      <td>-2</td>\n",
       "      <td>...</td>\n",
       "      <td>1443</td>\n",
       "      <td>1443</td>\n",
       "      <td>1443</td>\n",
       "      <td>1443</td>\n",
       "      <td>1443</td>\n",
       "      <td>1443</td>\n",
       "      <td>1443</td>\n",
       "      <td>1443</td>\n",
       "      <td>1443</td>\n",
       "      <td>0</td>\n",
       "    </tr>\n",
       "    <tr>\n",
       "      <th>1711</th>\n",
       "      <td>1712</td>\n",
       "      <td>310000</td>\n",
       "      <td>Male</td>\n",
       "      <td>University</td>\n",
       "      <td>Married</td>\n",
       "      <td>64</td>\n",
       "      <td>-1</td>\n",
       "      <td>-1</td>\n",
       "      <td>-1</td>\n",
       "      <td>0</td>\n",
       "      <td>...</td>\n",
       "      <td>10130</td>\n",
       "      <td>7958</td>\n",
       "      <td>0</td>\n",
       "      <td>0</td>\n",
       "      <td>10124</td>\n",
       "      <td>6</td>\n",
       "      <td>7958</td>\n",
       "      <td>0</td>\n",
       "      <td>0</td>\n",
       "      <td>0</td>\n",
       "    </tr>\n",
       "    <tr>\n",
       "      <th>1822</th>\n",
       "      <td>1823</td>\n",
       "      <td>50000</td>\n",
       "      <td>Female</td>\n",
       "      <td>High School</td>\n",
       "      <td>Married</td>\n",
       "      <td>61</td>\n",
       "      <td>0</td>\n",
       "      <td>0</td>\n",
       "      <td>-2</td>\n",
       "      <td>-2</td>\n",
       "      <td>...</td>\n",
       "      <td>0</td>\n",
       "      <td>15883</td>\n",
       "      <td>16617</td>\n",
       "      <td>0</td>\n",
       "      <td>0</td>\n",
       "      <td>0</td>\n",
       "      <td>15883</td>\n",
       "      <td>1000</td>\n",
       "      <td>792</td>\n",
       "      <td>0</td>\n",
       "    </tr>\n",
       "    <tr>\n",
       "      <th>1883</th>\n",
       "      <td>1884</td>\n",
       "      <td>80000</td>\n",
       "      <td>Female</td>\n",
       "      <td>High School</td>\n",
       "      <td>Single</td>\n",
       "      <td>65</td>\n",
       "      <td>0</td>\n",
       "      <td>0</td>\n",
       "      <td>0</td>\n",
       "      <td>0</td>\n",
       "      <td>...</td>\n",
       "      <td>30095</td>\n",
       "      <td>20639</td>\n",
       "      <td>7849</td>\n",
       "      <td>4000</td>\n",
       "      <td>2048</td>\n",
       "      <td>1300</td>\n",
       "      <td>1700</td>\n",
       "      <td>401</td>\n",
       "      <td>180</td>\n",
       "      <td>0</td>\n",
       "    </tr>\n",
       "    <tr>\n",
       "      <th>1991</th>\n",
       "      <td>1992</td>\n",
       "      <td>360000</td>\n",
       "      <td>Male</td>\n",
       "      <td>Graduate School</td>\n",
       "      <td>Single</td>\n",
       "      <td>65</td>\n",
       "      <td>1</td>\n",
       "      <td>-2</td>\n",
       "      <td>-2</td>\n",
       "      <td>-2</td>\n",
       "      <td>...</td>\n",
       "      <td>0</td>\n",
       "      <td>0</td>\n",
       "      <td>0</td>\n",
       "      <td>0</td>\n",
       "      <td>0</td>\n",
       "      <td>0</td>\n",
       "      <td>0</td>\n",
       "      <td>0</td>\n",
       "      <td>0</td>\n",
       "      <td>1</td>\n",
       "    </tr>\n",
       "    <tr>\n",
       "      <th>1992</th>\n",
       "      <td>1993</td>\n",
       "      <td>580000</td>\n",
       "      <td>Male</td>\n",
       "      <td>High School</td>\n",
       "      <td>Married</td>\n",
       "      <td>67</td>\n",
       "      <td>2</td>\n",
       "      <td>2</td>\n",
       "      <td>3</td>\n",
       "      <td>3</td>\n",
       "      <td>...</td>\n",
       "      <td>486776</td>\n",
       "      <td>503914</td>\n",
       "      <td>527711</td>\n",
       "      <td>25704</td>\n",
       "      <td>9464</td>\n",
       "      <td>25065</td>\n",
       "      <td>25703</td>\n",
       "      <td>33000</td>\n",
       "      <td>215</td>\n",
       "      <td>0</td>\n",
       "    </tr>\n",
       "    <tr>\n",
       "      <th>2104</th>\n",
       "      <td>2105</td>\n",
       "      <td>250000</td>\n",
       "      <td>Male</td>\n",
       "      <td>Graduate School</td>\n",
       "      <td>Married</td>\n",
       "      <td>71</td>\n",
       "      <td>0</td>\n",
       "      <td>0</td>\n",
       "      <td>0</td>\n",
       "      <td>0</td>\n",
       "      <td>...</td>\n",
       "      <td>145461</td>\n",
       "      <td>141487</td>\n",
       "      <td>147705</td>\n",
       "      <td>6243</td>\n",
       "      <td>5446</td>\n",
       "      <td>4721</td>\n",
       "      <td>4385</td>\n",
       "      <td>7805</td>\n",
       "      <td>200</td>\n",
       "      <td>0</td>\n",
       "    </tr>\n",
       "    <tr>\n",
       "      <th>2134</th>\n",
       "      <td>2135</td>\n",
       "      <td>160000</td>\n",
       "      <td>Male</td>\n",
       "      <td>University</td>\n",
       "      <td>Married</td>\n",
       "      <td>66</td>\n",
       "      <td>2</td>\n",
       "      <td>2</td>\n",
       "      <td>2</td>\n",
       "      <td>2</td>\n",
       "      <td>...</td>\n",
       "      <td>71739</td>\n",
       "      <td>73090</td>\n",
       "      <td>74490</td>\n",
       "      <td>3400</td>\n",
       "      <td>3000</td>\n",
       "      <td>2600</td>\n",
       "      <td>2600</td>\n",
       "      <td>2700</td>\n",
       "      <td>2800</td>\n",
       "      <td>1</td>\n",
       "    </tr>\n",
       "    <tr>\n",
       "      <th>2160</th>\n",
       "      <td>2161</td>\n",
       "      <td>230000</td>\n",
       "      <td>Female</td>\n",
       "      <td>University</td>\n",
       "      <td>Married</td>\n",
       "      <td>62</td>\n",
       "      <td>0</td>\n",
       "      <td>0</td>\n",
       "      <td>0</td>\n",
       "      <td>0</td>\n",
       "      <td>...</td>\n",
       "      <td>173045</td>\n",
       "      <td>176163</td>\n",
       "      <td>179625</td>\n",
       "      <td>6474</td>\n",
       "      <td>7726</td>\n",
       "      <td>5601</td>\n",
       "      <td>6100</td>\n",
       "      <td>6427</td>\n",
       "      <td>6000</td>\n",
       "      <td>0</td>\n",
       "    </tr>\n",
       "    <tr>\n",
       "      <th>2221</th>\n",
       "      <td>2222</td>\n",
       "      <td>110000</td>\n",
       "      <td>Male</td>\n",
       "      <td>High School</td>\n",
       "      <td>Single</td>\n",
       "      <td>63</td>\n",
       "      <td>1</td>\n",
       "      <td>2</td>\n",
       "      <td>0</td>\n",
       "      <td>0</td>\n",
       "      <td>...</td>\n",
       "      <td>46884</td>\n",
       "      <td>47350</td>\n",
       "      <td>43169</td>\n",
       "      <td>0</td>\n",
       "      <td>2164</td>\n",
       "      <td>1730</td>\n",
       "      <td>1788</td>\n",
       "      <td>1538</td>\n",
       "      <td>1607</td>\n",
       "      <td>0</td>\n",
       "    </tr>\n",
       "    <tr>\n",
       "      <th>2366</th>\n",
       "      <td>2367</td>\n",
       "      <td>400000</td>\n",
       "      <td>Male</td>\n",
       "      <td>Graduate School</td>\n",
       "      <td>Married</td>\n",
       "      <td>66</td>\n",
       "      <td>0</td>\n",
       "      <td>0</td>\n",
       "      <td>0</td>\n",
       "      <td>0</td>\n",
       "      <td>...</td>\n",
       "      <td>44590</td>\n",
       "      <td>12270</td>\n",
       "      <td>0</td>\n",
       "      <td>47000</td>\n",
       "      <td>1500</td>\n",
       "      <td>0</td>\n",
       "      <td>0</td>\n",
       "      <td>0</td>\n",
       "      <td>0</td>\n",
       "      <td>0</td>\n",
       "    </tr>\n",
       "    <tr>\n",
       "      <th>2426</th>\n",
       "      <td>2427</td>\n",
       "      <td>30000</td>\n",
       "      <td>Female</td>\n",
       "      <td>High School</td>\n",
       "      <td>Married</td>\n",
       "      <td>67</td>\n",
       "      <td>1</td>\n",
       "      <td>2</td>\n",
       "      <td>0</td>\n",
       "      <td>0</td>\n",
       "      <td>...</td>\n",
       "      <td>29555</td>\n",
       "      <td>28536</td>\n",
       "      <td>29252</td>\n",
       "      <td>0</td>\n",
       "      <td>1800</td>\n",
       "      <td>1200</td>\n",
       "      <td>1083</td>\n",
       "      <td>1200</td>\n",
       "      <td>1250</td>\n",
       "      <td>0</td>\n",
       "    </tr>\n",
       "    <tr>\n",
       "      <th>2601</th>\n",
       "      <td>2602</td>\n",
       "      <td>250000</td>\n",
       "      <td>Male</td>\n",
       "      <td>High School</td>\n",
       "      <td>Married</td>\n",
       "      <td>62</td>\n",
       "      <td>0</td>\n",
       "      <td>0</td>\n",
       "      <td>0</td>\n",
       "      <td>0</td>\n",
       "      <td>...</td>\n",
       "      <td>40106</td>\n",
       "      <td>38214</td>\n",
       "      <td>28494</td>\n",
       "      <td>5000</td>\n",
       "      <td>5000</td>\n",
       "      <td>5000</td>\n",
       "      <td>3000</td>\n",
       "      <td>2000</td>\n",
       "      <td>10000</td>\n",
       "      <td>0</td>\n",
       "    </tr>\n",
       "    <tr>\n",
       "      <th>3257</th>\n",
       "      <td>3258</td>\n",
       "      <td>360000</td>\n",
       "      <td>Male</td>\n",
       "      <td>University</td>\n",
       "      <td>Married</td>\n",
       "      <td>65</td>\n",
       "      <td>1</td>\n",
       "      <td>-2</td>\n",
       "      <td>-2</td>\n",
       "      <td>-2</td>\n",
       "      <td>...</td>\n",
       "      <td>0</td>\n",
       "      <td>0</td>\n",
       "      <td>0</td>\n",
       "      <td>0</td>\n",
       "      <td>0</td>\n",
       "      <td>0</td>\n",
       "      <td>0</td>\n",
       "      <td>0</td>\n",
       "      <td>0</td>\n",
       "      <td>1</td>\n",
       "    </tr>\n",
       "    <tr>\n",
       "      <th>3264</th>\n",
       "      <td>3265</td>\n",
       "      <td>20000</td>\n",
       "      <td>Male</td>\n",
       "      <td>University</td>\n",
       "      <td>Married</td>\n",
       "      <td>62</td>\n",
       "      <td>2</td>\n",
       "      <td>0</td>\n",
       "      <td>0</td>\n",
       "      <td>0</td>\n",
       "      <td>...</td>\n",
       "      <td>19402</td>\n",
       "      <td>11731</td>\n",
       "      <td>0</td>\n",
       "      <td>1462</td>\n",
       "      <td>1367</td>\n",
       "      <td>682</td>\n",
       "      <td>627</td>\n",
       "      <td>0</td>\n",
       "      <td>0</td>\n",
       "      <td>1</td>\n",
       "    </tr>\n",
       "    <tr>\n",
       "      <th>3407</th>\n",
       "      <td>3408</td>\n",
       "      <td>30000</td>\n",
       "      <td>Female</td>\n",
       "      <td>High School</td>\n",
       "      <td>Married</td>\n",
       "      <td>63</td>\n",
       "      <td>-1</td>\n",
       "      <td>-1</td>\n",
       "      <td>-1</td>\n",
       "      <td>0</td>\n",
       "      <td>...</td>\n",
       "      <td>7779</td>\n",
       "      <td>8092</td>\n",
       "      <td>1565</td>\n",
       "      <td>5884</td>\n",
       "      <td>11146</td>\n",
       "      <td>0</td>\n",
       "      <td>8092</td>\n",
       "      <td>1565</td>\n",
       "      <td>2620</td>\n",
       "      <td>0</td>\n",
       "    </tr>\n",
       "    <tr>\n",
       "      <th>...</th>\n",
       "      <td>...</td>\n",
       "      <td>...</td>\n",
       "      <td>...</td>\n",
       "      <td>...</td>\n",
       "      <td>...</td>\n",
       "      <td>...</td>\n",
       "      <td>...</td>\n",
       "      <td>...</td>\n",
       "      <td>...</td>\n",
       "      <td>...</td>\n",
       "      <td>...</td>\n",
       "      <td>...</td>\n",
       "      <td>...</td>\n",
       "      <td>...</td>\n",
       "      <td>...</td>\n",
       "      <td>...</td>\n",
       "      <td>...</td>\n",
       "      <td>...</td>\n",
       "      <td>...</td>\n",
       "      <td>...</td>\n",
       "      <td>...</td>\n",
       "    </tr>\n",
       "    <tr>\n",
       "      <th>25142</th>\n",
       "      <td>25143</td>\n",
       "      <td>300000</td>\n",
       "      <td>Male</td>\n",
       "      <td>High School</td>\n",
       "      <td>Married</td>\n",
       "      <td>72</td>\n",
       "      <td>-1</td>\n",
       "      <td>-1</td>\n",
       "      <td>-1</td>\n",
       "      <td>-1</td>\n",
       "      <td>...</td>\n",
       "      <td>1433</td>\n",
       "      <td>5522</td>\n",
       "      <td>3233</td>\n",
       "      <td>756</td>\n",
       "      <td>3753</td>\n",
       "      <td>1433</td>\n",
       "      <td>5522</td>\n",
       "      <td>0</td>\n",
       "      <td>27232</td>\n",
       "      <td>0</td>\n",
       "    </tr>\n",
       "    <tr>\n",
       "      <th>26477</th>\n",
       "      <td>26478</td>\n",
       "      <td>80000</td>\n",
       "      <td>Female</td>\n",
       "      <td>High School</td>\n",
       "      <td>Married</td>\n",
       "      <td>65</td>\n",
       "      <td>0</td>\n",
       "      <td>0</td>\n",
       "      <td>0</td>\n",
       "      <td>0</td>\n",
       "      <td>...</td>\n",
       "      <td>80299</td>\n",
       "      <td>81416</td>\n",
       "      <td>81617</td>\n",
       "      <td>3470</td>\n",
       "      <td>3750</td>\n",
       "      <td>3520</td>\n",
       "      <td>3069</td>\n",
       "      <td>3271</td>\n",
       "      <td>3262</td>\n",
       "      <td>0</td>\n",
       "    </tr>\n",
       "    <tr>\n",
       "      <th>26501</th>\n",
       "      <td>26502</td>\n",
       "      <td>180000</td>\n",
       "      <td>Female</td>\n",
       "      <td>High School</td>\n",
       "      <td>Married</td>\n",
       "      <td>61</td>\n",
       "      <td>0</td>\n",
       "      <td>0</td>\n",
       "      <td>0</td>\n",
       "      <td>0</td>\n",
       "      <td>...</td>\n",
       "      <td>23599</td>\n",
       "      <td>24069</td>\n",
       "      <td>24573</td>\n",
       "      <td>1353</td>\n",
       "      <td>1380</td>\n",
       "      <td>1392</td>\n",
       "      <td>862</td>\n",
       "      <td>892</td>\n",
       "      <td>1000</td>\n",
       "      <td>1</td>\n",
       "    </tr>\n",
       "    <tr>\n",
       "      <th>26508</th>\n",
       "      <td>26509</td>\n",
       "      <td>80000</td>\n",
       "      <td>Female</td>\n",
       "      <td>High School</td>\n",
       "      <td>Married</td>\n",
       "      <td>69</td>\n",
       "      <td>0</td>\n",
       "      <td>0</td>\n",
       "      <td>0</td>\n",
       "      <td>0</td>\n",
       "      <td>...</td>\n",
       "      <td>80610</td>\n",
       "      <td>62447</td>\n",
       "      <td>60850</td>\n",
       "      <td>3000</td>\n",
       "      <td>3000</td>\n",
       "      <td>3000</td>\n",
       "      <td>2324</td>\n",
       "      <td>2500</td>\n",
       "      <td>3000</td>\n",
       "      <td>0</td>\n",
       "    </tr>\n",
       "    <tr>\n",
       "      <th>26513</th>\n",
       "      <td>26514</td>\n",
       "      <td>280000</td>\n",
       "      <td>Female</td>\n",
       "      <td>Graduate School</td>\n",
       "      <td>Married</td>\n",
       "      <td>63</td>\n",
       "      <td>-2</td>\n",
       "      <td>-2</td>\n",
       "      <td>-2</td>\n",
       "      <td>-2</td>\n",
       "      <td>...</td>\n",
       "      <td>-200</td>\n",
       "      <td>-200</td>\n",
       "      <td>-200</td>\n",
       "      <td>0</td>\n",
       "      <td>0</td>\n",
       "      <td>0</td>\n",
       "      <td>0</td>\n",
       "      <td>0</td>\n",
       "      <td>200</td>\n",
       "      <td>1</td>\n",
       "    </tr>\n",
       "    <tr>\n",
       "      <th>26532</th>\n",
       "      <td>26533</td>\n",
       "      <td>70000</td>\n",
       "      <td>Female</td>\n",
       "      <td>University</td>\n",
       "      <td>Married</td>\n",
       "      <td>62</td>\n",
       "      <td>0</td>\n",
       "      <td>0</td>\n",
       "      <td>0</td>\n",
       "      <td>0</td>\n",
       "      <td>...</td>\n",
       "      <td>29288</td>\n",
       "      <td>29524</td>\n",
       "      <td>29764</td>\n",
       "      <td>2857</td>\n",
       "      <td>2702</td>\n",
       "      <td>1500</td>\n",
       "      <td>1100</td>\n",
       "      <td>1100</td>\n",
       "      <td>1150</td>\n",
       "      <td>0</td>\n",
       "    </tr>\n",
       "    <tr>\n",
       "      <th>26544</th>\n",
       "      <td>26545</td>\n",
       "      <td>180000</td>\n",
       "      <td>Female</td>\n",
       "      <td>High School</td>\n",
       "      <td>Married</td>\n",
       "      <td>64</td>\n",
       "      <td>0</td>\n",
       "      <td>0</td>\n",
       "      <td>0</td>\n",
       "      <td>0</td>\n",
       "      <td>...</td>\n",
       "      <td>129079</td>\n",
       "      <td>130109</td>\n",
       "      <td>133714</td>\n",
       "      <td>5876</td>\n",
       "      <td>4525</td>\n",
       "      <td>6123</td>\n",
       "      <td>4644</td>\n",
       "      <td>5688</td>\n",
       "      <td>5699</td>\n",
       "      <td>0</td>\n",
       "    </tr>\n",
       "    <tr>\n",
       "      <th>27503</th>\n",
       "      <td>27504</td>\n",
       "      <td>20000</td>\n",
       "      <td>Male</td>\n",
       "      <td>High School</td>\n",
       "      <td>Single</td>\n",
       "      <td>62</td>\n",
       "      <td>0</td>\n",
       "      <td>0</td>\n",
       "      <td>0</td>\n",
       "      <td>0</td>\n",
       "      <td>...</td>\n",
       "      <td>19331</td>\n",
       "      <td>18541</td>\n",
       "      <td>18929</td>\n",
       "      <td>1286</td>\n",
       "      <td>1315</td>\n",
       "      <td>1303</td>\n",
       "      <td>663</td>\n",
       "      <td>686</td>\n",
       "      <td>744</td>\n",
       "      <td>0</td>\n",
       "    </tr>\n",
       "    <tr>\n",
       "      <th>27510</th>\n",
       "      <td>27511</td>\n",
       "      <td>70000</td>\n",
       "      <td>Male</td>\n",
       "      <td>University</td>\n",
       "      <td>Single</td>\n",
       "      <td>62</td>\n",
       "      <td>6</td>\n",
       "      <td>5</td>\n",
       "      <td>4</td>\n",
       "      <td>3</td>\n",
       "      <td>...</td>\n",
       "      <td>86494</td>\n",
       "      <td>79359</td>\n",
       "      <td>74937</td>\n",
       "      <td>0</td>\n",
       "      <td>0</td>\n",
       "      <td>0</td>\n",
       "      <td>0</td>\n",
       "      <td>2150</td>\n",
       "      <td>2511</td>\n",
       "      <td>0</td>\n",
       "    </tr>\n",
       "    <tr>\n",
       "      <th>27518</th>\n",
       "      <td>27519</td>\n",
       "      <td>240000</td>\n",
       "      <td>Male</td>\n",
       "      <td>University</td>\n",
       "      <td>Single</td>\n",
       "      <td>67</td>\n",
       "      <td>0</td>\n",
       "      <td>0</td>\n",
       "      <td>0</td>\n",
       "      <td>0</td>\n",
       "      <td>...</td>\n",
       "      <td>468202</td>\n",
       "      <td>442401</td>\n",
       "      <td>419209</td>\n",
       "      <td>20225</td>\n",
       "      <td>17389</td>\n",
       "      <td>80167</td>\n",
       "      <td>15167</td>\n",
       "      <td>16000</td>\n",
       "      <td>13133</td>\n",
       "      <td>0</td>\n",
       "    </tr>\n",
       "    <tr>\n",
       "      <th>27540</th>\n",
       "      <td>27541</td>\n",
       "      <td>180000</td>\n",
       "      <td>Male</td>\n",
       "      <td>High School</td>\n",
       "      <td>Married</td>\n",
       "      <td>65</td>\n",
       "      <td>0</td>\n",
       "      <td>-1</td>\n",
       "      <td>0</td>\n",
       "      <td>0</td>\n",
       "      <td>...</td>\n",
       "      <td>176816</td>\n",
       "      <td>180911</td>\n",
       "      <td>123229</td>\n",
       "      <td>175100</td>\n",
       "      <td>7000</td>\n",
       "      <td>5000</td>\n",
       "      <td>5309</td>\n",
       "      <td>5288</td>\n",
       "      <td>3000</td>\n",
       "      <td>1</td>\n",
       "    </tr>\n",
       "    <tr>\n",
       "      <th>27541</th>\n",
       "      <td>27542</td>\n",
       "      <td>250000</td>\n",
       "      <td>Male</td>\n",
       "      <td>Graduate School</td>\n",
       "      <td>Married</td>\n",
       "      <td>71</td>\n",
       "      <td>0</td>\n",
       "      <td>0</td>\n",
       "      <td>0</td>\n",
       "      <td>0</td>\n",
       "      <td>...</td>\n",
       "      <td>159849</td>\n",
       "      <td>145461</td>\n",
       "      <td>141487</td>\n",
       "      <td>6504</td>\n",
       "      <td>6243</td>\n",
       "      <td>5446</td>\n",
       "      <td>4721</td>\n",
       "      <td>4385</td>\n",
       "      <td>7805</td>\n",
       "      <td>0</td>\n",
       "    </tr>\n",
       "    <tr>\n",
       "      <th>27544</th>\n",
       "      <td>27545</td>\n",
       "      <td>20000</td>\n",
       "      <td>Male</td>\n",
       "      <td>University</td>\n",
       "      <td>Married</td>\n",
       "      <td>62</td>\n",
       "      <td>1</td>\n",
       "      <td>2</td>\n",
       "      <td>2</td>\n",
       "      <td>0</td>\n",
       "      <td>...</td>\n",
       "      <td>18659</td>\n",
       "      <td>19035</td>\n",
       "      <td>20236</td>\n",
       "      <td>1612</td>\n",
       "      <td>0</td>\n",
       "      <td>1289</td>\n",
       "      <td>665</td>\n",
       "      <td>1491</td>\n",
       "      <td>0</td>\n",
       "      <td>0</td>\n",
       "    </tr>\n",
       "    <tr>\n",
       "      <th>27558</th>\n",
       "      <td>27559</td>\n",
       "      <td>180000</td>\n",
       "      <td>Male</td>\n",
       "      <td>Graduate School</td>\n",
       "      <td>Married</td>\n",
       "      <td>63</td>\n",
       "      <td>0</td>\n",
       "      <td>0</td>\n",
       "      <td>0</td>\n",
       "      <td>0</td>\n",
       "      <td>...</td>\n",
       "      <td>120464</td>\n",
       "      <td>109129</td>\n",
       "      <td>112273</td>\n",
       "      <td>7000</td>\n",
       "      <td>5500</td>\n",
       "      <td>4218</td>\n",
       "      <td>4500</td>\n",
       "      <td>5000</td>\n",
       "      <td>4000</td>\n",
       "      <td>0</td>\n",
       "    </tr>\n",
       "    <tr>\n",
       "      <th>27559</th>\n",
       "      <td>27560</td>\n",
       "      <td>190000</td>\n",
       "      <td>Male</td>\n",
       "      <td>High School</td>\n",
       "      <td>Married</td>\n",
       "      <td>64</td>\n",
       "      <td>0</td>\n",
       "      <td>0</td>\n",
       "      <td>0</td>\n",
       "      <td>2</td>\n",
       "      <td>...</td>\n",
       "      <td>70731</td>\n",
       "      <td>71285</td>\n",
       "      <td>72403</td>\n",
       "      <td>3800</td>\n",
       "      <td>7600</td>\n",
       "      <td>0</td>\n",
       "      <td>2700</td>\n",
       "      <td>2800</td>\n",
       "      <td>2800</td>\n",
       "      <td>0</td>\n",
       "    </tr>\n",
       "    <tr>\n",
       "      <th>27581</th>\n",
       "      <td>27582</td>\n",
       "      <td>70000</td>\n",
       "      <td>Male</td>\n",
       "      <td>High School</td>\n",
       "      <td>Others</td>\n",
       "      <td>61</td>\n",
       "      <td>3</td>\n",
       "      <td>2</td>\n",
       "      <td>2</td>\n",
       "      <td>0</td>\n",
       "      <td>...</td>\n",
       "      <td>10828</td>\n",
       "      <td>11346</td>\n",
       "      <td>11589</td>\n",
       "      <td>1200</td>\n",
       "      <td>0</td>\n",
       "      <td>1482</td>\n",
       "      <td>1000</td>\n",
       "      <td>426</td>\n",
       "      <td>1000</td>\n",
       "      <td>0</td>\n",
       "    </tr>\n",
       "    <tr>\n",
       "      <th>29047</th>\n",
       "      <td>29048</td>\n",
       "      <td>120000</td>\n",
       "      <td>Female</td>\n",
       "      <td>High School</td>\n",
       "      <td>Married</td>\n",
       "      <td>65</td>\n",
       "      <td>0</td>\n",
       "      <td>0</td>\n",
       "      <td>0</td>\n",
       "      <td>0</td>\n",
       "      <td>...</td>\n",
       "      <td>61253</td>\n",
       "      <td>57695</td>\n",
       "      <td>2530</td>\n",
       "      <td>2740</td>\n",
       "      <td>2407</td>\n",
       "      <td>1421</td>\n",
       "      <td>0</td>\n",
       "      <td>0</td>\n",
       "      <td>840</td>\n",
       "      <td>0</td>\n",
       "    </tr>\n",
       "    <tr>\n",
       "      <th>29061</th>\n",
       "      <td>29062</td>\n",
       "      <td>110000</td>\n",
       "      <td>Female</td>\n",
       "      <td>High School</td>\n",
       "      <td>Married</td>\n",
       "      <td>64</td>\n",
       "      <td>0</td>\n",
       "      <td>0</td>\n",
       "      <td>0</td>\n",
       "      <td>0</td>\n",
       "      <td>...</td>\n",
       "      <td>13062</td>\n",
       "      <td>12609</td>\n",
       "      <td>12638</td>\n",
       "      <td>4000</td>\n",
       "      <td>3275</td>\n",
       "      <td>3028</td>\n",
       "      <td>3000</td>\n",
       "      <td>2000</td>\n",
       "      <td>2000</td>\n",
       "      <td>0</td>\n",
       "    </tr>\n",
       "    <tr>\n",
       "      <th>29084</th>\n",
       "      <td>29085</td>\n",
       "      <td>260000</td>\n",
       "      <td>Female</td>\n",
       "      <td>High School</td>\n",
       "      <td>Married</td>\n",
       "      <td>65</td>\n",
       "      <td>-2</td>\n",
       "      <td>-2</td>\n",
       "      <td>-2</td>\n",
       "      <td>-2</td>\n",
       "      <td>...</td>\n",
       "      <td>0</td>\n",
       "      <td>0</td>\n",
       "      <td>0</td>\n",
       "      <td>0</td>\n",
       "      <td>0</td>\n",
       "      <td>0</td>\n",
       "      <td>0</td>\n",
       "      <td>0</td>\n",
       "      <td>0</td>\n",
       "      <td>1</td>\n",
       "    </tr>\n",
       "    <tr>\n",
       "      <th>29086</th>\n",
       "      <td>29087</td>\n",
       "      <td>60000</td>\n",
       "      <td>Female</td>\n",
       "      <td>High School</td>\n",
       "      <td>Married</td>\n",
       "      <td>61</td>\n",
       "      <td>0</td>\n",
       "      <td>0</td>\n",
       "      <td>0</td>\n",
       "      <td>0</td>\n",
       "      <td>...</td>\n",
       "      <td>30841</td>\n",
       "      <td>28069</td>\n",
       "      <td>27941</td>\n",
       "      <td>1495</td>\n",
       "      <td>2004</td>\n",
       "      <td>2009</td>\n",
       "      <td>1211</td>\n",
       "      <td>2000</td>\n",
       "      <td>1201</td>\n",
       "      <td>0</td>\n",
       "    </tr>\n",
       "    <tr>\n",
       "      <th>29128</th>\n",
       "      <td>29129</td>\n",
       "      <td>230000</td>\n",
       "      <td>Female</td>\n",
       "      <td>High School</td>\n",
       "      <td>Married</td>\n",
       "      <td>66</td>\n",
       "      <td>-2</td>\n",
       "      <td>-2</td>\n",
       "      <td>-2</td>\n",
       "      <td>-2</td>\n",
       "      <td>...</td>\n",
       "      <td>1614</td>\n",
       "      <td>0</td>\n",
       "      <td>2800</td>\n",
       "      <td>5580</td>\n",
       "      <td>500</td>\n",
       "      <td>1614</td>\n",
       "      <td>0</td>\n",
       "      <td>2800</td>\n",
       "      <td>0</td>\n",
       "      <td>0</td>\n",
       "    </tr>\n",
       "    <tr>\n",
       "      <th>29145</th>\n",
       "      <td>29146</td>\n",
       "      <td>230000</td>\n",
       "      <td>Female</td>\n",
       "      <td>High School</td>\n",
       "      <td>Married</td>\n",
       "      <td>70</td>\n",
       "      <td>-1</td>\n",
       "      <td>0</td>\n",
       "      <td>0</td>\n",
       "      <td>0</td>\n",
       "      <td>...</td>\n",
       "      <td>149904</td>\n",
       "      <td>151816</td>\n",
       "      <td>103443</td>\n",
       "      <td>7000</td>\n",
       "      <td>5500</td>\n",
       "      <td>7000</td>\n",
       "      <td>6066</td>\n",
       "      <td>4000</td>\n",
       "      <td>5000</td>\n",
       "      <td>1</td>\n",
       "    </tr>\n",
       "    <tr>\n",
       "      <th>29149</th>\n",
       "      <td>29150</td>\n",
       "      <td>30000</td>\n",
       "      <td>Female</td>\n",
       "      <td>High School</td>\n",
       "      <td>Married</td>\n",
       "      <td>67</td>\n",
       "      <td>2</td>\n",
       "      <td>2</td>\n",
       "      <td>2</td>\n",
       "      <td>0</td>\n",
       "      <td>...</td>\n",
       "      <td>29112</td>\n",
       "      <td>29555</td>\n",
       "      <td>28536</td>\n",
       "      <td>3580</td>\n",
       "      <td>0</td>\n",
       "      <td>1800</td>\n",
       "      <td>1200</td>\n",
       "      <td>1083</td>\n",
       "      <td>1200</td>\n",
       "      <td>0</td>\n",
       "    </tr>\n",
       "    <tr>\n",
       "      <th>29150</th>\n",
       "      <td>29151</td>\n",
       "      <td>360000</td>\n",
       "      <td>Female</td>\n",
       "      <td>University</td>\n",
       "      <td>Married</td>\n",
       "      <td>61</td>\n",
       "      <td>2</td>\n",
       "      <td>0</td>\n",
       "      <td>0</td>\n",
       "      <td>0</td>\n",
       "      <td>...</td>\n",
       "      <td>260113</td>\n",
       "      <td>263229</td>\n",
       "      <td>268446</td>\n",
       "      <td>13869</td>\n",
       "      <td>11644</td>\n",
       "      <td>12307</td>\n",
       "      <td>9474</td>\n",
       "      <td>9662</td>\n",
       "      <td>9794</td>\n",
       "      <td>1</td>\n",
       "    </tr>\n",
       "    <tr>\n",
       "      <th>29152</th>\n",
       "      <td>29153</td>\n",
       "      <td>120000</td>\n",
       "      <td>Female</td>\n",
       "      <td>High School</td>\n",
       "      <td>Married</td>\n",
       "      <td>61</td>\n",
       "      <td>1</td>\n",
       "      <td>2</td>\n",
       "      <td>0</td>\n",
       "      <td>0</td>\n",
       "      <td>...</td>\n",
       "      <td>57737</td>\n",
       "      <td>59174</td>\n",
       "      <td>60651</td>\n",
       "      <td>99</td>\n",
       "      <td>8800</td>\n",
       "      <td>2700</td>\n",
       "      <td>3000</td>\n",
       "      <td>2600</td>\n",
       "      <td>2200</td>\n",
       "      <td>1</td>\n",
       "    </tr>\n",
       "    <tr>\n",
       "      <th>29163</th>\n",
       "      <td>29164</td>\n",
       "      <td>360000</td>\n",
       "      <td>Female</td>\n",
       "      <td>High School</td>\n",
       "      <td>Married</td>\n",
       "      <td>73</td>\n",
       "      <td>-2</td>\n",
       "      <td>-2</td>\n",
       "      <td>-2</td>\n",
       "      <td>-2</td>\n",
       "      <td>...</td>\n",
       "      <td>0</td>\n",
       "      <td>0</td>\n",
       "      <td>0</td>\n",
       "      <td>0</td>\n",
       "      <td>0</td>\n",
       "      <td>0</td>\n",
       "      <td>0</td>\n",
       "      <td>0</td>\n",
       "      <td>0</td>\n",
       "      <td>1</td>\n",
       "    </tr>\n",
       "    <tr>\n",
       "      <th>29171</th>\n",
       "      <td>29172</td>\n",
       "      <td>510000</td>\n",
       "      <td>Female</td>\n",
       "      <td>High School</td>\n",
       "      <td>Married</td>\n",
       "      <td>61</td>\n",
       "      <td>0</td>\n",
       "      <td>0</td>\n",
       "      <td>0</td>\n",
       "      <td>2</td>\n",
       "      <td>...</td>\n",
       "      <td>181801</td>\n",
       "      <td>178179</td>\n",
       "      <td>223100</td>\n",
       "      <td>8500</td>\n",
       "      <td>17000</td>\n",
       "      <td>0</td>\n",
       "      <td>6508</td>\n",
       "      <td>50000</td>\n",
       "      <td>7000</td>\n",
       "      <td>0</td>\n",
       "    </tr>\n",
       "    <tr>\n",
       "      <th>29173</th>\n",
       "      <td>29174</td>\n",
       "      <td>360000</td>\n",
       "      <td>Female</td>\n",
       "      <td>Graduate School</td>\n",
       "      <td>Married</td>\n",
       "      <td>64</td>\n",
       "      <td>-2</td>\n",
       "      <td>-2</td>\n",
       "      <td>-2</td>\n",
       "      <td>-2</td>\n",
       "      <td>...</td>\n",
       "      <td>0</td>\n",
       "      <td>5640</td>\n",
       "      <td>0</td>\n",
       "      <td>4900</td>\n",
       "      <td>0</td>\n",
       "      <td>0</td>\n",
       "      <td>5640</td>\n",
       "      <td>0</td>\n",
       "      <td>0</td>\n",
       "      <td>0</td>\n",
       "    </tr>\n",
       "    <tr>\n",
       "      <th>29175</th>\n",
       "      <td>29176</td>\n",
       "      <td>160000</td>\n",
       "      <td>Female</td>\n",
       "      <td>High School</td>\n",
       "      <td>Married</td>\n",
       "      <td>74</td>\n",
       "      <td>0</td>\n",
       "      <td>0</td>\n",
       "      <td>0</td>\n",
       "      <td>-1</td>\n",
       "      <td>...</td>\n",
       "      <td>16905</td>\n",
       "      <td>0</td>\n",
       "      <td>19789</td>\n",
       "      <td>3783</td>\n",
       "      <td>2268</td>\n",
       "      <td>16905</td>\n",
       "      <td>0</td>\n",
       "      <td>19789</td>\n",
       "      <td>26442</td>\n",
       "      <td>0</td>\n",
       "    </tr>\n",
       "    <tr>\n",
       "      <th>29179</th>\n",
       "      <td>29180</td>\n",
       "      <td>500000</td>\n",
       "      <td>Female</td>\n",
       "      <td>University</td>\n",
       "      <td>Married</td>\n",
       "      <td>73</td>\n",
       "      <td>-2</td>\n",
       "      <td>-2</td>\n",
       "      <td>-2</td>\n",
       "      <td>-2</td>\n",
       "      <td>...</td>\n",
       "      <td>2835</td>\n",
       "      <td>8896</td>\n",
       "      <td>3850</td>\n",
       "      <td>2826</td>\n",
       "      <td>2652</td>\n",
       "      <td>2835</td>\n",
       "      <td>8896</td>\n",
       "      <td>3850</td>\n",
       "      <td>711</td>\n",
       "      <td>1</td>\n",
       "    </tr>\n",
       "  </tbody>\n",
       "</table>\n",
       "<p>272 rows × 25 columns</p>\n",
       "</div>"
      ],
      "text/plain": [
       "          ID  LIMIT_BAL     SEX        EDUCATION MARRIAGE  AGE  PAY_1  PAY_2  \\\n",
       "102      103     480000    Male  Graduate School  Married   63      0      0   \n",
       "246      247     250000  Female       University  Married   75      0     -1   \n",
       "366      367      50000  Female       University  Married   61      0      0   \n",
       "387      388      80000    Male      High School  Married   73     -1      0   \n",
       "1029    1030      30000  Female       University  Married   67      2      2   \n",
       "1058    1059      80000  Female      High School  Married   67      0      0   \n",
       "1070    1071     230000    Male  Graduate School  Married   61     -1     -1   \n",
       "1073    1074     360000    Male           Others  Married   66     -1     -1   \n",
       "1171    1172      80000    Male      High School  Married   62     -1     -1   \n",
       "1194    1195     100000  Female      High School  Married   66      0      0   \n",
       "1505    1506     350000    Male  Graduate School  Married   70      0      0   \n",
       "1583    1584      50000  Female  Graduate School   Single   70      2      2   \n",
       "1625    1626      20000    Male      High School  Married   63      2      2   \n",
       "1644    1645      50000    Male      High School  Married   72      2      0   \n",
       "1685    1686     230000  Female  Graduate School  Married   61     -2     -2   \n",
       "1711    1712     310000    Male       University  Married   64     -1     -1   \n",
       "1822    1823      50000  Female      High School  Married   61      0      0   \n",
       "1883    1884      80000  Female      High School   Single   65      0      0   \n",
       "1991    1992     360000    Male  Graduate School   Single   65      1     -2   \n",
       "1992    1993     580000    Male      High School  Married   67      2      2   \n",
       "2104    2105     250000    Male  Graduate School  Married   71      0      0   \n",
       "2134    2135     160000    Male       University  Married   66      2      2   \n",
       "2160    2161     230000  Female       University  Married   62      0      0   \n",
       "2221    2222     110000    Male      High School   Single   63      1      2   \n",
       "2366    2367     400000    Male  Graduate School  Married   66      0      0   \n",
       "2426    2427      30000  Female      High School  Married   67      1      2   \n",
       "2601    2602     250000    Male      High School  Married   62      0      0   \n",
       "3257    3258     360000    Male       University  Married   65      1     -2   \n",
       "3264    3265      20000    Male       University  Married   62      2      0   \n",
       "3407    3408      30000  Female      High School  Married   63     -1     -1   \n",
       "...      ...        ...     ...              ...      ...  ...    ...    ...   \n",
       "25142  25143     300000    Male      High School  Married   72     -1     -1   \n",
       "26477  26478      80000  Female      High School  Married   65      0      0   \n",
       "26501  26502     180000  Female      High School  Married   61      0      0   \n",
       "26508  26509      80000  Female      High School  Married   69      0      0   \n",
       "26513  26514     280000  Female  Graduate School  Married   63     -2     -2   \n",
       "26532  26533      70000  Female       University  Married   62      0      0   \n",
       "26544  26545     180000  Female      High School  Married   64      0      0   \n",
       "27503  27504      20000    Male      High School   Single   62      0      0   \n",
       "27510  27511      70000    Male       University   Single   62      6      5   \n",
       "27518  27519     240000    Male       University   Single   67      0      0   \n",
       "27540  27541     180000    Male      High School  Married   65      0     -1   \n",
       "27541  27542     250000    Male  Graduate School  Married   71      0      0   \n",
       "27544  27545      20000    Male       University  Married   62      1      2   \n",
       "27558  27559     180000    Male  Graduate School  Married   63      0      0   \n",
       "27559  27560     190000    Male      High School  Married   64      0      0   \n",
       "27581  27582      70000    Male      High School   Others   61      3      2   \n",
       "29047  29048     120000  Female      High School  Married   65      0      0   \n",
       "29061  29062     110000  Female      High School  Married   64      0      0   \n",
       "29084  29085     260000  Female      High School  Married   65     -2     -2   \n",
       "29086  29087      60000  Female      High School  Married   61      0      0   \n",
       "29128  29129     230000  Female      High School  Married   66     -2     -2   \n",
       "29145  29146     230000  Female      High School  Married   70     -1      0   \n",
       "29149  29150      30000  Female      High School  Married   67      2      2   \n",
       "29150  29151     360000  Female       University  Married   61      2      0   \n",
       "29152  29153     120000  Female      High School  Married   61      1      2   \n",
       "29163  29164     360000  Female      High School  Married   73     -2     -2   \n",
       "29171  29172     510000  Female      High School  Married   61      0      0   \n",
       "29173  29174     360000  Female  Graduate School  Married   64     -2     -2   \n",
       "29175  29176     160000  Female      High School  Married   74      0      0   \n",
       "29179  29180     500000  Female       University  Married   73     -2     -2   \n",
       "\n",
       "       PAY_3  PAY_4  ...  BILL_AMT4  BILL_AMT5  BILL_AMT6  PAY_AMT1  PAY_AMT2  \\\n",
       "102        0      2  ...     487066     471145     469961     16078     55693   \n",
       "246       -1     -1  ...       1010       5572        794      1631      1536   \n",
       "366        0      0  ...      23319      23171      24774      3000      2237   \n",
       "387        0      2  ...      70646      72870      75018      3500      4330   \n",
       "1029       0      0  ...      29499      30124      26855         0      1500   \n",
       "1058       0      0  ...      29236      10662       2408      6000      5002   \n",
       "1070      -1     -1  ...       4932       2783       7411      3710      2266   \n",
       "1073      -1     -1  ...     151858      48580       1451     75351      4064   \n",
       "1171      -1     -1  ...        672       5112       3932      1642      1975   \n",
       "1194       0      0  ...      97141      97143      97532      4702      4617   \n",
       "1505       0      0  ...      57583      45554      37063      3371      2089   \n",
       "1583       0      0  ...      17793      18224      18612         0      2200   \n",
       "1625       2      2  ...      17128      16725      17263      1400       700   \n",
       "1644       0      0  ...      39710      40519      41324      1908      1621   \n",
       "1685      -2     -2  ...       1443       1443       1443      1443      1443   \n",
       "1711      -1      0  ...      10130       7958          0         0     10124   \n",
       "1822      -2     -2  ...          0      15883      16617         0         0   \n",
       "1883       0      0  ...      30095      20639       7849      4000      2048   \n",
       "1991      -2     -2  ...          0          0          0         0         0   \n",
       "1992       3      3  ...     486776     503914     527711     25704      9464   \n",
       "2104       0      0  ...     145461     141487     147705      6243      5446   \n",
       "2134       2      2  ...      71739      73090      74490      3400      3000   \n",
       "2160       0      0  ...     173045     176163     179625      6474      7726   \n",
       "2221       0      0  ...      46884      47350      43169         0      2164   \n",
       "2366       0      0  ...      44590      12270          0     47000      1500   \n",
       "2426       0      0  ...      29555      28536      29252         0      1800   \n",
       "2601       0      0  ...      40106      38214      28494      5000      5000   \n",
       "3257      -2     -2  ...          0          0          0         0         0   \n",
       "3264       0      0  ...      19402      11731          0      1462      1367   \n",
       "3407      -1      0  ...       7779       8092       1565      5884     11146   \n",
       "...      ...    ...  ...        ...        ...        ...       ...       ...   \n",
       "25142     -1     -1  ...       1433       5522       3233       756      3753   \n",
       "26477      0      0  ...      80299      81416      81617      3470      3750   \n",
       "26501      0      0  ...      23599      24069      24573      1353      1380   \n",
       "26508      0      0  ...      80610      62447      60850      3000      3000   \n",
       "26513     -2     -2  ...       -200       -200       -200         0         0   \n",
       "26532      0      0  ...      29288      29524      29764      2857      2702   \n",
       "26544      0      0  ...     129079     130109     133714      5876      4525   \n",
       "27503      0      0  ...      19331      18541      18929      1286      1315   \n",
       "27510      4      3  ...      86494      79359      74937         0         0   \n",
       "27518      0      0  ...     468202     442401     419209     20225     17389   \n",
       "27540      0      0  ...     176816     180911     123229    175100      7000   \n",
       "27541      0      0  ...     159849     145461     141487      6504      6243   \n",
       "27544      2      0  ...      18659      19035      20236      1612         0   \n",
       "27558      0      0  ...     120464     109129     112273      7000      5500   \n",
       "27559      0      2  ...      70731      71285      72403      3800      7600   \n",
       "27581      2      0  ...      10828      11346      11589      1200         0   \n",
       "29047      0      0  ...      61253      57695       2530      2740      2407   \n",
       "29061      0      0  ...      13062      12609      12638      4000      3275   \n",
       "29084     -2     -2  ...          0          0          0         0         0   \n",
       "29086      0      0  ...      30841      28069      27941      1495      2004   \n",
       "29128     -2     -2  ...       1614          0       2800      5580       500   \n",
       "29145      0      0  ...     149904     151816     103443      7000      5500   \n",
       "29149      2      0  ...      29112      29555      28536      3580         0   \n",
       "29150      0      0  ...     260113     263229     268446     13869     11644   \n",
       "29152      0      0  ...      57737      59174      60651        99      8800   \n",
       "29163     -2     -2  ...          0          0          0         0         0   \n",
       "29171      0      2  ...     181801     178179     223100      8500     17000   \n",
       "29173     -2     -2  ...          0       5640          0      4900         0   \n",
       "29175      0     -1  ...      16905          0      19789      3783      2268   \n",
       "29179     -2     -2  ...       2835       8896       3850      2826      2652   \n",
       "\n",
       "       PAY_AMT3  PAY_AMT4  PAY_AMT5  PAY_AMT6  DEFAULT  \n",
       "102       17000         0     18000     24200        0  \n",
       "246        1010      5572       794      1184        0  \n",
       "366         975      1000      2000      1039        0  \n",
       "387        3500      3500      3500      5100        1  \n",
       "1029       2182      1200         0      2302        1  \n",
       "1058      10662         2      2408     11662        0  \n",
       "1070       7338      2791      7433      4527        0  \n",
       "1073     152618     48822      1451    171944        0  \n",
       "1171        672      5112      3932     20289        0  \n",
       "1194       3600      3865      3850      3705        0  \n",
       "1505       3008      1300      1500      1372        0  \n",
       "1583        700       700       674       608        0  \n",
       "1625        600         0       800       772        1  \n",
       "1644       3165      1600      1620         0        1  \n",
       "1685       1443      1443      1443      1443        0  \n",
       "1711          6      7958         0         0        0  \n",
       "1822          0     15883      1000       792        0  \n",
       "1883       1300      1700       401       180        0  \n",
       "1991          0         0         0         0        1  \n",
       "1992      25065     25703     33000       215        0  \n",
       "2104       4721      4385      7805       200        0  \n",
       "2134       2600      2600      2700      2800        1  \n",
       "2160       5601      6100      6427      6000        0  \n",
       "2221       1730      1788      1538      1607        0  \n",
       "2366          0         0         0         0        0  \n",
       "2426       1200      1083      1200      1250        0  \n",
       "2601       5000      3000      2000     10000        0  \n",
       "3257          0         0         0         0        1  \n",
       "3264        682       627         0         0        1  \n",
       "3407          0      8092      1565      2620        0  \n",
       "...         ...       ...       ...       ...      ...  \n",
       "25142      1433      5522         0     27232        0  \n",
       "26477      3520      3069      3271      3262        0  \n",
       "26501      1392       862       892      1000        1  \n",
       "26508      3000      2324      2500      3000        0  \n",
       "26513         0         0         0       200        1  \n",
       "26532      1500      1100      1100      1150        0  \n",
       "26544      6123      4644      5688      5699        0  \n",
       "27503      1303       663       686       744        0  \n",
       "27510         0         0      2150      2511        0  \n",
       "27518     80167     15167     16000     13133        0  \n",
       "27540      5000      5309      5288      3000        1  \n",
       "27541      5446      4721      4385      7805        0  \n",
       "27544      1289       665      1491         0        0  \n",
       "27558      4218      4500      5000      4000        0  \n",
       "27559         0      2700      2800      2800        0  \n",
       "27581      1482      1000       426      1000        0  \n",
       "29047      1421         0         0       840        0  \n",
       "29061      3028      3000      2000      2000        0  \n",
       "29084         0         0         0         0        1  \n",
       "29086      2009      1211      2000      1201        0  \n",
       "29128      1614         0      2800         0        0  \n",
       "29145      7000      6066      4000      5000        1  \n",
       "29149      1800      1200      1083      1200        0  \n",
       "29150     12307      9474      9662      9794        1  \n",
       "29152      2700      3000      2600      2200        1  \n",
       "29163         0         0         0         0        1  \n",
       "29171         0      6508     50000      7000        0  \n",
       "29173         0      5640         0         0        0  \n",
       "29175     16905         0     19789     26442        0  \n",
       "29179      2835      8896      3850       711        1  \n",
       "\n",
       "[272 rows x 25 columns]"
      ]
     },
     "execution_count": 122,
     "metadata": {},
     "output_type": "execute_result"
    }
   ],
   "source": [
    "data[data['AGE']>ul]"
   ]
  },
  {
   "cell_type": "markdown",
   "metadata": {},
   "source": [
    "### As the age in the outliers are valid age to have a credit card, therfore we will not treat the outliers."
   ]
  },
  {
   "cell_type": "markdown",
   "metadata": {},
   "source": [
    "# Univariate Analysis"
   ]
  },
  {
   "cell_type": "code",
   "execution_count": 123,
   "metadata": {},
   "outputs": [
    {
     "data": {
      "image/png": "[encoded data removed]",
      "text/plain": [
       "<Figure size 576x360 with 1 Axes>"
      ]
     },
     "metadata": {
      "needs_background": "light"
     },
     "output_type": "display_data"
    }
   ],
   "source": [
    "plt.figure(figsize=(8,5))\n",
    "ax = sns.countplot(x=\"SEX\", data=data)\n",
    "plt.title('SEX DISTRIBUTION')\n",
    "plt.xlabel('Number of SEX')\n",
    "plt.ylabel('Total Number')\n",
    "plt.show()\n",
    "\n",
    "\n"
   ]
  },
  {
   "cell_type": "code",
   "execution_count": 124,
   "metadata": {},
   "outputs": [
    {
     "name": "stdout",
     "output_type": "stream",
     "text": [
      "The Male percentage who applied for credit card: 39.629999999999995\n"
     ]
    }
   ],
   "source": [
    "m=data[data['SEX']=='Male']\n",
    "print('The Male percentage who applied for credit card:',round(m['DEFAULT'].count()/data['DEFAULT'].count(),4)*100)"
   ]
  },
  {
   "cell_type": "code",
   "execution_count": 125,
   "metadata": {},
   "outputs": [
    {
     "name": "stdout",
     "output_type": "stream",
     "text": [
      "The Female percentage who applied for credit card: 60.370000000000005\n"
     ]
    }
   ],
   "source": [
    "f=data[data['SEX']=='Female']\n",
    "print('The Female percentage who applied for credit card:',round(f['DEFAULT'].count()/data['DEFAULT'].count(),4)*100)"
   ]
  },
  {
   "cell_type": "markdown",
   "metadata": {},
   "source": [
    "### Majority of credit card holder are females."
   ]
  },
  {
   "cell_type": "code",
   "execution_count": 126,
   "metadata": {},
   "outputs": [
    {
     "data": {
      "image/png": "[encoded data removed]",
      "text/plain": [
       "<Figure size 576x360 with 1 Axes>"
      ]
     },
     "metadata": {
      "needs_background": "light"
     },
     "output_type": "display_data"
    }
   ],
   "source": [
    "plt.figure(figsize=(8,5))\n",
    "ax = sns.countplot(x=\"MARRIAGE\", data=data)\n",
    "plt.title('MARRIAGE DISTRIBUTION')\n",
    "plt.xlabel('MARRIAGE CATEGORY')\n",
    "plt.ylabel('Total Number')\n",
    "plt.show()\n",
    "\n"
   ]
  },
  {
   "cell_type": "code",
   "execution_count": 127,
   "metadata": {},
   "outputs": [
    {
     "data": {
      "text/plain": [
       "Single     15964\n",
       "Married    13659\n",
       "Others       377\n",
       "Name: MARRIAGE, dtype: int64"
      ]
     },
     "execution_count": 127,
     "metadata": {},
     "output_type": "execute_result"
    }
   ],
   "source": [
    "data['MARRIAGE'].value_counts()"
   ]
  },
  {
   "cell_type": "code",
   "execution_count": 128,
   "metadata": {},
   "outputs": [
    {
     "data": {
      "image/png": "[encoded data removed]",
      "text/plain": [
       "<Figure size 576x360 with 1 Axes>"
      ]
     },
     "metadata": {
      "needs_background": "light"
     },
     "output_type": "display_data"
    }
   ],
   "source": [
    "plt.figure(figsize=(8,5))\n",
    "ax = sns.countplot(x=\"EDUCATION\", data=data)\n",
    "plt.title('EDUCATION DISTRIBUTION')\n",
    "plt.xlabel('EDUCATION CATEGORY')\n",
    "plt.ylabel('Total Number')\n",
    "plt.show()\n"
   ]
  },
  {
   "cell_type": "code",
   "execution_count": 129,
   "metadata": {},
   "outputs": [
    {
     "data": {
      "text/plain": [
       "University         14030\n",
       "Graduate School    10585\n",
       "High School         4917\n",
       "Others               468\n",
       "Name: EDUCATION, dtype: int64"
      ]
     },
     "execution_count": 129,
     "metadata": {},
     "output_type": "execute_result"
    }
   ],
   "source": [
    "data['EDUCATION'].value_counts()"
   ]
  },
  {
   "cell_type": "markdown",
   "metadata": {},
   "source": [
    "### Majority of credit card holder have education degree of University."
   ]
  },
  {
   "cell_type": "markdown",
   "metadata": {},
   "source": [
    "### Limit Balance Distribution:"
   ]
  },
  {
   "cell_type": "code",
   "execution_count": 130,
   "metadata": {},
   "outputs": [
    {
     "data": {
      "image/png": "[encoded data removed]",
      "text/plain": [
       "<Figure size 720x360 with 1 Axes>"
      ]
     },
     "metadata": {
      "needs_background": "light"
     },
     "output_type": "display_data"
    }
   ],
   "source": [
    "plt.figure(figsize = (10,5))\n",
    "sns.distplot(data['LIMIT_BAL'],kde=True,color='red')\n",
    "plt.show()"
   ]
  },
  {
   "cell_type": "markdown",
   "metadata": {},
   "source": [
    "### Very few customer have the limit balance more than 200000."
   ]
  },
  {
   "cell_type": "markdown",
   "metadata": {},
   "source": [
    "# Past Payment Distribution:"
   ]
  },
  {
   "cell_type": "code",
   "execution_count": 131,
   "metadata": {},
   "outputs": [
    {
     "data": {
      "image/png": "[encoded data removed]",
      "text/plain": [
       "<Figure size 1440x864 with 6 Axes>"
      ]
     },
     "metadata": {
      "needs_background": "light"
     },
     "output_type": "display_data"
    }
   ],
   "source": [
    "plt.figure(figsize=(20,12))\n",
    "plt.subplot(3,3,1)\n",
    "sns.countplot(data['PAY_1'])\n",
    "plt.subplot(3,3,2)\n",
    "sns.countplot(data['PAY_2'])\n",
    "plt.subplot(3,3,3)\n",
    "sns.countplot(data['PAY_3'])\n",
    "plt.subplot(3,3,4)\n",
    "sns.countplot(data['PAY_4'])\n",
    "plt.subplot(3,3,5)\n",
    "sns.countplot(data['PAY_5'])\n",
    "plt.subplot(3,3,6)\n",
    "sns.countplot(data['PAY_6'])\n",
    "plt.show()"
   ]
  },
  {
   "cell_type": "markdown",
   "metadata": {},
   "source": [
    "#### Value after 0 are more prone to be defaulter."
   ]
  },
  {
   "cell_type": "markdown",
   "metadata": {},
   "source": [
    "# Bill Statement Distribution:"
   ]
  },
  {
   "cell_type": "code",
   "execution_count": 132,
   "metadata": {},
   "outputs": [
    {
     "data": {
      "image/png": "[encoded data removed]",
      "text/plain": [
       "<Figure size 1440x864 with 6 Axes>"
      ]
     },
     "metadata": {
      "needs_background": "light"
     },
     "output_type": "display_data"
    }
   ],
   "source": [
    "plt.figure(figsize=(20,12))\n",
    "plt.subplot(3,3,1)\n",
    "sns.distplot(data['BILL_AMT1'])\n",
    "plt.subplot(3,3,2)\n",
    "sns.distplot(data['BILL_AMT2'])\n",
    "plt.subplot(3,3,3)\n",
    "sns.distplot(data['BILL_AMT3'])\n",
    "plt.subplot(3,3,4)\n",
    "sns.distplot(data['BILL_AMT4'])\n",
    "plt.subplot(3,3,5)\n",
    "sns.distplot(data['BILL_AMT5'])\n",
    "plt.subplot(3,3,6)\n",
    "sns.distplot(data['BILL_AMT6'])\n",
    "plt.show()"
   ]
  },
  {
   "cell_type": "markdown",
   "metadata": {},
   "source": [
    "# Previous Payment Disribution:"
   ]
  },
  {
   "cell_type": "code",
   "execution_count": 133,
   "metadata": {},
   "outputs": [
    {
     "data": {
      "image/png": "[encoded data removed]",
      "text/plain": [
       "<Figure size 1440x864 with 6 Axes>"
      ]
     },
     "metadata": {
      "needs_background": "light"
     },
     "output_type": "display_data"
    }
   ],
   "source": [
    "plt.figure(figsize=(20,12))\n",
    "plt.subplot(3,3,1)\n",
    "sns.distplot(data['PAY_AMT1'])\n",
    "plt.subplot(3,3,2)\n",
    "sns.distplot(data['PAY_AMT2'])\n",
    "plt.subplot(3,3,3)\n",
    "sns.distplot(data['PAY_AMT3'])\n",
    "plt.subplot(3,3,4)\n",
    "sns.distplot(data['PAY_AMT4'])\n",
    "plt.subplot(3,3,5)\n",
    "sns.distplot(data['PAY_AMT5'])\n",
    "plt.subplot(3,3,6)\n",
    "sns.distplot(data['PAY_AMT6'])\n",
    "plt.show()"
   ]
  },
  {
   "cell_type": "markdown",
   "metadata": {},
   "source": [
    "# Bivariate Analysis:"
   ]
  },
  {
   "cell_type": "markdown",
   "metadata": {},
   "source": [
    "### SEX & DEFAULT\n"
   ]
  },
  {
   "cell_type": "code",
   "execution_count": 134,
   "metadata": {},
   "outputs": [
    {
     "data": {
      "image/png": "[encoded data removed]",
      "text/plain": [
       "<Figure size 720x360 with 1 Axes>"
      ]
     },
     "metadata": {
      "needs_background": "light"
     },
     "output_type": "display_data"
    }
   ],
   "source": [
    "plt.figure(figsize = (10,5))\n",
    "sns.countplot(data['SEX'],hue=data['DEFAULT'])\n",
    "plt.show()"
   ]
  },
  {
   "cell_type": "code",
   "execution_count": 135,
   "metadata": {},
   "outputs": [
    {
     "name": "stdout",
     "output_type": "stream",
     "text": [
      "The Defaulter percentage of male in male population is: 24.169999999999998\n"
     ]
    }
   ],
   "source": [
    "a=data[data['SEX']=='Male']\n",
    "print('The Defaulter percentage of male in male population is:',round(a['DEFAULT'].sum()/a['DEFAULT'].count(),4)*100)"
   ]
  },
  {
   "cell_type": "code",
   "execution_count": 136,
   "metadata": {},
   "outputs": [
    {
     "name": "stdout",
     "output_type": "stream",
     "text": [
      "The Defaulter percentage of female in female population is: 20.78\n"
     ]
    }
   ],
   "source": [
    "b=data[data['SEX']=='Female']\n",
    "print('The Defaulter percentage of female in female population is:',round(b['DEFAULT'].sum()/b['DEFAULT'].count(),4)*100)"
   ]
  },
  {
   "cell_type": "markdown",
   "metadata": {},
   "source": [
    "# MARRIAGE & DEFAULT:"
   ]
  },
  {
   "cell_type": "code",
   "execution_count": 137,
   "metadata": {},
   "outputs": [
    {
     "data": {
      "image/png": "[encoded data removed]",
      "text/plain": [
       "<Figure size 720x360 with 1 Axes>"
      ]
     },
     "metadata": {
      "needs_background": "light"
     },
     "output_type": "display_data"
    }
   ],
   "source": [
    "plt.figure(figsize = (10,5))\n",
    "sns.countplot(data['MARRIAGE'], hue = data['DEFAULT'])\n",
    "plt.show()"
   ]
  },
  {
   "cell_type": "markdown",
   "metadata": {},
   "source": [
    "# EDUCATION & DEFAULT:"
   ]
  },
  {
   "cell_type": "code",
   "execution_count": 138,
   "metadata": {},
   "outputs": [
    {
     "data": {
      "image/png": "[encoded data removed]",
      "text/plain": [
       "<Figure size 720x360 with 1 Axes>"
      ]
     },
     "metadata": {
      "needs_background": "light"
     },
     "output_type": "display_data"
    }
   ],
   "source": [
    "plt.figure(figsize = (10,5))\n",
    "sns.countplot(data['EDUCATION'], hue = data['DEFAULT'])\n",
    "plt.show()"
   ]
  },
  {
   "cell_type": "code",
   "execution_count": 139,
   "metadata": {},
   "outputs": [],
   "source": [
    "u=data[data['EDUCATION']=='University']\n",
    "g=data[data['EDUCATION']=='Graduate School']\n",
    "h=data[data['EDUCATION']=='High School']"
   ]
  },
  {
   "cell_type": "code",
   "execution_count": 140,
   "metadata": {},
   "outputs": [
    {
     "name": "stdout",
     "output_type": "stream",
     "text": [
      "The Defaulter percentage of customer having university degree in their own population is: 23.73\n",
      "The Defaulter percentage of customer having graduate degree in their own population is: 19.23\n",
      "The Defaulter percentage of customer having high school degree in their own population is: 25.16\n"
     ]
    }
   ],
   "source": [
    "print('The Defaulter percentage of customer having university degree in their own population is:',round(u['DEFAULT'].sum()/u['DEFAULT'].count(),4)*100)\n",
    "print('The Defaulter percentage of customer having graduate degree in their own population is:',round(g['DEFAULT'].sum()/g['DEFAULT'].count(),4)*100)\n",
    "print('The Defaulter percentage of customer having high school degree in their own population is:',round(h['DEFAULT'].sum()/h['DEFAULT'].count(),4)*100)"
   ]
  },
  {
   "cell_type": "markdown",
   "metadata": {},
   "source": [
    "### Customers having high school degree are more in defaulters."
   ]
  },
  {
   "cell_type": "code",
   "execution_count": 141,
   "metadata": {},
   "outputs": [
    {
     "name": "stdout",
     "output_type": "stream",
     "text": [
      "University= 46.766666666666666\n",
      "Graduate School= 35.28333333333333\n",
      "High School= 16.39\n"
     ]
    }
   ],
   "source": [
    "ug=0\n",
    "hs=0\n",
    "gs=0\n",
    "for i in data['EDUCATION']:\n",
    "    if i=='University':\n",
    "        ug=ug+1\n",
    "    elif i=='Graduate School':\n",
    "        gs=gs+1\n",
    "    elif i=='High School':\n",
    "        hs=hs+1\n",
    "        \n",
    "print('University=',ug/data['EDUCATION'].count()*100)\n",
    "print('Graduate School=',gs/data['EDUCATION'].count()*100)\n",
    "print('High School=',hs/data['EDUCATION'].count()*100)"
   ]
  },
  {
   "cell_type": "markdown",
   "metadata": {},
   "source": [
    "### Customers having university degree majorly applied for the credit cards."
   ]
  },
  {
   "cell_type": "code",
   "execution_count": 145,
   "metadata": {},
   "outputs": [
    {
     "data": {
      "image/png": "[encoded data removed]",
      "text/plain": [
       "<Figure size 479x360 with 1 Axes>"
      ]
     },
     "metadata": {
      "needs_background": "light"
     },
     "output_type": "display_data"
    }
   ],
   "source": [
    "sns.catplot(x=\"MARRIAGE\", y=\"DEFAULT\", hue=\"EDUCATION\", kind=\"bar\", data=data)\n",
    "plt.show()"
   ]
  },
  {
   "cell_type": "markdown",
   "metadata": {},
   "source": [
    "# FEATURE ENGINEERING:"
   ]
  },
  {
   "cell_type": "markdown",
   "metadata": {},
   "source": [
    "### Each Month Pending Amount:"
   ]
  },
  {
   "cell_type": "code",
   "execution_count": 42,
   "metadata": {},
   "outputs": [],
   "source": [
    "data['PENDING_AMT1'] = data['BILL_AMT1']-data['PAY_AMT1']\n",
    "data['PENDING_AMT2'] = data['BILL_AMT2']-data['PAY_AMT2']\n",
    "data['PENDING_AMT3'] = data['BILL_AMT3']-data['PAY_AMT3']\n",
    "data['PENDING_AMT4'] = data['BILL_AMT4']-data['PAY_AMT4']\n",
    "data['PENDING_AMT5'] = data['BILL_AMT5']-data['PAY_AMT5']\n",
    "data['PENDING_AMT6'] = data['BILL_AMT6']-data['PAY_AMT6']"
   ]
  },
  {
   "cell_type": "code",
   "execution_count": 43,
   "metadata": {},
   "outputs": [
    {
     "data": {
      "text/html": [
       "<div>\n",
       "<style scoped>\n",
       "    .dataframe tbody tr th:only-of-type {\n",
       "        vertical-align: middle;\n",
       "    }\n",
       "\n",
       "    .dataframe tbody tr th {\n",
       "        vertical-align: top;\n",
       "    }\n",
       "\n",
       "    .dataframe thead th {\n",
       "        text-align: right;\n",
       "    }\n",
       "</style>\n",
       "<table border=\"1\" class=\"dataframe\">\n",
       "  <thead>\n",
       "    <tr style=\"text-align: right;\">\n",
       "      <th></th>\n",
       "      <th>ID</th>\n",
       "      <th>LIMIT_BAL</th>\n",
       "      <th>SEX</th>\n",
       "      <th>EDUCATION</th>\n",
       "      <th>MARRIAGE</th>\n",
       "      <th>AGE</th>\n",
       "      <th>PAY_1</th>\n",
       "      <th>PAY_2</th>\n",
       "      <th>PAY_3</th>\n",
       "      <th>PAY_4</th>\n",
       "      <th>...</th>\n",
       "      <th>PAY_AMT4</th>\n",
       "      <th>PAY_AMT5</th>\n",
       "      <th>PAY_AMT6</th>\n",
       "      <th>DEFAULT</th>\n",
       "      <th>PENDING_AMT1</th>\n",
       "      <th>PENDING_AMT2</th>\n",
       "      <th>PENDING_AMT3</th>\n",
       "      <th>PENDING_AMT4</th>\n",
       "      <th>PENDING_AMT5</th>\n",
       "      <th>PENDING_AMT6</th>\n",
       "    </tr>\n",
       "  </thead>\n",
       "  <tbody>\n",
       "    <tr>\n",
       "      <th>0</th>\n",
       "      <td>1</td>\n",
       "      <td>20000</td>\n",
       "      <td>Female</td>\n",
       "      <td>University</td>\n",
       "      <td>Married</td>\n",
       "      <td>24</td>\n",
       "      <td>2</td>\n",
       "      <td>2</td>\n",
       "      <td>-1</td>\n",
       "      <td>-1</td>\n",
       "      <td>...</td>\n",
       "      <td>0</td>\n",
       "      <td>0</td>\n",
       "      <td>0</td>\n",
       "      <td>1</td>\n",
       "      <td>3913</td>\n",
       "      <td>2413</td>\n",
       "      <td>689</td>\n",
       "      <td>0</td>\n",
       "      <td>0</td>\n",
       "      <td>0</td>\n",
       "    </tr>\n",
       "    <tr>\n",
       "      <th>1</th>\n",
       "      <td>2</td>\n",
       "      <td>120000</td>\n",
       "      <td>Female</td>\n",
       "      <td>University</td>\n",
       "      <td>Single</td>\n",
       "      <td>26</td>\n",
       "      <td>-1</td>\n",
       "      <td>2</td>\n",
       "      <td>0</td>\n",
       "      <td>0</td>\n",
       "      <td>...</td>\n",
       "      <td>1000</td>\n",
       "      <td>0</td>\n",
       "      <td>2000</td>\n",
       "      <td>1</td>\n",
       "      <td>2682</td>\n",
       "      <td>725</td>\n",
       "      <td>1682</td>\n",
       "      <td>2272</td>\n",
       "      <td>3455</td>\n",
       "      <td>1261</td>\n",
       "    </tr>\n",
       "    <tr>\n",
       "      <th>2</th>\n",
       "      <td>3</td>\n",
       "      <td>90000</td>\n",
       "      <td>Female</td>\n",
       "      <td>University</td>\n",
       "      <td>Single</td>\n",
       "      <td>34</td>\n",
       "      <td>0</td>\n",
       "      <td>0</td>\n",
       "      <td>0</td>\n",
       "      <td>0</td>\n",
       "      <td>...</td>\n",
       "      <td>1000</td>\n",
       "      <td>1000</td>\n",
       "      <td>5000</td>\n",
       "      <td>0</td>\n",
       "      <td>27721</td>\n",
       "      <td>12527</td>\n",
       "      <td>12559</td>\n",
       "      <td>13331</td>\n",
       "      <td>13948</td>\n",
       "      <td>10549</td>\n",
       "    </tr>\n",
       "    <tr>\n",
       "      <th>3</th>\n",
       "      <td>4</td>\n",
       "      <td>50000</td>\n",
       "      <td>Female</td>\n",
       "      <td>University</td>\n",
       "      <td>Married</td>\n",
       "      <td>37</td>\n",
       "      <td>0</td>\n",
       "      <td>0</td>\n",
       "      <td>0</td>\n",
       "      <td>0</td>\n",
       "      <td>...</td>\n",
       "      <td>1100</td>\n",
       "      <td>1069</td>\n",
       "      <td>1000</td>\n",
       "      <td>0</td>\n",
       "      <td>44990</td>\n",
       "      <td>46214</td>\n",
       "      <td>48091</td>\n",
       "      <td>27214</td>\n",
       "      <td>27890</td>\n",
       "      <td>28547</td>\n",
       "    </tr>\n",
       "    <tr>\n",
       "      <th>4</th>\n",
       "      <td>5</td>\n",
       "      <td>50000</td>\n",
       "      <td>Male</td>\n",
       "      <td>University</td>\n",
       "      <td>Married</td>\n",
       "      <td>57</td>\n",
       "      <td>-1</td>\n",
       "      <td>0</td>\n",
       "      <td>-1</td>\n",
       "      <td>0</td>\n",
       "      <td>...</td>\n",
       "      <td>9000</td>\n",
       "      <td>689</td>\n",
       "      <td>679</td>\n",
       "      <td>0</td>\n",
       "      <td>6617</td>\n",
       "      <td>-31011</td>\n",
       "      <td>25835</td>\n",
       "      <td>11940</td>\n",
       "      <td>18457</td>\n",
       "      <td>18452</td>\n",
       "    </tr>\n",
       "  </tbody>\n",
       "</table>\n",
       "<p>5 rows × 31 columns</p>\n",
       "</div>"
      ],
      "text/plain": [
       "   ID  LIMIT_BAL     SEX   EDUCATION MARRIAGE  AGE  PAY_1  PAY_2  PAY_3  \\\n",
       "0   1      20000  Female  University  Married   24      2      2     -1   \n",
       "1   2     120000  Female  University   Single   26     -1      2      0   \n",
       "2   3      90000  Female  University   Single   34      0      0      0   \n",
       "3   4      50000  Female  University  Married   37      0      0      0   \n",
       "4   5      50000    Male  University  Married   57     -1      0     -1   \n",
       "\n",
       "   PAY_4  ...  PAY_AMT4  PAY_AMT5  PAY_AMT6  DEFAULT  PENDING_AMT1  \\\n",
       "0     -1  ...         0         0         0        1          3913   \n",
       "1      0  ...      1000         0      2000        1          2682   \n",
       "2      0  ...      1000      1000      5000        0         27721   \n",
       "3      0  ...      1100      1069      1000        0         44990   \n",
       "4      0  ...      9000       689       679        0          6617   \n",
       "\n",
       "   PENDING_AMT2  PENDING_AMT3  PENDING_AMT4  PENDING_AMT5  PENDING_AMT6  \n",
       "0          2413           689             0             0             0  \n",
       "1           725          1682          2272          3455          1261  \n",
       "2         12527         12559         13331         13948         10549  \n",
       "3         46214         48091         27214         27890         28547  \n",
       "4        -31011         25835         11940         18457         18452  \n",
       "\n",
       "[5 rows x 31 columns]"
      ]
     },
     "execution_count": 43,
     "metadata": {},
     "output_type": "execute_result"
    }
   ],
   "source": [
    "data.head()"
   ]
  },
  {
   "cell_type": "markdown",
   "metadata": {},
   "source": [
    "### Customer value:"
   ]
  },
  {
   "cell_type": "code",
   "execution_count": 44,
   "metadata": {},
   "outputs": [],
   "source": [
    "total_payment_amt = (data['PAY_AMT1'] + data['PAY_AMT2'] + data['PAY_AMT3'] + data['PAY_AMT4'] +data['PAY_AMT5']  + data['PAY_AMT6'])/6"
   ]
  },
  {
   "cell_type": "code",
   "execution_count": 45,
   "metadata": {},
   "outputs": [],
   "source": [
    "total_bill_amt = (data['BILL_AMT1'] + data['BILL_AMT2'] + data['BILL_AMT3'] + data['BILL_AMT4'] +data['BILL_AMT5']  + data['BILL_AMT6'])"
   ]
  },
  {
   "cell_type": "code",
   "execution_count": 46,
   "metadata": {},
   "outputs": [],
   "source": [
    "data['customer value'] = total_payment_amt/total_bill_amt"
   ]
  },
  {
   "cell_type": "code",
   "execution_count": 47,
   "metadata": {},
   "outputs": [
    {
     "data": {
      "text/plain": [
       "ID                  0\n",
       "LIMIT_BAL           0\n",
       "SEX                 0\n",
       "EDUCATION           0\n",
       "MARRIAGE            0\n",
       "AGE                 0\n",
       "PAY_1               0\n",
       "PAY_2               0\n",
       "PAY_3               0\n",
       "PAY_4               0\n",
       "PAY_5               0\n",
       "PAY_6               0\n",
       "BILL_AMT1           0\n",
       "BILL_AMT2           0\n",
       "BILL_AMT3           0\n",
       "BILL_AMT4           0\n",
       "BILL_AMT5           0\n",
       "BILL_AMT6           0\n",
       "PAY_AMT1            0\n",
       "PAY_AMT2            0\n",
       "PAY_AMT3            0\n",
       "PAY_AMT4            0\n",
       "PAY_AMT5            0\n",
       "PAY_AMT6            0\n",
       "DEFAULT             0\n",
       "PENDING_AMT1        0\n",
       "PENDING_AMT2        0\n",
       "PENDING_AMT3        0\n",
       "PENDING_AMT4        0\n",
       "PENDING_AMT5        0\n",
       "PENDING_AMT6        0\n",
       "customer value    795\n",
       "dtype: int64"
      ]
     },
     "execution_count": 47,
     "metadata": {},
     "output_type": "execute_result"
    }
   ],
   "source": [
    "data.isnull().sum()"
   ]
  },
  {
   "cell_type": "code",
   "execution_count": 48,
   "metadata": {},
   "outputs": [
    {
     "data": {
      "text/html": [
       "<div>\n",
       "<style scoped>\n",
       "    .dataframe tbody tr th:only-of-type {\n",
       "        vertical-align: middle;\n",
       "    }\n",
       "\n",
       "    .dataframe tbody tr th {\n",
       "        vertical-align: top;\n",
       "    }\n",
       "\n",
       "    .dataframe thead th {\n",
       "        text-align: right;\n",
       "    }\n",
       "</style>\n",
       "<table border=\"1\" class=\"dataframe\">\n",
       "  <thead>\n",
       "    <tr style=\"text-align: right;\">\n",
       "      <th></th>\n",
       "      <th>294</th>\n",
       "      <th>301</th>\n",
       "      <th>604</th>\n",
       "      <th>1157</th>\n",
       "      <th>2634</th>\n",
       "      <th>2742</th>\n",
       "      <th>2819</th>\n",
       "      <th>2859</th>\n",
       "      <th>3025</th>\n",
       "      <th>3141</th>\n",
       "      <th>...</th>\n",
       "      <th>25552</th>\n",
       "      <th>25675</th>\n",
       "      <th>26041</th>\n",
       "      <th>26279</th>\n",
       "      <th>27725</th>\n",
       "      <th>27872</th>\n",
       "      <th>28235</th>\n",
       "      <th>29114</th>\n",
       "      <th>29157</th>\n",
       "      <th>29531</th>\n",
       "    </tr>\n",
       "  </thead>\n",
       "  <tbody>\n",
       "    <tr>\n",
       "      <th>ID</th>\n",
       "      <td>295</td>\n",
       "      <td>302</td>\n",
       "      <td>605</td>\n",
       "      <td>1158</td>\n",
       "      <td>2635</td>\n",
       "      <td>2743</td>\n",
       "      <td>2820</td>\n",
       "      <td>2860</td>\n",
       "      <td>3026</td>\n",
       "      <td>3142</td>\n",
       "      <td>...</td>\n",
       "      <td>25553</td>\n",
       "      <td>25676</td>\n",
       "      <td>26042</td>\n",
       "      <td>26280</td>\n",
       "      <td>27726</td>\n",
       "      <td>27873</td>\n",
       "      <td>28236</td>\n",
       "      <td>29115</td>\n",
       "      <td>29158</td>\n",
       "      <td>29532</td>\n",
       "    </tr>\n",
       "    <tr>\n",
       "      <th>LIMIT_BAL</th>\n",
       "      <td>130000</td>\n",
       "      <td>440000</td>\n",
       "      <td>180000</td>\n",
       "      <td>470000</td>\n",
       "      <td>200000</td>\n",
       "      <td>220000</td>\n",
       "      <td>240000</td>\n",
       "      <td>190000</td>\n",
       "      <td>20000</td>\n",
       "      <td>80000</td>\n",
       "      <td>...</td>\n",
       "      <td>390000</td>\n",
       "      <td>200000</td>\n",
       "      <td>200000</td>\n",
       "      <td>200000</td>\n",
       "      <td>110000</td>\n",
       "      <td>80000</td>\n",
       "      <td>100000</td>\n",
       "      <td>300000</td>\n",
       "      <td>360000</td>\n",
       "      <td>240000</td>\n",
       "    </tr>\n",
       "    <tr>\n",
       "      <th>SEX</th>\n",
       "      <td>Male</td>\n",
       "      <td>Female</td>\n",
       "      <td>Female</td>\n",
       "      <td>Male</td>\n",
       "      <td>Female</td>\n",
       "      <td>Female</td>\n",
       "      <td>Female</td>\n",
       "      <td>Female</td>\n",
       "      <td>Male</td>\n",
       "      <td>Female</td>\n",
       "      <td>...</td>\n",
       "      <td>Female</td>\n",
       "      <td>Female</td>\n",
       "      <td>Female</td>\n",
       "      <td>Female</td>\n",
       "      <td>Female</td>\n",
       "      <td>Female</td>\n",
       "      <td>Female</td>\n",
       "      <td>Female</td>\n",
       "      <td>Female</td>\n",
       "      <td>Male</td>\n",
       "    </tr>\n",
       "    <tr>\n",
       "      <th>EDUCATION</th>\n",
       "      <td>Graduate School</td>\n",
       "      <td>Graduate School</td>\n",
       "      <td>University</td>\n",
       "      <td>High School</td>\n",
       "      <td>Graduate School</td>\n",
       "      <td>Graduate School</td>\n",
       "      <td>Graduate School</td>\n",
       "      <td>University</td>\n",
       "      <td>University</td>\n",
       "      <td>University</td>\n",
       "      <td>...</td>\n",
       "      <td>High School</td>\n",
       "      <td>University</td>\n",
       "      <td>Graduate School</td>\n",
       "      <td>University</td>\n",
       "      <td>University</td>\n",
       "      <td>University</td>\n",
       "      <td>Graduate School</td>\n",
       "      <td>High School</td>\n",
       "      <td>High School</td>\n",
       "      <td>Graduate School</td>\n",
       "    </tr>\n",
       "    <tr>\n",
       "      <th>MARRIAGE</th>\n",
       "      <td>Single</td>\n",
       "      <td>Single</td>\n",
       "      <td>Single</td>\n",
       "      <td>Married</td>\n",
       "      <td>Married</td>\n",
       "      <td>Married</td>\n",
       "      <td>Married</td>\n",
       "      <td>Single</td>\n",
       "      <td>Married</td>\n",
       "      <td>Single</td>\n",
       "      <td>...</td>\n",
       "      <td>Single</td>\n",
       "      <td>Single</td>\n",
       "      <td>Single</td>\n",
       "      <td>Married</td>\n",
       "      <td>Single</td>\n",
       "      <td>Single</td>\n",
       "      <td>Married</td>\n",
       "      <td>Married</td>\n",
       "      <td>Married</td>\n",
       "      <td>Married</td>\n",
       "    </tr>\n",
       "    <tr>\n",
       "      <th>AGE</th>\n",
       "      <td>29</td>\n",
       "      <td>36</td>\n",
       "      <td>31</td>\n",
       "      <td>39</td>\n",
       "      <td>42</td>\n",
       "      <td>40</td>\n",
       "      <td>38</td>\n",
       "      <td>28</td>\n",
       "      <td>45</td>\n",
       "      <td>24</td>\n",
       "      <td>...</td>\n",
       "      <td>43</td>\n",
       "      <td>46</td>\n",
       "      <td>34</td>\n",
       "      <td>35</td>\n",
       "      <td>22</td>\n",
       "      <td>26</td>\n",
       "      <td>37</td>\n",
       "      <td>50</td>\n",
       "      <td>56</td>\n",
       "      <td>34</td>\n",
       "    </tr>\n",
       "    <tr>\n",
       "      <th>PAY_1</th>\n",
       "      <td>1</td>\n",
       "      <td>-2</td>\n",
       "      <td>1</td>\n",
       "      <td>1</td>\n",
       "      <td>-2</td>\n",
       "      <td>-2</td>\n",
       "      <td>1</td>\n",
       "      <td>1</td>\n",
       "      <td>-2</td>\n",
       "      <td>-2</td>\n",
       "      <td>...</td>\n",
       "      <td>1</td>\n",
       "      <td>-2</td>\n",
       "      <td>1</td>\n",
       "      <td>1</td>\n",
       "      <td>-2</td>\n",
       "      <td>1</td>\n",
       "      <td>1</td>\n",
       "      <td>-2</td>\n",
       "      <td>1</td>\n",
       "      <td>1</td>\n",
       "    </tr>\n",
       "    <tr>\n",
       "      <th>PAY_2</th>\n",
       "      <td>-2</td>\n",
       "      <td>-2</td>\n",
       "      <td>-2</td>\n",
       "      <td>-2</td>\n",
       "      <td>-2</td>\n",
       "      <td>-2</td>\n",
       "      <td>-2</td>\n",
       "      <td>-2</td>\n",
       "      <td>-2</td>\n",
       "      <td>-2</td>\n",
       "      <td>...</td>\n",
       "      <td>-2</td>\n",
       "      <td>-2</td>\n",
       "      <td>-2</td>\n",
       "      <td>-2</td>\n",
       "      <td>-2</td>\n",
       "      <td>-2</td>\n",
       "      <td>-2</td>\n",
       "      <td>-2</td>\n",
       "      <td>-2</td>\n",
       "      <td>-2</td>\n",
       "    </tr>\n",
       "    <tr>\n",
       "      <th>PAY_3</th>\n",
       "      <td>-2</td>\n",
       "      <td>-2</td>\n",
       "      <td>-2</td>\n",
       "      <td>-2</td>\n",
       "      <td>-2</td>\n",
       "      <td>-2</td>\n",
       "      <td>-2</td>\n",
       "      <td>-2</td>\n",
       "      <td>-2</td>\n",
       "      <td>-2</td>\n",
       "      <td>...</td>\n",
       "      <td>-2</td>\n",
       "      <td>-2</td>\n",
       "      <td>-2</td>\n",
       "      <td>-2</td>\n",
       "      <td>-2</td>\n",
       "      <td>-2</td>\n",
       "      <td>-2</td>\n",
       "      <td>-2</td>\n",
       "      <td>-2</td>\n",
       "      <td>-2</td>\n",
       "    </tr>\n",
       "    <tr>\n",
       "      <th>PAY_4</th>\n",
       "      <td>-2</td>\n",
       "      <td>-2</td>\n",
       "      <td>-2</td>\n",
       "      <td>-2</td>\n",
       "      <td>-2</td>\n",
       "      <td>-2</td>\n",
       "      <td>-2</td>\n",
       "      <td>-2</td>\n",
       "      <td>-2</td>\n",
       "      <td>-2</td>\n",
       "      <td>...</td>\n",
       "      <td>-2</td>\n",
       "      <td>-2</td>\n",
       "      <td>-2</td>\n",
       "      <td>-2</td>\n",
       "      <td>-2</td>\n",
       "      <td>-2</td>\n",
       "      <td>-2</td>\n",
       "      <td>-2</td>\n",
       "      <td>-2</td>\n",
       "      <td>-2</td>\n",
       "    </tr>\n",
       "    <tr>\n",
       "      <th>PAY_5</th>\n",
       "      <td>-2</td>\n",
       "      <td>-2</td>\n",
       "      <td>-2</td>\n",
       "      <td>-2</td>\n",
       "      <td>-2</td>\n",
       "      <td>-2</td>\n",
       "      <td>-2</td>\n",
       "      <td>-2</td>\n",
       "      <td>-2</td>\n",
       "      <td>-2</td>\n",
       "      <td>...</td>\n",
       "      <td>-2</td>\n",
       "      <td>-2</td>\n",
       "      <td>-2</td>\n",
       "      <td>-2</td>\n",
       "      <td>-2</td>\n",
       "      <td>-2</td>\n",
       "      <td>-2</td>\n",
       "      <td>-2</td>\n",
       "      <td>-2</td>\n",
       "      <td>-2</td>\n",
       "    </tr>\n",
       "    <tr>\n",
       "      <th>PAY_6</th>\n",
       "      <td>-2</td>\n",
       "      <td>-2</td>\n",
       "      <td>-2</td>\n",
       "      <td>-2</td>\n",
       "      <td>-2</td>\n",
       "      <td>-2</td>\n",
       "      <td>-2</td>\n",
       "      <td>-2</td>\n",
       "      <td>-2</td>\n",
       "      <td>-2</td>\n",
       "      <td>...</td>\n",
       "      <td>-2</td>\n",
       "      <td>-2</td>\n",
       "      <td>-2</td>\n",
       "      <td>-2</td>\n",
       "      <td>-2</td>\n",
       "      <td>-2</td>\n",
       "      <td>-2</td>\n",
       "      <td>-2</td>\n",
       "      <td>-2</td>\n",
       "      <td>-2</td>\n",
       "    </tr>\n",
       "    <tr>\n",
       "      <th>BILL_AMT1</th>\n",
       "      <td>0</td>\n",
       "      <td>0</td>\n",
       "      <td>0</td>\n",
       "      <td>0</td>\n",
       "      <td>0</td>\n",
       "      <td>0</td>\n",
       "      <td>0</td>\n",
       "      <td>0</td>\n",
       "      <td>0</td>\n",
       "      <td>0</td>\n",
       "      <td>...</td>\n",
       "      <td>0</td>\n",
       "      <td>0</td>\n",
       "      <td>0</td>\n",
       "      <td>0</td>\n",
       "      <td>0</td>\n",
       "      <td>0</td>\n",
       "      <td>0</td>\n",
       "      <td>0</td>\n",
       "      <td>0</td>\n",
       "      <td>0</td>\n",
       "    </tr>\n",
       "    <tr>\n",
       "      <th>BILL_AMT2</th>\n",
       "      <td>0</td>\n",
       "      <td>0</td>\n",
       "      <td>0</td>\n",
       "      <td>0</td>\n",
       "      <td>0</td>\n",
       "      <td>0</td>\n",
       "      <td>0</td>\n",
       "      <td>0</td>\n",
       "      <td>0</td>\n",
       "      <td>0</td>\n",
       "      <td>...</td>\n",
       "      <td>0</td>\n",
       "      <td>0</td>\n",
       "      <td>0</td>\n",
       "      <td>0</td>\n",
       "      <td>0</td>\n",
       "      <td>0</td>\n",
       "      <td>0</td>\n",
       "      <td>0</td>\n",
       "      <td>0</td>\n",
       "      <td>0</td>\n",
       "    </tr>\n",
       "    <tr>\n",
       "      <th>BILL_AMT3</th>\n",
       "      <td>0</td>\n",
       "      <td>0</td>\n",
       "      <td>0</td>\n",
       "      <td>0</td>\n",
       "      <td>0</td>\n",
       "      <td>0</td>\n",
       "      <td>0</td>\n",
       "      <td>0</td>\n",
       "      <td>0</td>\n",
       "      <td>0</td>\n",
       "      <td>...</td>\n",
       "      <td>0</td>\n",
       "      <td>0</td>\n",
       "      <td>0</td>\n",
       "      <td>0</td>\n",
       "      <td>0</td>\n",
       "      <td>0</td>\n",
       "      <td>0</td>\n",
       "      <td>0</td>\n",
       "      <td>0</td>\n",
       "      <td>0</td>\n",
       "    </tr>\n",
       "    <tr>\n",
       "      <th>BILL_AMT4</th>\n",
       "      <td>0</td>\n",
       "      <td>0</td>\n",
       "      <td>0</td>\n",
       "      <td>0</td>\n",
       "      <td>0</td>\n",
       "      <td>0</td>\n",
       "      <td>0</td>\n",
       "      <td>0</td>\n",
       "      <td>0</td>\n",
       "      <td>0</td>\n",
       "      <td>...</td>\n",
       "      <td>0</td>\n",
       "      <td>0</td>\n",
       "      <td>0</td>\n",
       "      <td>0</td>\n",
       "      <td>0</td>\n",
       "      <td>0</td>\n",
       "      <td>0</td>\n",
       "      <td>0</td>\n",
       "      <td>0</td>\n",
       "      <td>0</td>\n",
       "    </tr>\n",
       "    <tr>\n",
       "      <th>BILL_AMT5</th>\n",
       "      <td>0</td>\n",
       "      <td>0</td>\n",
       "      <td>0</td>\n",
       "      <td>0</td>\n",
       "      <td>0</td>\n",
       "      <td>0</td>\n",
       "      <td>0</td>\n",
       "      <td>0</td>\n",
       "      <td>0</td>\n",
       "      <td>0</td>\n",
       "      <td>...</td>\n",
       "      <td>0</td>\n",
       "      <td>0</td>\n",
       "      <td>0</td>\n",
       "      <td>0</td>\n",
       "      <td>0</td>\n",
       "      <td>0</td>\n",
       "      <td>0</td>\n",
       "      <td>0</td>\n",
       "      <td>0</td>\n",
       "      <td>0</td>\n",
       "    </tr>\n",
       "    <tr>\n",
       "      <th>BILL_AMT6</th>\n",
       "      <td>0</td>\n",
       "      <td>0</td>\n",
       "      <td>0</td>\n",
       "      <td>0</td>\n",
       "      <td>0</td>\n",
       "      <td>0</td>\n",
       "      <td>0</td>\n",
       "      <td>0</td>\n",
       "      <td>0</td>\n",
       "      <td>0</td>\n",
       "      <td>...</td>\n",
       "      <td>0</td>\n",
       "      <td>0</td>\n",
       "      <td>0</td>\n",
       "      <td>0</td>\n",
       "      <td>0</td>\n",
       "      <td>0</td>\n",
       "      <td>0</td>\n",
       "      <td>0</td>\n",
       "      <td>0</td>\n",
       "      <td>0</td>\n",
       "    </tr>\n",
       "    <tr>\n",
       "      <th>PAY_AMT1</th>\n",
       "      <td>0</td>\n",
       "      <td>0</td>\n",
       "      <td>0</td>\n",
       "      <td>0</td>\n",
       "      <td>0</td>\n",
       "      <td>0</td>\n",
       "      <td>0</td>\n",
       "      <td>0</td>\n",
       "      <td>0</td>\n",
       "      <td>0</td>\n",
       "      <td>...</td>\n",
       "      <td>0</td>\n",
       "      <td>0</td>\n",
       "      <td>0</td>\n",
       "      <td>0</td>\n",
       "      <td>0</td>\n",
       "      <td>0</td>\n",
       "      <td>0</td>\n",
       "      <td>0</td>\n",
       "      <td>0</td>\n",
       "      <td>0</td>\n",
       "    </tr>\n",
       "    <tr>\n",
       "      <th>PAY_AMT2</th>\n",
       "      <td>0</td>\n",
       "      <td>0</td>\n",
       "      <td>0</td>\n",
       "      <td>0</td>\n",
       "      <td>0</td>\n",
       "      <td>0</td>\n",
       "      <td>100000</td>\n",
       "      <td>0</td>\n",
       "      <td>0</td>\n",
       "      <td>0</td>\n",
       "      <td>...</td>\n",
       "      <td>0</td>\n",
       "      <td>0</td>\n",
       "      <td>0</td>\n",
       "      <td>0</td>\n",
       "      <td>0</td>\n",
       "      <td>3100</td>\n",
       "      <td>0</td>\n",
       "      <td>0</td>\n",
       "      <td>0</td>\n",
       "      <td>0</td>\n",
       "    </tr>\n",
       "    <tr>\n",
       "      <th>PAY_AMT3</th>\n",
       "      <td>0</td>\n",
       "      <td>0</td>\n",
       "      <td>0</td>\n",
       "      <td>0</td>\n",
       "      <td>0</td>\n",
       "      <td>0</td>\n",
       "      <td>0</td>\n",
       "      <td>0</td>\n",
       "      <td>0</td>\n",
       "      <td>0</td>\n",
       "      <td>...</td>\n",
       "      <td>0</td>\n",
       "      <td>0</td>\n",
       "      <td>0</td>\n",
       "      <td>0</td>\n",
       "      <td>0</td>\n",
       "      <td>0</td>\n",
       "      <td>0</td>\n",
       "      <td>0</td>\n",
       "      <td>0</td>\n",
       "      <td>0</td>\n",
       "    </tr>\n",
       "    <tr>\n",
       "      <th>PAY_AMT4</th>\n",
       "      <td>0</td>\n",
       "      <td>0</td>\n",
       "      <td>0</td>\n",
       "      <td>0</td>\n",
       "      <td>0</td>\n",
       "      <td>0</td>\n",
       "      <td>0</td>\n",
       "      <td>0</td>\n",
       "      <td>0</td>\n",
       "      <td>0</td>\n",
       "      <td>...</td>\n",
       "      <td>0</td>\n",
       "      <td>0</td>\n",
       "      <td>0</td>\n",
       "      <td>0</td>\n",
       "      <td>0</td>\n",
       "      <td>0</td>\n",
       "      <td>0</td>\n",
       "      <td>0</td>\n",
       "      <td>0</td>\n",
       "      <td>0</td>\n",
       "    </tr>\n",
       "    <tr>\n",
       "      <th>PAY_AMT5</th>\n",
       "      <td>0</td>\n",
       "      <td>162000</td>\n",
       "      <td>0</td>\n",
       "      <td>0</td>\n",
       "      <td>0</td>\n",
       "      <td>0</td>\n",
       "      <td>0</td>\n",
       "      <td>0</td>\n",
       "      <td>0</td>\n",
       "      <td>0</td>\n",
       "      <td>...</td>\n",
       "      <td>0</td>\n",
       "      <td>0</td>\n",
       "      <td>0</td>\n",
       "      <td>0</td>\n",
       "      <td>0</td>\n",
       "      <td>0</td>\n",
       "      <td>0</td>\n",
       "      <td>0</td>\n",
       "      <td>0</td>\n",
       "      <td>0</td>\n",
       "    </tr>\n",
       "    <tr>\n",
       "      <th>PAY_AMT6</th>\n",
       "      <td>1500</td>\n",
       "      <td>0</td>\n",
       "      <td>1576</td>\n",
       "      <td>789</td>\n",
       "      <td>665</td>\n",
       "      <td>12096</td>\n",
       "      <td>0</td>\n",
       "      <td>828</td>\n",
       "      <td>19409</td>\n",
       "      <td>400</td>\n",
       "      <td>...</td>\n",
       "      <td>498</td>\n",
       "      <td>600</td>\n",
       "      <td>17000</td>\n",
       "      <td>2865</td>\n",
       "      <td>2990</td>\n",
       "      <td>0</td>\n",
       "      <td>150</td>\n",
       "      <td>4886</td>\n",
       "      <td>253</td>\n",
       "      <td>150</td>\n",
       "    </tr>\n",
       "    <tr>\n",
       "      <th>DEFAULT</th>\n",
       "      <td>0</td>\n",
       "      <td>0</td>\n",
       "      <td>0</td>\n",
       "      <td>0</td>\n",
       "      <td>1</td>\n",
       "      <td>0</td>\n",
       "      <td>0</td>\n",
       "      <td>0</td>\n",
       "      <td>0</td>\n",
       "      <td>0</td>\n",
       "      <td>...</td>\n",
       "      <td>1</td>\n",
       "      <td>0</td>\n",
       "      <td>0</td>\n",
       "      <td>0</td>\n",
       "      <td>0</td>\n",
       "      <td>0</td>\n",
       "      <td>1</td>\n",
       "      <td>1</td>\n",
       "      <td>0</td>\n",
       "      <td>1</td>\n",
       "    </tr>\n",
       "    <tr>\n",
       "      <th>PENDING_AMT1</th>\n",
       "      <td>0</td>\n",
       "      <td>0</td>\n",
       "      <td>0</td>\n",
       "      <td>0</td>\n",
       "      <td>0</td>\n",
       "      <td>0</td>\n",
       "      <td>0</td>\n",
       "      <td>0</td>\n",
       "      <td>0</td>\n",
       "      <td>0</td>\n",
       "      <td>...</td>\n",
       "      <td>0</td>\n",
       "      <td>0</td>\n",
       "      <td>0</td>\n",
       "      <td>0</td>\n",
       "      <td>0</td>\n",
       "      <td>0</td>\n",
       "      <td>0</td>\n",
       "      <td>0</td>\n",
       "      <td>0</td>\n",
       "      <td>0</td>\n",
       "    </tr>\n",
       "    <tr>\n",
       "      <th>PENDING_AMT2</th>\n",
       "      <td>0</td>\n",
       "      <td>0</td>\n",
       "      <td>0</td>\n",
       "      <td>0</td>\n",
       "      <td>0</td>\n",
       "      <td>0</td>\n",
       "      <td>-100000</td>\n",
       "      <td>0</td>\n",
       "      <td>0</td>\n",
       "      <td>0</td>\n",
       "      <td>...</td>\n",
       "      <td>0</td>\n",
       "      <td>0</td>\n",
       "      <td>0</td>\n",
       "      <td>0</td>\n",
       "      <td>0</td>\n",
       "      <td>-3100</td>\n",
       "      <td>0</td>\n",
       "      <td>0</td>\n",
       "      <td>0</td>\n",
       "      <td>0</td>\n",
       "    </tr>\n",
       "    <tr>\n",
       "      <th>PENDING_AMT3</th>\n",
       "      <td>0</td>\n",
       "      <td>0</td>\n",
       "      <td>0</td>\n",
       "      <td>0</td>\n",
       "      <td>0</td>\n",
       "      <td>0</td>\n",
       "      <td>0</td>\n",
       "      <td>0</td>\n",
       "      <td>0</td>\n",
       "      <td>0</td>\n",
       "      <td>...</td>\n",
       "      <td>0</td>\n",
       "      <td>0</td>\n",
       "      <td>0</td>\n",
       "      <td>0</td>\n",
       "      <td>0</td>\n",
       "      <td>0</td>\n",
       "      <td>0</td>\n",
       "      <td>0</td>\n",
       "      <td>0</td>\n",
       "      <td>0</td>\n",
       "    </tr>\n",
       "    <tr>\n",
       "      <th>PENDING_AMT4</th>\n",
       "      <td>0</td>\n",
       "      <td>0</td>\n",
       "      <td>0</td>\n",
       "      <td>0</td>\n",
       "      <td>0</td>\n",
       "      <td>0</td>\n",
       "      <td>0</td>\n",
       "      <td>0</td>\n",
       "      <td>0</td>\n",
       "      <td>0</td>\n",
       "      <td>...</td>\n",
       "      <td>0</td>\n",
       "      <td>0</td>\n",
       "      <td>0</td>\n",
       "      <td>0</td>\n",
       "      <td>0</td>\n",
       "      <td>0</td>\n",
       "      <td>0</td>\n",
       "      <td>0</td>\n",
       "      <td>0</td>\n",
       "      <td>0</td>\n",
       "    </tr>\n",
       "    <tr>\n",
       "      <th>PENDING_AMT5</th>\n",
       "      <td>0</td>\n",
       "      <td>-162000</td>\n",
       "      <td>0</td>\n",
       "      <td>0</td>\n",
       "      <td>0</td>\n",
       "      <td>0</td>\n",
       "      <td>0</td>\n",
       "      <td>0</td>\n",
       "      <td>0</td>\n",
       "      <td>0</td>\n",
       "      <td>...</td>\n",
       "      <td>0</td>\n",
       "      <td>0</td>\n",
       "      <td>0</td>\n",
       "      <td>0</td>\n",
       "      <td>0</td>\n",
       "      <td>0</td>\n",
       "      <td>0</td>\n",
       "      <td>0</td>\n",
       "      <td>0</td>\n",
       "      <td>0</td>\n",
       "    </tr>\n",
       "    <tr>\n",
       "      <th>PENDING_AMT6</th>\n",
       "      <td>-1500</td>\n",
       "      <td>0</td>\n",
       "      <td>-1576</td>\n",
       "      <td>-789</td>\n",
       "      <td>-665</td>\n",
       "      <td>-12096</td>\n",
       "      <td>0</td>\n",
       "      <td>-828</td>\n",
       "      <td>-19409</td>\n",
       "      <td>-400</td>\n",
       "      <td>...</td>\n",
       "      <td>-498</td>\n",
       "      <td>-600</td>\n",
       "      <td>-17000</td>\n",
       "      <td>-2865</td>\n",
       "      <td>-2990</td>\n",
       "      <td>0</td>\n",
       "      <td>-150</td>\n",
       "      <td>-4886</td>\n",
       "      <td>-253</td>\n",
       "      <td>-150</td>\n",
       "    </tr>\n",
       "    <tr>\n",
       "      <th>customer value</th>\n",
       "      <td>inf</td>\n",
       "      <td>inf</td>\n",
       "      <td>inf</td>\n",
       "      <td>inf</td>\n",
       "      <td>inf</td>\n",
       "      <td>inf</td>\n",
       "      <td>inf</td>\n",
       "      <td>inf</td>\n",
       "      <td>inf</td>\n",
       "      <td>inf</td>\n",
       "      <td>...</td>\n",
       "      <td>inf</td>\n",
       "      <td>inf</td>\n",
       "      <td>inf</td>\n",
       "      <td>inf</td>\n",
       "      <td>inf</td>\n",
       "      <td>inf</td>\n",
       "      <td>inf</td>\n",
       "      <td>inf</td>\n",
       "      <td>inf</td>\n",
       "      <td>inf</td>\n",
       "    </tr>\n",
       "  </tbody>\n",
       "</table>\n",
       "<p>32 rows × 75 columns</p>\n",
       "</div>"
      ],
      "text/plain": [
       "                          294              301         604          1157   \\\n",
       "ID                          295              302         605         1158   \n",
       "LIMIT_BAL                130000           440000      180000       470000   \n",
       "SEX                        Male           Female      Female         Male   \n",
       "EDUCATION       Graduate School  Graduate School  University  High School   \n",
       "MARRIAGE                 Single           Single      Single      Married   \n",
       "AGE                          29               36          31           39   \n",
       "PAY_1                         1               -2           1            1   \n",
       "PAY_2                        -2               -2          -2           -2   \n",
       "PAY_3                        -2               -2          -2           -2   \n",
       "PAY_4                        -2               -2          -2           -2   \n",
       "PAY_5                        -2               -2          -2           -2   \n",
       "PAY_6                        -2               -2          -2           -2   \n",
       "BILL_AMT1                     0                0           0            0   \n",
       "BILL_AMT2                     0                0           0            0   \n",
       "BILL_AMT3                     0                0           0            0   \n",
       "BILL_AMT4                     0                0           0            0   \n",
       "BILL_AMT5                     0                0           0            0   \n",
       "BILL_AMT6                     0                0           0            0   \n",
       "PAY_AMT1                      0                0           0            0   \n",
       "PAY_AMT2                      0                0           0            0   \n",
       "PAY_AMT3                      0                0           0            0   \n",
       "PAY_AMT4                      0                0           0            0   \n",
       "PAY_AMT5                      0           162000           0            0   \n",
       "PAY_AMT6                   1500                0        1576          789   \n",
       "DEFAULT                       0                0           0            0   \n",
       "PENDING_AMT1                  0                0           0            0   \n",
       "PENDING_AMT2                  0                0           0            0   \n",
       "PENDING_AMT3                  0                0           0            0   \n",
       "PENDING_AMT4                  0                0           0            0   \n",
       "PENDING_AMT5                  0          -162000           0            0   \n",
       "PENDING_AMT6              -1500                0       -1576         -789   \n",
       "customer value              inf              inf         inf          inf   \n",
       "\n",
       "                          2634             2742             2819        2859   \\\n",
       "ID                         2635             2743             2820        2860   \n",
       "LIMIT_BAL                200000           220000           240000      190000   \n",
       "SEX                      Female           Female           Female      Female   \n",
       "EDUCATION       Graduate School  Graduate School  Graduate School  University   \n",
       "MARRIAGE                Married          Married          Married      Single   \n",
       "AGE                          42               40               38          28   \n",
       "PAY_1                        -2               -2                1           1   \n",
       "PAY_2                        -2               -2               -2          -2   \n",
       "PAY_3                        -2               -2               -2          -2   \n",
       "PAY_4                        -2               -2               -2          -2   \n",
       "PAY_5                        -2               -2               -2          -2   \n",
       "PAY_6                        -2               -2               -2          -2   \n",
       "BILL_AMT1                     0                0                0           0   \n",
       "BILL_AMT2                     0                0                0           0   \n",
       "BILL_AMT3                     0                0                0           0   \n",
       "BILL_AMT4                     0                0                0           0   \n",
       "BILL_AMT5                     0                0                0           0   \n",
       "BILL_AMT6                     0                0                0           0   \n",
       "PAY_AMT1                      0                0                0           0   \n",
       "PAY_AMT2                      0                0           100000           0   \n",
       "PAY_AMT3                      0                0                0           0   \n",
       "PAY_AMT4                      0                0                0           0   \n",
       "PAY_AMT5                      0                0                0           0   \n",
       "PAY_AMT6                    665            12096                0         828   \n",
       "DEFAULT                       1                0                0           0   \n",
       "PENDING_AMT1                  0                0                0           0   \n",
       "PENDING_AMT2                  0                0          -100000           0   \n",
       "PENDING_AMT3                  0                0                0           0   \n",
       "PENDING_AMT4                  0                0                0           0   \n",
       "PENDING_AMT5                  0                0                0           0   \n",
       "PENDING_AMT6               -665           -12096                0        -828   \n",
       "customer value              inf              inf              inf         inf   \n",
       "\n",
       "                     3025        3141   ...        25552       25675  \\\n",
       "ID                    3026        3142  ...        25553       25676   \n",
       "LIMIT_BAL            20000       80000  ...       390000      200000   \n",
       "SEX                   Male      Female  ...       Female      Female   \n",
       "EDUCATION       University  University  ...  High School  University   \n",
       "MARRIAGE           Married      Single  ...       Single      Single   \n",
       "AGE                     45          24  ...           43          46   \n",
       "PAY_1                   -2          -2  ...            1          -2   \n",
       "PAY_2                   -2          -2  ...           -2          -2   \n",
       "PAY_3                   -2          -2  ...           -2          -2   \n",
       "PAY_4                   -2          -2  ...           -2          -2   \n",
       "PAY_5                   -2          -2  ...           -2          -2   \n",
       "PAY_6                   -2          -2  ...           -2          -2   \n",
       "BILL_AMT1                0           0  ...            0           0   \n",
       "BILL_AMT2                0           0  ...            0           0   \n",
       "BILL_AMT3                0           0  ...            0           0   \n",
       "BILL_AMT4                0           0  ...            0           0   \n",
       "BILL_AMT5                0           0  ...            0           0   \n",
       "BILL_AMT6                0           0  ...            0           0   \n",
       "PAY_AMT1                 0           0  ...            0           0   \n",
       "PAY_AMT2                 0           0  ...            0           0   \n",
       "PAY_AMT3                 0           0  ...            0           0   \n",
       "PAY_AMT4                 0           0  ...            0           0   \n",
       "PAY_AMT5                 0           0  ...            0           0   \n",
       "PAY_AMT6             19409         400  ...          498         600   \n",
       "DEFAULT                  0           0  ...            1           0   \n",
       "PENDING_AMT1             0           0  ...            0           0   \n",
       "PENDING_AMT2             0           0  ...            0           0   \n",
       "PENDING_AMT3             0           0  ...            0           0   \n",
       "PENDING_AMT4             0           0  ...            0           0   \n",
       "PENDING_AMT5             0           0  ...            0           0   \n",
       "PENDING_AMT6        -19409        -400  ...         -498        -600   \n",
       "customer value         inf         inf  ...          inf         inf   \n",
       "\n",
       "                          26041       26279       27725       27872  \\\n",
       "ID                        26042       26280       27726       27873   \n",
       "LIMIT_BAL                200000      200000      110000       80000   \n",
       "SEX                      Female      Female      Female      Female   \n",
       "EDUCATION       Graduate School  University  University  University   \n",
       "MARRIAGE                 Single     Married      Single      Single   \n",
       "AGE                          34          35          22          26   \n",
       "PAY_1                         1           1          -2           1   \n",
       "PAY_2                        -2          -2          -2          -2   \n",
       "PAY_3                        -2          -2          -2          -2   \n",
       "PAY_4                        -2          -2          -2          -2   \n",
       "PAY_5                        -2          -2          -2          -2   \n",
       "PAY_6                        -2          -2          -2          -2   \n",
       "BILL_AMT1                     0           0           0           0   \n",
       "BILL_AMT2                     0           0           0           0   \n",
       "BILL_AMT3                     0           0           0           0   \n",
       "BILL_AMT4                     0           0           0           0   \n",
       "BILL_AMT5                     0           0           0           0   \n",
       "BILL_AMT6                     0           0           0           0   \n",
       "PAY_AMT1                      0           0           0           0   \n",
       "PAY_AMT2                      0           0           0        3100   \n",
       "PAY_AMT3                      0           0           0           0   \n",
       "PAY_AMT4                      0           0           0           0   \n",
       "PAY_AMT5                      0           0           0           0   \n",
       "PAY_AMT6                  17000        2865        2990           0   \n",
       "DEFAULT                       0           0           0           0   \n",
       "PENDING_AMT1                  0           0           0           0   \n",
       "PENDING_AMT2                  0           0           0       -3100   \n",
       "PENDING_AMT3                  0           0           0           0   \n",
       "PENDING_AMT4                  0           0           0           0   \n",
       "PENDING_AMT5                  0           0           0           0   \n",
       "PENDING_AMT6             -17000       -2865       -2990           0   \n",
       "customer value              inf         inf         inf         inf   \n",
       "\n",
       "                          28235        29114        29157            29531  \n",
       "ID                        28236        29115        29158            29532  \n",
       "LIMIT_BAL                100000       300000       360000           240000  \n",
       "SEX                      Female       Female       Female             Male  \n",
       "EDUCATION       Graduate School  High School  High School  Graduate School  \n",
       "MARRIAGE                Married      Married      Married          Married  \n",
       "AGE                          37           50           56               34  \n",
       "PAY_1                         1           -2            1                1  \n",
       "PAY_2                        -2           -2           -2               -2  \n",
       "PAY_3                        -2           -2           -2               -2  \n",
       "PAY_4                        -2           -2           -2               -2  \n",
       "PAY_5                        -2           -2           -2               -2  \n",
       "PAY_6                        -2           -2           -2               -2  \n",
       "BILL_AMT1                     0            0            0                0  \n",
       "BILL_AMT2                     0            0            0                0  \n",
       "BILL_AMT3                     0            0            0                0  \n",
       "BILL_AMT4                     0            0            0                0  \n",
       "BILL_AMT5                     0            0            0                0  \n",
       "BILL_AMT6                     0            0            0                0  \n",
       "PAY_AMT1                      0            0            0                0  \n",
       "PAY_AMT2                      0            0            0                0  \n",
       "PAY_AMT3                      0            0            0                0  \n",
       "PAY_AMT4                      0            0            0                0  \n",
       "PAY_AMT5                      0            0            0                0  \n",
       "PAY_AMT6                    150         4886          253              150  \n",
       "DEFAULT                       1            1            0                1  \n",
       "PENDING_AMT1                  0            0            0                0  \n",
       "PENDING_AMT2                  0            0            0                0  \n",
       "PENDING_AMT3                  0            0            0                0  \n",
       "PENDING_AMT4                  0            0            0                0  \n",
       "PENDING_AMT5                  0            0            0                0  \n",
       "PENDING_AMT6               -150        -4886         -253             -150  \n",
       "customer value              inf          inf          inf              inf  \n",
       "\n",
       "[32 rows x 75 columns]"
      ]
     },
     "execution_count": 48,
     "metadata": {},
     "output_type": "execute_result"
    }
   ],
   "source": [
    "data[np.isinf(data['customer value']) == True].T"
   ]
  },
  {
   "cell_type": "code",
   "execution_count": 49,
   "metadata": {},
   "outputs": [],
   "source": [
    "data.replace([np.inf, -np.inf], np.nan,inplace = True)"
   ]
  },
  {
   "cell_type": "code",
   "execution_count": 50,
   "metadata": {},
   "outputs": [
    {
     "data": {
      "text/plain": [
       "ID                  0\n",
       "LIMIT_BAL           0\n",
       "SEX                 0\n",
       "EDUCATION           0\n",
       "MARRIAGE            0\n",
       "AGE                 0\n",
       "PAY_1               0\n",
       "PAY_2               0\n",
       "PAY_3               0\n",
       "PAY_4               0\n",
       "PAY_5               0\n",
       "PAY_6               0\n",
       "BILL_AMT1           0\n",
       "BILL_AMT2           0\n",
       "BILL_AMT3           0\n",
       "BILL_AMT4           0\n",
       "BILL_AMT5           0\n",
       "BILL_AMT6           0\n",
       "PAY_AMT1            0\n",
       "PAY_AMT2            0\n",
       "PAY_AMT3            0\n",
       "PAY_AMT4            0\n",
       "PAY_AMT5            0\n",
       "PAY_AMT6            0\n",
       "DEFAULT             0\n",
       "PENDING_AMT1        0\n",
       "PENDING_AMT2        0\n",
       "PENDING_AMT3        0\n",
       "PENDING_AMT4        0\n",
       "PENDING_AMT5        0\n",
       "PENDING_AMT6        0\n",
       "customer value    870\n",
       "dtype: int64"
      ]
     },
     "execution_count": 50,
     "metadata": {},
     "output_type": "execute_result"
    }
   ],
   "source": [
    "data.isnull().sum()"
   ]
  },
  {
   "cell_type": "code",
   "execution_count": 51,
   "metadata": {},
   "outputs": [],
   "source": [
    "data.fillna(\"1\",inplace = True)"
   ]
  },
  {
   "cell_type": "markdown",
   "metadata": {},
   "source": [
    "#### When we find out the customer value (i.e. ratio of total payment to the total bill amount), there were some nan & inf values. nan values comes when there is the scenario of 0/0 while inf values comes when there is finitevalue/0 so in both the cases bill amount genrated is 0 so customer has either did the extra payment or he is not dong at all as there is no bill generated therefore, both the customer are valuable customer therefore we replace them by 1."
   ]
  },
  {
   "cell_type": "code",
   "execution_count": 52,
   "metadata": {},
   "outputs": [
    {
     "data": {
      "text/plain": [
       "Index(['ID', 'LIMIT_BAL', 'SEX', 'EDUCATION', 'MARRIAGE', 'AGE', 'PAY_1',\n",
       "       'PAY_2', 'PAY_3', 'PAY_4', 'PAY_5', 'PAY_6', 'BILL_AMT1', 'BILL_AMT2',\n",
       "       'BILL_AMT3', 'BILL_AMT4', 'BILL_AMT5', 'BILL_AMT6', 'PAY_AMT1',\n",
       "       'PAY_AMT2', 'PAY_AMT3', 'PAY_AMT4', 'PAY_AMT5', 'PAY_AMT6', 'DEFAULT',\n",
       "       'PENDING_AMT1', 'PENDING_AMT2', 'PENDING_AMT3', 'PENDING_AMT4',\n",
       "       'PENDING_AMT5', 'PENDING_AMT6', 'customer value'],\n",
       "      dtype='object')"
      ]
     },
     "execution_count": 52,
     "metadata": {},
     "output_type": "execute_result"
    }
   ],
   "source": [
    "data.columns"
   ]
  },
  {
   "cell_type": "code",
   "execution_count": 53,
   "metadata": {},
   "outputs": [],
   "source": [
    "data_copy = data"
   ]
  },
  {
   "cell_type": "code",
   "execution_count": 54,
   "metadata": {},
   "outputs": [],
   "source": [
    "data_copy.drop(columns = ['BILL_AMT1', 'BILL_AMT2',\n",
    "       'BILL_AMT3', 'BILL_AMT4', 'BILL_AMT5', 'BILL_AMT6', 'PAY_AMT1',\n",
    "       'PAY_AMT2', 'PAY_AMT3', 'PAY_AMT4', 'PAY_AMT5', 'PAY_AMT6'], inplace = True)"
   ]
  },
  {
   "cell_type": "code",
   "execution_count": 55,
   "metadata": {},
   "outputs": [],
   "source": [
    "data_copy['customer value'] = data_copy['customer value'].astype('float')"
   ]
  },
  {
   "cell_type": "code",
   "execution_count": 56,
   "metadata": {},
   "outputs": [],
   "source": [
    "data_copy = pd.get_dummies(data_copy)"
   ]
  },
  {
   "cell_type": "code",
   "execution_count": 57,
   "metadata": {},
   "outputs": [],
   "source": [
    "data_copy.drop(columns = ['ID'], inplace = True)"
   ]
  },
  {
   "cell_type": "code",
   "execution_count": null,
   "metadata": {},
   "outputs": [],
   "source": []
  },
  {
   "cell_type": "markdown",
   "metadata": {},
   "source": [
    "# Data Preparation and Model Building"
   ]
  },
  {
   "cell_type": "code",
   "execution_count": 58,
   "metadata": {},
   "outputs": [],
   "source": [
    "# Importing test_train_split from sklearn library\n",
    "from sklearn.model_selection import train_test_split"
   ]
  },
  {
   "cell_type": "code",
   "execution_count": 59,
   "metadata": {},
   "outputs": [],
   "source": [
    "# Putting feature variable to X\n",
    "X = data_copy.drop('DEFAULT',axis=1)\n",
    "\n",
    "# Putting response variable to y\n",
    "y = data_copy['DEFAULT']\n",
    "\n",
    "# Splitting the data into train and test\n",
    "X_train, X_test, y_train, y_test = train_test_split(X, y, test_size=0.30, random_state=0)"
   ]
  },
  {
   "cell_type": "code",
   "execution_count": 60,
   "metadata": {},
   "outputs": [],
   "source": [
    "from sklearn.preprocessing import StandardScaler\n",
    "sc = StandardScaler()\n",
    "X_train = sc.fit_transform(X_train)\n",
    "X_test = sc.transform(X_test)"
   ]
  },
  {
   "cell_type": "markdown",
   "metadata": {},
   "source": [
    "### Logistic Regression:"
   ]
  },
  {
   "cell_type": "code",
   "execution_count": 61,
   "metadata": {},
   "outputs": [
    {
     "name": "stdout",
     "output_type": "stream",
     "text": [
      "Optimization terminated successfully.\n",
      "         Current function value: 0.466780\n",
      "         Iterations 7\n"
     ]
    },
    {
     "data": {
      "text/html": [
       "<table class=\"simpletable\">\n",
       "<tr>\n",
       "        <td>Model:</td>              <td>Logit</td>      <td>Pseudo R-squared:</td>    <td>0.117</td>  \n",
       "</tr>\n",
       "<tr>\n",
       "  <td>Dependent Variable:</td>      <td>DEFAULT</td>           <td>AIC:</td>        <td>28050.7862</td>\n",
       "</tr>\n",
       "<tr>\n",
       "         <td>Date:</td>        <td>2019-11-10 13:38</td>       <td>BIC:</td>        <td>28233.5832</td>\n",
       "</tr>\n",
       "<tr>\n",
       "   <td>No. Observations:</td>        <td>30000</td>       <td>Log-Likelihood:</td>    <td>-14003.</td> \n",
       "</tr>\n",
       "<tr>\n",
       "       <td>Df Model:</td>             <td>21</td>            <td>LL-Null:</td>        <td>-15853.</td> \n",
       "</tr>\n",
       "<tr>\n",
       "     <td>Df Residuals:</td>          <td>29978</td>        <td>LLR p-value:</td>      <td>0.0000</td>  \n",
       "</tr>\n",
       "<tr>\n",
       "      <td>Converged:</td>           <td>1.0000</td>           <td>Scale:</td>         <td>1.0000</td>  \n",
       "</tr>\n",
       "<tr>\n",
       "    <td>No. Iterations:</td>        <td>7.0000</td>              <td></td>               <td></td>     \n",
       "</tr>\n",
       "</table>\n",
       "<table class=\"simpletable\">\n",
       "<tr>\n",
       "              <td></td>               <th>Coef.</th>  <th>Std.Err.</th>    <th>z</th>     <th>P>|z|</th> <th>[0.025</th>  <th>0.975]</th> \n",
       "</tr>\n",
       "<tr>\n",
       "  <th>LIMIT_BAL</th>                 <td>-0.0000</td>  <td>0.0000</td>  <td>-8.3046</td> <td>0.0000</td> <td>-0.0000</td> <td>-0.0000</td>\n",
       "</tr>\n",
       "<tr>\n",
       "  <th>AGE</th>                       <td>0.0061</td>   <td>0.0019</td>  <td>3.2839</td>  <td>0.0010</td> <td>0.0025</td>  <td>0.0097</td> \n",
       "</tr>\n",
       "<tr>\n",
       "  <th>PAY_1</th>                     <td>0.6003</td>   <td>0.0177</td>  <td>33.8928</td> <td>0.0000</td> <td>0.5655</td>  <td>0.6350</td> \n",
       "</tr>\n",
       "<tr>\n",
       "  <th>PAY_2</th>                     <td>0.0890</td>   <td>0.0201</td>  <td>4.4271</td>  <td>0.0000</td> <td>0.0496</td>  <td>0.1284</td> \n",
       "</tr>\n",
       "<tr>\n",
       "  <th>PAY_3</th>                     <td>0.0735</td>   <td>0.0224</td>  <td>3.2845</td>  <td>0.0010</td> <td>0.0296</td>  <td>0.1173</td> \n",
       "</tr>\n",
       "<tr>\n",
       "  <th>PAY_4</th>                     <td>0.0218</td>   <td>0.0248</td>  <td>0.8773</td>  <td>0.3803</td> <td>-0.0268</td> <td>0.0703</td> \n",
       "</tr>\n",
       "<tr>\n",
       "  <th>PAY_5</th>                     <td>0.0360</td>   <td>0.0268</td>  <td>1.3442</td>  <td>0.1789</td> <td>-0.0165</td> <td>0.0884</td> \n",
       "</tr>\n",
       "<tr>\n",
       "  <th>PAY_6</th>                     <td>0.0048</td>   <td>0.0221</td>  <td>0.2189</td>  <td>0.8267</td> <td>-0.0385</td> <td>0.0481</td> \n",
       "</tr>\n",
       "<tr>\n",
       "  <th>PENDING_AMT1</th>              <td>-0.0000</td>  <td>0.0000</td>  <td>-2.1238</td> <td>0.0337</td> <td>-0.0000</td> <td>-0.0000</td>\n",
       "</tr>\n",
       "<tr>\n",
       "  <th>PENDING_AMT2</th>              <td>0.0000</td>   <td>0.0000</td>  <td>0.1238</td>  <td>0.9015</td> <td>-0.0000</td> <td>0.0000</td> \n",
       "</tr>\n",
       "<tr>\n",
       "  <th>PENDING_AMT3</th>              <td>-0.0000</td>  <td>0.0000</td>  <td>-1.8088</td> <td>0.0705</td> <td>-0.0000</td> <td>0.0000</td> \n",
       "</tr>\n",
       "<tr>\n",
       "  <th>PENDING_AMT4</th>              <td>-0.0000</td>  <td>0.0000</td>  <td>-0.3406</td> <td>0.7334</td> <td>-0.0000</td> <td>0.0000</td> \n",
       "</tr>\n",
       "<tr>\n",
       "  <th>PENDING_AMT5</th>              <td>-0.0000</td>  <td>0.0000</td>  <td>-0.1056</td> <td>0.9159</td> <td>-0.0000</td> <td>0.0000</td> \n",
       "</tr>\n",
       "<tr>\n",
       "  <th>PENDING_AMT6</th>              <td>0.0000</td>   <td>0.0000</td>  <td>0.2423</td>  <td>0.8086</td> <td>-0.0000</td> <td>0.0000</td> \n",
       "</tr>\n",
       "<tr>\n",
       "  <th>customer value</th>            <td>0.0197</td>   <td>0.0135</td>  <td>1.4564</td>  <td>0.1453</td> <td>-0.0068</td> <td>0.0463</td> \n",
       "</tr>\n",
       "<tr>\n",
       "  <th>SEX_Female</th>                <td>7.6452</td>     <td>nan</td>     <td>nan</td>     <td>nan</td>    <td>nan</td>     <td>nan</td>  \n",
       "</tr>\n",
       "<tr>\n",
       "  <th>SEX_Male</th>                  <td>7.7470</td>     <td>nan</td>     <td>nan</td>     <td>nan</td>    <td>nan</td>     <td>nan</td>  \n",
       "</tr>\n",
       "<tr>\n",
       "  <th>EDUCATION_Graduate School</th> <td>-8.4517</td>    <td>nan</td>     <td>nan</td>     <td>nan</td>    <td>nan</td>     <td>nan</td>  \n",
       "</tr>\n",
       "<tr>\n",
       "  <th>EDUCATION_High School</th>     <td>-8.5760</td>    <td>nan</td>     <td>nan</td>     <td>nan</td>    <td>nan</td>     <td>nan</td>  \n",
       "</tr>\n",
       "<tr>\n",
       "  <th>EDUCATION_Others</th>          <td>-9.6586</td>    <td>nan</td>     <td>nan</td>     <td>nan</td>    <td>nan</td>     <td>nan</td>  \n",
       "</tr>\n",
       "<tr>\n",
       "  <th>EDUCATION_University</th>      <td>-8.5385</td>    <td>nan</td>     <td>nan</td>     <td>nan</td>    <td>nan</td>     <td>nan</td>  \n",
       "</tr>\n",
       "<tr>\n",
       "  <th>MARRIAGE_Married</th>          <td>-0.3553</td>    <td>nan</td>     <td>nan</td>     <td>nan</td>    <td>nan</td>     <td>nan</td>  \n",
       "</tr>\n",
       "<tr>\n",
       "  <th>MARRIAGE_Others</th>           <td>-0.5750</td>    <td>nan</td>     <td>nan</td>     <td>nan</td>    <td>nan</td>     <td>nan</td>  \n",
       "</tr>\n",
       "<tr>\n",
       "  <th>MARRIAGE_Single</th>           <td>-0.5498</td>    <td>nan</td>     <td>nan</td>     <td>nan</td>    <td>nan</td>     <td>nan</td>  \n",
       "</tr>\n",
       "</table>"
      ],
      "text/plain": [
       "<class 'statsmodels.iolib.summary2.Summary'>\n",
       "\"\"\"\n",
       "                             Results: Logit\n",
       "=========================================================================\n",
       "Model:                  Logit              Pseudo R-squared:   0.117     \n",
       "Dependent Variable:     DEFAULT            AIC:                28050.7862\n",
       "Date:                   2019-11-10 13:38   BIC:                28233.5832\n",
       "No. Observations:       30000              Log-Likelihood:     -14003.   \n",
       "Df Model:               21                 LL-Null:            -15853.   \n",
       "Df Residuals:           29978              LLR p-value:        0.0000    \n",
       "Converged:              1.0000             Scale:              1.0000    \n",
       "No. Iterations:         7.0000                                           \n",
       "-------------------------------------------------------------------------\n",
       "                           Coef.  Std.Err.    z    P>|z|   [0.025  0.975]\n",
       "-------------------------------------------------------------------------\n",
       "LIMIT_BAL                 -0.0000   0.0000 -8.3046 0.0000 -0.0000 -0.0000\n",
       "AGE                        0.0061   0.0019  3.2839 0.0010  0.0025  0.0097\n",
       "PAY_1                      0.6003   0.0177 33.8928 0.0000  0.5655  0.6350\n",
       "PAY_2                      0.0890   0.0201  4.4271 0.0000  0.0496  0.1284\n",
       "PAY_3                      0.0735   0.0224  3.2845 0.0010  0.0296  0.1173\n",
       "PAY_4                      0.0218   0.0248  0.8773 0.3803 -0.0268  0.0703\n",
       "PAY_5                      0.0360   0.0268  1.3442 0.1789 -0.0165  0.0884\n",
       "PAY_6                      0.0048   0.0221  0.2189 0.8267 -0.0385  0.0481\n",
       "PENDING_AMT1              -0.0000   0.0000 -2.1238 0.0337 -0.0000 -0.0000\n",
       "PENDING_AMT2               0.0000   0.0000  0.1238 0.9015 -0.0000  0.0000\n",
       "PENDING_AMT3              -0.0000   0.0000 -1.8088 0.0705 -0.0000  0.0000\n",
       "PENDING_AMT4              -0.0000   0.0000 -0.3406 0.7334 -0.0000  0.0000\n",
       "PENDING_AMT5              -0.0000   0.0000 -0.1056 0.9159 -0.0000  0.0000\n",
       "PENDING_AMT6               0.0000   0.0000  0.2423 0.8086 -0.0000  0.0000\n",
       "customer value             0.0197   0.0135  1.4564 0.1453 -0.0068  0.0463\n",
       "SEX_Female                 7.6452      nan     nan    nan     nan     nan\n",
       "SEX_Male                   7.7470      nan     nan    nan     nan     nan\n",
       "EDUCATION_Graduate School -8.4517      nan     nan    nan     nan     nan\n",
       "EDUCATION_High School     -8.5760      nan     nan    nan     nan     nan\n",
       "EDUCATION_Others          -9.6586      nan     nan    nan     nan     nan\n",
       "EDUCATION_University      -8.5385      nan     nan    nan     nan     nan\n",
       "MARRIAGE_Married          -0.3553      nan     nan    nan     nan     nan\n",
       "MARRIAGE_Others           -0.5750      nan     nan    nan     nan     nan\n",
       "MARRIAGE_Single           -0.5498      nan     nan    nan     nan     nan\n",
       "=========================================================================\n",
       "\n",
       "\"\"\""
      ]
     },
     "execution_count": 61,
     "metadata": {},
     "output_type": "execute_result"
    }
   ],
   "source": [
    "import statsmodels.api as sm\n",
    "#Build Logit Model\n",
    "logit = sm.Logit(y,X)\n",
    "\n",
    "# fit the model\n",
    "model_logistic = logit.fit()\n",
    "\n",
    "# Prining Logistic Regression model results \n",
    "model_logistic.summary2()"
   ]
  },
  {
   "cell_type": "code",
   "execution_count": null,
   "metadata": {},
   "outputs": [],
   "source": []
  },
  {
   "cell_type": "code",
   "execution_count": 62,
   "metadata": {},
   "outputs": [
    {
     "data": {
      "text/plain": [
       "LogisticRegression(C=1.0, class_weight=None, dual=False, fit_intercept=True,\n",
       "          intercept_scaling=1, max_iter=100, multi_class='warn',\n",
       "          n_jobs=None, penalty='l2', random_state=None, solver='warn',\n",
       "          tol=0.0001, verbose=0, warm_start=False)"
      ]
     },
     "execution_count": 62,
     "metadata": {},
     "output_type": "execute_result"
    }
   ],
   "source": [
    "#Fitting logistic Regression to the Training set\n",
    "from sklearn.linear_model import LogisticRegression\n",
    "classifier = LogisticRegression()\n",
    "classifier.fit(X_train,y_train)"
   ]
  },
  {
   "cell_type": "code",
   "execution_count": 63,
   "metadata": {},
   "outputs": [
    {
     "data": {
      "text/plain": [
       "array([1, 0, 0, ..., 0, 0, 0], dtype=int64)"
      ]
     },
     "execution_count": 63,
     "metadata": {},
     "output_type": "execute_result"
    }
   ],
   "source": [
    "y_pred = classifier.predict(X_test)\n",
    "y_pred"
   ]
  },
  {
   "cell_type": "code",
   "execution_count": 64,
   "metadata": {},
   "outputs": [
    {
     "name": "stdout",
     "output_type": "stream",
     "text": [
      "[[6901  159]\n",
      " [1499  441]]\n"
     ]
    }
   ],
   "source": [
    "# Making the Confusion Matrix\n",
    "from sklearn.metrics import confusion_matrix\n",
    "cm_logistic = confusion_matrix(y_test, y_pred)\n",
    "print(cm_logistic)"
   ]
  },
  {
   "cell_type": "code",
   "execution_count": 65,
   "metadata": {},
   "outputs": [
    {
     "data": {
      "image/png": "[encoded data removed]",
      "text/plain": [
       "<Figure size 432x288 with 2 Axes>"
      ]
     },
     "metadata": {
      "needs_background": "light"
     },
     "output_type": "display_data"
    }
   ],
   "source": [
    "sns.heatmap(cm_logistic,annot=True)\n",
    "plt.show()"
   ]
  },
  {
   "cell_type": "code",
   "execution_count": 66,
   "metadata": {},
   "outputs": [
    {
     "name": "stdout",
     "output_type": "stream",
     "text": [
      "              precision    recall  f1-score   support\n",
      "\n",
      "           0       0.82      0.98      0.89      7060\n",
      "           1       0.73      0.23      0.35      1940\n",
      "\n",
      "   micro avg       0.82      0.82      0.82      9000\n",
      "   macro avg       0.78      0.60      0.62      9000\n",
      "weighted avg       0.80      0.82      0.78      9000\n",
      "\n"
     ]
    }
   ],
   "source": [
    "from sklearn.metrics import classification_report \n",
    "print(classification_report(y_test, y_pred))"
   ]
  },
  {
   "cell_type": "code",
   "execution_count": 67,
   "metadata": {},
   "outputs": [
    {
     "name": "stdout",
     "output_type": "stream",
     "text": [
      "Accuracy score is: 0.8157777777777778\n"
     ]
    }
   ],
   "source": [
    "from sklearn import metrics\n",
    "print('Accuracy score is:',metrics.accuracy_score(y_test, y_pred))"
   ]
  },
  {
   "cell_type": "code",
   "execution_count": 68,
   "metadata": {},
   "outputs": [
    {
     "data": {
      "text/plain": [
       "array([[0.4954257 , 0.5045743 ],\n",
       "       [0.75820234, 0.24179766],\n",
       "       [0.713519  , 0.286481  ],\n",
       "       ...,\n",
       "       [0.76690036, 0.23309964],\n",
       "       [0.93766453, 0.06233547],\n",
       "       [0.88855655, 0.11144345]])"
      ]
     },
     "execution_count": 68,
     "metadata": {},
     "output_type": "execute_result"
    }
   ],
   "source": [
    "y_pred_proba =classifier.predict_proba(X_test)\n",
    "y_pred_proba"
   ]
  },
  {
   "cell_type": "code",
   "execution_count": 69,
   "metadata": {},
   "outputs": [],
   "source": [
    "probs = y_pred_proba[:,1]"
   ]
  },
  {
   "cell_type": "code",
   "execution_count": 70,
   "metadata": {},
   "outputs": [
    {
     "name": "stdout",
     "output_type": "stream",
     "text": [
      "AUC: 0.72\n"
     ]
    }
   ],
   "source": [
    "from sklearn.metrics import roc_auc_score, roc_curve\n",
    "auc = roc_auc_score(y_test, probs)\n",
    "print('AUC: %.2f' %auc)"
   ]
  },
  {
   "cell_type": "code",
   "execution_count": 71,
   "metadata": {},
   "outputs": [
    {
     "name": "stdout",
     "output_type": "stream",
     "text": [
      "[0.00000000e+00 1.41643059e-04 1.41643059e-04 ... 9.99433428e-01\n",
      " 1.00000000e+00 1.00000000e+00]\n",
      "[0.         0.         0.00360825 ... 0.99948454 0.99948454 1.        ]\n",
      "[1.99999998e+00 9.99999980e-01 9.05743496e-01 ... 8.34488735e-03\n",
      " 3.56419843e-05 3.28928482e-07]\n"
     ]
    }
   ],
   "source": [
    "fpr, tpr, thresholds = metrics.roc_curve(y_test,probs)\n",
    "print(fpr)\n",
    "print(tpr)\n",
    "print(thresholds)"
   ]
  },
  {
   "cell_type": "code",
   "execution_count": 72,
   "metadata": {},
   "outputs": [
    {
     "data": {
      "image/png": "[encoded data removed]",
      "text/plain": [
       "<Figure size 432x288 with 1 Axes>"
      ]
     },
     "metadata": {
      "needs_background": "light"
     },
     "output_type": "display_data"
    }
   ],
   "source": [
    "plt.plot(fpr,tpr, color = 'red', label = 'ROC')\n",
    "plt.plot([0,1],[0,1], color =  'darkblue', linestyle = '--')\n",
    "plt.xlabel('False Positive Rate')\n",
    "plt.ylabel('True Positive Rate')\n",
    "plt.title('Receiver Operating Characterstics (ROC) curve')\n",
    "plt.legend()\n",
    "plt.show()"
   ]
  },
  {
   "cell_type": "markdown",
   "metadata": {},
   "source": [
    "## Grid Search CV:"
   ]
  },
  {
   "cell_type": "code",
   "execution_count": 73,
   "metadata": {},
   "outputs": [
    {
     "name": "stdout",
     "output_type": "stream",
     "text": [
      "tuned hpyerparameters :(best parameters)  {'C': 0.1, 'penalty': 'l2'}\n",
      "accuracy : 0.8070952380952381\n"
     ]
    }
   ],
   "source": [
    "##Grid search cross validation\n",
    "from sklearn.model_selection import GridSearchCV\n",
    "grid={\"C\":np.logspace(-3,3,7), \"penalty\":[\"l1\",\"l2\"]}# l1 lasso l2 ridge\n",
    "logreg_cv=GridSearchCV(classifier,grid,cv=10)\n",
    "logreg_cv.fit(X_train,y_train)\n",
    "\n",
    "print(\"tuned hpyerparameters :(best parameters) \",logreg_cv.best_params_)\n",
    "print(\"accuracy :\",logreg_cv.best_score_)\n"
   ]
  },
  {
   "cell_type": "code",
   "execution_count": null,
   "metadata": {},
   "outputs": [],
   "source": []
  },
  {
   "cell_type": "markdown",
   "metadata": {},
   "source": [
    "# KNN:"
   ]
  },
  {
   "cell_type": "code",
   "execution_count": 74,
   "metadata": {},
   "outputs": [
    {
     "name": "stdout",
     "output_type": "stream",
     "text": [
      "Prediction: [0 0 0 ... 0 0 0]\n"
     ]
    }
   ],
   "source": [
    "# KNN\n",
    "from sklearn.neighbors import KNeighborsClassifier\n",
    "knn = KNeighborsClassifier()\n",
    "knn.fit(X_train,y_train)\n",
    "prediction = knn.predict(X_test)\n",
    "print('Prediction: {}'.format(prediction))"
   ]
  },
  {
   "cell_type": "code",
   "execution_count": 75,
   "metadata": {},
   "outputs": [
    {
     "name": "stdout",
     "output_type": "stream",
     "text": [
      "With KNN accuracy is:  0.7907777777777778\n"
     ]
    }
   ],
   "source": [
    "print('With KNN accuracy is: ',knn.score(X_test,y_test)) # accuracy"
   ]
  },
  {
   "cell_type": "code",
   "execution_count": 76,
   "metadata": {},
   "outputs": [
    {
     "name": "stdout",
     "output_type": "stream",
     "text": [
      "[[6477  583]\n",
      " [1300  640]]\n"
     ]
    }
   ],
   "source": [
    "# Making the Confusion Matrix\n",
    "from sklearn.metrics import confusion_matrix\n",
    "cm_knn= confusion_matrix(y_test, prediction)\n",
    "print(cm_knn)"
   ]
  },
  {
   "cell_type": "code",
   "execution_count": 77,
   "metadata": {},
   "outputs": [
    {
     "name": "stdout",
     "output_type": "stream",
     "text": [
      "              precision    recall  f1-score   support\n",
      "\n",
      "           0       0.83      0.92      0.87      7060\n",
      "           1       0.52      0.33      0.40      1940\n",
      "\n",
      "   micro avg       0.79      0.79      0.79      9000\n",
      "   macro avg       0.68      0.62      0.64      9000\n",
      "weighted avg       0.77      0.79      0.77      9000\n",
      "\n"
     ]
    }
   ],
   "source": [
    "print(classification_report(y_test, prediction))"
   ]
  },
  {
   "cell_type": "markdown",
   "metadata": {},
   "source": [
    "### Model Complexity:"
   ]
  },
  {
   "cell_type": "code",
   "execution_count": 85,
   "metadata": {},
   "outputs": [],
   "source": [
    "neigh = np.arange(1,25)\n",
    "train_accuracy = []\n",
    "test_accuracy = []\n",
    "for i in neigh:\n",
    "    knn = KNeighborsClassifier(n_neighbors = i)\n",
    "    knn.fit(X_train,y_train)\n",
    "    train_accuracy.append(knn.score(X_train,y_train))\n",
    "    test_accuracy.append(knn.score(X_test,y_test))"
   ]
  },
  {
   "cell_type": "code",
   "execution_count": 86,
   "metadata": {},
   "outputs": [
    {
     "data": {
      "image/png": "[encoded data removed]",
      "text/plain": [
       "<Figure size 720x360 with 1 Axes>"
      ]
     },
     "metadata": {
      "needs_background": "light"
     },
     "output_type": "display_data"
    },
    {
     "name": "stdout",
     "output_type": "stream",
     "text": [
      "Best accuracy is 0.8107777777777778 with k = 23\n"
     ]
    }
   ],
   "source": [
    "plt.figure(figsize = [10,5])\n",
    "plt.plot(neigh, test_accuracy, label = 'Testing Accuracy')\n",
    "plt.plot(neigh,train_accuracy, label = 'Training Accuracy')\n",
    "plt.legend()\n",
    "plt.title('Value vs Accuracy', fontsize = 20)\n",
    "plt.xlabel('No of Neighbors',fontsize = 20)\n",
    "plt.ylabel('Accuracy',fontsize = 20)\n",
    "plt.xticks(neigh)\n",
    "plt.grid()\n",
    "plt.show()\n",
    "print('Best accuracy is {} with k = {}'.format(np.max(test_accuracy), 1 + test_accuracy.index(np.max(test_accuracy))))"
   ]
  },
  {
   "cell_type": "markdown",
   "metadata": {},
   "source": [
    "### Hyperparameter Tuning:"
   ]
  },
  {
   "cell_type": "code",
   "execution_count": 87,
   "metadata": {},
   "outputs": [
    {
     "name": "stdout",
     "output_type": "stream",
     "text": [
      "The accuracy of the knn classifier is 0.82 out of 1 on training data\n",
      "The accuracy of the knn classifier is 0.81 out of 1 on test data\n",
      "Tuned hyperparameter k: {'n_neighbors': 17}\n",
      "Best score: 0.8080952380952381\n"
     ]
    }
   ],
   "source": [
    "from sklearn.model_selection import GridSearchCV\n",
    "from sklearn.neighbors import KNeighborsClassifier\n",
    "grid = {'n_neighbors': np.arange(1,25)}\n",
    "knn = KNeighborsClassifier(n_neighbors=5, p=2, metric='minkowski')\n",
    "knn_cv = GridSearchCV(knn, grid, cv=3) # GridSearchCV\n",
    "knn_cv.fit(X_train, y_train)\n",
    "\n",
    "print('The accuracy of the knn classifier is {:.2f} out of 1 on training data'.format(knn_cv.score(X_train, y_train)))\n",
    "print('The accuracy of the knn classifier is {:.2f} out of 1 on test data'.format(knn_cv.score(X_test, y_test)))\n",
    "print(\"Tuned hyperparameter k: {}\".format(knn_cv.best_params_)) \n",
    "print(\"Best score: {}\".format(knn_cv.best_score_))"
   ]
  },
  {
   "cell_type": "markdown",
   "metadata": {},
   "source": [
    "## Random Forest:"
   ]
  },
  {
   "cell_type": "markdown",
   "metadata": {},
   "source": [
    "#### Default Hyperparameters\n",
    "Let's first fit a random forest model with default hyperparameters."
   ]
  },
  {
   "cell_type": "code",
   "execution_count": 78,
   "metadata": {},
   "outputs": [],
   "source": [
    "# Importing random forest classifier from sklearn library\n",
    "from sklearn.ensemble import RandomForestClassifier\n",
    "\n",
    "# Running the random forest with default parameters.\n",
    "rfc = RandomForestClassifier()"
   ]
  },
  {
   "cell_type": "code",
   "execution_count": 79,
   "metadata": {},
   "outputs": [
    {
     "data": {
      "text/plain": [
       "RandomForestClassifier(bootstrap=True, class_weight=None, criterion='gini',\n",
       "            max_depth=None, max_features='auto', max_leaf_nodes=None,\n",
       "            min_impurity_decrease=0.0, min_impurity_split=None,\n",
       "            min_samples_leaf=1, min_samples_split=2,\n",
       "            min_weight_fraction_leaf=0.0, n_estimators=10, n_jobs=None,\n",
       "            oob_score=False, random_state=None, verbose=0,\n",
       "            warm_start=False)"
      ]
     },
     "execution_count": 79,
     "metadata": {},
     "output_type": "execute_result"
    }
   ],
   "source": [
    "# fit\n",
    "rfc.fit(X_train,y_train)"
   ]
  },
  {
   "cell_type": "code",
   "execution_count": 80,
   "metadata": {},
   "outputs": [],
   "source": [
    "# Making predictions\n",
    "predictions = rfc.predict(X_test)"
   ]
  },
  {
   "cell_type": "code",
   "execution_count": 81,
   "metadata": {},
   "outputs": [],
   "source": [
    "# Importing classification report and confusion matrix from sklearn metrics\n",
    "from sklearn.metrics import classification_report,confusion_matrix, accuracy_score"
   ]
  },
  {
   "cell_type": "code",
   "execution_count": 82,
   "metadata": {},
   "outputs": [
    {
     "name": "stdout",
     "output_type": "stream",
     "text": [
      "              precision    recall  f1-score   support\n",
      "\n",
      "           0       0.83      0.94      0.88      7060\n",
      "           1       0.60      0.31      0.41      1940\n",
      "\n",
      "   micro avg       0.81      0.81      0.81      9000\n",
      "   macro avg       0.72      0.63      0.65      9000\n",
      "weighted avg       0.78      0.81      0.78      9000\n",
      "\n"
     ]
    }
   ],
   "source": [
    "# Let's check the report of our default model\n",
    "print(classification_report(y_test,predictions))"
   ]
  },
  {
   "cell_type": "code",
   "execution_count": 83,
   "metadata": {},
   "outputs": [
    {
     "name": "stdout",
     "output_type": "stream",
     "text": [
      "[[6666  394]\n",
      " [1342  598]]\n"
     ]
    }
   ],
   "source": [
    "# Printing confusion matrix\n",
    "print(confusion_matrix(y_test,predictions))"
   ]
  },
  {
   "cell_type": "code",
   "execution_count": 84,
   "metadata": {},
   "outputs": [
    {
     "name": "stdout",
     "output_type": "stream",
     "text": [
      "0.8071111111111111\n"
     ]
    }
   ],
   "source": [
    "print(accuracy_score(y_test,predictions))"
   ]
  },
  {
   "cell_type": "markdown",
   "metadata": {},
   "source": [
    "## Hyper Parameter Tuning:"
   ]
  },
  {
   "cell_type": "code",
   "execution_count": 88,
   "metadata": {},
   "outputs": [],
   "source": [
    "# Create the parameter grid based on the results of random search \n",
    "param_grid = {\n",
    "    'max_depth': [4,8,10],\n",
    "    'min_samples_leaf': range(100, 400, 200),\n",
    "    'min_samples_split': range(200, 500, 200),\n",
    "    'n_estimators': [100,200, 300], \n",
    "    'max_features': [5, 10]\n",
    "}\n",
    "# Create a based model\n",
    "rf = RandomForestClassifier()\n",
    "# Instantiate the grid search model\n",
    "grid_search = GridSearchCV(estimator = rf, param_grid = param_grid, \n",
    "                          cv = 3, n_jobs = -1,verbose = 1)"
   ]
  },
  {
   "cell_type": "code",
   "execution_count": 89,
   "metadata": {},
   "outputs": [
    {
     "name": "stdout",
     "output_type": "stream",
     "text": [
      "Fitting 3 folds for each of 72 candidates, totalling 216 fits\n"
     ]
    },
    {
     "name": "stderr",
     "output_type": "stream",
     "text": [
      "[Parallel(n_jobs=-1)]: Using backend LokyBackend with 4 concurrent workers.\n",
      "[Parallel(n_jobs=-1)]: Done  42 tasks      | elapsed:  1.7min\n",
      "[Parallel(n_jobs=-1)]: Done 192 tasks      | elapsed: 14.8min\n",
      "[Parallel(n_jobs=-1)]: Done 216 out of 216 | elapsed: 18.1min finished\n"
     ]
    },
    {
     "data": {
      "text/plain": [
       "GridSearchCV(cv=3, error_score='raise-deprecating',\n",
       "       estimator=RandomForestClassifier(bootstrap=True, class_weight=None, criterion='gini',\n",
       "            max_depth=None, max_features='auto', max_leaf_nodes=None,\n",
       "            min_impurity_decrease=0.0, min_impurity_split=None,\n",
       "            min_samples_leaf=1, min_samples_split=2,\n",
       "            min_weight_fraction_leaf=0.0, n_estimators='warn', n_jobs=None,\n",
       "            oob_score=False, random_state=None, verbose=0,\n",
       "            warm_start=False),\n",
       "       fit_params=None, iid='warn', n_jobs=-1,\n",
       "       param_grid={'max_depth': [4, 8, 10], 'min_samples_leaf': range(100, 400, 200), 'min_samples_split': range(200, 500, 200), 'n_estimators': [100, 200, 300], 'max_features': [5, 10]},\n",
       "       pre_dispatch='2*n_jobs', refit=True, return_train_score='warn',\n",
       "       scoring=None, verbose=1)"
      ]
     },
     "execution_count": 89,
     "metadata": {},
     "output_type": "execute_result"
    }
   ],
   "source": [
    "# Fit the grid search to the data\n",
    "grid_search.fit(X_train, y_train)"
   ]
  },
  {
   "cell_type": "code",
   "execution_count": 90,
   "metadata": {},
   "outputs": [
    {
     "name": "stdout",
     "output_type": "stream",
     "text": [
      "We can get accuracy of 0.8191428571428572 using {'max_depth': 4, 'max_features': 10, 'min_samples_leaf': 300, 'min_samples_split': 200, 'n_estimators': 100}\n"
     ]
    }
   ],
   "source": [
    "# printing the optimal accuracy score and hyperparameters\n",
    "print('We can get accuracy of',grid_search.best_score_,'using',grid_search.best_params_)"
   ]
  },
  {
   "cell_type": "markdown",
   "metadata": {},
   "source": [
    "### Fitting the final model with the best parameters obtained from grid search."
   ]
  },
  {
   "cell_type": "code",
   "execution_count": 91,
   "metadata": {},
   "outputs": [],
   "source": [
    "# model with the best hyperparameters\n",
    "from sklearn.ensemble import RandomForestClassifier\n",
    "rfc = RandomForestClassifier(bootstrap=True,\n",
    "                             max_depth=4,\n",
    "                             min_samples_leaf=300, \n",
    "                             min_samples_split=200,\n",
    "                             max_features=10,\n",
    "                             n_estimators=100)"
   ]
  },
  {
   "cell_type": "code",
   "execution_count": 92,
   "metadata": {},
   "outputs": [
    {
     "data": {
      "text/plain": [
       "RandomForestClassifier(bootstrap=True, class_weight=None, criterion='gini',\n",
       "            max_depth=4, max_features=10, max_leaf_nodes=None,\n",
       "            min_impurity_decrease=0.0, min_impurity_split=None,\n",
       "            min_samples_leaf=300, min_samples_split=200,\n",
       "            min_weight_fraction_leaf=0.0, n_estimators=100, n_jobs=None,\n",
       "            oob_score=False, random_state=None, verbose=0,\n",
       "            warm_start=False)"
      ]
     },
     "execution_count": 92,
     "metadata": {},
     "output_type": "execute_result"
    }
   ],
   "source": [
    "# fit\n",
    "rfc.fit(X_train,y_train)"
   ]
  },
  {
   "cell_type": "code",
   "execution_count": 93,
   "metadata": {},
   "outputs": [],
   "source": [
    "# predict\n",
    "predictions = rfc.predict(X_test)"
   ]
  },
  {
   "cell_type": "code",
   "execution_count": 94,
   "metadata": {},
   "outputs": [
    {
     "name": "stdout",
     "output_type": "stream",
     "text": [
      "              precision    recall  f1-score   support\n",
      "\n",
      "           0       0.84      0.95      0.89      7060\n",
      "           1       0.67      0.36      0.47      1940\n",
      "\n",
      "   micro avg       0.82      0.82      0.82      9000\n",
      "   macro avg       0.76      0.66      0.68      9000\n",
      "weighted avg       0.81      0.82      0.80      9000\n",
      "\n"
     ]
    }
   ],
   "source": [
    "print(classification_report(y_test,predictions))"
   ]
  },
  {
   "cell_type": "code",
   "execution_count": 95,
   "metadata": {},
   "outputs": [
    {
     "name": "stdout",
     "output_type": "stream",
     "text": [
      "[[6712  348]\n",
      " [1234  706]]\n"
     ]
    }
   ],
   "source": [
    "print(confusion_matrix(y_test,predictions))"
   ]
  },
  {
   "cell_type": "code",
   "execution_count": 96,
   "metadata": {},
   "outputs": [
    {
     "name": "stdout",
     "output_type": "stream",
     "text": [
      "Accuracy Score  is: 0.8242222222222222\n"
     ]
    }
   ],
   "source": [
    "print('Accuracy Score  is:',accuracy_score(y_test,predictions))"
   ]
  },
  {
   "cell_type": "markdown",
   "metadata": {},
   "source": [
    "# 11. Output"
   ]
  },
  {
   "cell_type": "markdown",
   "metadata": {},
   "source": [
    "### Accuracy scores with Default Values:"
   ]
  },
  {
   "cell_type": "code",
   "execution_count": 97,
   "metadata": {},
   "outputs": [],
   "source": [
    "Accuracy_Score_default = pd.DataFrame({'Models':['Logistic','KNN','Random Forest'],'Accuracy score':[81.57,79.07,80.71]})"
   ]
  },
  {
   "cell_type": "code",
   "execution_count": 99,
   "metadata": {},
   "outputs": [
    {
     "name": "stdout",
     "output_type": "stream",
     "text": [
      "The Accuracy Scores with Default Values are:\n"
     ]
    },
    {
     "data": {
      "text/html": [
       "<div>\n",
       "<style scoped>\n",
       "    .dataframe tbody tr th:only-of-type {\n",
       "        vertical-align: middle;\n",
       "    }\n",
       "\n",
       "    .dataframe tbody tr th {\n",
       "        vertical-align: top;\n",
       "    }\n",
       "\n",
       "    .dataframe thead th {\n",
       "        text-align: right;\n",
       "    }\n",
       "</style>\n",
       "<table border=\"1\" class=\"dataframe\">\n",
       "  <thead>\n",
       "    <tr style=\"text-align: right;\">\n",
       "      <th></th>\n",
       "      <th>Models</th>\n",
       "      <th>Accuracy score</th>\n",
       "    </tr>\n",
       "  </thead>\n",
       "  <tbody>\n",
       "    <tr>\n",
       "      <th>0</th>\n",
       "      <td>Logistic</td>\n",
       "      <td>81.57</td>\n",
       "    </tr>\n",
       "    <tr>\n",
       "      <th>1</th>\n",
       "      <td>KNN</td>\n",
       "      <td>79.07</td>\n",
       "    </tr>\n",
       "    <tr>\n",
       "      <th>2</th>\n",
       "      <td>Random Forest</td>\n",
       "      <td>80.71</td>\n",
       "    </tr>\n",
       "  </tbody>\n",
       "</table>\n",
       "</div>"
      ],
      "text/plain": [
       "          Models  Accuracy score\n",
       "0       Logistic           81.57\n",
       "1            KNN           79.07\n",
       "2  Random Forest           80.71"
      ]
     },
     "execution_count": 99,
     "metadata": {},
     "output_type": "execute_result"
    }
   ],
   "source": [
    "print('The Accuracy Scores with Default Values are:')\n",
    "Accuracy_Score_default"
   ]
  },
  {
   "cell_type": "markdown",
   "metadata": {},
   "source": [
    "### Accuracy Scores with Hyperparameter Tunning:"
   ]
  },
  {
   "cell_type": "code",
   "execution_count": 100,
   "metadata": {},
   "outputs": [],
   "source": [
    "Accuracy_Score_tunned = pd.DataFrame({'Models':['Logistic','KNN','Random Forest'],'Accuracy score':[80.7,81.07,82.42]})"
   ]
  },
  {
   "cell_type": "code",
   "execution_count": 101,
   "metadata": {},
   "outputs": [
    {
     "name": "stdout",
     "output_type": "stream",
     "text": [
      "The Accuracy Scores after HyperParameter Tunning are:\n"
     ]
    },
    {
     "data": {
      "text/html": [
       "<div>\n",
       "<style scoped>\n",
       "    .dataframe tbody tr th:only-of-type {\n",
       "        vertical-align: middle;\n",
       "    }\n",
       "\n",
       "    .dataframe tbody tr th {\n",
       "        vertical-align: top;\n",
       "    }\n",
       "\n",
       "    .dataframe thead th {\n",
       "        text-align: right;\n",
       "    }\n",
       "</style>\n",
       "<table border=\"1\" class=\"dataframe\">\n",
       "  <thead>\n",
       "    <tr style=\"text-align: right;\">\n",
       "      <th></th>\n",
       "      <th>Models</th>\n",
       "      <th>Accuracy score</th>\n",
       "    </tr>\n",
       "  </thead>\n",
       "  <tbody>\n",
       "    <tr>\n",
       "      <th>0</th>\n",
       "      <td>Logistic</td>\n",
       "      <td>80.70</td>\n",
       "    </tr>\n",
       "    <tr>\n",
       "      <th>1</th>\n",
       "      <td>KNN</td>\n",
       "      <td>81.07</td>\n",
       "    </tr>\n",
       "    <tr>\n",
       "      <th>2</th>\n",
       "      <td>Random Forest</td>\n",
       "      <td>82.42</td>\n",
       "    </tr>\n",
       "  </tbody>\n",
       "</table>\n",
       "</div>"
      ],
      "text/plain": [
       "          Models  Accuracy score\n",
       "0       Logistic           80.70\n",
       "1            KNN           81.07\n",
       "2  Random Forest           82.42"
      ]
     },
     "execution_count": 101,
     "metadata": {},
     "output_type": "execute_result"
    }
   ],
   "source": [
    "print('The Accuracy Scores after HyperParameter Tunning are:')\n",
    "Accuracy_Score_tunned"
   ]
  },
  {
   "cell_type": "markdown",
   "metadata": {},
   "source": [
    "# Inference:"
   ]
  },
  {
   "cell_type": "markdown",
   "metadata": {},
   "source": [
    "#### 1. There were no Null values in the dataset.\n",
    "#### 2. There were some outliers in the Age feature, but they can be kept untreated as those were valid age to be the credit card holder.\n",
    "#### 3. We did some unvariate and bivariate analysis to know which category of people holding education degree as well as marriage are most prone to hold the credit card, as well as prone to hold the be dafaulter.\n",
    "#### 4. We derived new features using the given features and droped those features.\n",
    "#### 5. After the completion of EDA we splited the data and did scaling using standard scaler.\n",
    "#### 6. We fitted the scaled data with 3 classificaton models. i.e.:Logistic,KNN and Random Forest.\n",
    "#### 7. when we fit the model with Default parametrs , We found that Logistic gave us good accuracy, presion and Recall.\n",
    "#### 8. when we fit the model tunning the hyper parametrs , We found that Random Forest gave us good accuracy, presion and Recall.\n",
    "\n",
    "\n",
    "#### -------------------------------------------------------------------------THANK    YOU -------------------------------------------------------------------------------------------"
   ]
  },
  {
   "cell_type": "code",
   "execution_count": null,
   "metadata": {},
   "outputs": [],
   "source": []
  }
 ],
 "metadata": {
  "kernelspec": {
   "display_name": "Python 3",
   "language": "python",
   "name": "python3"
  },
  "language_info": {
   "codemirror_mode": {
    "name": "ipython",
    "version": 3
   },
   "file_extension": ".py",
   "mimetype": "text/x-python",
   "name": "python",
   "nbconvert_exporter": "python",
   "pygments_lexer": "ipython3",
   "version": "3.7.3"
  }
 },
 "nbformat": 4,
 "nbformat_minor": 2
}
