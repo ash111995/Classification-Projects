{
 "cells": [
  {
   "cell_type": "raw",
   "metadata": {},
   "source": [
    "The entire world is transforming digitally and our relationship with technology has grown exponentially over the last few years. We have grown closer to technology, and it has made our life a lot easier by saving time and effort. Today everything is accessible with smartphones — from groceries to cooked food and from medicines to doctors. In this hackathon, we provide you with data that is a by-product as well as a thriving proof of this growing relationship. \n",
    "\n",
    "When was the last time you ordered food online? And how long did it take to reach you?\n",
    "\n",
    "In this hackathon, we are providing you with data from thousands of restaurants in India regarding the time they take to deliver food for online order. As data scientists, your goal is to predict the online order delivery time based on the given factors.\n",
    "\n",
    "Analytics India Magazine and IMS Proschool bring to you ‘Predicting Predicting Food Delivery Time Hackathon’.\n",
    "\n",
    "Size of training set: 11,094 records\n",
    "\n",
    "Size of test set: 2,774 records\n",
    "\n",
    "FEATURES:\n",
    "\n",
    "Restaurant: A unique ID that represents a restaurant.\n",
    "Location: The location of the restaurant.\n",
    "Cuisines: The cuisines offered by the restaurant.\n",
    "Average_Cost: The average cost for one person/order.\n",
    "Minimum_Order: The minimum order amount.\n",
    "Rating: Customer rating for the restaurant.\n",
    "Votes: The total number of customer votes for the restaurant.\n",
    "Reviews: The number of customer reviews for the restaurant.\n",
    "Delivery_Time: The order delivery time of the restaurant. (Target Classes) "
   ]
  },
  {
   "cell_type": "code",
   "execution_count": 1,
   "metadata": {},
   "outputs": [],
   "source": [
    "import pandas as pd\n",
    "import numpy as np\n",
    "import scipy.stats as st\n",
    "import seaborn as sns\n",
    "import matplotlib.pyplot as plt\n",
    "from pyforest import *"
   ]
  },
  {
   "cell_type": "code",
   "execution_count": 2,
   "metadata": {},
   "outputs": [],
   "source": [
    "train=pd.read_excel(\"Data_Train.xlsx\")"
   ]
  },
  {
   "cell_type": "code",
   "execution_count": 3,
   "metadata": {},
   "outputs": [],
   "source": [
    "test=pd.read_excel(\"Data_Test.xlsx\")"
   ]
  },
  {
   "cell_type": "code",
   "execution_count": 4,
   "metadata": {},
   "outputs": [
    {
     "data": {
      "text/html": [
       "<div>\n",
       "<style scoped>\n",
       "    .dataframe tbody tr th:only-of-type {\n",
       "        vertical-align: middle;\n",
       "    }\n",
       "\n",
       "    .dataframe tbody tr th {\n",
       "        vertical-align: top;\n",
       "    }\n",
       "\n",
       "    .dataframe thead th {\n",
       "        text-align: right;\n",
       "    }\n",
       "</style>\n",
       "<table border=\"1\" class=\"dataframe\">\n",
       "  <thead>\n",
       "    <tr style=\"text-align: right;\">\n",
       "      <th></th>\n",
       "      <th>Restaurant</th>\n",
       "      <th>Location</th>\n",
       "      <th>Cuisines</th>\n",
       "      <th>Average_Cost</th>\n",
       "      <th>Minimum_Order</th>\n",
       "      <th>Rating</th>\n",
       "      <th>Votes</th>\n",
       "      <th>Reviews</th>\n",
       "      <th>Delivery_Time</th>\n",
       "    </tr>\n",
       "  </thead>\n",
       "  <tbody>\n",
       "    <tr>\n",
       "      <th>0</th>\n",
       "      <td>ID_6321</td>\n",
       "      <td>FTI College, Law College Road, Pune</td>\n",
       "      <td>Fast Food, Rolls, Burger, Salad, Wraps</td>\n",
       "      <td>₹200</td>\n",
       "      <td>₹50</td>\n",
       "      <td>3.5</td>\n",
       "      <td>12</td>\n",
       "      <td>4</td>\n",
       "      <td>30 minutes</td>\n",
       "    </tr>\n",
       "    <tr>\n",
       "      <th>1</th>\n",
       "      <td>ID_2882</td>\n",
       "      <td>Sector 3, Marathalli</td>\n",
       "      <td>Ice Cream, Desserts</td>\n",
       "      <td>₹100</td>\n",
       "      <td>₹50</td>\n",
       "      <td>3.5</td>\n",
       "      <td>11</td>\n",
       "      <td>4</td>\n",
       "      <td>30 minutes</td>\n",
       "    </tr>\n",
       "  </tbody>\n",
       "</table>\n",
       "</div>"
      ],
      "text/plain": [
       "  Restaurant                             Location  \\\n",
       "0    ID_6321  FTI College, Law College Road, Pune   \n",
       "1    ID_2882                 Sector 3, Marathalli   \n",
       "\n",
       "                                 Cuisines Average_Cost Minimum_Order Rating  \\\n",
       "0  Fast Food, Rolls, Burger, Salad, Wraps         ₹200           ₹50    3.5   \n",
       "1                     Ice Cream, Desserts         ₹100           ₹50    3.5   \n",
       "\n",
       "  Votes Reviews Delivery_Time  \n",
       "0    12       4    30 minutes  \n",
       "1    11       4    30 minutes  "
      ]
     },
     "execution_count": 4,
     "metadata": {},
     "output_type": "execute_result"
    }
   ],
   "source": [
    "train.head(2)"
   ]
  },
  {
   "cell_type": "code",
   "execution_count": 5,
   "metadata": {},
   "outputs": [
    {
     "data": {
      "text/html": [
       "<div>\n",
       "<style scoped>\n",
       "    .dataframe tbody tr th:only-of-type {\n",
       "        vertical-align: middle;\n",
       "    }\n",
       "\n",
       "    .dataframe tbody tr th {\n",
       "        vertical-align: top;\n",
       "    }\n",
       "\n",
       "    .dataframe thead th {\n",
       "        text-align: right;\n",
       "    }\n",
       "</style>\n",
       "<table border=\"1\" class=\"dataframe\">\n",
       "  <thead>\n",
       "    <tr style=\"text-align: right;\">\n",
       "      <th></th>\n",
       "      <th>Restaurant</th>\n",
       "      <th>Location</th>\n",
       "      <th>Cuisines</th>\n",
       "      <th>Average_Cost</th>\n",
       "      <th>Minimum_Order</th>\n",
       "      <th>Rating</th>\n",
       "      <th>Votes</th>\n",
       "      <th>Reviews</th>\n",
       "    </tr>\n",
       "  </thead>\n",
       "  <tbody>\n",
       "    <tr>\n",
       "      <th>0</th>\n",
       "      <td>ID_2842</td>\n",
       "      <td>Mico Layout, Stage 2, BTM Layout,Bangalore</td>\n",
       "      <td>North Indian, Chinese, Assamese</td>\n",
       "      <td>₹350</td>\n",
       "      <td>₹50</td>\n",
       "      <td>4.2</td>\n",
       "      <td>361</td>\n",
       "      <td>225</td>\n",
       "    </tr>\n",
       "    <tr>\n",
       "      <th>1</th>\n",
       "      <td>ID_730</td>\n",
       "      <td>Mico Layout, Stage 2, BTM Layout,Bangalore</td>\n",
       "      <td>Biryani, Kebab</td>\n",
       "      <td>₹100</td>\n",
       "      <td>₹50</td>\n",
       "      <td>NEW</td>\n",
       "      <td>-</td>\n",
       "      <td>-</td>\n",
       "    </tr>\n",
       "  </tbody>\n",
       "</table>\n",
       "</div>"
      ],
      "text/plain": [
       "  Restaurant                                    Location  \\\n",
       "0    ID_2842  Mico Layout, Stage 2, BTM Layout,Bangalore   \n",
       "1     ID_730  Mico Layout, Stage 2, BTM Layout,Bangalore   \n",
       "\n",
       "                          Cuisines Average_Cost Minimum_Order Rating Votes  \\\n",
       "0  North Indian, Chinese, Assamese         ₹350           ₹50    4.2   361   \n",
       "1                   Biryani, Kebab         ₹100           ₹50    NEW     -   \n",
       "\n",
       "  Reviews  \n",
       "0     225  \n",
       "1       -  "
      ]
     },
     "execution_count": 5,
     "metadata": {},
     "output_type": "execute_result"
    }
   ],
   "source": [
    "test.head(2)"
   ]
  },
  {
   "cell_type": "code",
   "execution_count": 6,
   "metadata": {},
   "outputs": [
    {
     "data": {
      "text/plain": [
       "(11094, 9)"
      ]
     },
     "execution_count": 6,
     "metadata": {},
     "output_type": "execute_result"
    }
   ],
   "source": [
    "train.shape"
   ]
  },
  {
   "cell_type": "code",
   "execution_count": 7,
   "metadata": {},
   "outputs": [
    {
     "name": "stdout",
     "output_type": "stream",
     "text": [
      "<class 'pandas.core.frame.DataFrame'>\n",
      "RangeIndex: 11094 entries, 0 to 11093\n",
      "Data columns (total 9 columns):\n",
      "Restaurant       11094 non-null object\n",
      "Location         11094 non-null object\n",
      "Cuisines         11094 non-null object\n",
      "Average_Cost     11094 non-null object\n",
      "Minimum_Order    11094 non-null object\n",
      "Rating           11094 non-null object\n",
      "Votes            11094 non-null object\n",
      "Reviews          11094 non-null object\n",
      "Delivery_Time    11094 non-null object\n",
      "dtypes: object(9)\n",
      "memory usage: 390.1+ KB\n"
     ]
    }
   ],
   "source": [
    "train.info()"
   ]
  },
  {
   "cell_type": "code",
   "execution_count": 8,
   "metadata": {},
   "outputs": [
    {
     "data": {
      "text/plain": [
       "(2774, 8)"
      ]
     },
     "execution_count": 8,
     "metadata": {},
     "output_type": "execute_result"
    }
   ],
   "source": [
    "test.shape"
   ]
  },
  {
   "cell_type": "markdown",
   "metadata": {},
   "source": [
    "#observation\n",
    "1.location and cuisines need cleaning\n",
    "\n",
    "2.Remove the rupee symbol from avg cost and min cost\n",
    "\n",
    "3.check the rating and revievs .There is relation between rating,votes and reviews\n",
    "\n",
    "4.target variable has minutes in it so it has became categorical"
   ]
  },
  {
   "cell_type": "markdown",
   "metadata": {},
   "source": [
    "# Univariate Analysis"
   ]
  },
  {
   "cell_type": "code",
   "execution_count": 9,
   "metadata": {},
   "outputs": [],
   "source": [
    "#combine the Datasets\n",
    "combined=pd.concat([train,test],sort= False,ignore_index=True)"
   ]
  },
  {
   "cell_type": "code",
   "execution_count": 10,
   "metadata": {},
   "outputs": [
    {
     "data": {
      "text/html": [
       "<div>\n",
       "<style scoped>\n",
       "    .dataframe tbody tr th:only-of-type {\n",
       "        vertical-align: middle;\n",
       "    }\n",
       "\n",
       "    .dataframe tbody tr th {\n",
       "        vertical-align: top;\n",
       "    }\n",
       "\n",
       "    .dataframe thead th {\n",
       "        text-align: right;\n",
       "    }\n",
       "</style>\n",
       "<table border=\"1\" class=\"dataframe\">\n",
       "  <thead>\n",
       "    <tr style=\"text-align: right;\">\n",
       "      <th></th>\n",
       "      <th>Restaurant</th>\n",
       "      <th>Location</th>\n",
       "      <th>Cuisines</th>\n",
       "      <th>Average_Cost</th>\n",
       "      <th>Minimum_Order</th>\n",
       "      <th>Rating</th>\n",
       "      <th>Votes</th>\n",
       "      <th>Reviews</th>\n",
       "      <th>Delivery_Time</th>\n",
       "    </tr>\n",
       "  </thead>\n",
       "  <tbody>\n",
       "    <tr>\n",
       "      <th>0</th>\n",
       "      <td>ID_6321</td>\n",
       "      <td>FTI College, Law College Road, Pune</td>\n",
       "      <td>Fast Food, Rolls, Burger, Salad, Wraps</td>\n",
       "      <td>₹200</td>\n",
       "      <td>₹50</td>\n",
       "      <td>3.5</td>\n",
       "      <td>12</td>\n",
       "      <td>4</td>\n",
       "      <td>30 minutes</td>\n",
       "    </tr>\n",
       "    <tr>\n",
       "      <th>1</th>\n",
       "      <td>ID_2882</td>\n",
       "      <td>Sector 3, Marathalli</td>\n",
       "      <td>Ice Cream, Desserts</td>\n",
       "      <td>₹100</td>\n",
       "      <td>₹50</td>\n",
       "      <td>3.5</td>\n",
       "      <td>11</td>\n",
       "      <td>4</td>\n",
       "      <td>30 minutes</td>\n",
       "    </tr>\n",
       "    <tr>\n",
       "      <th>2</th>\n",
       "      <td>ID_1595</td>\n",
       "      <td>Mumbai Central</td>\n",
       "      <td>Italian, Street Food, Fast Food</td>\n",
       "      <td>₹150</td>\n",
       "      <td>₹50</td>\n",
       "      <td>3.6</td>\n",
       "      <td>99</td>\n",
       "      <td>30</td>\n",
       "      <td>65 minutes</td>\n",
       "    </tr>\n",
       "    <tr>\n",
       "      <th>3</th>\n",
       "      <td>ID_5929</td>\n",
       "      <td>Sector 1, Noida</td>\n",
       "      <td>Mughlai, North Indian, Chinese</td>\n",
       "      <td>₹250</td>\n",
       "      <td>₹99</td>\n",
       "      <td>3.7</td>\n",
       "      <td>176</td>\n",
       "      <td>95</td>\n",
       "      <td>30 minutes</td>\n",
       "    </tr>\n",
       "    <tr>\n",
       "      <th>4</th>\n",
       "      <td>ID_6123</td>\n",
       "      <td>Rmz Centennial, I Gate, Whitefield</td>\n",
       "      <td>Cafe, Beverages</td>\n",
       "      <td>₹200</td>\n",
       "      <td>₹99</td>\n",
       "      <td>3.2</td>\n",
       "      <td>521</td>\n",
       "      <td>235</td>\n",
       "      <td>65 minutes</td>\n",
       "    </tr>\n",
       "  </tbody>\n",
       "</table>\n",
       "</div>"
      ],
      "text/plain": [
       "  Restaurant                             Location  \\\n",
       "0    ID_6321  FTI College, Law College Road, Pune   \n",
       "1    ID_2882                 Sector 3, Marathalli   \n",
       "2    ID_1595                       Mumbai Central   \n",
       "3    ID_5929                      Sector 1, Noida   \n",
       "4    ID_6123   Rmz Centennial, I Gate, Whitefield   \n",
       "\n",
       "                                 Cuisines Average_Cost Minimum_Order Rating  \\\n",
       "0  Fast Food, Rolls, Burger, Salad, Wraps         ₹200           ₹50    3.5   \n",
       "1                     Ice Cream, Desserts         ₹100           ₹50    3.5   \n",
       "2         Italian, Street Food, Fast Food         ₹150           ₹50    3.6   \n",
       "3          Mughlai, North Indian, Chinese         ₹250           ₹99    3.7   \n",
       "4                         Cafe, Beverages         ₹200           ₹99    3.2   \n",
       "\n",
       "  Votes Reviews Delivery_Time  \n",
       "0    12       4    30 minutes  \n",
       "1    11       4    30 minutes  \n",
       "2    99      30    65 minutes  \n",
       "3   176      95    30 minutes  \n",
       "4   521     235    65 minutes  "
      ]
     },
     "execution_count": 10,
     "metadata": {},
     "output_type": "execute_result"
    }
   ],
   "source": [
    "combined.head()"
   ]
  },
  {
   "cell_type": "code",
   "execution_count": 11,
   "metadata": {},
   "outputs": [
    {
     "data": {
      "text/plain": [
       "30 minutes     7406\n",
       "45 minutes     2665\n",
       "65 minutes      923\n",
       "120 minutes      62\n",
       "20 minutes       20\n",
       "80 minutes       14\n",
       "10 minutes        4\n",
       "Name: Delivery_Time, dtype: int64"
      ]
     },
     "execution_count": 11,
     "metadata": {},
     "output_type": "execute_result"
    }
   ],
   "source": [
    "#1.Delivery Time\n",
    "#encoder(number transformer)\n",
    "#labelencoder(one-column),dont use OHE\n",
    "combined.Delivery_Time.value_counts()"
   ]
  },
  {
   "cell_type": "code",
   "execution_count": 12,
   "metadata": {},
   "outputs": [
    {
     "data": {
      "text/plain": [
       "<matplotlib.axes._subplots.AxesSubplot at 0xacbb2d0>"
      ]
     },
     "execution_count": 12,
     "metadata": {},
     "output_type": "execute_result"
    },
    {
     "data": {
      "image/png": "[encoded data removed]",
      "text/plain": [
       "<Figure size 432x288 with 1 Axes>"
      ]
     },
     "metadata": {
      "needs_background": "light"
     },
     "output_type": "display_data"
    }
   ],
   "source": [
    "combined.Delivery_Time.value_counts().plot(kind = \"bar\")"
   ]
  },
  {
   "cell_type": "code",
   "execution_count": 13,
   "metadata": {},
   "outputs": [
    {
     "data": {
      "text/plain": [
       "Index(['Restaurant', 'Location', 'Cuisines', 'Average_Cost', 'Minimum_Order',\n",
       "       'Rating', 'Votes', 'Reviews', 'Delivery_Time'],\n",
       "      dtype='object')"
      ]
     },
     "execution_count": 13,
     "metadata": {},
     "output_type": "execute_result"
    }
   ],
   "source": [
    "combined.columns"
   ]
  },
  {
   "cell_type": "code",
   "execution_count": 14,
   "metadata": {},
   "outputs": [
    {
     "data": {
      "text/plain": [
       "array(['4', '30', '95', '235', '18', '31', '1235', '26', '294', '61',\n",
       "       '1239', '-', '128', '5', '53', '47', '46', '23', '160', '2', '1',\n",
       "       '38', '9', '19', '7', '132', '74', '13', '111', '499', '29', '34',\n",
       "       '851', '513', '22', '27', '32', '25', '37', '8', '35', '6', '173',\n",
       "       '36', '15', '174', '11', '59', '16', '89', '170', '10', '1660',\n",
       "       '71', '41', '20', '40', '3', '191', '105', '100', '106', '21',\n",
       "       '65', '69', '2547', '159', '110', '42', '181', '109', '179', '490',\n",
       "       '28', '343', '118', '690', '72', '296', '33', '164', '50', '129',\n",
       "       '1581', '234', '45', '2363', '24', '115', '12', '138', '175', '39',\n",
       "       '66', '1603', '1443', '390', '108', '1457', '112', '107', '259',\n",
       "       '269', '52', '196', '794', '589', '48', '145', '536', '247', '17',\n",
       "       '49', '245', '87', '83', '54', '453', '318', '99', '205', '165',\n",
       "       '1845', '766', '114', '44', '51', '104', '478', '70', '232', '435',\n",
       "       '14', '659', '554', '399', '77', '88', '503', '55', '57', '855',\n",
       "       '301', '305', '94', '336', '307', '1369', '76', '124', '1131',\n",
       "       '155', '90', '366', '256', '739', '64', '351', '141', '169', '121',\n",
       "       '240', '556', '220', '502', '80', '176', '691', '102', '621',\n",
       "       '310', '391', '142', '721', '56', '189', '139', '1062', '97',\n",
       "       '741', '565', '972', '98', '187', '314', '60', '136', '214', '167',\n",
       "       '123', '67', '572', '171', '183', '84', '252', '120', '119', '758',\n",
       "       '258', '199', '287', '62', '579', '455', '131', '845', '127',\n",
       "       '906', '1948', '465', '143', '1673', '1174', '484', '152', '248',\n",
       "       '236', '204', '85', '207', '609', '231', '1150', '671', '322',\n",
       "       '1095', '233', '43', '668', '257', '158', '372', '285', '215',\n",
       "       '950', '357', '193', '260', '899', '126', '335', '1415', '249',\n",
       "       '243', '254', '241', '268', '116', '547', '58', '63', '1276',\n",
       "       '941', '81', '188', '849', '79', '696', '317', '400', '148', '86',\n",
       "       '168', '101', '153', '1356', '78', '242', '728', '6504', '860',\n",
       "       '226', '230', '206', '1260', '320', '184', '986', '560', '172',\n",
       "       '68', '96', '751', '545', '202', '3989', '423', '137', '432',\n",
       "       '539', '675', '278', '574', '177', '113', '410', '360', '405',\n",
       "       '2359', '938', '117', '1133', '819', '1211', '224', '91', '426',\n",
       "       '358', '362', '892', '208', '581', '652', '1962', '981', '125',\n",
       "       '325', '210', '147', '925', '437', '593', '251', '292', '238',\n",
       "       '73', '225', '387', '681', '965', '133', '370', '450', '163',\n",
       "       '154', '382', '580', '201', '518', '262', '626', '2311', '1336',\n",
       "       '2576', '569', '244', '273', '530', '1631', '459', '304', '157',\n",
       "       '1306', '383', '272', '246', '103', '228', '178', '151', '186',\n",
       "       '472', '135', '1370', '563', '2224', '444', '1138', '650', '192',\n",
       "       '407', '540', '93', '303', '1112', '264', '485', '195', '584',\n",
       "       '341', '977', '2167', '1067', '566', '212', '222', '277', '291',\n",
       "       '306', '647', '424', '421', '461', '237', '600', '582', '2126',\n",
       "       '495', '82', '1617', '2340', '364', '130', '1031', '290', '2640',\n",
       "       '2171', '772', '1875', '1002', '771', '1914', '219', '830', '346',\n",
       "       '250', '282', '328', '527', '75', '1164', '1804', '512', '409',\n",
       "       '369', '255', '319', '525', '923', '276', '406', '211', '140',\n",
       "       '1061', '229', '2490', '997', '633', '144', '926', '464', '1289',\n",
       "       '1200', '352', '497', '265', '299', '1605', '662', '436', '1479',\n",
       "       '736', '809', '209', '805', '122', '353', '3371', '344', '2303',\n",
       "       '323', '185', '1708', '699', '412', '439', '1191', '1961', '548',\n",
       "       '1005', '707', '279', '150', '506', '1589', '388', '134', '538',\n",
       "       '340', '999', '156', '355', '457', '2217', '338', '2212', '887',\n",
       "       '777', '1444', '635', '971', '149', '297', '393', '1165', '397',\n",
       "       '1319', '146', '218', '194', '482', '431', '385', '394', '1818',\n",
       "       '983', '1967', '1501', '1538', '274', '2931', '227', '308', '266',\n",
       "       '342', '815', '544', '500', '434', '1079', '567', '634', '221',\n",
       "       '1091', '2808', '377', '992', '1199', '603', '467', '348', '2036',\n",
       "       '726', '438', '389', '734', '1510', '498', '1971', '197', '463',\n",
       "       '532', '1318', '885', '1046', '1412', '1509', '381', '347', '270',\n",
       "       '2084', '415', '1116', '1084', '1429', '324', '651', '334', '384',\n",
       "       '1093', '897', '1532', '1798', '533', '471', '1159', '253', '667',\n",
       "       '263', '1819', '2454', '1992', '161', '763', '2143', '5558', '553',\n",
       "       '2203', '876', '380', '223', '198', '508', '281', '2649', '571',\n",
       "       '1172', '767', '529', '774', '606', '417', '2724', '182', '872',\n",
       "       '332', '217', '1508', '587', '329', '1616', '293', '190', '2936',\n",
       "       '92', '1130', '991', '719', '312', '333', '2922', '858', '458',\n",
       "       '840', '1213', '1251', '695', '413', '511', '1263', '1877', '1135',\n",
       "       '1246', '280', '823', '848', '895', '474', '371', '937', '519',\n",
       "       '2940', '213', '743', '1317', '2155', '800', '368', '883', '516',\n",
       "       '714', '392', '200', '313', '162', '888', '375', '1464', '682',\n",
       "       '1641', '354', '705', '655', '446', '468', '896', '331', '3337',\n",
       "       '350', '1357', '947', '604', '414', '967', '379', '952', '1979',\n",
       "       '764', '801', '309', '1956', '664', '1252', '1028', '466', '543',\n",
       "       '448', '602', '1148', '514', '748', '2503', '361', '302', '959',\n",
       "       '781', '2567', '510', '1009', '359', '494', '1734', '339', '326',\n",
       "       '625', '1329', '288', '449', '2098', '2031', '561', '316', '321',\n",
       "       '289', '430', '520', '646', '677', '559', '818', '995', '271',\n",
       "       '630', '528', '605', '1224', '704', '577', '475', '456', '1225',\n",
       "       '1161', '419', '3019', '441', '166', '275', '575', '2146', '1073',\n",
       "       '402', '889', '180', '761', '3753', '788', '418', '1787', '875',\n",
       "       '261', '239', '550', '476', '1353', '628', '4966', '710', '737',\n",
       "       '492', '515', '558', '378', '1414', '1890', '477', '1681', '570',\n",
       "       '422', '2483', '549', '404', '627', '295', '752', '283', '1409',\n",
       "       '2174', '1392', '542', '1183', '298', '373', '451', '568', '2540',\n",
       "       '1439', '440', '648', '601', '1085', '541', '429', '922', '894',\n",
       "       '452', '718', '594', '865', '2910', '1313', '203', '311', '900',\n",
       "       '1723', '367', '620', '3718', '376', '637', '1520', '996', '3503',\n",
       "       '1905', '1636', '2421', '828', '1340', '395', '3863', '731'],\n",
       "      dtype=object)"
      ]
     },
     "execution_count": 14,
     "metadata": {},
     "output_type": "execute_result"
    }
   ],
   "source": [
    "combined.Reviews.unique()\n",
    "\n",
    "#review the dash in reviews"
   ]
  },
  {
   "cell_type": "code",
   "execution_count": 15,
   "metadata": {},
   "outputs": [
    {
     "data": {
      "text/plain": [
       "-       2616\n",
       "4        298\n",
       "6        255\n",
       "7        242\n",
       "9        238\n",
       "        ... \n",
       "649        1\n",
       "3386       1\n",
       "514        1\n",
       "1398       1\n",
       "2037       1\n",
       "Name: Votes, Length: 1181, dtype: int64"
      ]
     },
     "execution_count": 15,
     "metadata": {},
     "output_type": "execute_result"
    }
   ],
   "source": [
    "combined.Votes.value_counts()"
   ]
  },
  {
   "cell_type": "code",
   "execution_count": 16,
   "metadata": {},
   "outputs": [
    {
     "data": {
      "text/plain": [
       "array(['3.5', '3.6', '3.7', '3.2', '3.8', '4.0', '3.9', '4.2', '-', '2.8',\n",
       "       '3.0', '3.3', '3.1', '4.7', '3.4', '4.1', 'NEW', '2.9', '4.6',\n",
       "       '4.3', '2.6', '4.5', '4.4', '4.8', '2.4', '2.7', '2.5',\n",
       "       'Opening Soon', '2.2', '4.9', '2.3', '2.1', 'Temporarily Closed'],\n",
       "      dtype=object)"
      ]
     },
     "execution_count": 16,
     "metadata": {},
     "output_type": "execute_result"
    }
   ],
   "source": [
    "combined.Rating.unique()\n",
    "#dash ,string based info such as new,opening soon and temp closed"
   ]
  },
  {
   "cell_type": "code",
   "execution_count": 17,
   "metadata": {},
   "outputs": [
    {
     "data": {
      "text/plain": [
       "array(['₹200', '₹100', '₹150', '₹250', '₹650', '₹350', '₹800', '₹50',\n",
       "       '₹400', '₹600', '₹300', '₹750', '₹450', '₹550', '₹1,000', '₹500',\n",
       "       '₹900', '₹1,200', '₹950', '₹850', '₹700', '₹1,150', 'for',\n",
       "       '₹1,100', '₹1,400', '₹2,050'], dtype=object)"
      ]
     },
     "execution_count": 17,
     "metadata": {},
     "output_type": "execute_result"
    }
   ],
   "source": [
    "combined.Average_Cost.unique()\n",
    "#to deal with symbol ,comma and for "
   ]
  },
  {
   "cell_type": "code",
   "execution_count": 18,
   "metadata": {},
   "outputs": [
    {
     "data": {
      "text/plain": [
       "array(['₹50', '₹99', '₹0', '₹200', '₹450', '₹350', '₹79', '₹400', '₹199',\n",
       "       '₹500', '₹250', '₹150', '₹90', '₹299', '₹300', '₹240', '₹89',\n",
       "       '₹59', '₹149', '₹399'], dtype=object)"
      ]
     },
     "execution_count": 18,
     "metadata": {},
     "output_type": "execute_result"
    }
   ],
   "source": [
    "combined.Minimum_Order.unique()"
   ]
  },
  {
   "cell_type": "code",
   "execution_count": 19,
   "metadata": {},
   "outputs": [
    {
     "data": {
      "text/plain": [
       "'₹50'"
      ]
     },
     "execution_count": 19,
     "metadata": {},
     "output_type": "execute_result"
    }
   ],
   "source": [
    "combined.Minimum_Order[0] #fetch first single value"
   ]
  },
  {
   "cell_type": "code",
   "execution_count": 20,
   "metadata": {},
   "outputs": [
    {
     "data": {
      "text/plain": [
       "50"
      ]
     },
     "execution_count": 20,
     "metadata": {},
     "output_type": "execute_result"
    }
   ],
   "source": [
    "int(combined.Minimum_Order[0].split(\"₹\")[1])"
   ]
  },
  {
   "cell_type": "code",
   "execution_count": 21,
   "metadata": {},
   "outputs": [],
   "source": [
    "mylist=[]\n",
    "for i in combined.Minimum_Order:\n",
    "    mylist.append(int(i.split(\"₹\")[1]))"
   ]
  },
  {
   "cell_type": "code",
   "execution_count": 22,
   "metadata": {},
   "outputs": [],
   "source": [
    "#ADD NEW COLUMN-MIN ORder cleansed\n",
    "combined[\"MinOrder_cleansed\"]=pd.Series(mylist)"
   ]
  },
  {
   "cell_type": "code",
   "execution_count": 23,
   "metadata": {},
   "outputs": [
    {
     "data": {
      "text/plain": [
       "'₹200'"
      ]
     },
     "execution_count": 23,
     "metadata": {},
     "output_type": "execute_result"
    }
   ],
   "source": [
    "combined.Average_Cost[0]"
   ]
  },
  {
   "cell_type": "code",
   "execution_count": 24,
   "metadata": {},
   "outputs": [],
   "source": [
    "a='₹2,050'.split(\"₹\")[1]"
   ]
  },
  {
   "cell_type": "code",
   "execution_count": 25,
   "metadata": {},
   "outputs": [
    {
     "data": {
      "text/plain": [
       "'2,050'"
      ]
     },
     "execution_count": 25,
     "metadata": {},
     "output_type": "execute_result"
    }
   ],
   "source": [
    "a"
   ]
  },
  {
   "cell_type": "code",
   "execution_count": 26,
   "metadata": {},
   "outputs": [
    {
     "data": {
      "text/plain": [
       "2050"
      ]
     },
     "execution_count": 26,
     "metadata": {},
     "output_type": "execute_result"
    }
   ],
   "source": [
    "int(a.replace(\",\", \"\"))"
   ]
  },
  {
   "cell_type": "code",
   "execution_count": 27,
   "metadata": {},
   "outputs": [
    {
     "data": {
      "text/plain": [
       "2050"
      ]
     },
     "execution_count": 27,
     "metadata": {},
     "output_type": "execute_result"
    }
   ],
   "source": [
    "int('₹2,050'.split(\"₹\")[1].replace(\",\", \"\"))"
   ]
  },
  {
   "cell_type": "code",
   "execution_count": 28,
   "metadata": {},
   "outputs": [
    {
     "data": {
      "text/html": [
       "<div>\n",
       "<style scoped>\n",
       "    .dataframe tbody tr th:only-of-type {\n",
       "        vertical-align: middle;\n",
       "    }\n",
       "\n",
       "    .dataframe tbody tr th {\n",
       "        vertical-align: top;\n",
       "    }\n",
       "\n",
       "    .dataframe thead th {\n",
       "        text-align: right;\n",
       "    }\n",
       "</style>\n",
       "<table border=\"1\" class=\"dataframe\">\n",
       "  <thead>\n",
       "    <tr style=\"text-align: right;\">\n",
       "      <th></th>\n",
       "      <th>Restaurant</th>\n",
       "      <th>Location</th>\n",
       "      <th>Cuisines</th>\n",
       "      <th>Average_Cost</th>\n",
       "      <th>Minimum_Order</th>\n",
       "      <th>Rating</th>\n",
       "      <th>Votes</th>\n",
       "      <th>Reviews</th>\n",
       "      <th>Delivery_Time</th>\n",
       "      <th>MinOrder_cleansed</th>\n",
       "    </tr>\n",
       "  </thead>\n",
       "  <tbody>\n",
       "    <tr>\n",
       "      <th>6297</th>\n",
       "      <td>ID_6472</td>\n",
       "      <td>Pune University</td>\n",
       "      <td>Fast Food</td>\n",
       "      <td>for</td>\n",
       "      <td>₹50</td>\n",
       "      <td>NEW</td>\n",
       "      <td>-</td>\n",
       "      <td>-</td>\n",
       "      <td>30 minutes</td>\n",
       "      <td>50</td>\n",
       "    </tr>\n",
       "  </tbody>\n",
       "</table>\n",
       "</div>"
      ],
      "text/plain": [
       "     Restaurant         Location   Cuisines Average_Cost Minimum_Order Rating  \\\n",
       "6297    ID_6472  Pune University  Fast Food          for           ₹50    NEW   \n",
       "\n",
       "     Votes Reviews Delivery_Time  MinOrder_cleansed  \n",
       "6297     -       -    30 minutes                 50  "
      ]
     },
     "execution_count": 28,
     "metadata": {},
     "output_type": "execute_result"
    }
   ],
   "source": [
    "combined.loc[combined.Average_Cost==\"for\"]"
   ]
  },
  {
   "cell_type": "code",
   "execution_count": 29,
   "metadata": {},
   "outputs": [],
   "source": [
    "combined.loc[combined.Average_Cost==\"for\",\"Average_Cost\"]=\"0\""
   ]
  },
  {
   "cell_type": "code",
   "execution_count": 30,
   "metadata": {},
   "outputs": [
    {
     "data": {
      "text/plain": [
       "7000"
      ]
     },
     "execution_count": 30,
     "metadata": {},
     "output_type": "execute_result"
    }
   ],
   "source": [
    "int('₹7,000'.replace(\"₹\", \"\").replace(\",\", \"\"))"
   ]
  },
  {
   "cell_type": "code",
   "execution_count": 31,
   "metadata": {},
   "outputs": [],
   "source": [
    "cost=[]\n",
    "for i in combined.Average_Cost:\n",
    "    cost.append(int(i.replace(\"₹\", \"\").replace(\",\", \"\")))"
   ]
  },
  {
   "cell_type": "code",
   "execution_count": 32,
   "metadata": {},
   "outputs": [],
   "source": [
    "#ADD NEW COLUMN- Average_Cost cleansed\n",
    "combined[\"AvgCost_cleansed\"]=pd.Series(cost)"
   ]
  },
  {
   "cell_type": "code",
   "execution_count": 33,
   "metadata": {},
   "outputs": [
    {
     "data": {
      "text/html": [
       "<div>\n",
       "<style scoped>\n",
       "    .dataframe tbody tr th:only-of-type {\n",
       "        vertical-align: middle;\n",
       "    }\n",
       "\n",
       "    .dataframe tbody tr th {\n",
       "        vertical-align: top;\n",
       "    }\n",
       "\n",
       "    .dataframe thead th {\n",
       "        text-align: right;\n",
       "    }\n",
       "</style>\n",
       "<table border=\"1\" class=\"dataframe\">\n",
       "  <thead>\n",
       "    <tr style=\"text-align: right;\">\n",
       "      <th></th>\n",
       "      <th>Restaurant</th>\n",
       "      <th>Location</th>\n",
       "      <th>Cuisines</th>\n",
       "      <th>Average_Cost</th>\n",
       "      <th>Minimum_Order</th>\n",
       "      <th>Rating</th>\n",
       "      <th>Votes</th>\n",
       "      <th>Reviews</th>\n",
       "      <th>Delivery_Time</th>\n",
       "      <th>MinOrder_cleansed</th>\n",
       "      <th>AvgCost_cleansed</th>\n",
       "    </tr>\n",
       "  </thead>\n",
       "  <tbody>\n",
       "    <tr>\n",
       "      <th>0</th>\n",
       "      <td>ID_6321</td>\n",
       "      <td>FTI College, Law College Road, Pune</td>\n",
       "      <td>Fast Food, Rolls, Burger, Salad, Wraps</td>\n",
       "      <td>₹200</td>\n",
       "      <td>₹50</td>\n",
       "      <td>3.5</td>\n",
       "      <td>12</td>\n",
       "      <td>4</td>\n",
       "      <td>30 minutes</td>\n",
       "      <td>50</td>\n",
       "      <td>200</td>\n",
       "    </tr>\n",
       "    <tr>\n",
       "      <th>1</th>\n",
       "      <td>ID_2882</td>\n",
       "      <td>Sector 3, Marathalli</td>\n",
       "      <td>Ice Cream, Desserts</td>\n",
       "      <td>₹100</td>\n",
       "      <td>₹50</td>\n",
       "      <td>3.5</td>\n",
       "      <td>11</td>\n",
       "      <td>4</td>\n",
       "      <td>30 minutes</td>\n",
       "      <td>50</td>\n",
       "      <td>100</td>\n",
       "    </tr>\n",
       "    <tr>\n",
       "      <th>2</th>\n",
       "      <td>ID_1595</td>\n",
       "      <td>Mumbai Central</td>\n",
       "      <td>Italian, Street Food, Fast Food</td>\n",
       "      <td>₹150</td>\n",
       "      <td>₹50</td>\n",
       "      <td>3.6</td>\n",
       "      <td>99</td>\n",
       "      <td>30</td>\n",
       "      <td>65 minutes</td>\n",
       "      <td>50</td>\n",
       "      <td>150</td>\n",
       "    </tr>\n",
       "    <tr>\n",
       "      <th>3</th>\n",
       "      <td>ID_5929</td>\n",
       "      <td>Sector 1, Noida</td>\n",
       "      <td>Mughlai, North Indian, Chinese</td>\n",
       "      <td>₹250</td>\n",
       "      <td>₹99</td>\n",
       "      <td>3.7</td>\n",
       "      <td>176</td>\n",
       "      <td>95</td>\n",
       "      <td>30 minutes</td>\n",
       "      <td>99</td>\n",
       "      <td>250</td>\n",
       "    </tr>\n",
       "    <tr>\n",
       "      <th>4</th>\n",
       "      <td>ID_6123</td>\n",
       "      <td>Rmz Centennial, I Gate, Whitefield</td>\n",
       "      <td>Cafe, Beverages</td>\n",
       "      <td>₹200</td>\n",
       "      <td>₹99</td>\n",
       "      <td>3.2</td>\n",
       "      <td>521</td>\n",
       "      <td>235</td>\n",
       "      <td>65 minutes</td>\n",
       "      <td>99</td>\n",
       "      <td>200</td>\n",
       "    </tr>\n",
       "  </tbody>\n",
       "</table>\n",
       "</div>"
      ],
      "text/plain": [
       "  Restaurant                             Location  \\\n",
       "0    ID_6321  FTI College, Law College Road, Pune   \n",
       "1    ID_2882                 Sector 3, Marathalli   \n",
       "2    ID_1595                       Mumbai Central   \n",
       "3    ID_5929                      Sector 1, Noida   \n",
       "4    ID_6123   Rmz Centennial, I Gate, Whitefield   \n",
       "\n",
       "                                 Cuisines Average_Cost Minimum_Order Rating  \\\n",
       "0  Fast Food, Rolls, Burger, Salad, Wraps         ₹200           ₹50    3.5   \n",
       "1                     Ice Cream, Desserts         ₹100           ₹50    3.5   \n",
       "2         Italian, Street Food, Fast Food         ₹150           ₹50    3.6   \n",
       "3          Mughlai, North Indian, Chinese         ₹250           ₹99    3.7   \n",
       "4                         Cafe, Beverages         ₹200           ₹99    3.2   \n",
       "\n",
       "  Votes Reviews Delivery_Time  MinOrder_cleansed  AvgCost_cleansed  \n",
       "0    12       4    30 minutes                 50               200  \n",
       "1    11       4    30 minutes                 50               100  \n",
       "2    99      30    65 minutes                 50               150  \n",
       "3   176      95    30 minutes                 99               250  \n",
       "4   521     235    65 minutes                 99               200  "
      ]
     },
     "execution_count": 33,
     "metadata": {},
     "output_type": "execute_result"
    }
   ],
   "source": [
    "combined.head()"
   ]
  },
  {
   "cell_type": "code",
   "execution_count": 34,
   "metadata": {},
   "outputs": [
    {
     "data": {
      "text/plain": [
       "array(['FTI College, Law College Road, Pune', 'Sector 3, Marathalli',\n",
       "       'Mumbai Central', 'Sector 1, Noida',\n",
       "       'Rmz Centennial, I Gate, Whitefield', 'Delhi University-GTB Nagar',\n",
       "       'Yerawada, Pune, Maharashtra',\n",
       "       'Delhi Administration Flats, Timarpur', 'Moulali, Kolkata',\n",
       "       'Dockyard Road, Mumbai CST Area', 'Pune University',\n",
       "       'Gora Bazar, Rajbari, North Dumdum, Kolkata',\n",
       "       'D-Block, Sector 63, Noida', 'Sector 14, Noida',\n",
       "       'Mico Layout, Stage 2, BTM Layout,Bangalore',\n",
       "       'Laxman Vihar Industrial Area, Sector 3A, Gurgoan',\n",
       "       'Tiretti, Kolkata', 'Sandhurst Road, Mumbai CST Area',\n",
       "       'MG Road, Pune', 'Hyderabad Public School, Begumpet', 'Majestic',\n",
       "       'Chandni Chowk, Kolkata', 'Delhi High Court, India Gate',\n",
       "       'Chatta Bazaar, Malakpet, Hyderabad', 'Sector 63A,Gurgaon',\n",
       "       'Delhi Cantt.', 'Tejas Nagar Colony, Wadala West, Mumbai',\n",
       "       'Babarpur, New Delhi, Delhi', 'Nathan Road, Mangaldas Road, Pune',\n",
       "       'Panjetan Colony, Malakpet, Hyderabad', 'Raja Bazar, Kolkata',\n",
       "       'Jaya Nagar, Saidabad, Hyderabad',\n",
       "       'Noorkhan Bazaar, Malakpet, Hyderabad',\n",
       "       'Musi Nagar, Malakpet, Hyderabad', 'BTM Layout 1, Electronic City'],\n",
       "      dtype=object)"
      ]
     },
     "execution_count": 34,
     "metadata": {},
     "output_type": "execute_result"
    }
   ],
   "source": [
    "combined.Location.unique()"
   ]
  },
  {
   "cell_type": "code",
   "execution_count": 35,
   "metadata": {},
   "outputs": [
    {
     "data": {
      "text/plain": [
       "['FTI College', ' Law College Road', ' Pune']"
      ]
     },
     "execution_count": 35,
     "metadata": {},
     "output_type": "execute_result"
    }
   ],
   "source": [
    "#location\n",
    "combined.Location[0].split(\",\")"
   ]
  },
  {
   "cell_type": "code",
   "execution_count": 36,
   "metadata": {},
   "outputs": [
    {
     "data": {
      "text/plain": [
       "'Pune'"
      ]
     },
     "execution_count": 36,
     "metadata": {},
     "output_type": "execute_result"
    }
   ],
   "source": [
    "combined.Location[0].split(\", \")[-1]"
   ]
  },
  {
   "cell_type": "code",
   "execution_count": 37,
   "metadata": {},
   "outputs": [],
   "source": [
    "locs=[]\n",
    "for i in combined.Location:\n",
    "    locs.append(i.split(\", \")[-1])"
   ]
  },
  {
   "cell_type": "code",
   "execution_count": 38,
   "metadata": {},
   "outputs": [],
   "source": [
    "combined[\"Location_Cleansed\"]=pd.Series(locs)"
   ]
  },
  {
   "cell_type": "code",
   "execution_count": 39,
   "metadata": {},
   "outputs": [
    {
     "data": {
      "text/plain": [
       "array(['Pune', 'Marathalli', 'Mumbai Central', 'Noida', 'Whitefield',\n",
       "       'Delhi University-GTB Nagar', 'Maharashtra', 'Timarpur', 'Kolkata',\n",
       "       'Mumbai CST Area', 'Pune University', 'BTM Layout,Bangalore',\n",
       "       'Gurgoan', 'Begumpet', 'Majestic', 'India Gate', 'Hyderabad',\n",
       "       'Sector 63A,Gurgaon', 'Delhi Cantt.', 'Mumbai', 'Delhi',\n",
       "       'Electronic City'], dtype=object)"
      ]
     },
     "execution_count": 39,
     "metadata": {},
     "output_type": "execute_result"
    }
   ],
   "source": [
    "combined.Location_Cleansed.unique()"
   ]
  },
  {
   "cell_type": "markdown",
   "metadata": {},
   "source": []
  },
  {
   "cell_type": "code",
   "execution_count": 40,
   "metadata": {},
   "outputs": [],
   "source": [
    "#Banglore\n",
    "combined.Location_Cleansed.replace(to_replace=['Marathalli','Whitefield','Majestic','BTM Layout,Bangalore','Electronic City'],\n",
    "                                  value=[\"Bangalore\"]*5,inplace=True)"
   ]
  },
  {
   "cell_type": "code",
   "execution_count": 41,
   "metadata": {},
   "outputs": [],
   "source": [
    "#pune\n",
    "combined.Location_Cleansed.replace(to_replace=['Maharashtra','Pune University'],value=[\"Pune\"]*2,inplace=True)"
   ]
  },
  {
   "cell_type": "code",
   "execution_count": 42,
   "metadata": {},
   "outputs": [],
   "source": [
    "#delhi\n",
    "\n",
    "combined.Location_Cleansed.replace(to_replace=['Delhi University-GTB Nagar','Timarpur','Delhi Cantt.','India Gate'],\n",
    "                                  value=[\"Delhi\"]*4,inplace=True)"
   ]
  },
  {
   "cell_type": "code",
   "execution_count": 43,
   "metadata": {},
   "outputs": [],
   "source": [
    "#Gurgaon Spell Check\n",
    "combined.loc[combined.Location_Cleansed==\"Gurgoan\",\"Location_Cleansed\"]=\"Gurgaon\""
   ]
  },
  {
   "cell_type": "code",
   "execution_count": 44,
   "metadata": {},
   "outputs": [],
   "source": [
    "#Gurgaon\n",
    "combined.Location_Cleansed.replace('Sector 63A,Gurgaon',\"Gurgaon\",inplace=True)"
   ]
  },
  {
   "cell_type": "code",
   "execution_count": 45,
   "metadata": {},
   "outputs": [],
   "source": [
    "#hyderabad\n",
    "combined.Location_Cleansed.replace('Begumpet',\"Hyderabad\",inplace=True)"
   ]
  },
  {
   "cell_type": "code",
   "execution_count": 46,
   "metadata": {},
   "outputs": [
    {
     "data": {
      "text/plain": [
       "array(['Pune', 'Bangalore', 'Mumbai Central', 'Noida', 'Delhi', 'Kolkata',\n",
       "       'Mumbai CST Area', 'Gurgaon', 'Hyderabad', 'Mumbai'], dtype=object)"
      ]
     },
     "execution_count": 46,
     "metadata": {},
     "output_type": "execute_result"
    }
   ],
   "source": [
    "combined.Location_Cleansed.unique()"
   ]
  },
  {
   "cell_type": "code",
   "execution_count": 47,
   "metadata": {},
   "outputs": [],
   "source": [
    "#mumbai\n",
    "combined.Location_Cleansed.replace(to_replace=['Mumbai Central','Mumbai CST Area'],value=[\"Mumbai\"]*2,inplace=True)"
   ]
  },
  {
   "cell_type": "code",
   "execution_count": 48,
   "metadata": {},
   "outputs": [
    {
     "data": {
      "text/plain": [
       "Noida        2647\n",
       "Bangalore    2628\n",
       "Delhi        2539\n",
       "Pune         2442\n",
       "Mumbai       1536\n",
       "Gurgaon       934\n",
       "Kolkata       678\n",
       "Hyderabad     464\n",
       "Name: Location_Cleansed, dtype: int64"
      ]
     },
     "execution_count": 48,
     "metadata": {},
     "output_type": "execute_result"
    }
   ],
   "source": [
    "combined.Location_Cleansed.value_counts()"
   ]
  },
  {
   "cell_type": "code",
   "execution_count": 49,
   "metadata": {},
   "outputs": [
    {
     "data": {
      "text/plain": [
       "<matplotlib.axes._subplots.AxesSubplot at 0xbdac8d0>"
      ]
     },
     "execution_count": 49,
     "metadata": {},
     "output_type": "execute_result"
    },
    {
     "data": {
      "image/png": "[encoded data removed]",
      "text/plain": [
       "<Figure size 432x288 with 1 Axes>"
      ]
     },
     "metadata": {
      "needs_background": "light"
     },
     "output_type": "display_data"
    }
   ],
   "source": [
    "combined.Location_Cleansed.value_counts().plot(kind=\"bar\")"
   ]
  },
  {
   "cell_type": "code",
   "execution_count": 50,
   "metadata": {},
   "outputs": [
    {
     "data": {
      "text/plain": [
       "Index(['Restaurant', 'Location', 'Cuisines', 'Average_Cost', 'Minimum_Order',\n",
       "       'Rating', 'Votes', 'Reviews', 'Delivery_Time', 'MinOrder_cleansed',\n",
       "       'AvgCost_cleansed', 'Location_Cleansed'],\n",
       "      dtype='object')"
      ]
     },
     "execution_count": 50,
     "metadata": {},
     "output_type": "execute_result"
    }
   ],
   "source": [
    "combined.columns"
   ]
  },
  {
   "cell_type": "code",
   "execution_count": 51,
   "metadata": {},
   "outputs": [
    {
     "data": {
      "text/plain": [
       "array(['Fast Food, Rolls, Burger, Salad, Wraps', 'Ice Cream, Desserts',\n",
       "       'Italian, Street Food, Fast Food', ...,\n",
       "       'North Indian, Chinese, Japanese',\n",
       "       'Asian, Italian, Continental, Desserts, Healthy Food',\n",
       "       'North Indian, Rolls, Chinese, Continental, Fast Food'],\n",
       "      dtype=object)"
      ]
     },
     "execution_count": 51,
     "metadata": {},
     "output_type": "execute_result"
    }
   ],
   "source": [
    "#Cuisines\n",
    "\n",
    "combined.Cuisines.unique()"
   ]
  },
  {
   "cell_type": "code",
   "execution_count": 52,
   "metadata": {},
   "outputs": [
    {
     "data": {
      "text/plain": [
       "['Fast Food', 'Rolls', 'Burger', 'Salad', 'Wraps']"
      ]
     },
     "execution_count": 52,
     "metadata": {},
     "output_type": "execute_result"
    }
   ],
   "source": [
    "combined.Cuisines[0].split(\", \")"
   ]
  },
  {
   "cell_type": "code",
   "execution_count": 53,
   "metadata": {},
   "outputs": [],
   "source": [
    "food=[]\n",
    "for i in combined.Cuisines:\n",
    "    food.append(i.split(\", \"))"
   ]
  },
  {
   "cell_type": "code",
   "execution_count": 54,
   "metadata": {},
   "outputs": [],
   "source": [
    "df = pd.DataFrame(food)"
   ]
  },
  {
   "cell_type": "code",
   "execution_count": 55,
   "metadata": {},
   "outputs": [
    {
     "data": {
      "text/html": [
       "<div>\n",
       "<style scoped>\n",
       "    .dataframe tbody tr th:only-of-type {\n",
       "        vertical-align: middle;\n",
       "    }\n",
       "\n",
       "    .dataframe tbody tr th {\n",
       "        vertical-align: top;\n",
       "    }\n",
       "\n",
       "    .dataframe thead th {\n",
       "        text-align: right;\n",
       "    }\n",
       "</style>\n",
       "<table border=\"1\" class=\"dataframe\">\n",
       "  <thead>\n",
       "    <tr style=\"text-align: right;\">\n",
       "      <th></th>\n",
       "      <th>0</th>\n",
       "      <th>1</th>\n",
       "      <th>2</th>\n",
       "      <th>3</th>\n",
       "      <th>4</th>\n",
       "      <th>5</th>\n",
       "      <th>6</th>\n",
       "      <th>7</th>\n",
       "    </tr>\n",
       "  </thead>\n",
       "  <tbody>\n",
       "    <tr>\n",
       "      <th>0</th>\n",
       "      <td>Fast Food</td>\n",
       "      <td>Rolls</td>\n",
       "      <td>Burger</td>\n",
       "      <td>Salad</td>\n",
       "      <td>Wraps</td>\n",
       "      <td>None</td>\n",
       "      <td>None</td>\n",
       "      <td>None</td>\n",
       "    </tr>\n",
       "    <tr>\n",
       "      <th>1</th>\n",
       "      <td>Ice Cream</td>\n",
       "      <td>Desserts</td>\n",
       "      <td>None</td>\n",
       "      <td>None</td>\n",
       "      <td>None</td>\n",
       "      <td>None</td>\n",
       "      <td>None</td>\n",
       "      <td>None</td>\n",
       "    </tr>\n",
       "    <tr>\n",
       "      <th>2</th>\n",
       "      <td>Italian</td>\n",
       "      <td>Street Food</td>\n",
       "      <td>Fast Food</td>\n",
       "      <td>None</td>\n",
       "      <td>None</td>\n",
       "      <td>None</td>\n",
       "      <td>None</td>\n",
       "      <td>None</td>\n",
       "    </tr>\n",
       "    <tr>\n",
       "      <th>3</th>\n",
       "      <td>Mughlai</td>\n",
       "      <td>North Indian</td>\n",
       "      <td>Chinese</td>\n",
       "      <td>None</td>\n",
       "      <td>None</td>\n",
       "      <td>None</td>\n",
       "      <td>None</td>\n",
       "      <td>None</td>\n",
       "    </tr>\n",
       "    <tr>\n",
       "      <th>4</th>\n",
       "      <td>Cafe</td>\n",
       "      <td>Beverages</td>\n",
       "      <td>None</td>\n",
       "      <td>None</td>\n",
       "      <td>None</td>\n",
       "      <td>None</td>\n",
       "      <td>None</td>\n",
       "      <td>None</td>\n",
       "    </tr>\n",
       "  </tbody>\n",
       "</table>\n",
       "</div>"
      ],
      "text/plain": [
       "           0             1          2      3      4     5     6     7\n",
       "0  Fast Food         Rolls     Burger  Salad  Wraps  None  None  None\n",
       "1  Ice Cream      Desserts       None   None   None  None  None  None\n",
       "2    Italian   Street Food  Fast Food   None   None  None  None  None\n",
       "3    Mughlai  North Indian    Chinese   None   None  None  None  None\n",
       "4       Cafe     Beverages       None   None   None  None  None  None"
      ]
     },
     "execution_count": 55,
     "metadata": {},
     "output_type": "execute_result"
    }
   ],
   "source": [
    "df.head()"
   ]
  },
  {
   "cell_type": "code",
   "execution_count": 56,
   "metadata": {},
   "outputs": [
    {
     "data": {
      "text/plain": [
       "array(['Fast Food', 'Ice Cream', 'Italian', 'Mughlai', 'Cafe',\n",
       "       'South Indian', 'Beverages', 'Chinese', 'Mithai', 'North Indian',\n",
       "       'Burger', 'Biryani', 'Kerala', 'Desserts', 'Bakery', 'Asian',\n",
       "       'Street Food', 'Pizza', 'Lucknowi', 'Tea', 'Rolls', 'Bengali',\n",
       "       'Mishti', 'European', 'Momos', 'Continental', 'Andhra', 'German',\n",
       "       'Finger Food', 'Sandwich', 'Chettinad', 'Juices', 'Parsi',\n",
       "       'Japanese', 'Salad', 'Tamil', 'North Eastern', 'Maharashtrian',\n",
       "       'Tibetan', 'Arabian', 'Bar Food', 'Konkan', 'Odia', 'Paan',\n",
       "       'Wraps', 'Lebanese', 'American', 'Mediterranean', 'Bohri',\n",
       "       'Mangalorean', 'Thai', 'Healthy Food', 'Raw Meats', 'Gujarati',\n",
       "       'Seafood', 'Rajasthani', 'BBQ', 'Coffee', 'Mexican', 'Goan',\n",
       "       'Korean', 'Kebab', 'Kashmiri', 'Bihari', 'Portuguese',\n",
       "       'Frozen Yogurt', 'Afghan', 'Awadhi', 'Malwani', 'Malaysian',\n",
       "       'Hyderabadi', 'French', 'Modern Indian', 'Sushi', 'Hot dogs',\n",
       "       'Iranian', 'Brazilian', 'Indian', 'African', 'Bubble Tea',\n",
       "       'Turkish', 'Assamese', 'Naga', 'Middle Eastern', 'Vietnamese',\n",
       "       'Steak'], dtype=object)"
      ]
     },
     "execution_count": 56,
     "metadata": {},
     "output_type": "execute_result"
    }
   ],
   "source": [
    "df[0].unique()"
   ]
  },
  {
   "cell_type": "code",
   "execution_count": 57,
   "metadata": {},
   "outputs": [],
   "source": [
    "fastfood=['Fast Food','Cafe','Burger','Street Food', 'Pizza','Rolls','Momos','Finger Food', 'Sandwich','Bar Food','Wraps','Hot dogs']\n",
    "beverages=['Beverages','Tea','Juices','Bubble Tea','Coffee']\n",
    "deserts=['Ice Cream','Mithai','Desserts','Bakery','Mishti','Paan','Frozen Yogurt']\n",
    "maincourse=['Italian','Mughlai','South Indian','Chinese','North Indian','Biryani','Kerala','Asian','Lucknowi','Bengali'\n",
    "           ,'European','Continental','Andhra', 'German','Chettinad', 'Parsi','Japanese','Salad','Tamil', 'North Eastern', 'Maharashtrian',\n",
    "       'Tibetan', 'Arabian','Konkan', 'Odia', 'Lebanese', 'American', 'Mediterranean', 'Bohri',\n",
    "       'Mangalorean', 'Thai', 'Healthy Food', 'Raw Meats', 'Gujarati',\n",
    "       'Seafood', 'Rajasthani', 'Mexican', 'Goan','Greek'\n",
    "       'Korean', 'Kebab', 'Kashmiri', 'Bihari', 'Portuguese','Afghan', 'Awadhi', 'Malwani', 'Malaysian',\n",
    "       'Hyderabadi', 'French', 'Modern Indian', 'Sushi','Iranian', 'Brazilian', 'Indian', 'African','Turkish', 'Assamese', 'Naga',\n",
    "        'Middle Eastern', 'Vietnamese','Burmese','Roast Chicken','South American''Sri Lankan'\n",
    "       'Steak','Charcoal Chicken','Cantonese','Belgian','Charcoal Chicken','Tex-Mex','Spanish','Nepalese','Bangladeshi','Poké']"
   ]
  },
  {
   "cell_type": "code",
   "execution_count": 58,
   "metadata": {},
   "outputs": [
    {
     "data": {
      "text/plain": [
       "{'Andhra',\n",
       " 'Biryani',\n",
       " 'Coffee',\n",
       " 'European',\n",
       " 'Italian',\n",
       " 'Kebab',\n",
       " 'Malaysian',\n",
       " 'Mithai',\n",
       " 'Modern Indian',\n",
       " 'Rolls',\n",
       " 'Salad',\n",
       " 'Seafood',\n",
       " 'Sushi',\n",
       " 'Vietnamese',\n",
       " 'Wraps'}"
      ]
     },
     "execution_count": 58,
     "metadata": {},
     "output_type": "execute_result"
    }
   ],
   "source": [
    "set(df[6])-set(df[7])"
   ]
  },
  {
   "cell_type": "code",
   "execution_count": 59,
   "metadata": {},
   "outputs": [
    {
     "data": {
      "text/plain": [
       "{'African',\n",
       " 'Assamese',\n",
       " 'Bohri',\n",
       " 'Frozen Yogurt',\n",
       " 'Goan',\n",
       " 'Hot dogs',\n",
       " 'Kashmiri',\n",
       " 'Konkan',\n",
       " 'Parsi',\n",
       " 'Portuguese',\n",
       " 'Tamil',\n",
       " 'Turkish'}"
      ]
     },
     "execution_count": 59,
     "metadata": {},
     "output_type": "execute_result"
    }
   ],
   "source": [
    "set(df[0])-set(df[1])"
   ]
  },
  {
   "cell_type": "code",
   "execution_count": null,
   "metadata": {},
   "outputs": [],
   "source": []
  },
  {
   "cell_type": "code",
   "execution_count": 60,
   "metadata": {},
   "outputs": [],
   "source": [
    "#function to convert the food into cats\n",
    "def foodcatbanao(x):\n",
    "    if(x in fastfood):\n",
    "        return(\"Fast Food\")\n",
    "    elif(x in beverages):\n",
    "        return(\"Beverages\")\n",
    "    elif(x in deserts):\n",
    "        return(\"Deserts\")\n",
    "    else:\n",
    "        return(\"Main Course\")"
   ]
  },
  {
   "cell_type": "code",
   "execution_count": 61,
   "metadata": {},
   "outputs": [],
   "source": [
    "combined[\"Cuisines_Cleansed\"]=pd.Series(df[0].apply(foodcatbanao))"
   ]
  },
  {
   "cell_type": "code",
   "execution_count": 62,
   "metadata": {},
   "outputs": [
    {
     "data": {
      "text/html": [
       "<div>\n",
       "<style scoped>\n",
       "    .dataframe tbody tr th:only-of-type {\n",
       "        vertical-align: middle;\n",
       "    }\n",
       "\n",
       "    .dataframe tbody tr th {\n",
       "        vertical-align: top;\n",
       "    }\n",
       "\n",
       "    .dataframe thead th {\n",
       "        text-align: right;\n",
       "    }\n",
       "</style>\n",
       "<table border=\"1\" class=\"dataframe\">\n",
       "  <thead>\n",
       "    <tr style=\"text-align: right;\">\n",
       "      <th></th>\n",
       "      <th>Restaurant</th>\n",
       "      <th>Location</th>\n",
       "      <th>Cuisines</th>\n",
       "      <th>Average_Cost</th>\n",
       "      <th>Minimum_Order</th>\n",
       "      <th>Rating</th>\n",
       "      <th>Votes</th>\n",
       "      <th>Reviews</th>\n",
       "      <th>Delivery_Time</th>\n",
       "      <th>MinOrder_cleansed</th>\n",
       "      <th>AvgCost_cleansed</th>\n",
       "      <th>Location_Cleansed</th>\n",
       "      <th>Cuisines_Cleansed</th>\n",
       "    </tr>\n",
       "  </thead>\n",
       "  <tbody>\n",
       "    <tr>\n",
       "      <th>6297</th>\n",
       "      <td>ID_6472</td>\n",
       "      <td>Pune University</td>\n",
       "      <td>Fast Food</td>\n",
       "      <td>0</td>\n",
       "      <td>₹50</td>\n",
       "      <td>NEW</td>\n",
       "      <td>-</td>\n",
       "      <td>-</td>\n",
       "      <td>30 minutes</td>\n",
       "      <td>50</td>\n",
       "      <td>0</td>\n",
       "      <td>Pune</td>\n",
       "      <td>Fast Food</td>\n",
       "    </tr>\n",
       "  </tbody>\n",
       "</table>\n",
       "</div>"
      ],
      "text/plain": [
       "     Restaurant         Location   Cuisines Average_Cost Minimum_Order Rating  \\\n",
       "6297    ID_6472  Pune University  Fast Food            0           ₹50    NEW   \n",
       "\n",
       "     Votes Reviews Delivery_Time  MinOrder_cleansed  AvgCost_cleansed  \\\n",
       "6297     -       -    30 minutes                 50                 0   \n",
       "\n",
       "     Location_Cleansed Cuisines_Cleansed  \n",
       "6297              Pune         Fast Food  "
      ]
     },
     "execution_count": 62,
     "metadata": {},
     "output_type": "execute_result"
    }
   ],
   "source": [
    "combined.loc[combined.Average_Cost==\"0\"]"
   ]
  },
  {
   "cell_type": "code",
   "execution_count": 63,
   "metadata": {},
   "outputs": [
    {
     "data": {
      "text/plain": [
       "count    802.000000\n",
       "mean     186.097257\n",
       "std      117.120489\n",
       "min        0.000000\n",
       "25%      100.000000\n",
       "50%      150.000000\n",
       "75%      200.000000\n",
       "max      800.000000\n",
       "Name: AvgCost_cleansed, dtype: float64"
      ]
     },
     "execution_count": 63,
     "metadata": {},
     "output_type": "execute_result"
    }
   ],
   "source": [
    "combined[(combined.Location_Cleansed==\"Pune\") &(combined.Cuisines_Cleansed==\"Fast Food\")][\"AvgCost_cleansed\"].describe()\n"
   ]
  },
  {
   "cell_type": "code",
   "execution_count": 64,
   "metadata": {},
   "outputs": [],
   "source": [
    "#imputing the values\n",
    "combined.loc[combined.Average_Cost==\"0\",\"AvgCost_cleansed\"]=150"
   ]
  },
  {
   "cell_type": "code",
   "execution_count": 65,
   "metadata": {},
   "outputs": [
    {
     "name": "stdout",
     "output_type": "stream",
     "text": [
      "<class 'pandas.core.frame.DataFrame'>\n",
      "RangeIndex: 13868 entries, 0 to 13867\n",
      "Data columns (total 13 columns):\n",
      "Restaurant           13868 non-null object\n",
      "Location             13868 non-null object\n",
      "Cuisines             13868 non-null object\n",
      "Average_Cost         13868 non-null object\n",
      "Minimum_Order        13868 non-null object\n",
      "Rating               13868 non-null object\n",
      "Votes                13868 non-null object\n",
      "Reviews              13868 non-null object\n",
      "Delivery_Time        11094 non-null object\n",
      "MinOrder_cleansed    13868 non-null int64\n",
      "AvgCost_cleansed     13868 non-null int64\n",
      "Location_Cleansed    13868 non-null object\n",
      "Cuisines_Cleansed    13868 non-null object\n",
      "dtypes: int64(2), object(11)\n",
      "memory usage: 812.6+ KB\n"
     ]
    }
   ],
   "source": [
    "combined.info()"
   ]
  },
  {
   "cell_type": "code",
   "execution_count": 66,
   "metadata": {},
   "outputs": [
    {
     "data": {
      "text/plain": [
       "array(['3.5', '3.6', '3.7', '3.2', '3.8', '4.0', '3.9', '4.2', '-', '2.8',\n",
       "       '3.0', '3.3', '3.1', '4.7', '3.4', '4.1', 'NEW', '2.9', '4.6',\n",
       "       '4.3', '2.6', '4.5', '4.4', '4.8', '2.4', '2.7', '2.5',\n",
       "       'Opening Soon', '2.2', '4.9', '2.3', '2.1', 'Temporarily Closed'],\n",
       "      dtype=object)"
      ]
     },
     "execution_count": 66,
     "metadata": {},
     "output_type": "execute_result"
    }
   ],
   "source": [
    "#Rating\n",
    "combined.Rating.unique()"
   ]
  },
  {
   "cell_type": "code",
   "execution_count": 67,
   "metadata": {},
   "outputs": [
    {
     "data": {
      "text/plain": [
       "(958, 13)"
      ]
     },
     "execution_count": 67,
     "metadata": {},
     "output_type": "execute_result"
    }
   ],
   "source": [
    "combined[combined.Rating==\"NEW\"].shape"
   ]
  },
  {
   "cell_type": "code",
   "execution_count": 68,
   "metadata": {},
   "outputs": [],
   "source": [
    "combined.Rating=pd.to_numeric(combined.Rating,errors=\"coerce\")"
   ]
  },
  {
   "cell_type": "code",
   "execution_count": 69,
   "metadata": {},
   "outputs": [
    {
     "data": {
      "text/plain": [
       "count    11398.000000\n",
       "mean         3.610791\n",
       "std          0.413490\n",
       "min          2.100000\n",
       "25%          3.300000\n",
       "50%          3.600000\n",
       "75%          3.900000\n",
       "max          4.900000\n",
       "Name: Rating, dtype: float64"
      ]
     },
     "execution_count": 69,
     "metadata": {},
     "output_type": "execute_result"
    }
   ],
   "source": [
    "combined.Rating.describe()"
   ]
  },
  {
   "cell_type": "code",
   "execution_count": 70,
   "metadata": {},
   "outputs": [],
   "source": [
    "combined.Rating.fillna(value=3.6,inplace=True)"
   ]
  },
  {
   "cell_type": "code",
   "execution_count": 71,
   "metadata": {},
   "outputs": [],
   "source": [
    "#Reviews\n",
    "combined.Reviews=pd.to_numeric(combined.Reviews,errors=\"coerce\")"
   ]
  },
  {
   "cell_type": "code",
   "execution_count": 72,
   "metadata": {},
   "outputs": [
    {
     "data": {
      "text/plain": [
       "count    10963.000000\n",
       "mean       120.893004\n",
       "std        315.592114\n",
       "min          1.000000\n",
       "25%          7.000000\n",
       "50%         26.000000\n",
       "75%         90.000000\n",
       "max       6504.000000\n",
       "Name: Reviews, dtype: float64"
      ]
     },
     "execution_count": 72,
     "metadata": {},
     "output_type": "execute_result"
    }
   ],
   "source": [
    "combined.Reviews.describe()"
   ]
  },
  {
   "cell_type": "code",
   "execution_count": 73,
   "metadata": {},
   "outputs": [],
   "source": [
    "combined.Reviews.fillna(value=26,inplace=True)"
   ]
  },
  {
   "cell_type": "code",
   "execution_count": 74,
   "metadata": {},
   "outputs": [],
   "source": [
    "#votes\n",
    "combined.Votes=pd.to_numeric(combined.Votes,errors=\"coerce\")"
   ]
  },
  {
   "cell_type": "code",
   "execution_count": 75,
   "metadata": {},
   "outputs": [
    {
     "data": {
      "text/plain": [
       "count    11252.000000\n",
       "mean       241.050036\n",
       "std        549.570301\n",
       "min          3.000000\n",
       "25%         19.000000\n",
       "50%         63.000000\n",
       "75%        214.000000\n",
       "max       9054.000000\n",
       "Name: Votes, dtype: float64"
      ]
     },
     "execution_count": 75,
     "metadata": {},
     "output_type": "execute_result"
    }
   ],
   "source": [
    "combined.Votes.describe()"
   ]
  },
  {
   "cell_type": "code",
   "execution_count": 76,
   "metadata": {},
   "outputs": [],
   "source": [
    "combined.Votes.fillna(value=63,inplace=True)"
   ]
  },
  {
   "cell_type": "code",
   "execution_count": 77,
   "metadata": {},
   "outputs": [],
   "source": [
    "#Rating Category Func\n",
    "def rating_cat(x):\n",
    "    if(x>=4.5):\n",
    "        return(\"Excellent\")\n",
    "    elif(x>=4.0):\n",
    "        return(\"Very Good\")\n",
    "    elif(x>=3.5):\n",
    "        return(\"Good\")\n",
    "    elif(x>=3.0):\n",
    "        return(\"Average\")\n",
    "    else:\n",
    "        return(\"Poor\")"
   ]
  },
  {
   "cell_type": "code",
   "execution_count": 78,
   "metadata": {},
   "outputs": [],
   "source": [
    "combined[\"Rating_Category\"]=combined.Rating.apply(rating_cat)"
   ]
  },
  {
   "cell_type": "code",
   "execution_count": 79,
   "metadata": {},
   "outputs": [
    {
     "data": {
      "text/html": [
       "<div>\n",
       "<style scoped>\n",
       "    .dataframe tbody tr th:only-of-type {\n",
       "        vertical-align: middle;\n",
       "    }\n",
       "\n",
       "    .dataframe tbody tr th {\n",
       "        vertical-align: top;\n",
       "    }\n",
       "\n",
       "    .dataframe thead th {\n",
       "        text-align: right;\n",
       "    }\n",
       "</style>\n",
       "<table border=\"1\" class=\"dataframe\">\n",
       "  <thead>\n",
       "    <tr style=\"text-align: right;\">\n",
       "      <th></th>\n",
       "      <th>Restaurant</th>\n",
       "      <th>Location</th>\n",
       "      <th>Cuisines</th>\n",
       "      <th>Average_Cost</th>\n",
       "      <th>Minimum_Order</th>\n",
       "      <th>Rating</th>\n",
       "      <th>Votes</th>\n",
       "      <th>Reviews</th>\n",
       "      <th>Delivery_Time</th>\n",
       "      <th>MinOrder_cleansed</th>\n",
       "      <th>AvgCost_cleansed</th>\n",
       "      <th>Location_Cleansed</th>\n",
       "      <th>Cuisines_Cleansed</th>\n",
       "      <th>Rating_Category</th>\n",
       "    </tr>\n",
       "  </thead>\n",
       "  <tbody>\n",
       "    <tr>\n",
       "      <th>0</th>\n",
       "      <td>ID_6321</td>\n",
       "      <td>FTI College, Law College Road, Pune</td>\n",
       "      <td>Fast Food, Rolls, Burger, Salad, Wraps</td>\n",
       "      <td>₹200</td>\n",
       "      <td>₹50</td>\n",
       "      <td>3.5</td>\n",
       "      <td>12.0</td>\n",
       "      <td>4.0</td>\n",
       "      <td>30 minutes</td>\n",
       "      <td>50</td>\n",
       "      <td>200</td>\n",
       "      <td>Pune</td>\n",
       "      <td>Fast Food</td>\n",
       "      <td>Good</td>\n",
       "    </tr>\n",
       "    <tr>\n",
       "      <th>1</th>\n",
       "      <td>ID_2882</td>\n",
       "      <td>Sector 3, Marathalli</td>\n",
       "      <td>Ice Cream, Desserts</td>\n",
       "      <td>₹100</td>\n",
       "      <td>₹50</td>\n",
       "      <td>3.5</td>\n",
       "      <td>11.0</td>\n",
       "      <td>4.0</td>\n",
       "      <td>30 minutes</td>\n",
       "      <td>50</td>\n",
       "      <td>100</td>\n",
       "      <td>Bangalore</td>\n",
       "      <td>Deserts</td>\n",
       "      <td>Good</td>\n",
       "    </tr>\n",
       "    <tr>\n",
       "      <th>2</th>\n",
       "      <td>ID_1595</td>\n",
       "      <td>Mumbai Central</td>\n",
       "      <td>Italian, Street Food, Fast Food</td>\n",
       "      <td>₹150</td>\n",
       "      <td>₹50</td>\n",
       "      <td>3.6</td>\n",
       "      <td>99.0</td>\n",
       "      <td>30.0</td>\n",
       "      <td>65 minutes</td>\n",
       "      <td>50</td>\n",
       "      <td>150</td>\n",
       "      <td>Mumbai</td>\n",
       "      <td>Main Course</td>\n",
       "      <td>Good</td>\n",
       "    </tr>\n",
       "    <tr>\n",
       "      <th>3</th>\n",
       "      <td>ID_5929</td>\n",
       "      <td>Sector 1, Noida</td>\n",
       "      <td>Mughlai, North Indian, Chinese</td>\n",
       "      <td>₹250</td>\n",
       "      <td>₹99</td>\n",
       "      <td>3.7</td>\n",
       "      <td>176.0</td>\n",
       "      <td>95.0</td>\n",
       "      <td>30 minutes</td>\n",
       "      <td>99</td>\n",
       "      <td>250</td>\n",
       "      <td>Noida</td>\n",
       "      <td>Main Course</td>\n",
       "      <td>Good</td>\n",
       "    </tr>\n",
       "    <tr>\n",
       "      <th>4</th>\n",
       "      <td>ID_6123</td>\n",
       "      <td>Rmz Centennial, I Gate, Whitefield</td>\n",
       "      <td>Cafe, Beverages</td>\n",
       "      <td>₹200</td>\n",
       "      <td>₹99</td>\n",
       "      <td>3.2</td>\n",
       "      <td>521.0</td>\n",
       "      <td>235.0</td>\n",
       "      <td>65 minutes</td>\n",
       "      <td>99</td>\n",
       "      <td>200</td>\n",
       "      <td>Bangalore</td>\n",
       "      <td>Fast Food</td>\n",
       "      <td>Average</td>\n",
       "    </tr>\n",
       "    <tr>\n",
       "      <th>5</th>\n",
       "      <td>ID_5221</td>\n",
       "      <td>Rmz Centennial, I Gate, Whitefield</td>\n",
       "      <td>South Indian, North Indian, Chinese</td>\n",
       "      <td>₹150</td>\n",
       "      <td>₹50</td>\n",
       "      <td>3.8</td>\n",
       "      <td>46.0</td>\n",
       "      <td>18.0</td>\n",
       "      <td>30 minutes</td>\n",
       "      <td>50</td>\n",
       "      <td>150</td>\n",
       "      <td>Bangalore</td>\n",
       "      <td>Main Course</td>\n",
       "      <td>Good</td>\n",
       "    </tr>\n",
       "    <tr>\n",
       "      <th>6</th>\n",
       "      <td>ID_3777</td>\n",
       "      <td>Mumbai Central</td>\n",
       "      <td>Beverages, Fast Food</td>\n",
       "      <td>₹150</td>\n",
       "      <td>₹50</td>\n",
       "      <td>3.7</td>\n",
       "      <td>108.0</td>\n",
       "      <td>31.0</td>\n",
       "      <td>30 minutes</td>\n",
       "      <td>50</td>\n",
       "      <td>150</td>\n",
       "      <td>Mumbai</td>\n",
       "      <td>Beverages</td>\n",
       "      <td>Good</td>\n",
       "    </tr>\n",
       "    <tr>\n",
       "      <th>7</th>\n",
       "      <td>ID_745</td>\n",
       "      <td>Delhi University-GTB Nagar</td>\n",
       "      <td>Chinese, Thai, Asian</td>\n",
       "      <td>₹650</td>\n",
       "      <td>₹50</td>\n",
       "      <td>4.0</td>\n",
       "      <td>1731.0</td>\n",
       "      <td>1235.0</td>\n",
       "      <td>45 minutes</td>\n",
       "      <td>50</td>\n",
       "      <td>650</td>\n",
       "      <td>Delhi</td>\n",
       "      <td>Main Course</td>\n",
       "      <td>Very Good</td>\n",
       "    </tr>\n",
       "    <tr>\n",
       "      <th>8</th>\n",
       "      <td>ID_2970</td>\n",
       "      <td>Delhi University-GTB Nagar</td>\n",
       "      <td>Mithai, Street Food</td>\n",
       "      <td>₹100</td>\n",
       "      <td>₹50</td>\n",
       "      <td>3.9</td>\n",
       "      <td>110.0</td>\n",
       "      <td>26.0</td>\n",
       "      <td>30 minutes</td>\n",
       "      <td>50</td>\n",
       "      <td>100</td>\n",
       "      <td>Delhi</td>\n",
       "      <td>Deserts</td>\n",
       "      <td>Good</td>\n",
       "    </tr>\n",
       "    <tr>\n",
       "      <th>9</th>\n",
       "      <td>ID_3474</td>\n",
       "      <td>Sector 1, Noida</td>\n",
       "      <td>Fast Food, North Indian, Rolls, Chinese, Momos...</td>\n",
       "      <td>₹200</td>\n",
       "      <td>₹50</td>\n",
       "      <td>3.9</td>\n",
       "      <td>562.0</td>\n",
       "      <td>294.0</td>\n",
       "      <td>65 minutes</td>\n",
       "      <td>50</td>\n",
       "      <td>200</td>\n",
       "      <td>Noida</td>\n",
       "      <td>Fast Food</td>\n",
       "      <td>Good</td>\n",
       "    </tr>\n",
       "    <tr>\n",
       "      <th>10</th>\n",
       "      <td>ID_5159</td>\n",
       "      <td>Mumbai Central</td>\n",
       "      <td>North Indian, Chinese, Mughlai</td>\n",
       "      <td>₹350</td>\n",
       "      <td>₹50</td>\n",
       "      <td>3.8</td>\n",
       "      <td>186.0</td>\n",
       "      <td>61.0</td>\n",
       "      <td>30 minutes</td>\n",
       "      <td>50</td>\n",
       "      <td>350</td>\n",
       "      <td>Mumbai</td>\n",
       "      <td>Main Course</td>\n",
       "      <td>Good</td>\n",
       "    </tr>\n",
       "    <tr>\n",
       "      <th>11</th>\n",
       "      <td>ID_1696</td>\n",
       "      <td>Yerawada, Pune, Maharashtra</td>\n",
       "      <td>Chinese, Thai, Indonesian, Italian</td>\n",
       "      <td>₹800</td>\n",
       "      <td>₹50</td>\n",
       "      <td>4.2</td>\n",
       "      <td>1693.0</td>\n",
       "      <td>1239.0</td>\n",
       "      <td>45 minutes</td>\n",
       "      <td>50</td>\n",
       "      <td>800</td>\n",
       "      <td>Pune</td>\n",
       "      <td>Main Course</td>\n",
       "      <td>Very Good</td>\n",
       "    </tr>\n",
       "    <tr>\n",
       "      <th>12</th>\n",
       "      <td>ID_1156</td>\n",
       "      <td>Sector 1, Noida</td>\n",
       "      <td>Burger, Fast Food, Desserts, Beverages</td>\n",
       "      <td>₹150</td>\n",
       "      <td>₹50</td>\n",
       "      <td>3.6</td>\n",
       "      <td>63.0</td>\n",
       "      <td>26.0</td>\n",
       "      <td>30 minutes</td>\n",
       "      <td>50</td>\n",
       "      <td>150</td>\n",
       "      <td>Noida</td>\n",
       "      <td>Fast Food</td>\n",
       "      <td>Good</td>\n",
       "    </tr>\n",
       "    <tr>\n",
       "      <th>13</th>\n",
       "      <td>ID_354</td>\n",
       "      <td>Delhi University-GTB Nagar</td>\n",
       "      <td>Beverages</td>\n",
       "      <td>₹50</td>\n",
       "      <td>₹0</td>\n",
       "      <td>3.8</td>\n",
       "      <td>184.0</td>\n",
       "      <td>128.0</td>\n",
       "      <td>45 minutes</td>\n",
       "      <td>0</td>\n",
       "      <td>50</td>\n",
       "      <td>Delhi</td>\n",
       "      <td>Beverages</td>\n",
       "      <td>Good</td>\n",
       "    </tr>\n",
       "    <tr>\n",
       "      <th>14</th>\n",
       "      <td>ID_6891</td>\n",
       "      <td>Delhi Administration Flats, Timarpur</td>\n",
       "      <td>Fast Food</td>\n",
       "      <td>₹100</td>\n",
       "      <td>₹50</td>\n",
       "      <td>3.5</td>\n",
       "      <td>23.0</td>\n",
       "      <td>5.0</td>\n",
       "      <td>30 minutes</td>\n",
       "      <td>50</td>\n",
       "      <td>100</td>\n",
       "      <td>Delhi</td>\n",
       "      <td>Fast Food</td>\n",
       "      <td>Good</td>\n",
       "    </tr>\n",
       "    <tr>\n",
       "      <th>15</th>\n",
       "      <td>ID_6406</td>\n",
       "      <td>Moulali, Kolkata</td>\n",
       "      <td>Biryani, Mughlai</td>\n",
       "      <td>₹100</td>\n",
       "      <td>₹50</td>\n",
       "      <td>3.6</td>\n",
       "      <td>353.0</td>\n",
       "      <td>53.0</td>\n",
       "      <td>30 minutes</td>\n",
       "      <td>50</td>\n",
       "      <td>100</td>\n",
       "      <td>Kolkata</td>\n",
       "      <td>Main Course</td>\n",
       "      <td>Good</td>\n",
       "    </tr>\n",
       "    <tr>\n",
       "      <th>16</th>\n",
       "      <td>ID_2141</td>\n",
       "      <td>Sector 1, Noida</td>\n",
       "      <td>Italian</td>\n",
       "      <td>₹100</td>\n",
       "      <td>₹50</td>\n",
       "      <td>3.6</td>\n",
       "      <td>63.0</td>\n",
       "      <td>26.0</td>\n",
       "      <td>30 minutes</td>\n",
       "      <td>50</td>\n",
       "      <td>100</td>\n",
       "      <td>Noida</td>\n",
       "      <td>Main Course</td>\n",
       "      <td>Good</td>\n",
       "    </tr>\n",
       "    <tr>\n",
       "      <th>17</th>\n",
       "      <td>ID_3355</td>\n",
       "      <td>Dockyard Road, Mumbai CST Area</td>\n",
       "      <td>Chinese, North Indian, South Indian, Fast Food</td>\n",
       "      <td>₹200</td>\n",
       "      <td>₹50</td>\n",
       "      <td>3.7</td>\n",
       "      <td>139.0</td>\n",
       "      <td>47.0</td>\n",
       "      <td>30 minutes</td>\n",
       "      <td>50</td>\n",
       "      <td>200</td>\n",
       "      <td>Mumbai</td>\n",
       "      <td>Main Course</td>\n",
       "      <td>Good</td>\n",
       "    </tr>\n",
       "    <tr>\n",
       "      <th>18</th>\n",
       "      <td>ID_5262</td>\n",
       "      <td>Pune University</td>\n",
       "      <td>Kerala, Bihari</td>\n",
       "      <td>₹150</td>\n",
       "      <td>₹50</td>\n",
       "      <td>3.6</td>\n",
       "      <td>63.0</td>\n",
       "      <td>26.0</td>\n",
       "      <td>30 minutes</td>\n",
       "      <td>50</td>\n",
       "      <td>150</td>\n",
       "      <td>Pune</td>\n",
       "      <td>Main Course</td>\n",
       "      <td>Good</td>\n",
       "    </tr>\n",
       "    <tr>\n",
       "      <th>19</th>\n",
       "      <td>ID_8148</td>\n",
       "      <td>Gora Bazar, Rajbari, North Dumdum, Kolkata</td>\n",
       "      <td>South Indian</td>\n",
       "      <td>₹100</td>\n",
       "      <td>₹50</td>\n",
       "      <td>3.7</td>\n",
       "      <td>159.0</td>\n",
       "      <td>46.0</td>\n",
       "      <td>30 minutes</td>\n",
       "      <td>50</td>\n",
       "      <td>100</td>\n",
       "      <td>Kolkata</td>\n",
       "      <td>Main Course</td>\n",
       "      <td>Good</td>\n",
       "    </tr>\n",
       "    <tr>\n",
       "      <th>20</th>\n",
       "      <td>ID_1681</td>\n",
       "      <td>D-Block, Sector 63, Noida</td>\n",
       "      <td>Chinese, North Indian, Rolls, Momos</td>\n",
       "      <td>₹200</td>\n",
       "      <td>₹99</td>\n",
       "      <td>2.8</td>\n",
       "      <td>67.0</td>\n",
       "      <td>23.0</td>\n",
       "      <td>45 minutes</td>\n",
       "      <td>99</td>\n",
       "      <td>200</td>\n",
       "      <td>Noida</td>\n",
       "      <td>Main Course</td>\n",
       "      <td>Poor</td>\n",
       "    </tr>\n",
       "    <tr>\n",
       "      <th>21</th>\n",
       "      <td>ID_3994</td>\n",
       "      <td>Sector 14, Noida</td>\n",
       "      <td>North Indian, Rolls</td>\n",
       "      <td>₹150</td>\n",
       "      <td>₹50</td>\n",
       "      <td>3.9</td>\n",
       "      <td>387.0</td>\n",
       "      <td>160.0</td>\n",
       "      <td>45 minutes</td>\n",
       "      <td>50</td>\n",
       "      <td>150</td>\n",
       "      <td>Noida</td>\n",
       "      <td>Main Course</td>\n",
       "      <td>Good</td>\n",
       "    </tr>\n",
       "    <tr>\n",
       "      <th>22</th>\n",
       "      <td>ID_4012</td>\n",
       "      <td>D-Block, Sector 63, Noida</td>\n",
       "      <td>North Indian, Chinese</td>\n",
       "      <td>₹250</td>\n",
       "      <td>₹50</td>\n",
       "      <td>3.0</td>\n",
       "      <td>5.0</td>\n",
       "      <td>2.0</td>\n",
       "      <td>30 minutes</td>\n",
       "      <td>50</td>\n",
       "      <td>250</td>\n",
       "      <td>Noida</td>\n",
       "      <td>Main Course</td>\n",
       "      <td>Average</td>\n",
       "    </tr>\n",
       "    <tr>\n",
       "      <th>23</th>\n",
       "      <td>ID_240</td>\n",
       "      <td>D-Block, Sector 63, Noida</td>\n",
       "      <td>Biryani, North Indian</td>\n",
       "      <td>₹200</td>\n",
       "      <td>₹99</td>\n",
       "      <td>3.7</td>\n",
       "      <td>138.0</td>\n",
       "      <td>26.0</td>\n",
       "      <td>65 minutes</td>\n",
       "      <td>99</td>\n",
       "      <td>200</td>\n",
       "      <td>Noida</td>\n",
       "      <td>Main Course</td>\n",
       "      <td>Good</td>\n",
       "    </tr>\n",
       "    <tr>\n",
       "      <th>24</th>\n",
       "      <td>ID_4751</td>\n",
       "      <td>Sector 3, Marathalli</td>\n",
       "      <td>North Indian, Chinese, Fast Food</td>\n",
       "      <td>₹150</td>\n",
       "      <td>₹50</td>\n",
       "      <td>3.2</td>\n",
       "      <td>4.0</td>\n",
       "      <td>1.0</td>\n",
       "      <td>30 minutes</td>\n",
       "      <td>50</td>\n",
       "      <td>150</td>\n",
       "      <td>Bangalore</td>\n",
       "      <td>Main Course</td>\n",
       "      <td>Average</td>\n",
       "    </tr>\n",
       "    <tr>\n",
       "      <th>25</th>\n",
       "      <td>ID_4944</td>\n",
       "      <td>Mico Layout, Stage 2, BTM Layout,Bangalore</td>\n",
       "      <td>Desserts, Ice Cream</td>\n",
       "      <td>₹100</td>\n",
       "      <td>₹50</td>\n",
       "      <td>3.6</td>\n",
       "      <td>63.0</td>\n",
       "      <td>26.0</td>\n",
       "      <td>45 minutes</td>\n",
       "      <td>50</td>\n",
       "      <td>100</td>\n",
       "      <td>Bangalore</td>\n",
       "      <td>Deserts</td>\n",
       "      <td>Good</td>\n",
       "    </tr>\n",
       "    <tr>\n",
       "      <th>26</th>\n",
       "      <td>ID_7029</td>\n",
       "      <td>D-Block, Sector 63, Noida</td>\n",
       "      <td>North Indian, Chinese</td>\n",
       "      <td>₹100</td>\n",
       "      <td>₹99</td>\n",
       "      <td>3.7</td>\n",
       "      <td>110.0</td>\n",
       "      <td>38.0</td>\n",
       "      <td>45 minutes</td>\n",
       "      <td>99</td>\n",
       "      <td>100</td>\n",
       "      <td>Noida</td>\n",
       "      <td>Main Course</td>\n",
       "      <td>Good</td>\n",
       "    </tr>\n",
       "    <tr>\n",
       "      <th>27</th>\n",
       "      <td>ID_6769</td>\n",
       "      <td>Mumbai Central</td>\n",
       "      <td>Fast Food, South Indian, Street Food</td>\n",
       "      <td>₹150</td>\n",
       "      <td>₹50</td>\n",
       "      <td>3.2</td>\n",
       "      <td>15.0</td>\n",
       "      <td>9.0</td>\n",
       "      <td>45 minutes</td>\n",
       "      <td>50</td>\n",
       "      <td>150</td>\n",
       "      <td>Mumbai</td>\n",
       "      <td>Fast Food</td>\n",
       "      <td>Average</td>\n",
       "    </tr>\n",
       "    <tr>\n",
       "      <th>28</th>\n",
       "      <td>ID_5547</td>\n",
       "      <td>Dockyard Road, Mumbai CST Area</td>\n",
       "      <td>North Indian</td>\n",
       "      <td>₹150</td>\n",
       "      <td>₹50</td>\n",
       "      <td>3.3</td>\n",
       "      <td>44.0</td>\n",
       "      <td>19.0</td>\n",
       "      <td>45 minutes</td>\n",
       "      <td>50</td>\n",
       "      <td>150</td>\n",
       "      <td>Mumbai</td>\n",
       "      <td>Main Course</td>\n",
       "      <td>Average</td>\n",
       "    </tr>\n",
       "    <tr>\n",
       "      <th>29</th>\n",
       "      <td>ID_1957</td>\n",
       "      <td>Sector 1, Noida</td>\n",
       "      <td>North Indian, Chinese</td>\n",
       "      <td>₹200</td>\n",
       "      <td>₹50</td>\n",
       "      <td>3.8</td>\n",
       "      <td>18.0</td>\n",
       "      <td>18.0</td>\n",
       "      <td>30 minutes</td>\n",
       "      <td>50</td>\n",
       "      <td>200</td>\n",
       "      <td>Noida</td>\n",
       "      <td>Main Course</td>\n",
       "      <td>Good</td>\n",
       "    </tr>\n",
       "    <tr>\n",
       "      <th>...</th>\n",
       "      <td>...</td>\n",
       "      <td>...</td>\n",
       "      <td>...</td>\n",
       "      <td>...</td>\n",
       "      <td>...</td>\n",
       "      <td>...</td>\n",
       "      <td>...</td>\n",
       "      <td>...</td>\n",
       "      <td>...</td>\n",
       "      <td>...</td>\n",
       "      <td>...</td>\n",
       "      <td>...</td>\n",
       "      <td>...</td>\n",
       "      <td>...</td>\n",
       "    </tr>\n",
       "    <tr>\n",
       "      <th>13838</th>\n",
       "      <td>ID_7501</td>\n",
       "      <td>Delhi Administration Flats, Timarpur</td>\n",
       "      <td>North Indian, South Indian</td>\n",
       "      <td>₹200</td>\n",
       "      <td>₹50</td>\n",
       "      <td>2.9</td>\n",
       "      <td>4.0</td>\n",
       "      <td>3.0</td>\n",
       "      <td>NaN</td>\n",
       "      <td>50</td>\n",
       "      <td>200</td>\n",
       "      <td>Delhi</td>\n",
       "      <td>Main Course</td>\n",
       "      <td>Poor</td>\n",
       "    </tr>\n",
       "    <tr>\n",
       "      <th>13839</th>\n",
       "      <td>ID_4842</td>\n",
       "      <td>Delhi University-GTB Nagar</td>\n",
       "      <td>North Indian</td>\n",
       "      <td>₹300</td>\n",
       "      <td>₹50</td>\n",
       "      <td>4.3</td>\n",
       "      <td>636.0</td>\n",
       "      <td>159.0</td>\n",
       "      <td>NaN</td>\n",
       "      <td>50</td>\n",
       "      <td>300</td>\n",
       "      <td>Delhi</td>\n",
       "      <td>Main Course</td>\n",
       "      <td>Very Good</td>\n",
       "    </tr>\n",
       "    <tr>\n",
       "      <th>13840</th>\n",
       "      <td>ID_4405</td>\n",
       "      <td>D-Block, Sector 63, Noida</td>\n",
       "      <td>North Indian, Biryani</td>\n",
       "      <td>₹250</td>\n",
       "      <td>₹50</td>\n",
       "      <td>4.0</td>\n",
       "      <td>967.0</td>\n",
       "      <td>318.0</td>\n",
       "      <td>NaN</td>\n",
       "      <td>50</td>\n",
       "      <td>250</td>\n",
       "      <td>Noida</td>\n",
       "      <td>Main Course</td>\n",
       "      <td>Very Good</td>\n",
       "    </tr>\n",
       "    <tr>\n",
       "      <th>13841</th>\n",
       "      <td>ID_4385</td>\n",
       "      <td>Musi Nagar, Malakpet, Hyderabad</td>\n",
       "      <td>South Indian</td>\n",
       "      <td>₹50</td>\n",
       "      <td>₹50</td>\n",
       "      <td>3.1</td>\n",
       "      <td>5.0</td>\n",
       "      <td>1.0</td>\n",
       "      <td>NaN</td>\n",
       "      <td>50</td>\n",
       "      <td>50</td>\n",
       "      <td>Hyderabad</td>\n",
       "      <td>Main Course</td>\n",
       "      <td>Average</td>\n",
       "    </tr>\n",
       "    <tr>\n",
       "      <th>13842</th>\n",
       "      <td>ID_1715</td>\n",
       "      <td>Sector 14, Noida</td>\n",
       "      <td>Chinese</td>\n",
       "      <td>₹250</td>\n",
       "      <td>₹50</td>\n",
       "      <td>3.6</td>\n",
       "      <td>63.0</td>\n",
       "      <td>26.0</td>\n",
       "      <td>NaN</td>\n",
       "      <td>50</td>\n",
       "      <td>250</td>\n",
       "      <td>Noida</td>\n",
       "      <td>Main Course</td>\n",
       "      <td>Good</td>\n",
       "    </tr>\n",
       "    <tr>\n",
       "      <th>13843</th>\n",
       "      <td>ID_8382</td>\n",
       "      <td>MG Road, Pune</td>\n",
       "      <td>North Indian, Street Food</td>\n",
       "      <td>₹200</td>\n",
       "      <td>₹50</td>\n",
       "      <td>3.9</td>\n",
       "      <td>175.0</td>\n",
       "      <td>59.0</td>\n",
       "      <td>NaN</td>\n",
       "      <td>50</td>\n",
       "      <td>200</td>\n",
       "      <td>Pune</td>\n",
       "      <td>Main Course</td>\n",
       "      <td>Good</td>\n",
       "    </tr>\n",
       "    <tr>\n",
       "      <th>13844</th>\n",
       "      <td>ID_1572</td>\n",
       "      <td>Sector 14, Noida</td>\n",
       "      <td>North Indian, Chinese</td>\n",
       "      <td>₹250</td>\n",
       "      <td>₹50</td>\n",
       "      <td>2.8</td>\n",
       "      <td>15.0</td>\n",
       "      <td>6.0</td>\n",
       "      <td>NaN</td>\n",
       "      <td>50</td>\n",
       "      <td>250</td>\n",
       "      <td>Noida</td>\n",
       "      <td>Main Course</td>\n",
       "      <td>Poor</td>\n",
       "    </tr>\n",
       "    <tr>\n",
       "      <th>13845</th>\n",
       "      <td>ID_3970</td>\n",
       "      <td>Nathan Road, Mangaldas Road, Pune</td>\n",
       "      <td>Burger, Fast Food</td>\n",
       "      <td>₹200</td>\n",
       "      <td>₹99</td>\n",
       "      <td>3.8</td>\n",
       "      <td>220.0</td>\n",
       "      <td>42.0</td>\n",
       "      <td>NaN</td>\n",
       "      <td>99</td>\n",
       "      <td>200</td>\n",
       "      <td>Pune</td>\n",
       "      <td>Fast Food</td>\n",
       "      <td>Good</td>\n",
       "    </tr>\n",
       "    <tr>\n",
       "      <th>13846</th>\n",
       "      <td>ID_1567</td>\n",
       "      <td>Babarpur, New Delhi, Delhi</td>\n",
       "      <td>Desserts</td>\n",
       "      <td>₹100</td>\n",
       "      <td>₹50</td>\n",
       "      <td>3.3</td>\n",
       "      <td>10.0</td>\n",
       "      <td>4.0</td>\n",
       "      <td>NaN</td>\n",
       "      <td>50</td>\n",
       "      <td>100</td>\n",
       "      <td>Delhi</td>\n",
       "      <td>Deserts</td>\n",
       "      <td>Average</td>\n",
       "    </tr>\n",
       "    <tr>\n",
       "      <th>13847</th>\n",
       "      <td>ID_5125</td>\n",
       "      <td>FTI College, Law College Road, Pune</td>\n",
       "      <td>Fast Food, Pizza, Desserts</td>\n",
       "      <td>₹200</td>\n",
       "      <td>₹50</td>\n",
       "      <td>3.4</td>\n",
       "      <td>20.0</td>\n",
       "      <td>5.0</td>\n",
       "      <td>NaN</td>\n",
       "      <td>50</td>\n",
       "      <td>200</td>\n",
       "      <td>Pune</td>\n",
       "      <td>Fast Food</td>\n",
       "      <td>Average</td>\n",
       "    </tr>\n",
       "    <tr>\n",
       "      <th>13848</th>\n",
       "      <td>ID_5318</td>\n",
       "      <td>Rmz Centennial, I Gate, Whitefield</td>\n",
       "      <td>Seafood, Biryani, North Indian</td>\n",
       "      <td>₹100</td>\n",
       "      <td>₹50</td>\n",
       "      <td>3.9</td>\n",
       "      <td>133.0</td>\n",
       "      <td>70.0</td>\n",
       "      <td>NaN</td>\n",
       "      <td>50</td>\n",
       "      <td>100</td>\n",
       "      <td>Bangalore</td>\n",
       "      <td>Main Course</td>\n",
       "      <td>Good</td>\n",
       "    </tr>\n",
       "    <tr>\n",
       "      <th>13849</th>\n",
       "      <td>ID_7930</td>\n",
       "      <td>MG Road, Pune</td>\n",
       "      <td>North Indian, Maharashtrian, Chinese</td>\n",
       "      <td>₹300</td>\n",
       "      <td>₹50</td>\n",
       "      <td>3.6</td>\n",
       "      <td>63.0</td>\n",
       "      <td>26.0</td>\n",
       "      <td>NaN</td>\n",
       "      <td>50</td>\n",
       "      <td>300</td>\n",
       "      <td>Pune</td>\n",
       "      <td>Main Course</td>\n",
       "      <td>Good</td>\n",
       "    </tr>\n",
       "    <tr>\n",
       "      <th>13850</th>\n",
       "      <td>ID_6568</td>\n",
       "      <td>Mico Layout, Stage 2, BTM Layout,Bangalore</td>\n",
       "      <td>South Indian, Beverages</td>\n",
       "      <td>₹50</td>\n",
       "      <td>₹50</td>\n",
       "      <td>3.5</td>\n",
       "      <td>11.0</td>\n",
       "      <td>7.0</td>\n",
       "      <td>NaN</td>\n",
       "      <td>50</td>\n",
       "      <td>50</td>\n",
       "      <td>Bangalore</td>\n",
       "      <td>Main Course</td>\n",
       "      <td>Good</td>\n",
       "    </tr>\n",
       "    <tr>\n",
       "      <th>13851</th>\n",
       "      <td>ID_5885</td>\n",
       "      <td>Sector 14, Noida</td>\n",
       "      <td>North Indian</td>\n",
       "      <td>₹100</td>\n",
       "      <td>₹50</td>\n",
       "      <td>3.6</td>\n",
       "      <td>63.0</td>\n",
       "      <td>26.0</td>\n",
       "      <td>NaN</td>\n",
       "      <td>50</td>\n",
       "      <td>100</td>\n",
       "      <td>Noida</td>\n",
       "      <td>Main Course</td>\n",
       "      <td>Good</td>\n",
       "    </tr>\n",
       "    <tr>\n",
       "      <th>13852</th>\n",
       "      <td>ID_5905</td>\n",
       "      <td>Mico Layout, Stage 2, BTM Layout,Bangalore</td>\n",
       "      <td>North Indian</td>\n",
       "      <td>₹350</td>\n",
       "      <td>₹199</td>\n",
       "      <td>3.5</td>\n",
       "      <td>444.0</td>\n",
       "      <td>249.0</td>\n",
       "      <td>NaN</td>\n",
       "      <td>199</td>\n",
       "      <td>350</td>\n",
       "      <td>Bangalore</td>\n",
       "      <td>Main Course</td>\n",
       "      <td>Good</td>\n",
       "    </tr>\n",
       "    <tr>\n",
       "      <th>13853</th>\n",
       "      <td>ID_2962</td>\n",
       "      <td>FTI College, Law College Road, Pune</td>\n",
       "      <td>Rolls, Fast Food</td>\n",
       "      <td>₹150</td>\n",
       "      <td>₹50</td>\n",
       "      <td>3.6</td>\n",
       "      <td>63.0</td>\n",
       "      <td>26.0</td>\n",
       "      <td>NaN</td>\n",
       "      <td>50</td>\n",
       "      <td>150</td>\n",
       "      <td>Pune</td>\n",
       "      <td>Fast Food</td>\n",
       "      <td>Good</td>\n",
       "    </tr>\n",
       "    <tr>\n",
       "      <th>13854</th>\n",
       "      <td>ID_7287</td>\n",
       "      <td>Tejas Nagar Colony, Wadala West, Mumbai</td>\n",
       "      <td>Mithai, Street Food</td>\n",
       "      <td>₹100</td>\n",
       "      <td>₹50</td>\n",
       "      <td>3.7</td>\n",
       "      <td>63.0</td>\n",
       "      <td>26.0</td>\n",
       "      <td>NaN</td>\n",
       "      <td>50</td>\n",
       "      <td>100</td>\n",
       "      <td>Mumbai</td>\n",
       "      <td>Deserts</td>\n",
       "      <td>Good</td>\n",
       "    </tr>\n",
       "    <tr>\n",
       "      <th>13855</th>\n",
       "      <td>ID_1343</td>\n",
       "      <td>Panjetan Colony, Malakpet, Hyderabad</td>\n",
       "      <td>Bakery</td>\n",
       "      <td>₹150</td>\n",
       "      <td>₹50</td>\n",
       "      <td>3.6</td>\n",
       "      <td>63.0</td>\n",
       "      <td>26.0</td>\n",
       "      <td>NaN</td>\n",
       "      <td>50</td>\n",
       "      <td>150</td>\n",
       "      <td>Hyderabad</td>\n",
       "      <td>Deserts</td>\n",
       "      <td>Good</td>\n",
       "    </tr>\n",
       "    <tr>\n",
       "      <th>13856</th>\n",
       "      <td>ID_1784</td>\n",
       "      <td>Rmz Centennial, I Gate, Whitefield</td>\n",
       "      <td>North Indian, Bengali, Chinese</td>\n",
       "      <td>₹200</td>\n",
       "      <td>₹50</td>\n",
       "      <td>3.7</td>\n",
       "      <td>56.0</td>\n",
       "      <td>41.0</td>\n",
       "      <td>NaN</td>\n",
       "      <td>50</td>\n",
       "      <td>200</td>\n",
       "      <td>Bangalore</td>\n",
       "      <td>Main Course</td>\n",
       "      <td>Good</td>\n",
       "    </tr>\n",
       "    <tr>\n",
       "      <th>13857</th>\n",
       "      <td>ID_1395</td>\n",
       "      <td>Mumbai Central</td>\n",
       "      <td>Asian, Italian, Continental, Desserts, Healthy...</td>\n",
       "      <td>₹800</td>\n",
       "      <td>₹99</td>\n",
       "      <td>4.5</td>\n",
       "      <td>1256.0</td>\n",
       "      <td>731.0</td>\n",
       "      <td>NaN</td>\n",
       "      <td>99</td>\n",
       "      <td>800</td>\n",
       "      <td>Mumbai</td>\n",
       "      <td>Main Course</td>\n",
       "      <td>Excellent</td>\n",
       "    </tr>\n",
       "    <tr>\n",
       "      <th>13858</th>\n",
       "      <td>ID_1046</td>\n",
       "      <td>Rmz Centennial, I Gate, Whitefield</td>\n",
       "      <td>South Indian</td>\n",
       "      <td>₹100</td>\n",
       "      <td>₹50</td>\n",
       "      <td>3.9</td>\n",
       "      <td>16.0</td>\n",
       "      <td>8.0</td>\n",
       "      <td>NaN</td>\n",
       "      <td>50</td>\n",
       "      <td>100</td>\n",
       "      <td>Bangalore</td>\n",
       "      <td>Main Course</td>\n",
       "      <td>Good</td>\n",
       "    </tr>\n",
       "    <tr>\n",
       "      <th>13859</th>\n",
       "      <td>ID_5635</td>\n",
       "      <td>D-Block, Sector 63, Noida</td>\n",
       "      <td>North Indian, Rolls, Chinese, Continental, Fas...</td>\n",
       "      <td>₹150</td>\n",
       "      <td>₹50</td>\n",
       "      <td>4.0</td>\n",
       "      <td>313.0</td>\n",
       "      <td>192.0</td>\n",
       "      <td>NaN</td>\n",
       "      <td>50</td>\n",
       "      <td>150</td>\n",
       "      <td>Noida</td>\n",
       "      <td>Main Course</td>\n",
       "      <td>Very Good</td>\n",
       "    </tr>\n",
       "    <tr>\n",
       "      <th>13860</th>\n",
       "      <td>ID_4371</td>\n",
       "      <td>Dockyard Road, Mumbai CST Area</td>\n",
       "      <td>Desserts, Beverages</td>\n",
       "      <td>₹150</td>\n",
       "      <td>₹50</td>\n",
       "      <td>3.3</td>\n",
       "      <td>7.0</td>\n",
       "      <td>5.0</td>\n",
       "      <td>NaN</td>\n",
       "      <td>50</td>\n",
       "      <td>150</td>\n",
       "      <td>Mumbai</td>\n",
       "      <td>Deserts</td>\n",
       "      <td>Average</td>\n",
       "    </tr>\n",
       "    <tr>\n",
       "      <th>13861</th>\n",
       "      <td>ID_908</td>\n",
       "      <td>Sector 1, Noida</td>\n",
       "      <td>Biryani</td>\n",
       "      <td>₹200</td>\n",
       "      <td>₹50</td>\n",
       "      <td>3.3</td>\n",
       "      <td>21.0</td>\n",
       "      <td>4.0</td>\n",
       "      <td>NaN</td>\n",
       "      <td>50</td>\n",
       "      <td>200</td>\n",
       "      <td>Noida</td>\n",
       "      <td>Main Course</td>\n",
       "      <td>Average</td>\n",
       "    </tr>\n",
       "    <tr>\n",
       "      <th>13862</th>\n",
       "      <td>ID_3418</td>\n",
       "      <td>Musi Nagar, Malakpet, Hyderabad</td>\n",
       "      <td>North Indian, Chinese, South Indian, Desserts</td>\n",
       "      <td>₹300</td>\n",
       "      <td>₹50</td>\n",
       "      <td>3.4</td>\n",
       "      <td>31.0</td>\n",
       "      <td>12.0</td>\n",
       "      <td>NaN</td>\n",
       "      <td>50</td>\n",
       "      <td>300</td>\n",
       "      <td>Hyderabad</td>\n",
       "      <td>Main Course</td>\n",
       "      <td>Average</td>\n",
       "    </tr>\n",
       "    <tr>\n",
       "      <th>13863</th>\n",
       "      <td>ID_6342</td>\n",
       "      <td>Delhi University-GTB Nagar</td>\n",
       "      <td>Fast Food, Chinese</td>\n",
       "      <td>₹100</td>\n",
       "      <td>₹50</td>\n",
       "      <td>3.6</td>\n",
       "      <td>63.0</td>\n",
       "      <td>26.0</td>\n",
       "      <td>NaN</td>\n",
       "      <td>50</td>\n",
       "      <td>100</td>\n",
       "      <td>Delhi</td>\n",
       "      <td>Fast Food</td>\n",
       "      <td>Good</td>\n",
       "    </tr>\n",
       "    <tr>\n",
       "      <th>13864</th>\n",
       "      <td>ID_8495</td>\n",
       "      <td>Mico Layout, Stage 2, BTM Layout,Bangalore</td>\n",
       "      <td>Continental, North Indian, Desserts, Beverages</td>\n",
       "      <td>₹250</td>\n",
       "      <td>₹50</td>\n",
       "      <td>3.1</td>\n",
       "      <td>5.0</td>\n",
       "      <td>1.0</td>\n",
       "      <td>NaN</td>\n",
       "      <td>50</td>\n",
       "      <td>250</td>\n",
       "      <td>Bangalore</td>\n",
       "      <td>Main Course</td>\n",
       "      <td>Average</td>\n",
       "    </tr>\n",
       "    <tr>\n",
       "      <th>13865</th>\n",
       "      <td>ID_7122</td>\n",
       "      <td>Noorkhan Bazaar, Malakpet, Hyderabad</td>\n",
       "      <td>Andhra, South Indian</td>\n",
       "      <td>₹150</td>\n",
       "      <td>₹50</td>\n",
       "      <td>3.0</td>\n",
       "      <td>16.0</td>\n",
       "      <td>1.0</td>\n",
       "      <td>NaN</td>\n",
       "      <td>50</td>\n",
       "      <td>150</td>\n",
       "      <td>Hyderabad</td>\n",
       "      <td>Main Course</td>\n",
       "      <td>Average</td>\n",
       "    </tr>\n",
       "    <tr>\n",
       "      <th>13866</th>\n",
       "      <td>ID_2475</td>\n",
       "      <td>D-Block, Sector 63, Noida</td>\n",
       "      <td>Bakery</td>\n",
       "      <td>₹100</td>\n",
       "      <td>₹99</td>\n",
       "      <td>3.0</td>\n",
       "      <td>7.0</td>\n",
       "      <td>2.0</td>\n",
       "      <td>NaN</td>\n",
       "      <td>99</td>\n",
       "      <td>100</td>\n",
       "      <td>Noida</td>\n",
       "      <td>Deserts</td>\n",
       "      <td>Average</td>\n",
       "    </tr>\n",
       "    <tr>\n",
       "      <th>13867</th>\n",
       "      <td>ID_1595</td>\n",
       "      <td>Dockyard Road, Mumbai CST Area</td>\n",
       "      <td>Italian, Street Food, Fast Food</td>\n",
       "      <td>₹150</td>\n",
       "      <td>₹50</td>\n",
       "      <td>3.6</td>\n",
       "      <td>99.0</td>\n",
       "      <td>30.0</td>\n",
       "      <td>NaN</td>\n",
       "      <td>50</td>\n",
       "      <td>150</td>\n",
       "      <td>Mumbai</td>\n",
       "      <td>Main Course</td>\n",
       "      <td>Good</td>\n",
       "    </tr>\n",
       "  </tbody>\n",
       "</table>\n",
       "<p>13868 rows × 14 columns</p>\n",
       "</div>"
      ],
      "text/plain": [
       "      Restaurant                                    Location  \\\n",
       "0        ID_6321         FTI College, Law College Road, Pune   \n",
       "1        ID_2882                        Sector 3, Marathalli   \n",
       "2        ID_1595                              Mumbai Central   \n",
       "3        ID_5929                             Sector 1, Noida   \n",
       "4        ID_6123          Rmz Centennial, I Gate, Whitefield   \n",
       "...          ...                                         ...   \n",
       "13863    ID_6342                  Delhi University-GTB Nagar   \n",
       "13864    ID_8495  Mico Layout, Stage 2, BTM Layout,Bangalore   \n",
       "13865    ID_7122        Noorkhan Bazaar, Malakpet, Hyderabad   \n",
       "13866    ID_2475                   D-Block, Sector 63, Noida   \n",
       "13867    ID_1595              Dockyard Road, Mumbai CST Area   \n",
       "\n",
       "                                             Cuisines Average_Cost  \\\n",
       "0              Fast Food, Rolls, Burger, Salad, Wraps         ₹200   \n",
       "1                                 Ice Cream, Desserts         ₹100   \n",
       "2                     Italian, Street Food, Fast Food         ₹150   \n",
       "3                      Mughlai, North Indian, Chinese         ₹250   \n",
       "4                                     Cafe, Beverages         ₹200   \n",
       "...                                               ...          ...   \n",
       "13863                              Fast Food, Chinese         ₹100   \n",
       "13864  Continental, North Indian, Desserts, Beverages         ₹250   \n",
       "13865                            Andhra, South Indian         ₹150   \n",
       "13866                                          Bakery         ₹100   \n",
       "13867                 Italian, Street Food, Fast Food         ₹150   \n",
       "\n",
       "      Minimum_Order  Rating  Votes  Reviews Delivery_Time  MinOrder_cleansed  \\\n",
       "0               ₹50     3.5   12.0      4.0    30 minutes                 50   \n",
       "1               ₹50     3.5   11.0      4.0    30 minutes                 50   \n",
       "2               ₹50     3.6   99.0     30.0    65 minutes                 50   \n",
       "3               ₹99     3.7  176.0     95.0    30 minutes                 99   \n",
       "4               ₹99     3.2  521.0    235.0    65 minutes                 99   \n",
       "...             ...     ...    ...      ...           ...                ...   \n",
       "13863           ₹50     3.6   63.0     26.0           NaN                 50   \n",
       "13864           ₹50     3.1    5.0      1.0           NaN                 50   \n",
       "13865           ₹50     3.0   16.0      1.0           NaN                 50   \n",
       "13866           ₹99     3.0    7.0      2.0           NaN                 99   \n",
       "13867           ₹50     3.6   99.0     30.0           NaN                 50   \n",
       "\n",
       "       AvgCost_cleansed Location_Cleansed Cuisines_Cleansed Rating_Category  \n",
       "0                   200              Pune         Fast Food            Good  \n",
       "1                   100         Bangalore           Deserts            Good  \n",
       "2                   150            Mumbai       Main Course            Good  \n",
       "3                   250             Noida       Main Course            Good  \n",
       "4                   200         Bangalore         Fast Food         Average  \n",
       "...                 ...               ...               ...             ...  \n",
       "13863               100             Delhi         Fast Food            Good  \n",
       "13864               250         Bangalore       Main Course         Average  \n",
       "13865               150         Hyderabad       Main Course         Average  \n",
       "13866               100             Noida           Deserts         Average  \n",
       "13867               150            Mumbai       Main Course            Good  \n",
       "\n",
       "[13868 rows x 14 columns]"
      ]
     },
     "execution_count": 79,
     "metadata": {},
     "output_type": "execute_result"
    }
   ],
   "source": [
    "combined"
   ]
  },
  {
   "cell_type": "code",
   "execution_count": 80,
   "metadata": {},
   "outputs": [],
   "source": [
    "#split the Data in train and test\n",
    "\n",
    "newtrain=combined.loc[:train.shape[0]-1]"
   ]
  },
  {
   "cell_type": "code",
   "execution_count": 81,
   "metadata": {},
   "outputs": [
    {
     "data": {
      "text/plain": [
       "(11094, 14)"
      ]
     },
     "execution_count": 81,
     "metadata": {},
     "output_type": "execute_result"
    }
   ],
   "source": [
    "newtrain.shape"
   ]
  },
  {
   "cell_type": "code",
   "execution_count": 82,
   "metadata": {},
   "outputs": [],
   "source": [
    "newtest=combined.loc[11094:combined.shape[0]]"
   ]
  },
  {
   "cell_type": "code",
   "execution_count": 83,
   "metadata": {},
   "outputs": [
    {
     "data": {
      "text/plain": [
       "(2774, 14)"
      ]
     },
     "execution_count": 83,
     "metadata": {},
     "output_type": "execute_result"
    }
   ],
   "source": [
    "newtest.shape"
   ]
  },
  {
   "cell_type": "code",
   "execution_count": 84,
   "metadata": {},
   "outputs": [
    {
     "data": {
      "text/plain": [
       "Index(['Restaurant', 'Location', 'Cuisines', 'Average_Cost', 'Minimum_Order',\n",
       "       'Rating', 'Votes', 'Reviews', 'Delivery_Time', 'MinOrder_cleansed',\n",
       "       'AvgCost_cleansed', 'Location_Cleansed', 'Cuisines_Cleansed',\n",
       "       'Rating_Category'],\n",
       "      dtype='object')"
      ]
     },
     "execution_count": 84,
     "metadata": {},
     "output_type": "execute_result"
    }
   ],
   "source": [
    "newtrain.columns"
   ]
  },
  {
   "cell_type": "code",
   "execution_count": 85,
   "metadata": {},
   "outputs": [],
   "source": [
    "train_new=newtrain.drop(['Restaurant', 'Location', 'Cuisines', 'Average_Cost', 'Minimum_Order'], axis=1)"
   ]
  },
  {
   "cell_type": "code",
   "execution_count": 86,
   "metadata": {},
   "outputs": [],
   "source": [
    "test_new=newtest.drop(['Restaurant', 'Location', 'Cuisines', 'Average_Cost', 'Minimum_Order','Delivery_Time'], axis=1)"
   ]
  },
  {
   "cell_type": "code",
   "execution_count": 87,
   "metadata": {},
   "outputs": [
    {
     "data": {
      "text/html": [
       "<div>\n",
       "<style scoped>\n",
       "    .dataframe tbody tr th:only-of-type {\n",
       "        vertical-align: middle;\n",
       "    }\n",
       "\n",
       "    .dataframe tbody tr th {\n",
       "        vertical-align: top;\n",
       "    }\n",
       "\n",
       "    .dataframe thead th {\n",
       "        text-align: right;\n",
       "    }\n",
       "</style>\n",
       "<table border=\"1\" class=\"dataframe\">\n",
       "  <thead>\n",
       "    <tr style=\"text-align: right;\">\n",
       "      <th></th>\n",
       "      <th>Rating</th>\n",
       "      <th>Votes</th>\n",
       "      <th>Reviews</th>\n",
       "      <th>Delivery_Time</th>\n",
       "      <th>MinOrder_cleansed</th>\n",
       "      <th>AvgCost_cleansed</th>\n",
       "      <th>Location_Cleansed</th>\n",
       "      <th>Cuisines_Cleansed</th>\n",
       "      <th>Rating_Category</th>\n",
       "    </tr>\n",
       "  </thead>\n",
       "  <tbody>\n",
       "    <tr>\n",
       "      <th>0</th>\n",
       "      <td>3.5</td>\n",
       "      <td>12.0</td>\n",
       "      <td>4.0</td>\n",
       "      <td>30 minutes</td>\n",
       "      <td>50</td>\n",
       "      <td>200</td>\n",
       "      <td>Pune</td>\n",
       "      <td>Fast Food</td>\n",
       "      <td>Good</td>\n",
       "    </tr>\n",
       "    <tr>\n",
       "      <th>1</th>\n",
       "      <td>3.5</td>\n",
       "      <td>11.0</td>\n",
       "      <td>4.0</td>\n",
       "      <td>30 minutes</td>\n",
       "      <td>50</td>\n",
       "      <td>100</td>\n",
       "      <td>Bangalore</td>\n",
       "      <td>Deserts</td>\n",
       "      <td>Good</td>\n",
       "    </tr>\n",
       "    <tr>\n",
       "      <th>2</th>\n",
       "      <td>3.6</td>\n",
       "      <td>99.0</td>\n",
       "      <td>30.0</td>\n",
       "      <td>65 minutes</td>\n",
       "      <td>50</td>\n",
       "      <td>150</td>\n",
       "      <td>Mumbai</td>\n",
       "      <td>Main Course</td>\n",
       "      <td>Good</td>\n",
       "    </tr>\n",
       "    <tr>\n",
       "      <th>3</th>\n",
       "      <td>3.7</td>\n",
       "      <td>176.0</td>\n",
       "      <td>95.0</td>\n",
       "      <td>30 minutes</td>\n",
       "      <td>99</td>\n",
       "      <td>250</td>\n",
       "      <td>Noida</td>\n",
       "      <td>Main Course</td>\n",
       "      <td>Good</td>\n",
       "    </tr>\n",
       "    <tr>\n",
       "      <th>4</th>\n",
       "      <td>3.2</td>\n",
       "      <td>521.0</td>\n",
       "      <td>235.0</td>\n",
       "      <td>65 minutes</td>\n",
       "      <td>99</td>\n",
       "      <td>200</td>\n",
       "      <td>Bangalore</td>\n",
       "      <td>Fast Food</td>\n",
       "      <td>Average</td>\n",
       "    </tr>\n",
       "  </tbody>\n",
       "</table>\n",
       "</div>"
      ],
      "text/plain": [
       "   Rating  Votes  Reviews Delivery_Time  MinOrder_cleansed  AvgCost_cleansed  \\\n",
       "0     3.5   12.0      4.0    30 minutes                 50               200   \n",
       "1     3.5   11.0      4.0    30 minutes                 50               100   \n",
       "2     3.6   99.0     30.0    65 minutes                 50               150   \n",
       "3     3.7  176.0     95.0    30 minutes                 99               250   \n",
       "4     3.2  521.0    235.0    65 minutes                 99               200   \n",
       "\n",
       "  Location_Cleansed Cuisines_Cleansed Rating_Category  \n",
       "0              Pune         Fast Food            Good  \n",
       "1         Bangalore           Deserts            Good  \n",
       "2            Mumbai       Main Course            Good  \n",
       "3             Noida       Main Course            Good  \n",
       "4         Bangalore         Fast Food         Average  "
      ]
     },
     "execution_count": 87,
     "metadata": {},
     "output_type": "execute_result"
    }
   ],
   "source": [
    "train_new.head()"
   ]
  },
  {
   "cell_type": "code",
   "execution_count": 88,
   "metadata": {},
   "outputs": [
    {
     "name": "stderr",
     "output_type": "stream",
     "text": [
      "c:\\users\\kohad\\appdata\\local\\programs\\python\\python37-32\\lib\\site-packages\\statsmodels\\nonparametric\\kde.py:487: RuntimeWarning: invalid value encountered in true_divide\n",
      "  binned = fast_linbin(X, a, b, gridsize) / (delta * nobs)\n",
      "c:\\users\\kohad\\appdata\\local\\programs\\python\\python37-32\\lib\\site-packages\\statsmodels\\nonparametric\\kdetools.py:34: RuntimeWarning: invalid value encountered in double_scalars\n",
      "  FAC1 = 2*(np.pi*bw/RANGE)**2\n"
     ]
    },
    {
     "data": {
      "text/plain": [
       "<seaborn.axisgrid.PairGrid at 0xa730810>"
      ]
     },
     "execution_count": 88,
     "metadata": {},
     "output_type": "execute_result"
    },
    {
     "data": {
      "image/png": "[encoded data removed]",
      "text/plain": [
       "<Figure size 998.625x900 with 30 Axes>"
      ]
     },
     "metadata": {
      "needs_background": "light"
     },
     "output_type": "display_data"
    }
   ],
   "source": [
    "sns.pairplot(train_new ,hue=\"Delivery_Time\")"
   ]
  },
  {
   "cell_type": "markdown",
   "metadata": {},
   "source": [
    "### problem statement- I want find out if rating has an impact on delivery time\n",
    "\n",
    "### NULL Hypothesis\n",
    "H0=THere is no impact on Delivery TIME VS RATING\n",
    "\n",
    "### Alternative Hypothesis\n",
    "H1=There is Impact on Delivery Time vs Rating.IN Other words,the delivery time is impacted by the ratings\n",
    "\n",
    "### choose Level of significance vs Alpha\n",
    "LOS=0.95 and Alpha=0.05\n",
    "\n",
    "### Test of significance -ANova | Ftest\n",
    "\n",
    "(Since one column is numerical and another is categorial in nature)\n",
    "\n",
    "# Inference rule- If p val is < 0.05, then we reject the null hypo and accept the alternate hypo and vice versa\n"
   ]
  },
  {
   "cell_type": "code",
   "execution_count": 89,
   "metadata": {},
   "outputs": [],
   "source": [
    "import scipy.stats as stats\n",
    "import statsmodels.api as sms #Anova Table Library\n",
    "from statsmodels.formula.api import ols #regression fit model"
   ]
  },
  {
   "cell_type": "code",
   "execution_count": 90,
   "metadata": {},
   "outputs": [],
   "source": [
    "#lets fit ols model\n",
    "model=ols(\"Rating~Delivery_Time\" ,data=train_new).fit()"
   ]
  },
  {
   "cell_type": "code",
   "execution_count": 91,
   "metadata": {},
   "outputs": [
    {
     "data": {
      "text/html": [
       "<div>\n",
       "<style scoped>\n",
       "    .dataframe tbody tr th:only-of-type {\n",
       "        vertical-align: middle;\n",
       "    }\n",
       "\n",
       "    .dataframe tbody tr th {\n",
       "        vertical-align: top;\n",
       "    }\n",
       "\n",
       "    .dataframe thead th {\n",
       "        text-align: right;\n",
       "    }\n",
       "</style>\n",
       "<table border=\"1\" class=\"dataframe\">\n",
       "  <thead>\n",
       "    <tr style=\"text-align: right;\">\n",
       "      <th></th>\n",
       "      <th>df</th>\n",
       "      <th>sum_sq</th>\n",
       "      <th>mean_sq</th>\n",
       "      <th>F</th>\n",
       "      <th>PR(&gt;F)</th>\n",
       "    </tr>\n",
       "  </thead>\n",
       "  <tbody>\n",
       "    <tr>\n",
       "      <th>Delivery_Time</th>\n",
       "      <td>6.0</td>\n",
       "      <td>51.471247</td>\n",
       "      <td>8.578541</td>\n",
       "      <td>62.727838</td>\n",
       "      <td>7.136598e-77</td>\n",
       "    </tr>\n",
       "    <tr>\n",
       "      <th>Residual</th>\n",
       "      <td>11087.0</td>\n",
       "      <td>1516.237260</td>\n",
       "      <td>0.136758</td>\n",
       "      <td>NaN</td>\n",
       "      <td>NaN</td>\n",
       "    </tr>\n",
       "  </tbody>\n",
       "</table>\n",
       "</div>"
      ],
      "text/plain": [
       "                    df       sum_sq   mean_sq          F        PR(>F)\n",
       "Delivery_Time      6.0    51.471247  8.578541  62.727838  7.136598e-77\n",
       "Residual       11087.0  1516.237260  0.136758        NaN           NaN"
      ]
     },
     "execution_count": 91,
     "metadata": {},
     "output_type": "execute_result"
    }
   ],
   "source": [
    "#anova\n",
    "sms.stats.anova_lm(model)"
   ]
  },
  {
   "cell_type": "markdown",
   "metadata": {},
   "source": [
    "## Summary of the test\n",
    "\n",
    "### 1.If the columns are numerical in nature and no population metric is given then T-test is an ideal test\n",
    "\n",
    "### 2. If one column is numerical and another one is categorical in nature then the variance can be explained by applying ANOVA.\n",
    "\n",
    "### 3.If both the columns are categorical in nature ,the we apply CHI-SQUARE test of goodness of fit.\n"
   ]
  },
  {
   "cell_type": "code",
   "execution_count": 92,
   "metadata": {},
   "outputs": [],
   "source": [
    " df= pd.crosstab(train_new['Rating'],train_new['Delivery_Time'])"
   ]
  },
  {
   "cell_type": "code",
   "execution_count": 93,
   "metadata": {},
   "outputs": [
    {
     "data": {
      "text/plain": [
       "(1468.9032957219797,\n",
       " 2.3043062828739024e-206,\n",
       " 168,\n",
       " array([[3.60555255e-04, 5.58860645e-03, 1.80277628e-03, 6.67568055e-01,\n",
       "         2.40219939e-01, 8.31981251e-02, 1.26194339e-03],\n",
       "        [3.60555255e-04, 5.58860645e-03, 1.80277628e-03, 6.67568055e-01,\n",
       "         2.40219939e-01, 8.31981251e-02, 1.26194339e-03],\n",
       "        [2.16333153e-03, 3.35316387e-02, 1.08166577e-02, 4.00540833e+00,\n",
       "         1.44131963e+00, 4.99188751e-01, 7.57166036e-03],\n",
       "        [4.68721832e-03, 7.26518839e-02, 2.34360916e-02, 8.67838471e+00,\n",
       "         3.12285920e+00, 1.08157563e+00, 1.64052641e-02],\n",
       "        [9.73499189e-03, 1.50892374e-01, 4.86749594e-02, 1.80243375e+01,\n",
       "         6.48593835e+00, 2.24634938e+00, 3.40724716e-02],\n",
       "        [1.51433207e-02, 2.34721471e-01, 7.57166036e-02, 2.80378583e+01,\n",
       "         1.00892374e+01, 3.49432125e+00, 5.30016225e-02],\n",
       "        [2.74021994e-02, 4.24734090e-01, 1.37010997e-01, 5.07351722e+01,\n",
       "         1.82567153e+01, 6.32305751e+00, 9.59076979e-02],\n",
       "        [5.66071750e-02, 8.77411213e-01, 2.83035875e-01, 1.04808185e+02,\n",
       "         3.77145304e+01, 1.30621056e+01, 1.98125113e-01],\n",
       "        [7.17504958e-02, 1.11213268e+00, 3.58752479e-01, 1.32846043e+02,\n",
       "         4.78037678e+01, 1.65564269e+01, 2.51126735e-01],\n",
       "        [1.08887687e-01, 1.68775915e+00, 5.44438435e-01, 2.01605553e+02,\n",
       "         7.25464215e+01, 2.51258338e+01, 3.81106905e-01],\n",
       "        [1.48188210e-01, 2.29691725e+00, 7.40941049e-01, 2.74370471e+02,\n",
       "         9.87303948e+01, 3.41944294e+01, 5.18658734e-01],\n",
       "        [1.84243735e-01, 2.85577790e+00, 9.21218677e-01, 3.41127276e+02,\n",
       "         1.22752389e+02, 4.25142419e+01, 6.44853074e-01],\n",
       "        [2.43374797e-01, 3.77230936e+00, 1.21687399e+00, 4.50608437e+02,\n",
       "         1.62148459e+02, 5.61587345e+01, 8.51811790e-01],\n",
       "        [2.58878673e-01, 4.01261943e+00, 1.29439337e+00, 4.79313863e+02,\n",
       "         1.72477916e+02, 5.97362538e+01, 9.06075356e-01],\n",
       "        [2.94934199e-01, 4.57148008e+00, 1.47467099e+00, 5.46070669e+02,\n",
       "         1.96499910e+02, 6.80560663e+01, 1.03226970e+00],\n",
       "        [1.01279971e+00, 1.56983955e+01, 5.06399856e+00, 1.87519867e+03,\n",
       "         6.74777808e+02, 2.33703533e+02, 3.54479899e+00],\n",
       "        [3.13322517e-01, 4.85649901e+00, 1.56661258e+00, 5.80116640e+02,\n",
       "         2.08751127e+02, 7.22991707e+01, 1.09662881e+00],\n",
       "        [2.88444204e-01, 4.47088516e+00, 1.44222102e+00, 5.34054444e+02,\n",
       "         1.92175951e+02, 6.65585001e+01, 1.00955471e+00],\n",
       "        [2.70055886e-01, 4.18586623e+00, 1.35027943e+00, 5.00008473e+02,\n",
       "         1.79924734e+02, 6.23153957e+01, 9.45195601e-01],\n",
       "        [2.21380927e-01, 3.43140436e+00, 1.10690463e+00, 4.09886786e+02,\n",
       "         1.47495042e+02, 5.10836488e+01, 7.74833243e-01],\n",
       "        [1.65494862e-01, 2.56517036e+00, 8.27474310e-01, 3.06413737e+02,\n",
       "         1.10260952e+02, 3.81879394e+01, 5.79232017e-01],\n",
       "        [9.80710294e-02, 1.52010096e+00, 4.90355147e-01, 1.81578511e+02,\n",
       "         6.53398233e+01, 2.26298900e+01, 3.43248603e-01],\n",
       "        [8.90571480e-02, 1.38038579e+00, 4.45285740e-01, 1.64889310e+02,\n",
       "         5.93343249e+01, 2.05499369e+01, 3.11700018e-01],\n",
       "        [5.11988462e-02, 7.93582116e-01, 2.55994231e-01, 9.47946638e+01,\n",
       "         3.41112313e+01, 1.18141338e+01, 1.79195962e-01],\n",
       "        [2.81233099e-02, 4.35911303e-01, 1.40616549e-01, 5.20703083e+01,\n",
       "         1.87371552e+01, 6.48945376e+00, 9.84315846e-02],\n",
       "        [1.47827655e-02, 2.29132865e-01, 7.39138273e-02, 2.73702902e+01,\n",
       "         9.84901749e+00, 3.41112313e+00, 5.17396791e-02],\n",
       "        [1.29799892e-02, 2.01189832e-01, 6.48999459e-02, 2.40324500e+01,\n",
       "         8.64791779e+00, 2.99513250e+00, 4.54299621e-02],\n",
       "        [4.68721832e-03, 7.26518839e-02, 2.34360916e-02, 8.67838471e+00,\n",
       "         3.12285920e+00, 1.08157563e+00, 1.64052641e-02],\n",
       "        [2.88444204e-03, 4.47088516e-02, 1.44222102e-02, 5.34054444e+00,\n",
       "         1.92175951e+00, 6.65585001e-01, 1.00955471e-02]]))"
      ]
     },
     "execution_count": 93,
     "metadata": {},
     "output_type": "execute_result"
    }
   ],
   "source": [
    "st.chi2_contingency(df)"
   ]
  },
  {
   "cell_type": "markdown",
   "metadata": {},
   "source": [
    "### Introduction to Ensembles\n",
    "\n",
    " 1. Normally in any machine learning problem we have train and test set now validation set"
   ]
  },
  {
   "cell_type": "code",
   "execution_count": 94,
   "metadata": {},
   "outputs": [],
   "source": [
    "#dealing with target variable\n",
    "\n",
    "from sklearn.preprocessing import StandardScaler,LabelEncoder"
   ]
  },
  {
   "cell_type": "code",
   "execution_count": 95,
   "metadata": {},
   "outputs": [],
   "source": [
    "le=LabelEncoder() #created a machine called le that has label endcoder "
   ]
  },
  {
   "cell_type": "code",
   "execution_count": 96,
   "metadata": {},
   "outputs": [],
   "source": [
    "train_new[\"Delivery_TimeCoded\"]= le.fit_transform(train_new.Delivery_Time)"
   ]
  },
  {
   "cell_type": "code",
   "execution_count": 97,
   "metadata": {},
   "outputs": [
    {
     "data": {
      "text/html": [
       "<div>\n",
       "<style scoped>\n",
       "    .dataframe tbody tr th:only-of-type {\n",
       "        vertical-align: middle;\n",
       "    }\n",
       "\n",
       "    .dataframe tbody tr th {\n",
       "        vertical-align: top;\n",
       "    }\n",
       "\n",
       "    .dataframe thead th {\n",
       "        text-align: right;\n",
       "    }\n",
       "</style>\n",
       "<table border=\"1\" class=\"dataframe\">\n",
       "  <thead>\n",
       "    <tr style=\"text-align: right;\">\n",
       "      <th></th>\n",
       "      <th>Rating</th>\n",
       "      <th>Votes</th>\n",
       "      <th>Reviews</th>\n",
       "      <th>Delivery_Time</th>\n",
       "      <th>MinOrder_cleansed</th>\n",
       "      <th>AvgCost_cleansed</th>\n",
       "      <th>Location_Cleansed</th>\n",
       "      <th>Cuisines_Cleansed</th>\n",
       "      <th>Rating_Category</th>\n",
       "      <th>Delivery_TimeCoded</th>\n",
       "    </tr>\n",
       "  </thead>\n",
       "  <tbody>\n",
       "    <tr>\n",
       "      <th>0</th>\n",
       "      <td>3.5</td>\n",
       "      <td>12.0</td>\n",
       "      <td>4.0</td>\n",
       "      <td>30 minutes</td>\n",
       "      <td>50</td>\n",
       "      <td>200</td>\n",
       "      <td>Pune</td>\n",
       "      <td>Fast Food</td>\n",
       "      <td>Good</td>\n",
       "      <td>3</td>\n",
       "    </tr>\n",
       "    <tr>\n",
       "      <th>1</th>\n",
       "      <td>3.5</td>\n",
       "      <td>11.0</td>\n",
       "      <td>4.0</td>\n",
       "      <td>30 minutes</td>\n",
       "      <td>50</td>\n",
       "      <td>100</td>\n",
       "      <td>Bangalore</td>\n",
       "      <td>Deserts</td>\n",
       "      <td>Good</td>\n",
       "      <td>3</td>\n",
       "    </tr>\n",
       "    <tr>\n",
       "      <th>2</th>\n",
       "      <td>3.6</td>\n",
       "      <td>99.0</td>\n",
       "      <td>30.0</td>\n",
       "      <td>65 minutes</td>\n",
       "      <td>50</td>\n",
       "      <td>150</td>\n",
       "      <td>Mumbai</td>\n",
       "      <td>Main Course</td>\n",
       "      <td>Good</td>\n",
       "      <td>5</td>\n",
       "    </tr>\n",
       "    <tr>\n",
       "      <th>3</th>\n",
       "      <td>3.7</td>\n",
       "      <td>176.0</td>\n",
       "      <td>95.0</td>\n",
       "      <td>30 minutes</td>\n",
       "      <td>99</td>\n",
       "      <td>250</td>\n",
       "      <td>Noida</td>\n",
       "      <td>Main Course</td>\n",
       "      <td>Good</td>\n",
       "      <td>3</td>\n",
       "    </tr>\n",
       "    <tr>\n",
       "      <th>4</th>\n",
       "      <td>3.2</td>\n",
       "      <td>521.0</td>\n",
       "      <td>235.0</td>\n",
       "      <td>65 minutes</td>\n",
       "      <td>99</td>\n",
       "      <td>200</td>\n",
       "      <td>Bangalore</td>\n",
       "      <td>Fast Food</td>\n",
       "      <td>Average</td>\n",
       "      <td>5</td>\n",
       "    </tr>\n",
       "  </tbody>\n",
       "</table>\n",
       "</div>"
      ],
      "text/plain": [
       "   Rating  Votes  Reviews Delivery_Time  MinOrder_cleansed  AvgCost_cleansed  \\\n",
       "0     3.5   12.0      4.0    30 minutes                 50               200   \n",
       "1     3.5   11.0      4.0    30 minutes                 50               100   \n",
       "2     3.6   99.0     30.0    65 minutes                 50               150   \n",
       "3     3.7  176.0     95.0    30 minutes                 99               250   \n",
       "4     3.2  521.0    235.0    65 minutes                 99               200   \n",
       "\n",
       "  Location_Cleansed Cuisines_Cleansed Rating_Category  Delivery_TimeCoded  \n",
       "0              Pune         Fast Food            Good                   3  \n",
       "1         Bangalore           Deserts            Good                   3  \n",
       "2            Mumbai       Main Course            Good                   5  \n",
       "3             Noida       Main Course            Good                   3  \n",
       "4         Bangalore         Fast Food         Average                   5  "
      ]
     },
     "execution_count": 97,
     "metadata": {},
     "output_type": "execute_result"
    }
   ],
   "source": [
    "train_new.head()"
   ]
  },
  {
   "cell_type": "code",
   "execution_count": 98,
   "metadata": {},
   "outputs": [],
   "source": [
    "#drop the feature delivery time\n",
    "\n",
    "finaltrain=train_new.drop(\"Delivery_Time\", axis=1)"
   ]
  },
  {
   "cell_type": "code",
   "execution_count": 99,
   "metadata": {},
   "outputs": [
    {
     "data": {
      "text/plain": [
       "Restaurant              0\n",
       "Location                0\n",
       "Cuisines                0\n",
       "Average_Cost            0\n",
       "Minimum_Order           0\n",
       "Rating                  0\n",
       "Votes                   0\n",
       "Reviews                 0\n",
       "Delivery_Time        2774\n",
       "MinOrder_cleansed       0\n",
       "AvgCost_cleansed        0\n",
       "Location_Cleansed       0\n",
       "Cuisines_Cleansed       0\n",
       "Rating_Category         0\n",
       "dtype: int64"
      ]
     },
     "execution_count": 99,
     "metadata": {},
     "output_type": "execute_result"
    }
   ],
   "source": [
    "combined.isnull().sum()"
   ]
  },
  {
   "cell_type": "code",
   "execution_count": 100,
   "metadata": {},
   "outputs": [
    {
     "data": {
      "text/html": [
       "<div>\n",
       "<style scoped>\n",
       "    .dataframe tbody tr th:only-of-type {\n",
       "        vertical-align: middle;\n",
       "    }\n",
       "\n",
       "    .dataframe tbody tr th {\n",
       "        vertical-align: top;\n",
       "    }\n",
       "\n",
       "    .dataframe thead th {\n",
       "        text-align: right;\n",
       "    }\n",
       "</style>\n",
       "<table border=\"1\" class=\"dataframe\">\n",
       "  <thead>\n",
       "    <tr style=\"text-align: right;\">\n",
       "      <th></th>\n",
       "      <th>Rating</th>\n",
       "      <th>Votes</th>\n",
       "      <th>Reviews</th>\n",
       "      <th>MinOrder_cleansed</th>\n",
       "      <th>AvgCost_cleansed</th>\n",
       "      <th>Location_Cleansed</th>\n",
       "      <th>Cuisines_Cleansed</th>\n",
       "      <th>Rating_Category</th>\n",
       "      <th>Delivery_TimeCoded</th>\n",
       "    </tr>\n",
       "  </thead>\n",
       "  <tbody>\n",
       "    <tr>\n",
       "      <th>0</th>\n",
       "      <td>3.5</td>\n",
       "      <td>12.0</td>\n",
       "      <td>4.0</td>\n",
       "      <td>50</td>\n",
       "      <td>200</td>\n",
       "      <td>Pune</td>\n",
       "      <td>Fast Food</td>\n",
       "      <td>Good</td>\n",
       "      <td>3</td>\n",
       "    </tr>\n",
       "    <tr>\n",
       "      <th>1</th>\n",
       "      <td>3.5</td>\n",
       "      <td>11.0</td>\n",
       "      <td>4.0</td>\n",
       "      <td>50</td>\n",
       "      <td>100</td>\n",
       "      <td>Bangalore</td>\n",
       "      <td>Deserts</td>\n",
       "      <td>Good</td>\n",
       "      <td>3</td>\n",
       "    </tr>\n",
       "    <tr>\n",
       "      <th>2</th>\n",
       "      <td>3.6</td>\n",
       "      <td>99.0</td>\n",
       "      <td>30.0</td>\n",
       "      <td>50</td>\n",
       "      <td>150</td>\n",
       "      <td>Mumbai</td>\n",
       "      <td>Main Course</td>\n",
       "      <td>Good</td>\n",
       "      <td>5</td>\n",
       "    </tr>\n",
       "    <tr>\n",
       "      <th>3</th>\n",
       "      <td>3.7</td>\n",
       "      <td>176.0</td>\n",
       "      <td>95.0</td>\n",
       "      <td>99</td>\n",
       "      <td>250</td>\n",
       "      <td>Noida</td>\n",
       "      <td>Main Course</td>\n",
       "      <td>Good</td>\n",
       "      <td>3</td>\n",
       "    </tr>\n",
       "    <tr>\n",
       "      <th>4</th>\n",
       "      <td>3.2</td>\n",
       "      <td>521.0</td>\n",
       "      <td>235.0</td>\n",
       "      <td>99</td>\n",
       "      <td>200</td>\n",
       "      <td>Bangalore</td>\n",
       "      <td>Fast Food</td>\n",
       "      <td>Average</td>\n",
       "      <td>5</td>\n",
       "    </tr>\n",
       "  </tbody>\n",
       "</table>\n",
       "</div>"
      ],
      "text/plain": [
       "   Rating  Votes  Reviews  MinOrder_cleansed  AvgCost_cleansed  \\\n",
       "0     3.5   12.0      4.0                 50               200   \n",
       "1     3.5   11.0      4.0                 50               100   \n",
       "2     3.6   99.0     30.0                 50               150   \n",
       "3     3.7  176.0     95.0                 99               250   \n",
       "4     3.2  521.0    235.0                 99               200   \n",
       "\n",
       "  Location_Cleansed Cuisines_Cleansed Rating_Category  Delivery_TimeCoded  \n",
       "0              Pune         Fast Food            Good                   3  \n",
       "1         Bangalore           Deserts            Good                   3  \n",
       "2            Mumbai       Main Course            Good                   5  \n",
       "3             Noida       Main Course            Good                   3  \n",
       "4         Bangalore         Fast Food         Average                   5  "
      ]
     },
     "execution_count": 100,
     "metadata": {},
     "output_type": "execute_result"
    }
   ],
   "source": [
    "finaltrain.head()"
   ]
  },
  {
   "cell_type": "code",
   "execution_count": 101,
   "metadata": {},
   "outputs": [
    {
     "name": "stdout",
     "output_type": "stream",
     "text": [
      "<class 'pandas.core.frame.DataFrame'>\n",
      "RangeIndex: 11094 entries, 0 to 11093\n",
      "Data columns (total 9 columns):\n",
      "Rating                11094 non-null float64\n",
      "Votes                 11094 non-null float64\n",
      "Reviews               11094 non-null float64\n",
      "MinOrder_cleansed     11094 non-null int64\n",
      "AvgCost_cleansed      11094 non-null int64\n",
      "Location_Cleansed     11094 non-null object\n",
      "Cuisines_Cleansed     11094 non-null object\n",
      "Rating_Category       11094 non-null object\n",
      "Delivery_TimeCoded    11094 non-null int32\n",
      "dtypes: float64(3), int32(1), int64(2), object(3)\n",
      "memory usage: 606.8+ KB\n"
     ]
    }
   ],
   "source": [
    "finaltrain.info()"
   ]
  },
  {
   "cell_type": "code",
   "execution_count": 102,
   "metadata": {},
   "outputs": [
    {
     "data": {
      "text/plain": [
       "(11094, 9)"
      ]
     },
     "execution_count": 102,
     "metadata": {},
     "output_type": "execute_result"
    }
   ],
   "source": [
    "finaltrain.shape"
   ]
  },
  {
   "cell_type": "code",
   "execution_count": 103,
   "metadata": {},
   "outputs": [],
   "source": [
    "#applying OHE\n",
    "\n",
    "dummytrain=pd.get_dummies(finaltrain)"
   ]
  },
  {
   "cell_type": "code",
   "execution_count": 104,
   "metadata": {},
   "outputs": [
    {
     "data": {
      "text/plain": [
       "(11094, 23)"
      ]
     },
     "execution_count": 104,
     "metadata": {},
     "output_type": "execute_result"
    }
   ],
   "source": [
    "dummytrain.shape"
   ]
  },
  {
   "cell_type": "code",
   "execution_count": 105,
   "metadata": {},
   "outputs": [
    {
     "data": {
      "text/html": [
       "<div>\n",
       "<style scoped>\n",
       "    .dataframe tbody tr th:only-of-type {\n",
       "        vertical-align: middle;\n",
       "    }\n",
       "\n",
       "    .dataframe tbody tr th {\n",
       "        vertical-align: top;\n",
       "    }\n",
       "\n",
       "    .dataframe thead th {\n",
       "        text-align: right;\n",
       "    }\n",
       "</style>\n",
       "<table border=\"1\" class=\"dataframe\">\n",
       "  <thead>\n",
       "    <tr style=\"text-align: right;\">\n",
       "      <th></th>\n",
       "      <th>Rating</th>\n",
       "      <th>Votes</th>\n",
       "      <th>Reviews</th>\n",
       "      <th>MinOrder_cleansed</th>\n",
       "      <th>AvgCost_cleansed</th>\n",
       "      <th>Delivery_TimeCoded</th>\n",
       "      <th>Location_Cleansed_Bangalore</th>\n",
       "      <th>Location_Cleansed_Delhi</th>\n",
       "      <th>Location_Cleansed_Gurgaon</th>\n",
       "      <th>Location_Cleansed_Hyderabad</th>\n",
       "      <th>...</th>\n",
       "      <th>Location_Cleansed_Pune</th>\n",
       "      <th>Cuisines_Cleansed_Beverages</th>\n",
       "      <th>Cuisines_Cleansed_Deserts</th>\n",
       "      <th>Cuisines_Cleansed_Fast Food</th>\n",
       "      <th>Cuisines_Cleansed_Main Course</th>\n",
       "      <th>Rating_Category_Average</th>\n",
       "      <th>Rating_Category_Excellent</th>\n",
       "      <th>Rating_Category_Good</th>\n",
       "      <th>Rating_Category_Poor</th>\n",
       "      <th>Rating_Category_Very Good</th>\n",
       "    </tr>\n",
       "  </thead>\n",
       "  <tbody>\n",
       "    <tr>\n",
       "      <th>0</th>\n",
       "      <td>3.5</td>\n",
       "      <td>12.0</td>\n",
       "      <td>4.0</td>\n",
       "      <td>50</td>\n",
       "      <td>200</td>\n",
       "      <td>3</td>\n",
       "      <td>0</td>\n",
       "      <td>0</td>\n",
       "      <td>0</td>\n",
       "      <td>0</td>\n",
       "      <td>...</td>\n",
       "      <td>1</td>\n",
       "      <td>0</td>\n",
       "      <td>0</td>\n",
       "      <td>1</td>\n",
       "      <td>0</td>\n",
       "      <td>0</td>\n",
       "      <td>0</td>\n",
       "      <td>1</td>\n",
       "      <td>0</td>\n",
       "      <td>0</td>\n",
       "    </tr>\n",
       "    <tr>\n",
       "      <th>1</th>\n",
       "      <td>3.5</td>\n",
       "      <td>11.0</td>\n",
       "      <td>4.0</td>\n",
       "      <td>50</td>\n",
       "      <td>100</td>\n",
       "      <td>3</td>\n",
       "      <td>1</td>\n",
       "      <td>0</td>\n",
       "      <td>0</td>\n",
       "      <td>0</td>\n",
       "      <td>...</td>\n",
       "      <td>0</td>\n",
       "      <td>0</td>\n",
       "      <td>1</td>\n",
       "      <td>0</td>\n",
       "      <td>0</td>\n",
       "      <td>0</td>\n",
       "      <td>0</td>\n",
       "      <td>1</td>\n",
       "      <td>0</td>\n",
       "      <td>0</td>\n",
       "    </tr>\n",
       "    <tr>\n",
       "      <th>2</th>\n",
       "      <td>3.6</td>\n",
       "      <td>99.0</td>\n",
       "      <td>30.0</td>\n",
       "      <td>50</td>\n",
       "      <td>150</td>\n",
       "      <td>5</td>\n",
       "      <td>0</td>\n",
       "      <td>0</td>\n",
       "      <td>0</td>\n",
       "      <td>0</td>\n",
       "      <td>...</td>\n",
       "      <td>0</td>\n",
       "      <td>0</td>\n",
       "      <td>0</td>\n",
       "      <td>0</td>\n",
       "      <td>1</td>\n",
       "      <td>0</td>\n",
       "      <td>0</td>\n",
       "      <td>1</td>\n",
       "      <td>0</td>\n",
       "      <td>0</td>\n",
       "    </tr>\n",
       "    <tr>\n",
       "      <th>3</th>\n",
       "      <td>3.7</td>\n",
       "      <td>176.0</td>\n",
       "      <td>95.0</td>\n",
       "      <td>99</td>\n",
       "      <td>250</td>\n",
       "      <td>3</td>\n",
       "      <td>0</td>\n",
       "      <td>0</td>\n",
       "      <td>0</td>\n",
       "      <td>0</td>\n",
       "      <td>...</td>\n",
       "      <td>0</td>\n",
       "      <td>0</td>\n",
       "      <td>0</td>\n",
       "      <td>0</td>\n",
       "      <td>1</td>\n",
       "      <td>0</td>\n",
       "      <td>0</td>\n",
       "      <td>1</td>\n",
       "      <td>0</td>\n",
       "      <td>0</td>\n",
       "    </tr>\n",
       "    <tr>\n",
       "      <th>4</th>\n",
       "      <td>3.2</td>\n",
       "      <td>521.0</td>\n",
       "      <td>235.0</td>\n",
       "      <td>99</td>\n",
       "      <td>200</td>\n",
       "      <td>5</td>\n",
       "      <td>1</td>\n",
       "      <td>0</td>\n",
       "      <td>0</td>\n",
       "      <td>0</td>\n",
       "      <td>...</td>\n",
       "      <td>0</td>\n",
       "      <td>0</td>\n",
       "      <td>0</td>\n",
       "      <td>1</td>\n",
       "      <td>0</td>\n",
       "      <td>1</td>\n",
       "      <td>0</td>\n",
       "      <td>0</td>\n",
       "      <td>0</td>\n",
       "      <td>0</td>\n",
       "    </tr>\n",
       "  </tbody>\n",
       "</table>\n",
       "<p>5 rows × 23 columns</p>\n",
       "</div>"
      ],
      "text/plain": [
       "   Rating  Votes  Reviews  MinOrder_cleansed  AvgCost_cleansed  \\\n",
       "0     3.5   12.0      4.0                 50               200   \n",
       "1     3.5   11.0      4.0                 50               100   \n",
       "2     3.6   99.0     30.0                 50               150   \n",
       "3     3.7  176.0     95.0                 99               250   \n",
       "4     3.2  521.0    235.0                 99               200   \n",
       "\n",
       "   Delivery_TimeCoded  Location_Cleansed_Bangalore  Location_Cleansed_Delhi  \\\n",
       "0                   3                            0                        0   \n",
       "1                   3                            1                        0   \n",
       "2                   5                            0                        0   \n",
       "3                   3                            0                        0   \n",
       "4                   5                            1                        0   \n",
       "\n",
       "   Location_Cleansed_Gurgaon  Location_Cleansed_Hyderabad  ...  \\\n",
       "0                          0                            0  ...   \n",
       "1                          0                            0  ...   \n",
       "2                          0                            0  ...   \n",
       "3                          0                            0  ...   \n",
       "4                          0                            0  ...   \n",
       "\n",
       "   Location_Cleansed_Pune  Cuisines_Cleansed_Beverages  \\\n",
       "0                       1                            0   \n",
       "1                       0                            0   \n",
       "2                       0                            0   \n",
       "3                       0                            0   \n",
       "4                       0                            0   \n",
       "\n",
       "   Cuisines_Cleansed_Deserts  Cuisines_Cleansed_Fast Food  \\\n",
       "0                          0                            1   \n",
       "1                          1                            0   \n",
       "2                          0                            0   \n",
       "3                          0                            0   \n",
       "4                          0                            1   \n",
       "\n",
       "   Cuisines_Cleansed_Main Course  Rating_Category_Average  \\\n",
       "0                              0                        0   \n",
       "1                              0                        0   \n",
       "2                              1                        0   \n",
       "3                              1                        0   \n",
       "4                              0                        1   \n",
       "\n",
       "   Rating_Category_Excellent  Rating_Category_Good  Rating_Category_Poor  \\\n",
       "0                          0                     1                     0   \n",
       "1                          0                     1                     0   \n",
       "2                          0                     1                     0   \n",
       "3                          0                     1                     0   \n",
       "4                          0                     0                     0   \n",
       "\n",
       "   Rating_Category_Very Good  \n",
       "0                          0  \n",
       "1                          0  \n",
       "2                          0  \n",
       "3                          0  \n",
       "4                          0  \n",
       "\n",
       "[5 rows x 23 columns]"
      ]
     },
     "execution_count": 105,
     "metadata": {},
     "output_type": "execute_result"
    }
   ],
   "source": [
    "dummytrain.head()"
   ]
  },
  {
   "cell_type": "code",
   "execution_count": 106,
   "metadata": {},
   "outputs": [],
   "source": [
    "#split the Data in Train and Test(Validation Set)\n",
    "\n",
    "from sklearn.model_selection import train_test_split"
   ]
  },
  {
   "cell_type": "code",
   "execution_count": 107,
   "metadata": {},
   "outputs": [],
   "source": [
    "x=dummytrain.drop(\"Delivery_TimeCoded\",axis=1)\n",
    "y=dummytrain.Delivery_TimeCoded"
   ]
  },
  {
   "cell_type": "code",
   "execution_count": 108,
   "metadata": {},
   "outputs": [],
   "source": [
    "\n",
    "xtrain,xtest,ytrain,ytest=train_test_split(x,y,test_size=0.20,random_state=123)"
   ]
  },
  {
   "cell_type": "code",
   "execution_count": 109,
   "metadata": {},
   "outputs": [],
   "source": [
    "#scaling the dataset\n",
    "\n",
    "sc=StandardScaler()"
   ]
  },
  {
   "cell_type": "code",
   "execution_count": 110,
   "metadata": {},
   "outputs": [],
   "source": [
    "\n",
    "scaled_train=pd.DataFrame(sc.fit_transform(xtrain), columns=xtrain.columns)"
   ]
  },
  {
   "cell_type": "code",
   "execution_count": 111,
   "metadata": {},
   "outputs": [],
   "source": [
    "xtest=pd.DataFrame(sc.transform(xtest),columns=xtest.columns)"
   ]
  },
  {
   "cell_type": "code",
   "execution_count": 112,
   "metadata": {},
   "outputs": [
    {
     "data": {
      "text/html": [
       "<div>\n",
       "<style scoped>\n",
       "    .dataframe tbody tr th:only-of-type {\n",
       "        vertical-align: middle;\n",
       "    }\n",
       "\n",
       "    .dataframe tbody tr th {\n",
       "        vertical-align: top;\n",
       "    }\n",
       "\n",
       "    .dataframe thead th {\n",
       "        text-align: right;\n",
       "    }\n",
       "</style>\n",
       "<table border=\"1\" class=\"dataframe\">\n",
       "  <thead>\n",
       "    <tr style=\"text-align: right;\">\n",
       "      <th></th>\n",
       "      <th>Rating</th>\n",
       "      <th>Votes</th>\n",
       "      <th>Reviews</th>\n",
       "      <th>MinOrder_cleansed</th>\n",
       "      <th>AvgCost_cleansed</th>\n",
       "      <th>Location_Cleansed_Bangalore</th>\n",
       "      <th>Location_Cleansed_Delhi</th>\n",
       "      <th>Location_Cleansed_Gurgaon</th>\n",
       "      <th>Location_Cleansed_Hyderabad</th>\n",
       "      <th>Location_Cleansed_Kolkata</th>\n",
       "      <th>...</th>\n",
       "      <th>Location_Cleansed_Pune</th>\n",
       "      <th>Cuisines_Cleansed_Beverages</th>\n",
       "      <th>Cuisines_Cleansed_Deserts</th>\n",
       "      <th>Cuisines_Cleansed_Fast Food</th>\n",
       "      <th>Cuisines_Cleansed_Main Course</th>\n",
       "      <th>Rating_Category_Average</th>\n",
       "      <th>Rating_Category_Excellent</th>\n",
       "      <th>Rating_Category_Good</th>\n",
       "      <th>Rating_Category_Poor</th>\n",
       "      <th>Rating_Category_Very Good</th>\n",
       "    </tr>\n",
       "  </thead>\n",
       "  <tbody>\n",
       "    <tr>\n",
       "      <th>0</th>\n",
       "      <td>-0.036508</td>\n",
       "      <td>0.014104</td>\n",
       "      <td>-0.004227</td>\n",
       "      <td>-0.178950</td>\n",
       "      <td>-0.027581</td>\n",
       "      <td>-0.484987</td>\n",
       "      <td>-0.471826</td>\n",
       "      <td>-0.268791</td>\n",
       "      <td>-0.189291</td>\n",
       "      <td>-0.228394</td>\n",
       "      <td>...</td>\n",
       "      <td>2.175593</td>\n",
       "      <td>-0.192461</td>\n",
       "      <td>-0.375161</td>\n",
       "      <td>-0.564208</td>\n",
       "      <td>0.817455</td>\n",
       "      <td>-0.551185</td>\n",
       "      <td>-0.129328</td>\n",
       "      <td>0.917842</td>\n",
       "      <td>-0.22399</td>\n",
       "      <td>-0.436436</td>\n",
       "    </tr>\n",
       "    <tr>\n",
       "      <th>1</th>\n",
       "      <td>-0.300793</td>\n",
       "      <td>-0.210916</td>\n",
       "      <td>-0.210371</td>\n",
       "      <td>2.533425</td>\n",
       "      <td>0.734977</td>\n",
       "      <td>-0.484987</td>\n",
       "      <td>-0.471826</td>\n",
       "      <td>3.720368</td>\n",
       "      <td>-0.189291</td>\n",
       "      <td>-0.228394</td>\n",
       "      <td>...</td>\n",
       "      <td>-0.459645</td>\n",
       "      <td>-0.192461</td>\n",
       "      <td>-0.375161</td>\n",
       "      <td>-0.564208</td>\n",
       "      <td>0.817455</td>\n",
       "      <td>-0.551185</td>\n",
       "      <td>-0.129328</td>\n",
       "      <td>0.917842</td>\n",
       "      <td>-0.22399</td>\n",
       "      <td>-0.436436</td>\n",
       "    </tr>\n",
       "    <tr>\n",
       "      <th>2</th>\n",
       "      <td>-1.622216</td>\n",
       "      <td>-0.298878</td>\n",
       "      <td>-0.270793</td>\n",
       "      <td>-0.178950</td>\n",
       "      <td>-0.027581</td>\n",
       "      <td>-0.484987</td>\n",
       "      <td>-0.471826</td>\n",
       "      <td>-0.268791</td>\n",
       "      <td>-0.189291</td>\n",
       "      <td>4.378408</td>\n",
       "      <td>...</td>\n",
       "      <td>-0.459645</td>\n",
       "      <td>-0.192461</td>\n",
       "      <td>-0.375161</td>\n",
       "      <td>-0.564208</td>\n",
       "      <td>0.817455</td>\n",
       "      <td>1.814273</td>\n",
       "      <td>-0.129328</td>\n",
       "      <td>-1.089513</td>\n",
       "      <td>-0.22399</td>\n",
       "      <td>-0.436436</td>\n",
       "    </tr>\n",
       "    <tr>\n",
       "      <th>3</th>\n",
       "      <td>1.813484</td>\n",
       "      <td>0.083656</td>\n",
       "      <td>0.066857</td>\n",
       "      <td>-0.178950</td>\n",
       "      <td>-0.027581</td>\n",
       "      <td>-0.484987</td>\n",
       "      <td>2.119423</td>\n",
       "      <td>-0.268791</td>\n",
       "      <td>-0.189291</td>\n",
       "      <td>-0.228394</td>\n",
       "      <td>...</td>\n",
       "      <td>-0.459645</td>\n",
       "      <td>-0.192461</td>\n",
       "      <td>-0.375161</td>\n",
       "      <td>-0.564208</td>\n",
       "      <td>0.817455</td>\n",
       "      <td>-0.551185</td>\n",
       "      <td>-0.129328</td>\n",
       "      <td>-1.089513</td>\n",
       "      <td>-0.22399</td>\n",
       "      <td>2.291288</td>\n",
       "    </tr>\n",
       "    <tr>\n",
       "      <th>4</th>\n",
       "      <td>0.756345</td>\n",
       "      <td>0.230942</td>\n",
       "      <td>0.226797</td>\n",
       "      <td>-0.178950</td>\n",
       "      <td>-0.027581</td>\n",
       "      <td>2.061912</td>\n",
       "      <td>-0.471826</td>\n",
       "      <td>-0.268791</td>\n",
       "      <td>-0.189291</td>\n",
       "      <td>-0.228394</td>\n",
       "      <td>...</td>\n",
       "      <td>-0.459645</td>\n",
       "      <td>-0.192461</td>\n",
       "      <td>-0.375161</td>\n",
       "      <td>-0.564208</td>\n",
       "      <td>0.817455</td>\n",
       "      <td>-0.551185</td>\n",
       "      <td>-0.129328</td>\n",
       "      <td>0.917842</td>\n",
       "      <td>-0.22399</td>\n",
       "      <td>-0.436436</td>\n",
       "    </tr>\n",
       "  </tbody>\n",
       "</table>\n",
       "<p>5 rows × 22 columns</p>\n",
       "</div>"
      ],
      "text/plain": [
       "     Rating     Votes   Reviews  MinOrder_cleansed  AvgCost_cleansed  \\\n",
       "0 -0.036508  0.014104 -0.004227          -0.178950         -0.027581   \n",
       "1 -0.300793 -0.210916 -0.210371           2.533425          0.734977   \n",
       "2 -1.622216 -0.298878 -0.270793          -0.178950         -0.027581   \n",
       "3  1.813484  0.083656  0.066857          -0.178950         -0.027581   \n",
       "4  0.756345  0.230942  0.226797          -0.178950         -0.027581   \n",
       "\n",
       "   Location_Cleansed_Bangalore  Location_Cleansed_Delhi  \\\n",
       "0                    -0.484987                -0.471826   \n",
       "1                    -0.484987                -0.471826   \n",
       "2                    -0.484987                -0.471826   \n",
       "3                    -0.484987                 2.119423   \n",
       "4                     2.061912                -0.471826   \n",
       "\n",
       "   Location_Cleansed_Gurgaon  Location_Cleansed_Hyderabad  \\\n",
       "0                  -0.268791                    -0.189291   \n",
       "1                   3.720368                    -0.189291   \n",
       "2                  -0.268791                    -0.189291   \n",
       "3                  -0.268791                    -0.189291   \n",
       "4                  -0.268791                    -0.189291   \n",
       "\n",
       "   Location_Cleansed_Kolkata  ...  Location_Cleansed_Pune  \\\n",
       "0                  -0.228394  ...                2.175593   \n",
       "1                  -0.228394  ...               -0.459645   \n",
       "2                   4.378408  ...               -0.459645   \n",
       "3                  -0.228394  ...               -0.459645   \n",
       "4                  -0.228394  ...               -0.459645   \n",
       "\n",
       "   Cuisines_Cleansed_Beverages  Cuisines_Cleansed_Deserts  \\\n",
       "0                    -0.192461                  -0.375161   \n",
       "1                    -0.192461                  -0.375161   \n",
       "2                    -0.192461                  -0.375161   \n",
       "3                    -0.192461                  -0.375161   \n",
       "4                    -0.192461                  -0.375161   \n",
       "\n",
       "   Cuisines_Cleansed_Fast Food  Cuisines_Cleansed_Main Course  \\\n",
       "0                    -0.564208                       0.817455   \n",
       "1                    -0.564208                       0.817455   \n",
       "2                    -0.564208                       0.817455   \n",
       "3                    -0.564208                       0.817455   \n",
       "4                    -0.564208                       0.817455   \n",
       "\n",
       "   Rating_Category_Average  Rating_Category_Excellent  Rating_Category_Good  \\\n",
       "0                -0.551185                  -0.129328              0.917842   \n",
       "1                -0.551185                  -0.129328              0.917842   \n",
       "2                 1.814273                  -0.129328             -1.089513   \n",
       "3                -0.551185                  -0.129328             -1.089513   \n",
       "4                -0.551185                  -0.129328              0.917842   \n",
       "\n",
       "   Rating_Category_Poor  Rating_Category_Very Good  \n",
       "0              -0.22399                  -0.436436  \n",
       "1              -0.22399                  -0.436436  \n",
       "2              -0.22399                  -0.436436  \n",
       "3              -0.22399                   2.291288  \n",
       "4              -0.22399                  -0.436436  \n",
       "\n",
       "[5 rows x 22 columns]"
      ]
     },
     "execution_count": 112,
     "metadata": {},
     "output_type": "execute_result"
    }
   ],
   "source": [
    "scaled_train.head()"
   ]
  },
  {
   "cell_type": "code",
   "execution_count": 113,
   "metadata": {},
   "outputs": [
    {
     "data": {
      "text/plain": [
       "count    8.875000e+03\n",
       "mean    -1.987518e-16\n",
       "std      1.000056e+00\n",
       "min     -4.000777e+00\n",
       "25%     -5.650777e-01\n",
       "50%     -3.650850e-02\n",
       "75%      4.920607e-01\n",
       "max      3.399191e+00\n",
       "Name: Rating, dtype: float64"
      ]
     },
     "execution_count": 113,
     "metadata": {},
     "output_type": "execute_result"
    }
   ],
   "source": [
    "scaled_train.Rating.describe()\n",
    "#mean=0\n",
    "#std=1"
   ]
  },
  {
   "cell_type": "code",
   "execution_count": 114,
   "metadata": {},
   "outputs": [
    {
     "data": {
      "text/plain": [
       "count    8.875000e+03\n",
       "mean    -1.541177e-17\n",
       "std      1.000056e+00\n",
       "min     -1.171418e+00\n",
       "25%     -7.901390e-01\n",
       "50%     -2.758097e-02\n",
       "75%     -2.758097e-02\n",
       "max      1.407974e+01\n",
       "Name: AvgCost_cleansed, dtype: float64"
      ]
     },
     "execution_count": 114,
     "metadata": {},
     "output_type": "execute_result"
    }
   ],
   "source": [
    "#check std and mean\n",
    "scaled_train.AvgCost_cleansed.describe()"
   ]
  },
  {
   "cell_type": "code",
   "execution_count": 115,
   "metadata": {},
   "outputs": [],
   "source": [
    "#KNN Model\n",
    "\n",
    "from sklearn.neighbors import KNeighborsClassifier\n",
    "knn=KNeighborsClassifier()"
   ]
  },
  {
   "cell_type": "code",
   "execution_count": 116,
   "metadata": {},
   "outputs": [],
   "source": [
    "#prediction\n",
    "pred_knn=knn.fit(scaled_train,ytrain).predict(xtest)"
   ]
  },
  {
   "cell_type": "code",
   "execution_count": 117,
   "metadata": {},
   "outputs": [],
   "source": [
    "#checking the models metrics\n",
    "from sklearn.metrics import accuracy_score,cohen_kappa_score,matthews_corrcoef"
   ]
  },
  {
   "cell_type": "code",
   "execution_count": 118,
   "metadata": {},
   "outputs": [
    {
     "data": {
      "text/plain": [
       "0.28840261248480614"
      ]
     },
     "execution_count": 118,
     "metadata": {},
     "output_type": "execute_result"
    }
   ],
   "source": [
    "cohen_kappa_score(ytest,pred_knn)"
   ]
  },
  {
   "cell_type": "code",
   "execution_count": 119,
   "metadata": {},
   "outputs": [
    {
     "data": {
      "text/plain": [
       "0.701216764308247"
      ]
     },
     "execution_count": 119,
     "metadata": {},
     "output_type": "execute_result"
    }
   ],
   "source": [
    "accuracy_score(ytest,pred_knn)"
   ]
  },
  {
   "cell_type": "code",
   "execution_count": 120,
   "metadata": {},
   "outputs": [
    {
     "data": {
      "text/plain": [
       "0.3004472727292913"
      ]
     },
     "execution_count": 120,
     "metadata": {},
     "output_type": "execute_result"
    }
   ],
   "source": [
    "matthews_corrcoef(ytest,pred_knn)\n"
   ]
  },
  {
   "cell_type": "code",
   "execution_count": 121,
   "metadata": {},
   "outputs": [
    {
     "name": "stdout",
     "output_type": "stream",
     "text": [
      "The Accuracy Score is 0.701216764308247\n",
      "The Kappa Score is 0.28840261248480614\n",
      "The mathews Score is 0.3004472727292913\n"
     ]
    }
   ],
   "source": [
    "print(\"The Accuracy Score is\",accuracy_score(ytest,pred_knn))\n",
    "print(\"The Kappa Score is\",cohen_kappa_score(ytest,pred_knn))\n",
    "print(\"The mathews Score is\",matthews_corrcoef(ytest,pred_knn))"
   ]
  },
  {
   "cell_type": "code",
   "execution_count": 122,
   "metadata": {},
   "outputs": [],
   "source": [
    "from sklearn.ensemble import RandomForestClassifier\n",
    "rf=RandomForestClassifier(criterion=\"entropy\")"
   ]
  },
  {
   "cell_type": "code",
   "execution_count": 123,
   "metadata": {},
   "outputs": [
    {
     "name": "stderr",
     "output_type": "stream",
     "text": [
      "c:\\users\\kohad\\appdata\\local\\programs\\python\\python37-32\\lib\\site-packages\\sklearn\\ensemble\\forest.py:245: FutureWarning: The default value of n_estimators will change from 10 in version 0.20 to 100 in 0.22.\n",
      "  \"10 in version 0.20 to 100 in 0.22.\", FutureWarning)\n"
     ]
    }
   ],
   "source": [
    "pred_rf=rf.fit(scaled_train, ytrain).predict(xtest)"
   ]
  },
  {
   "cell_type": "code",
   "execution_count": 124,
   "metadata": {},
   "outputs": [
    {
     "name": "stdout",
     "output_type": "stream",
     "text": [
      "The Accuracy Score is 0.7895448400180262\n",
      "The Kappa Score is 0.5283034412942565\n",
      "The mathews Score is 0.5340516809926443\n"
     ]
    }
   ],
   "source": [
    "print(\"The Accuracy Score is\",accuracy_score(ytest,pred_rf))\n",
    "print(\"The Kappa Score is\",cohen_kappa_score(ytest,pred_rf))\n",
    "print(\"The mathews Score is\",matthews_corrcoef(ytest,pred_rf))"
   ]
  },
  {
   "cell_type": "code",
   "execution_count": 125,
   "metadata": {},
   "outputs": [],
   "source": [
    "from sklearn.tree import DecisionTreeClassifier\n",
    "dtree = DecisionTreeClassifier()"
   ]
  },
  {
   "cell_type": "code",
   "execution_count": 126,
   "metadata": {},
   "outputs": [],
   "source": [
    "pred_dt = dtree.fit(scaled_train,ytrain).predict(xtest)"
   ]
  },
  {
   "cell_type": "code",
   "execution_count": 127,
   "metadata": {},
   "outputs": [
    {
     "name": "stdout",
     "output_type": "stream",
     "text": [
      "The Accuracy Score is 0.7530419107706174\n",
      "The Kappa Score is 0.48593848486091096\n",
      "The mathews Score is 0.4859511871541211\n"
     ]
    }
   ],
   "source": [
    "print(\"The Accuracy Score is\",accuracy_score(ytest,pred_dt))\n",
    "print(\"The Kappa Score is\",cohen_kappa_score(ytest,pred_dt))\n",
    "print(\"The mathews Score is\",matthews_corrcoef(ytest,pred_dt))"
   ]
  },
  {
   "cell_type": "markdown",
   "metadata": {},
   "source": [
    "# BOOSTING"
   ]
  },
  {
   "cell_type": "code",
   "execution_count": 128,
   "metadata": {},
   "outputs": [],
   "source": [
    "from sklearn.ensemble import GradientBoostingClassifier\n",
    "gbm=GradientBoostingClassifier()"
   ]
  },
  {
   "cell_type": "code",
   "execution_count": 129,
   "metadata": {},
   "outputs": [],
   "source": [
    "pred_gbm=gbm.fit(scaled_train,ytrain).predict(xtest)"
   ]
  },
  {
   "cell_type": "code",
   "execution_count": 130,
   "metadata": {},
   "outputs": [
    {
     "name": "stdout",
     "output_type": "stream",
     "text": [
      "The Accuracy Score is 0.7341144659756648\n",
      "The Kappa Score is 0.38135936405060034\n",
      "The mathews Score is 0.39129169759271193\n"
     ]
    }
   ],
   "source": [
    "print(\"The Accuracy Score is\",accuracy_score(ytest,pred_gbm))\n",
    "print(\"The Kappa Score is\",cohen_kappa_score(ytest,pred_gbm))\n",
    "print(\"The mathews Score is\",matthews_corrcoef(ytest,pred_gbm))"
   ]
  },
  {
   "cell_type": "markdown",
   "metadata": {},
   "source": [
    "# CROSS_VAL_SCORE"
   ]
  },
  {
   "cell_type": "code",
   "execution_count": 131,
   "metadata": {},
   "outputs": [],
   "source": [
    "from sklearn.model_selection import cross_val_score"
   ]
  },
  {
   "cell_type": "code",
   "execution_count": 132,
   "metadata": {},
   "outputs": [
    {
     "name": "stderr",
     "output_type": "stream",
     "text": [
      "c:\\users\\kohad\\appdata\\local\\programs\\python\\python37-32\\lib\\site-packages\\sklearn\\model_selection\\_split.py:657: Warning: The least populated class in y has only 3 members, which is too few. The minimum number of members in any class cannot be less than n_splits=5.\n",
      "  % (min_groups, self.n_splits)), Warning)\n"
     ]
    },
    {
     "data": {
      "text/plain": [
       "array([0.73059618, 0.74155405, 0.73817568, 0.73040045, 0.71896163])"
      ]
     },
     "execution_count": 132,
     "metadata": {},
     "output_type": "execute_result"
    }
   ],
   "source": [
    "cross_val_score(estimator=gbm, X=scaled_train,y=ytrain,cv=5)"
   ]
  },
  {
   "cell_type": "code",
   "execution_count": 133,
   "metadata": {},
   "outputs": [
    {
     "name": "stderr",
     "output_type": "stream",
     "text": [
      "c:\\users\\kohad\\appdata\\local\\programs\\python\\python37-32\\lib\\site-packages\\sklearn\\model_selection\\_split.py:657: Warning: The least populated class in y has only 3 members, which is too few. The minimum number of members in any class cannot be less than n_splits=5.\n",
      "  % (min_groups, self.n_splits)), Warning)\n"
     ]
    },
    {
     "data": {
      "text/plain": [
       "0.7319374060084969"
      ]
     },
     "execution_count": 133,
     "metadata": {},
     "output_type": "execute_result"
    }
   ],
   "source": [
    "cross_val_score(estimator=gbm, X=scaled_train,y=ytrain,cv=5).mean()"
   ]
  },
  {
   "cell_type": "code",
   "execution_count": 134,
   "metadata": {},
   "outputs": [
    {
     "data": {
      "text/html": [
       "<div>\n",
       "<style scoped>\n",
       "    .dataframe tbody tr th:only-of-type {\n",
       "        vertical-align: middle;\n",
       "    }\n",
       "\n",
       "    .dataframe tbody tr th {\n",
       "        vertical-align: top;\n",
       "    }\n",
       "\n",
       "    .dataframe thead th {\n",
       "        text-align: right;\n",
       "    }\n",
       "</style>\n",
       "<table border=\"1\" class=\"dataframe\">\n",
       "  <thead>\n",
       "    <tr style=\"text-align: right;\">\n",
       "      <th></th>\n",
       "      <th>Rating</th>\n",
       "      <th>Votes</th>\n",
       "      <th>Reviews</th>\n",
       "      <th>MinOrder_cleansed</th>\n",
       "      <th>AvgCost_cleansed</th>\n",
       "      <th>Location_Cleansed_Bangalore</th>\n",
       "      <th>Location_Cleansed_Delhi</th>\n",
       "      <th>Location_Cleansed_Gurgaon</th>\n",
       "      <th>Location_Cleansed_Hyderabad</th>\n",
       "      <th>Location_Cleansed_Kolkata</th>\n",
       "      <th>...</th>\n",
       "      <th>Location_Cleansed_Pune</th>\n",
       "      <th>Cuisines_Cleansed_Beverages</th>\n",
       "      <th>Cuisines_Cleansed_Deserts</th>\n",
       "      <th>Cuisines_Cleansed_Fast Food</th>\n",
       "      <th>Cuisines_Cleansed_Main Course</th>\n",
       "      <th>Rating_Category_Average</th>\n",
       "      <th>Rating_Category_Excellent</th>\n",
       "      <th>Rating_Category_Good</th>\n",
       "      <th>Rating_Category_Poor</th>\n",
       "      <th>Rating_Category_Very Good</th>\n",
       "    </tr>\n",
       "  </thead>\n",
       "  <tbody>\n",
       "    <tr>\n",
       "      <th>0</th>\n",
       "      <td>-0.036508</td>\n",
       "      <td>0.014104</td>\n",
       "      <td>-0.004227</td>\n",
       "      <td>-0.178950</td>\n",
       "      <td>-0.027581</td>\n",
       "      <td>-0.484987</td>\n",
       "      <td>-0.471826</td>\n",
       "      <td>-0.268791</td>\n",
       "      <td>-0.189291</td>\n",
       "      <td>-0.228394</td>\n",
       "      <td>...</td>\n",
       "      <td>2.175593</td>\n",
       "      <td>-0.192461</td>\n",
       "      <td>-0.375161</td>\n",
       "      <td>-0.564208</td>\n",
       "      <td>0.817455</td>\n",
       "      <td>-0.551185</td>\n",
       "      <td>-0.129328</td>\n",
       "      <td>0.917842</td>\n",
       "      <td>-0.22399</td>\n",
       "      <td>-0.436436</td>\n",
       "    </tr>\n",
       "    <tr>\n",
       "      <th>1</th>\n",
       "      <td>-0.300793</td>\n",
       "      <td>-0.210916</td>\n",
       "      <td>-0.210371</td>\n",
       "      <td>2.533425</td>\n",
       "      <td>0.734977</td>\n",
       "      <td>-0.484987</td>\n",
       "      <td>-0.471826</td>\n",
       "      <td>3.720368</td>\n",
       "      <td>-0.189291</td>\n",
       "      <td>-0.228394</td>\n",
       "      <td>...</td>\n",
       "      <td>-0.459645</td>\n",
       "      <td>-0.192461</td>\n",
       "      <td>-0.375161</td>\n",
       "      <td>-0.564208</td>\n",
       "      <td>0.817455</td>\n",
       "      <td>-0.551185</td>\n",
       "      <td>-0.129328</td>\n",
       "      <td>0.917842</td>\n",
       "      <td>-0.22399</td>\n",
       "      <td>-0.436436</td>\n",
       "    </tr>\n",
       "    <tr>\n",
       "      <th>2</th>\n",
       "      <td>-1.622216</td>\n",
       "      <td>-0.298878</td>\n",
       "      <td>-0.270793</td>\n",
       "      <td>-0.178950</td>\n",
       "      <td>-0.027581</td>\n",
       "      <td>-0.484987</td>\n",
       "      <td>-0.471826</td>\n",
       "      <td>-0.268791</td>\n",
       "      <td>-0.189291</td>\n",
       "      <td>4.378408</td>\n",
       "      <td>...</td>\n",
       "      <td>-0.459645</td>\n",
       "      <td>-0.192461</td>\n",
       "      <td>-0.375161</td>\n",
       "      <td>-0.564208</td>\n",
       "      <td>0.817455</td>\n",
       "      <td>1.814273</td>\n",
       "      <td>-0.129328</td>\n",
       "      <td>-1.089513</td>\n",
       "      <td>-0.22399</td>\n",
       "      <td>-0.436436</td>\n",
       "    </tr>\n",
       "    <tr>\n",
       "      <th>3</th>\n",
       "      <td>1.813484</td>\n",
       "      <td>0.083656</td>\n",
       "      <td>0.066857</td>\n",
       "      <td>-0.178950</td>\n",
       "      <td>-0.027581</td>\n",
       "      <td>-0.484987</td>\n",
       "      <td>2.119423</td>\n",
       "      <td>-0.268791</td>\n",
       "      <td>-0.189291</td>\n",
       "      <td>-0.228394</td>\n",
       "      <td>...</td>\n",
       "      <td>-0.459645</td>\n",
       "      <td>-0.192461</td>\n",
       "      <td>-0.375161</td>\n",
       "      <td>-0.564208</td>\n",
       "      <td>0.817455</td>\n",
       "      <td>-0.551185</td>\n",
       "      <td>-0.129328</td>\n",
       "      <td>-1.089513</td>\n",
       "      <td>-0.22399</td>\n",
       "      <td>2.291288</td>\n",
       "    </tr>\n",
       "    <tr>\n",
       "      <th>4</th>\n",
       "      <td>0.756345</td>\n",
       "      <td>0.230942</td>\n",
       "      <td>0.226797</td>\n",
       "      <td>-0.178950</td>\n",
       "      <td>-0.027581</td>\n",
       "      <td>2.061912</td>\n",
       "      <td>-0.471826</td>\n",
       "      <td>-0.268791</td>\n",
       "      <td>-0.189291</td>\n",
       "      <td>-0.228394</td>\n",
       "      <td>...</td>\n",
       "      <td>-0.459645</td>\n",
       "      <td>-0.192461</td>\n",
       "      <td>-0.375161</td>\n",
       "      <td>-0.564208</td>\n",
       "      <td>0.817455</td>\n",
       "      <td>-0.551185</td>\n",
       "      <td>-0.129328</td>\n",
       "      <td>0.917842</td>\n",
       "      <td>-0.22399</td>\n",
       "      <td>-0.436436</td>\n",
       "    </tr>\n",
       "  </tbody>\n",
       "</table>\n",
       "<p>5 rows × 22 columns</p>\n",
       "</div>"
      ],
      "text/plain": [
       "     Rating     Votes   Reviews  MinOrder_cleansed  AvgCost_cleansed  \\\n",
       "0 -0.036508  0.014104 -0.004227          -0.178950         -0.027581   \n",
       "1 -0.300793 -0.210916 -0.210371           2.533425          0.734977   \n",
       "2 -1.622216 -0.298878 -0.270793          -0.178950         -0.027581   \n",
       "3  1.813484  0.083656  0.066857          -0.178950         -0.027581   \n",
       "4  0.756345  0.230942  0.226797          -0.178950         -0.027581   \n",
       "\n",
       "   Location_Cleansed_Bangalore  Location_Cleansed_Delhi  \\\n",
       "0                    -0.484987                -0.471826   \n",
       "1                    -0.484987                -0.471826   \n",
       "2                    -0.484987                -0.471826   \n",
       "3                    -0.484987                 2.119423   \n",
       "4                     2.061912                -0.471826   \n",
       "\n",
       "   Location_Cleansed_Gurgaon  Location_Cleansed_Hyderabad  \\\n",
       "0                  -0.268791                    -0.189291   \n",
       "1                   3.720368                    -0.189291   \n",
       "2                  -0.268791                    -0.189291   \n",
       "3                  -0.268791                    -0.189291   \n",
       "4                  -0.268791                    -0.189291   \n",
       "\n",
       "   Location_Cleansed_Kolkata  ...  Location_Cleansed_Pune  \\\n",
       "0                  -0.228394  ...                2.175593   \n",
       "1                  -0.228394  ...               -0.459645   \n",
       "2                   4.378408  ...               -0.459645   \n",
       "3                  -0.228394  ...               -0.459645   \n",
       "4                  -0.228394  ...               -0.459645   \n",
       "\n",
       "   Cuisines_Cleansed_Beverages  Cuisines_Cleansed_Deserts  \\\n",
       "0                    -0.192461                  -0.375161   \n",
       "1                    -0.192461                  -0.375161   \n",
       "2                    -0.192461                  -0.375161   \n",
       "3                    -0.192461                  -0.375161   \n",
       "4                    -0.192461                  -0.375161   \n",
       "\n",
       "   Cuisines_Cleansed_Fast Food  Cuisines_Cleansed_Main Course  \\\n",
       "0                    -0.564208                       0.817455   \n",
       "1                    -0.564208                       0.817455   \n",
       "2                    -0.564208                       0.817455   \n",
       "3                    -0.564208                       0.817455   \n",
       "4                    -0.564208                       0.817455   \n",
       "\n",
       "   Rating_Category_Average  Rating_Category_Excellent  Rating_Category_Good  \\\n",
       "0                -0.551185                  -0.129328              0.917842   \n",
       "1                -0.551185                  -0.129328              0.917842   \n",
       "2                 1.814273                  -0.129328             -1.089513   \n",
       "3                -0.551185                  -0.129328             -1.089513   \n",
       "4                -0.551185                  -0.129328              0.917842   \n",
       "\n",
       "   Rating_Category_Poor  Rating_Category_Very Good  \n",
       "0              -0.22399                  -0.436436  \n",
       "1              -0.22399                  -0.436436  \n",
       "2              -0.22399                  -0.436436  \n",
       "3              -0.22399                   2.291288  \n",
       "4              -0.22399                  -0.436436  \n",
       "\n",
       "[5 rows x 22 columns]"
      ]
     },
     "execution_count": 134,
     "metadata": {},
     "output_type": "execute_result"
    }
   ],
   "source": [
    "scaled_train.head()"
   ]
  },
  {
   "cell_type": "markdown",
   "metadata": {},
   "source": [
    "# Bagging Classifier"
   ]
  },
  {
   "cell_type": "code",
   "execution_count": 135,
   "metadata": {},
   "outputs": [],
   "source": [
    "from sklearn.ensemble import BaggingClassifier\n",
    "bagg=BaggingClassifier()\n"
   ]
  },
  {
   "cell_type": "code",
   "execution_count": 136,
   "metadata": {},
   "outputs": [
    {
     "name": "stdout",
     "output_type": "stream",
     "text": [
      "The Accuracy Score is 0.7881928796755295\n",
      "The Kappa Score is 0.5337355785866992\n",
      "The mathews Score is 0.5368528567210663\n"
     ]
    }
   ],
   "source": [
    "pred_bagg=bagg.fit(scaled_train,ytrain).predict(xtest)\n",
    "print(\"The Accuracy Score is\",accuracy_score(ytest,pred_bagg))\n",
    "print(\"The Kappa Score is\",cohen_kappa_score(ytest,pred_bagg))\n",
    "print(\"The mathews Score is\",matthews_corrcoef(ytest,pred_bagg))"
   ]
  },
  {
   "cell_type": "markdown",
   "metadata": {},
   "source": [
    "# VotingClassifier"
   ]
  },
  {
   "cell_type": "code",
   "execution_count": 137,
   "metadata": {},
   "outputs": [],
   "source": [
    "from sklearn.ensemble import VotingClassifier"
   ]
  },
  {
   "cell_type": "code",
   "execution_count": 138,
   "metadata": {},
   "outputs": [],
   "source": [
    "vc = VotingClassifier(estimators=[('KNN', knn),('Tree', dtree),(\"Random Forest\",rf) ,(\"GBM\",gbm),(\"bagg\", bagg)])#voting='soft'\n",
    "       "
   ]
  },
  {
   "cell_type": "code",
   "execution_count": 139,
   "metadata": {},
   "outputs": [],
   "source": [
    "pred_vc=vc.fit(scaled_train,ytrain).predict(xtest)"
   ]
  },
  {
   "cell_type": "code",
   "execution_count": 140,
   "metadata": {},
   "outputs": [
    {
     "name": "stdout",
     "output_type": "stream",
     "text": [
      "The Accuracy Score is 0.8026137899954935\n",
      "The Kappa Score is 0.5516038369552381\n",
      "The mathews Score is 0.5599373288974862\n"
     ]
    }
   ],
   "source": [
    "print(\"The Accuracy Score is\",accuracy_score(ytest,pred_vc))\n",
    "print(\"The Kappa Score is\",cohen_kappa_score(ytest,pred_vc))\n",
    "print(\"The mathews Score is\",matthews_corrcoef(ytest,pred_vc))"
   ]
  },
  {
   "cell_type": "code",
   "execution_count": null,
   "metadata": {},
   "outputs": [],
   "source": []
  },
  {
   "cell_type": "markdown",
   "metadata": {},
   "source": [
    "# CHECKING ACCURACY REMOVING RATINGS"
   ]
  },
  {
   "cell_type": "code",
   "execution_count": 141,
   "metadata": {},
   "outputs": [],
   "source": [
    "#removing rating column from training set\n",
    "\n",
    "scaled_train_new=scaled_train.drop(\"Rating\", axis=1)"
   ]
  },
  {
   "cell_type": "code",
   "execution_count": 142,
   "metadata": {},
   "outputs": [],
   "source": [
    "xtest_new=xtest.drop(\"Rating\", axis=1)"
   ]
  },
  {
   "cell_type": "code",
   "execution_count": 143,
   "metadata": {},
   "outputs": [],
   "source": [
    "#KNN Model\n",
    "\n",
    "from sklearn.neighbors import KNeighborsClassifier\n",
    "knn1=KNeighborsClassifier()"
   ]
  },
  {
   "cell_type": "code",
   "execution_count": 144,
   "metadata": {},
   "outputs": [],
   "source": [
    "#prediction\n",
    "pred_knn1=knn1.fit(scaled_train_new,ytrain).predict(xtest_new)"
   ]
  },
  {
   "cell_type": "code",
   "execution_count": 145,
   "metadata": {},
   "outputs": [
    {
     "name": "stdout",
     "output_type": "stream",
     "text": [
      "The Accuracy Score is 0.7174402884182064\n",
      "The Kappa Score is 0.3369136389675528\n",
      "The mathews Score is 0.34763576978805316\n"
     ]
    }
   ],
   "source": [
    "print(\"The Accuracy Score is\",accuracy_score(ytest,pred_knn1))\n",
    "print(\"The Kappa Score is\",cohen_kappa_score(ytest,pred_knn1))\n",
    "print(\"The mathews Score is\",matthews_corrcoef(ytest,pred_knn1))"
   ]
  },
  {
   "cell_type": "code",
   "execution_count": 146,
   "metadata": {},
   "outputs": [],
   "source": [
    "from sklearn.ensemble import RandomForestClassifier\n",
    "rf1=RandomForestClassifier(criterion=\"entropy\")"
   ]
  },
  {
   "cell_type": "code",
   "execution_count": 147,
   "metadata": {},
   "outputs": [
    {
     "name": "stderr",
     "output_type": "stream",
     "text": [
      "c:\\users\\kohad\\appdata\\local\\programs\\python\\python37-32\\lib\\site-packages\\sklearn\\ensemble\\forest.py:245: FutureWarning: The default value of n_estimators will change from 10 in version 0.20 to 100 in 0.22.\n",
      "  \"10 in version 0.20 to 100 in 0.22.\", FutureWarning)\n"
     ]
    }
   ],
   "source": [
    "pred_rf1=rf1.fit(scaled_train_new,ytrain).predict(xtest_new)"
   ]
  },
  {
   "cell_type": "code",
   "execution_count": 148,
   "metadata": {},
   "outputs": [
    {
     "name": "stdout",
     "output_type": "stream",
     "text": [
      "The Accuracy Score is 0.7954033348355115\n",
      "The Kappa Score is 0.5472920232612377\n",
      "The mathews Score is 0.5511336211927027\n"
     ]
    }
   ],
   "source": [
    "print(\"The Accuracy Score is\",accuracy_score(ytest,pred_rf1))\n",
    "print(\"The Kappa Score is\",cohen_kappa_score(ytest,pred_rf1))\n",
    "print(\"The mathews Score is\",matthews_corrcoef(ytest,pred_rf1))"
   ]
  },
  {
   "cell_type": "code",
   "execution_count": 149,
   "metadata": {},
   "outputs": [],
   "source": [
    "from sklearn.tree import DecisionTreeClassifier\n",
    "dtree1 = DecisionTreeClassifier()"
   ]
  },
  {
   "cell_type": "code",
   "execution_count": 150,
   "metadata": {},
   "outputs": [],
   "source": [
    "pred_dt1 = dtree1.fit(scaled_train_new,ytrain).predict(xtest_new)"
   ]
  },
  {
   "cell_type": "code",
   "execution_count": 151,
   "metadata": {},
   "outputs": [
    {
     "name": "stdout",
     "output_type": "stream",
     "text": [
      "The Accuracy Score is 0.7661108607480848\n",
      "The Kappa Score is 0.5134559317759059\n",
      "The mathews Score is 0.5134777288038086\n"
     ]
    }
   ],
   "source": [
    "print(\"The Accuracy Score is\",accuracy_score(ytest,pred_dt1))\n",
    "print(\"The Kappa Score is\",cohen_kappa_score(ytest,pred_dt1))\n",
    "print(\"The mathews Score is\",matthews_corrcoef(ytest,pred_dt1))"
   ]
  },
  {
   "cell_type": "code",
   "execution_count": 152,
   "metadata": {},
   "outputs": [],
   "source": [
    "vc = VotingClassifier(estimators=[('KNN', knn1),('Tree', dtree1),(\"Random Forest\",rf1)])"
   ]
  },
  {
   "cell_type": "code",
   "execution_count": 153,
   "metadata": {},
   "outputs": [],
   "source": [
    "pred_vc1=vc.fit(scaled_train_new,ytrain).predict(xtest_new)"
   ]
  },
  {
   "cell_type": "code",
   "execution_count": 154,
   "metadata": {},
   "outputs": [
    {
     "name": "stdout",
     "output_type": "stream",
     "text": [
      "The Accuracy Score is 0.7963046417305092\n",
      "The Kappa Score is 0.5414276811828107\n",
      "The mathews Score is 0.5485045205971473\n"
     ]
    }
   ],
   "source": [
    "print(\"The Accuracy Score is\",accuracy_score(ytest,pred_vc1))\n",
    "print(\"The Kappa Score is\",cohen_kappa_score(ytest,pred_vc1))  #kappa score should be above 0.5 to check imbalance. or mathews\n",
    "print(\"The mathews Score is\",matthews_corrcoef(ytest,pred_vc1))"
   ]
  },
  {
   "cell_type": "markdown",
   "metadata": {},
   "source": [
    "### Note:\n",
    "1. when balanced data only then check precision and recall\n",
    " \n",
    "2. when imbalance data see kappa score(0.5 above) or mathews"
   ]
  },
  {
   "cell_type": "code",
   "execution_count": null,
   "metadata": {},
   "outputs": [],
   "source": []
  },
  {
   "cell_type": "code",
   "execution_count": 155,
   "metadata": {},
   "outputs": [],
   "source": [
    "#Adaboost\n",
    "from sklearn.ensemble import AdaBoostClassifier\n",
    "ada=AdaBoostClassifier()"
   ]
  },
  {
   "cell_type": "code",
   "execution_count": 156,
   "metadata": {},
   "outputs": [],
   "source": [
    "pred_ada=ada.fit(scaled_train,ytrain).predict(xtest)"
   ]
  },
  {
   "cell_type": "code",
   "execution_count": 157,
   "metadata": {},
   "outputs": [
    {
     "name": "stdout",
     "output_type": "stream",
     "text": [
      "The Accuracy Score is 0.6435331230283912\n",
      "The Kappa Score is 0.28871778018127836\n",
      "The mathews Score is 0.2942942708295557\n"
     ]
    }
   ],
   "source": [
    "print(\"The Accuracy Score is\",accuracy_score(ytest,pred_ada))\n",
    "print(\"The Kappa Score is\",cohen_kappa_score(ytest,pred_ada))\n",
    "print(\"The mathews Score is\",matthews_corrcoef(ytest,pred_ada))"
   ]
  },
  {
   "cell_type": "code",
   "execution_count": null,
   "metadata": {},
   "outputs": [],
   "source": []
  },
  {
   "cell_type": "markdown",
   "metadata": {},
   "source": [
    "# Feature: \n",
    "new feature extraction\n",
    "\n",
    "## Restaurant count"
   ]
  },
  {
   "cell_type": "code",
   "execution_count": 158,
   "metadata": {},
   "outputs": [
    {
     "data": {
      "text/plain": [
       "(13868, 14)"
      ]
     },
     "execution_count": 158,
     "metadata": {},
     "output_type": "execute_result"
    }
   ],
   "source": [
    "combined.shape"
   ]
  },
  {
   "cell_type": "code",
   "execution_count": 159,
   "metadata": {},
   "outputs": [
    {
     "data": {
      "text/plain": [
       "ID_5538    26\n",
       "ID_7184    25\n",
       "ID_2483    24\n",
       "ID_1209    23\n",
       "ID_7295    23\n",
       "           ..\n",
       "ID_185      1\n",
       "ID_4656     1\n",
       "ID_8317     1\n",
       "ID_7889     1\n",
       "ID_8088     1\n",
       "Name: Restaurant, Length: 8661, dtype: int64"
      ]
     },
     "execution_count": 159,
     "metadata": {},
     "output_type": "execute_result"
    }
   ],
   "source": [
    "combined.Restaurant.value_counts()"
   ]
  },
  {
   "cell_type": "code",
   "execution_count": 160,
   "metadata": {},
   "outputs": [],
   "source": [
    "combined[\"Rest_Count\"]=combined.groupby(\"Restaurant\")[\"Restaurant\"].transform('count')"
   ]
  },
  {
   "cell_type": "code",
   "execution_count": 161,
   "metadata": {},
   "outputs": [
    {
     "data": {
      "text/plain": [
       "count    13868.000000\n",
       "mean         2.883473\n",
       "std          3.707890\n",
       "min          1.000000\n",
       "25%          1.000000\n",
       "50%          2.000000\n",
       "75%          3.000000\n",
       "max         26.000000\n",
       "Name: Rest_Count, dtype: float64"
      ]
     },
     "execution_count": 161,
     "metadata": {},
     "output_type": "execute_result"
    }
   ],
   "source": [
    "combined.Rest_Count.describe()"
   ]
  },
  {
   "cell_type": "code",
   "execution_count": 162,
   "metadata": {},
   "outputs": [],
   "source": [
    "def restcat(x):\n",
    "    if(x>3):\n",
    "        return(\"Chain\")\n",
    "    elif((x<=3) & (x>1)):\n",
    "        return(\"Multiple Outlets\")\n",
    "    else:\n",
    "        return(\"Single Outlets\")"
   ]
  },
  {
   "cell_type": "code",
   "execution_count": 163,
   "metadata": {},
   "outputs": [],
   "source": [
    "combined[\"Rest_Category\"]=combined.Rest_Count.apply(restcat)"
   ]
  },
  {
   "cell_type": "markdown",
   "metadata": {},
   "source": [
    "# Final Submission"
   ]
  },
  {
   "cell_type": "code",
   "execution_count": 164,
   "metadata": {},
   "outputs": [
    {
     "data": {
      "text/html": [
       "<div>\n",
       "<style scoped>\n",
       "    .dataframe tbody tr th:only-of-type {\n",
       "        vertical-align: middle;\n",
       "    }\n",
       "\n",
       "    .dataframe tbody tr th {\n",
       "        vertical-align: top;\n",
       "    }\n",
       "\n",
       "    .dataframe thead th {\n",
       "        text-align: right;\n",
       "    }\n",
       "</style>\n",
       "<table border=\"1\" class=\"dataframe\">\n",
       "  <thead>\n",
       "    <tr style=\"text-align: right;\">\n",
       "      <th></th>\n",
       "      <th>Rating</th>\n",
       "      <th>Votes</th>\n",
       "      <th>Reviews</th>\n",
       "      <th>MinOrder_cleansed</th>\n",
       "      <th>AvgCost_cleansed</th>\n",
       "      <th>Delivery_TimeCoded</th>\n",
       "      <th>Location_Cleansed_Bangalore</th>\n",
       "      <th>Location_Cleansed_Delhi</th>\n",
       "      <th>Location_Cleansed_Gurgaon</th>\n",
       "      <th>Location_Cleansed_Hyderabad</th>\n",
       "      <th>...</th>\n",
       "      <th>Location_Cleansed_Pune</th>\n",
       "      <th>Cuisines_Cleansed_Beverages</th>\n",
       "      <th>Cuisines_Cleansed_Deserts</th>\n",
       "      <th>Cuisines_Cleansed_Fast Food</th>\n",
       "      <th>Cuisines_Cleansed_Main Course</th>\n",
       "      <th>Rating_Category_Average</th>\n",
       "      <th>Rating_Category_Excellent</th>\n",
       "      <th>Rating_Category_Good</th>\n",
       "      <th>Rating_Category_Poor</th>\n",
       "      <th>Rating_Category_Very Good</th>\n",
       "    </tr>\n",
       "  </thead>\n",
       "  <tbody>\n",
       "    <tr>\n",
       "      <th>0</th>\n",
       "      <td>3.5</td>\n",
       "      <td>12.0</td>\n",
       "      <td>4.0</td>\n",
       "      <td>50</td>\n",
       "      <td>200</td>\n",
       "      <td>3</td>\n",
       "      <td>0</td>\n",
       "      <td>0</td>\n",
       "      <td>0</td>\n",
       "      <td>0</td>\n",
       "      <td>...</td>\n",
       "      <td>1</td>\n",
       "      <td>0</td>\n",
       "      <td>0</td>\n",
       "      <td>1</td>\n",
       "      <td>0</td>\n",
       "      <td>0</td>\n",
       "      <td>0</td>\n",
       "      <td>1</td>\n",
       "      <td>0</td>\n",
       "      <td>0</td>\n",
       "    </tr>\n",
       "    <tr>\n",
       "      <th>1</th>\n",
       "      <td>3.5</td>\n",
       "      <td>11.0</td>\n",
       "      <td>4.0</td>\n",
       "      <td>50</td>\n",
       "      <td>100</td>\n",
       "      <td>3</td>\n",
       "      <td>1</td>\n",
       "      <td>0</td>\n",
       "      <td>0</td>\n",
       "      <td>0</td>\n",
       "      <td>...</td>\n",
       "      <td>0</td>\n",
       "      <td>0</td>\n",
       "      <td>1</td>\n",
       "      <td>0</td>\n",
       "      <td>0</td>\n",
       "      <td>0</td>\n",
       "      <td>0</td>\n",
       "      <td>1</td>\n",
       "      <td>0</td>\n",
       "      <td>0</td>\n",
       "    </tr>\n",
       "    <tr>\n",
       "      <th>2</th>\n",
       "      <td>3.6</td>\n",
       "      <td>99.0</td>\n",
       "      <td>30.0</td>\n",
       "      <td>50</td>\n",
       "      <td>150</td>\n",
       "      <td>5</td>\n",
       "      <td>0</td>\n",
       "      <td>0</td>\n",
       "      <td>0</td>\n",
       "      <td>0</td>\n",
       "      <td>...</td>\n",
       "      <td>0</td>\n",
       "      <td>0</td>\n",
       "      <td>0</td>\n",
       "      <td>0</td>\n",
       "      <td>1</td>\n",
       "      <td>0</td>\n",
       "      <td>0</td>\n",
       "      <td>1</td>\n",
       "      <td>0</td>\n",
       "      <td>0</td>\n",
       "    </tr>\n",
       "    <tr>\n",
       "      <th>3</th>\n",
       "      <td>3.7</td>\n",
       "      <td>176.0</td>\n",
       "      <td>95.0</td>\n",
       "      <td>99</td>\n",
       "      <td>250</td>\n",
       "      <td>3</td>\n",
       "      <td>0</td>\n",
       "      <td>0</td>\n",
       "      <td>0</td>\n",
       "      <td>0</td>\n",
       "      <td>...</td>\n",
       "      <td>0</td>\n",
       "      <td>0</td>\n",
       "      <td>0</td>\n",
       "      <td>0</td>\n",
       "      <td>1</td>\n",
       "      <td>0</td>\n",
       "      <td>0</td>\n",
       "      <td>1</td>\n",
       "      <td>0</td>\n",
       "      <td>0</td>\n",
       "    </tr>\n",
       "    <tr>\n",
       "      <th>4</th>\n",
       "      <td>3.2</td>\n",
       "      <td>521.0</td>\n",
       "      <td>235.0</td>\n",
       "      <td>99</td>\n",
       "      <td>200</td>\n",
       "      <td>5</td>\n",
       "      <td>1</td>\n",
       "      <td>0</td>\n",
       "      <td>0</td>\n",
       "      <td>0</td>\n",
       "      <td>...</td>\n",
       "      <td>0</td>\n",
       "      <td>0</td>\n",
       "      <td>0</td>\n",
       "      <td>1</td>\n",
       "      <td>0</td>\n",
       "      <td>1</td>\n",
       "      <td>0</td>\n",
       "      <td>0</td>\n",
       "      <td>0</td>\n",
       "      <td>0</td>\n",
       "    </tr>\n",
       "  </tbody>\n",
       "</table>\n",
       "<p>5 rows × 23 columns</p>\n",
       "</div>"
      ],
      "text/plain": [
       "   Rating  Votes  Reviews  MinOrder_cleansed  AvgCost_cleansed  \\\n",
       "0     3.5   12.0      4.0                 50               200   \n",
       "1     3.5   11.0      4.0                 50               100   \n",
       "2     3.6   99.0     30.0                 50               150   \n",
       "3     3.7  176.0     95.0                 99               250   \n",
       "4     3.2  521.0    235.0                 99               200   \n",
       "\n",
       "   Delivery_TimeCoded  Location_Cleansed_Bangalore  Location_Cleansed_Delhi  \\\n",
       "0                   3                            0                        0   \n",
       "1                   3                            1                        0   \n",
       "2                   5                            0                        0   \n",
       "3                   3                            0                        0   \n",
       "4                   5                            1                        0   \n",
       "\n",
       "   Location_Cleansed_Gurgaon  Location_Cleansed_Hyderabad  ...  \\\n",
       "0                          0                            0  ...   \n",
       "1                          0                            0  ...   \n",
       "2                          0                            0  ...   \n",
       "3                          0                            0  ...   \n",
       "4                          0                            0  ...   \n",
       "\n",
       "   Location_Cleansed_Pune  Cuisines_Cleansed_Beverages  \\\n",
       "0                       1                            0   \n",
       "1                       0                            0   \n",
       "2                       0                            0   \n",
       "3                       0                            0   \n",
       "4                       0                            0   \n",
       "\n",
       "   Cuisines_Cleansed_Deserts  Cuisines_Cleansed_Fast Food  \\\n",
       "0                          0                            1   \n",
       "1                          1                            0   \n",
       "2                          0                            0   \n",
       "3                          0                            0   \n",
       "4                          0                            1   \n",
       "\n",
       "   Cuisines_Cleansed_Main Course  Rating_Category_Average  \\\n",
       "0                              0                        0   \n",
       "1                              0                        0   \n",
       "2                              1                        0   \n",
       "3                              1                        0   \n",
       "4                              0                        1   \n",
       "\n",
       "   Rating_Category_Excellent  Rating_Category_Good  Rating_Category_Poor  \\\n",
       "0                          0                     1                     0   \n",
       "1                          0                     1                     0   \n",
       "2                          0                     1                     0   \n",
       "3                          0                     1                     0   \n",
       "4                          0                     0                     0   \n",
       "\n",
       "   Rating_Category_Very Good  \n",
       "0                          0  \n",
       "1                          0  \n",
       "2                          0  \n",
       "3                          0  \n",
       "4                          0  \n",
       "\n",
       "[5 rows x 23 columns]"
      ]
     },
     "execution_count": 164,
     "metadata": {},
     "output_type": "execute_result"
    }
   ],
   "source": [
    "dummytrain.head()"
   ]
  },
  {
   "cell_type": "code",
   "execution_count": 165,
   "metadata": {},
   "outputs": [],
   "source": [
    "dummytest=pd.get_dummies(test_new)"
   ]
  },
  {
   "cell_type": "code",
   "execution_count": 166,
   "metadata": {},
   "outputs": [
    {
     "data": {
      "text/plain": [
       "(11094, 23)"
      ]
     },
     "execution_count": 166,
     "metadata": {},
     "output_type": "execute_result"
    }
   ],
   "source": [
    "dummytrain.shape"
   ]
  },
  {
   "cell_type": "code",
   "execution_count": 167,
   "metadata": {},
   "outputs": [
    {
     "data": {
      "text/plain": [
       "(2774, 22)"
      ]
     },
     "execution_count": 167,
     "metadata": {},
     "output_type": "execute_result"
    }
   ],
   "source": [
    "dummytest.shape"
   ]
  },
  {
   "cell_type": "code",
   "execution_count": 168,
   "metadata": {},
   "outputs": [],
   "source": [
    "#scaling\n",
    "sc= StandardScaler()"
   ]
  },
  {
   "cell_type": "code",
   "execution_count": 169,
   "metadata": {},
   "outputs": [
    {
     "data": {
      "text/plain": [
       "array([[-0.29548791, -0.39290575, -0.34329879, ...,  0.91391232,\n",
       "        -0.22220646, -0.43041423],\n",
       "       [-0.29548791, -0.39488408, -0.34329879, ...,  0.91391232,\n",
       "        -0.22220646, -0.43041423],\n",
       "       [-0.02946966, -0.22079134, -0.25312252, ...,  0.91391232,\n",
       "        -0.22220646, -0.43041423],\n",
       "       ...,\n",
       "       [-0.29548791, -0.32762097, -0.29474233, ...,  0.91391232,\n",
       "        -0.22220646, -0.43041423],\n",
       "       [-1.35956088, -0.36916583, -0.3259572 , ..., -1.09419687,\n",
       "        -0.22220646, -0.43041423],\n",
       "       [-0.02946966, -0.29201109, -0.26699579, ...,  0.91391232,\n",
       "        -0.22220646, -0.43041423]])"
      ]
     },
     "execution_count": 169,
     "metadata": {},
     "output_type": "execute_result"
    }
   ],
   "source": [
    "sc.fit_transform(dummytrain.drop(\"Delivery_TimeCoded\" ,axis=1))"
   ]
  },
  {
   "cell_type": "code",
   "execution_count": 170,
   "metadata": {},
   "outputs": [
    {
     "data": {
      "text/plain": [
       "Index(['Rating', 'Votes', 'Reviews', 'MinOrder_cleansed', 'AvgCost_cleansed',\n",
       "       'Delivery_TimeCoded', 'Location_Cleansed_Bangalore',\n",
       "       'Location_Cleansed_Delhi', 'Location_Cleansed_Gurgaon',\n",
       "       'Location_Cleansed_Hyderabad', 'Location_Cleansed_Kolkata',\n",
       "       'Location_Cleansed_Mumbai', 'Location_Cleansed_Noida',\n",
       "       'Location_Cleansed_Pune', 'Cuisines_Cleansed_Beverages',\n",
       "       'Cuisines_Cleansed_Deserts', 'Cuisines_Cleansed_Fast Food',\n",
       "       'Cuisines_Cleansed_Main Course', 'Rating_Category_Average',\n",
       "       'Rating_Category_Excellent', 'Rating_Category_Good',\n",
       "       'Rating_Category_Poor', 'Rating_Category_Very Good'],\n",
       "      dtype='object')"
      ]
     },
     "execution_count": 170,
     "metadata": {},
     "output_type": "execute_result"
    }
   ],
   "source": [
    "dummytrain.columns"
   ]
  },
  {
   "cell_type": "code",
   "execution_count": 171,
   "metadata": {},
   "outputs": [],
   "source": [
    "cols=dummytrain.columns[dummytrain.columns!=\"Delivery_TimeCoded\"]"
   ]
  },
  {
   "cell_type": "code",
   "execution_count": 172,
   "metadata": {},
   "outputs": [],
   "source": [
    "a=sc.fit_transform(dummytrain.drop(\"Delivery_TimeCoded\" ,axis=1))"
   ]
  },
  {
   "cell_type": "code",
   "execution_count": 173,
   "metadata": {},
   "outputs": [],
   "source": [
    "train_scaled=pd.DataFrame(a,columns=cols)"
   ]
  },
  {
   "cell_type": "code",
   "execution_count": 174,
   "metadata": {},
   "outputs": [],
   "source": [
    "test_scaled=pd.DataFrame(sc.transform(dummytest),columns=dummytest.columns)"
   ]
  },
  {
   "cell_type": "code",
   "execution_count": 175,
   "metadata": {},
   "outputs": [],
   "source": [
    "vc = VotingClassifier(estimators=[('Tree', dtree),(\"Random Forest\",rf) ,(\"GBM\",gbm),(\"bagg\", bagg)])#voting='soft'\n"
   ]
  },
  {
   "cell_type": "code",
   "execution_count": 176,
   "metadata": {},
   "outputs": [],
   "source": [
    "pred_vc=vc.fit(train_scaled,dummytrain.Delivery_TimeCoded).predict(test_scaled)"
   ]
  },
  {
   "cell_type": "code",
   "execution_count": 177,
   "metadata": {},
   "outputs": [
    {
     "data": {
      "text/plain": [
       "Delivery_Time  Delivery_TimeCoded\n",
       "10 minutes     0                        4\n",
       "120 minutes    1                       62\n",
       "20 minutes     2                       20\n",
       "30 minutes     3                     7406\n",
       "45 minutes     4                     2665\n",
       "65 minutes     5                      923\n",
       "80 minutes     6                       14\n",
       "Name: Delivery_TimeCoded, dtype: int64"
      ]
     },
     "execution_count": 177,
     "metadata": {},
     "output_type": "execute_result"
    }
   ],
   "source": [
    "train_new.groupby(\"Delivery_Time\")[\"Delivery_TimeCoded\"].value_counts()"
   ]
  },
  {
   "cell_type": "code",
   "execution_count": 178,
   "metadata": {},
   "outputs": [],
   "source": [
    "def convertpredictions(x):\n",
    "    if(x==0):\n",
    "        return(\"10 minutes\")\n",
    "    elif(x==1):\n",
    "        return(\"120 minutes\")\n",
    "    elif(x==2):\n",
    "        return(\"20 minutes\")\n",
    "    elif(x==3):\n",
    "        return(\"30 minutes\")\n",
    "    elif(x==4):\n",
    "        return(\"45 minutes\")\n",
    "    elif(x==5):\n",
    "        return(\"65 minutes\")\n",
    "    else:\n",
    "        return(\"80 minutes\")\n",
    "        \n",
    "    "
   ]
  },
  {
   "cell_type": "code",
   "execution_count": 179,
   "metadata": {},
   "outputs": [],
   "source": [
    "df=pd.DataFrame(pred_vc,columns=[\"Delivery_Time\"])"
   ]
  },
  {
   "cell_type": "code",
   "execution_count": 180,
   "metadata": {},
   "outputs": [],
   "source": [
    "df[\"Delivery_Time\"]=df.Delivery_Time.apply(convertpredictions)"
   ]
  },
  {
   "cell_type": "code",
   "execution_count": null,
   "metadata": {},
   "outputs": [],
   "source": []
  },
  {
   "cell_type": "code",
   "execution_count": null,
   "metadata": {},
   "outputs": [],
   "source": []
  }
 ],
 "metadata": {
  "kernelspec": {
   "display_name": "Python 3",
   "language": "python",
   "name": "python3"
  },
  "language_info": {
   "codemirror_mode": {
    "name": "ipython",
    "version": 3
   },
   "file_extension": ".py",
   "mimetype": "text/x-python",
   "name": "python",
   "nbconvert_exporter": "python",
   "pygments_lexer": "ipython3",
   "version": "3.7.3"
  }
 },
 "nbformat": 4,
 "nbformat_minor": 2
}
